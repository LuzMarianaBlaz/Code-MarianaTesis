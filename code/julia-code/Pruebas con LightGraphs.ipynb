{
 "cells": [
  {
   "cell_type": "code",
   "execution_count": 1,
   "metadata": {
    "scrolled": true
   },
   "outputs": [
    {
     "data": {
      "text/plain": [
       "EuclideanHeuristic (generic function with 1 method)"
      ]
     },
     "execution_count": 1,
     "metadata": {},
     "output_type": "execute_result"
    }
   ],
   "source": [
    "using BenchmarkTools\n",
    "using Plots\n",
    "include(\"funciones_de_red.jl\")"
   ]
  },
  {
   "cell_type": "markdown",
   "metadata": {},
   "source": [
    "## Random and square graphs"
   ]
  },
  {
   "cell_type": "code",
   "execution_count": 2,
   "metadata": {
    "scrolled": false
   },
   "outputs": [],
   "source": [
    "n=200\n",
    "RandNet, position_array_Rand, weight_matrix_Rand = mySimpleGraph(n);\n",
    "#gplot(RandNet,nodelabel=1:n)"
   ]
  },
  {
   "cell_type": "code",
   "execution_count": 3,
   "metadata": {
    "scrolled": true
   },
   "outputs": [],
   "source": [
    "k = 20\n",
    "SquareNet, position_array_Square, weight_matrix_Square = SquareDiGraph(k);\n",
    "#gplot(SquareNet, nodelabel=1:k^2)"
   ]
  },
  {
   "cell_type": "markdown",
   "metadata": {},
   "source": [
    "## Benchmarking A* vs Dijkstra"
   ]
  },
  {
   "cell_type": "markdown",
   "metadata": {},
   "source": [
    "A* search evaluates what next step to take by combining the cost to reach the node $g(n)$ and an estimation of the cost to get from that node to the destination $h(n)$.\n",
    "\n",
    "So it calculates a function $f(n) = g(n) + h(n)$ and proceeds to move to the node that minimizes it.\n",
    "\n",
    "$h(n)$ will include memory of the drivers"
   ]
  },
  {
   "cell_type": "code",
   "execution_count": 4,
   "metadata": {},
   "outputs": [
    {
     "name": "stdout",
     "output_type": "stream",
     "text": [
      "291 - 150\n"
     ]
    }
   ],
   "source": [
    "origin_sq = rand(1:k^2)\n",
    "destination_sq = rand(1:k^2)\n",
    "println(\"$origin_sq - $destination_sq\")"
   ]
  },
  {
   "cell_type": "code",
   "execution_count": 5,
   "metadata": {},
   "outputs": [
    {
     "name": "stdout",
     "output_type": "stream",
     "text": [
      "149 - 108\n"
     ]
    }
   ],
   "source": [
    "origin_rand = rand(1:n)\n",
    "destination_rand = rand(1:n)\n",
    "println(\"$origin_rand - $destination_rand\")"
   ]
  },
  {
   "cell_type": "markdown",
   "metadata": {},
   "source": [
    "#### Dijkstra is just A* with heuristic $h(n) = 0$"
   ]
  },
  {
   "cell_type": "code",
   "execution_count": 6,
   "metadata": {},
   "outputs": [
    {
     "data": {
      "text/plain": [
       "8-element Array{LightGraphs.SimpleGraphs.SimpleEdge{Int64},1}:\n",
       " Edge 291 => 271\n",
       " Edge 271 => 251\n",
       " Edge 251 => 231\n",
       " Edge 231 => 211\n",
       " Edge 211 => 191\n",
       " Edge 191 => 171\n",
       " Edge 171 => 151\n",
       " Edge 151 => 150"
      ]
     },
     "execution_count": 6,
     "metadata": {},
     "output_type": "execute_result"
    }
   ],
   "source": [
    "LightGraphs.a_star(SquareNet,origin_sq,destination_sq,weight_matrix_Square)"
   ]
  },
  {
   "cell_type": "code",
   "execution_count": 7,
   "metadata": {},
   "outputs": [
    {
     "data": {
      "text/plain": [
       "BenchmarkTools.Trial: \n",
       "  memory estimate:  63.13 KiB\n",
       "  allocs estimate:  2021\n",
       "  --------------\n",
       "  minimum time:     240.393 μs (0.00% GC)\n",
       "  median time:      260.526 μs (0.00% GC)\n",
       "  mean time:        316.765 μs (2.89% GC)\n",
       "  maximum time:     9.161 ms (92.30% GC)\n",
       "  --------------\n",
       "  samples:          10000\n",
       "  evals/sample:     1"
      ]
     },
     "execution_count": 7,
     "metadata": {},
     "output_type": "execute_result"
    }
   ],
   "source": [
    "@benchmark LightGraphs.a_star(SquareNet,origin_sq,destination_sq, weight_matrix_Square)"
   ]
  },
  {
   "cell_type": "code",
   "execution_count": 8,
   "metadata": {
    "scrolled": true
   },
   "outputs": [
    {
     "data": {
      "text/plain": [
       "2-element Array{LightGraphs.SimpleGraphs.SimpleEdge{Int64},1}:\n",
       " Edge 149 => 102\n",
       " Edge 102 => 108"
      ]
     },
     "execution_count": 8,
     "metadata": {},
     "output_type": "execute_result"
    }
   ],
   "source": [
    "LightGraphs.a_star(RandNet,origin_rand,destination_rand,weight_matrix_Rand)"
   ]
  },
  {
   "cell_type": "code",
   "execution_count": 9,
   "metadata": {},
   "outputs": [
    {
     "data": {
      "text/plain": [
       "BenchmarkTools.Trial: \n",
       "  memory estimate:  39.05 KiB\n",
       "  allocs estimate:  997\n",
       "  --------------\n",
       "  minimum time:     107.846 μs (0.00% GC)\n",
       "  median time:      110.757 μs (0.00% GC)\n",
       "  mean time:        121.677 μs (3.59% GC)\n",
       "  maximum time:     5.855 ms (97.27% GC)\n",
       "  --------------\n",
       "  samples:          10000\n",
       "  evals/sample:     1"
      ]
     },
     "execution_count": 9,
     "metadata": {},
     "output_type": "execute_result"
    }
   ],
   "source": [
    "@benchmark LightGraphs.a_star(RandNet,origin_rand,destination_rand,weight_matrix_Rand)"
   ]
  },
  {
   "cell_type": "markdown",
   "metadata": {},
   "source": [
    "#### To use A* we need to define an heuristic function"
   ]
  },
  {
   "cell_type": "code",
   "execution_count": 10,
   "metadata": {},
   "outputs": [
    {
     "data": {
      "text/plain": [
       "8-element Array{LightGraphs.SimpleGraphs.SimpleEdge{Int64},1}:\n",
       " Edge 291 => 271\n",
       " Edge 271 => 251\n",
       " Edge 251 => 231\n",
       " Edge 231 => 211\n",
       " Edge 211 => 191\n",
       " Edge 191 => 171\n",
       " Edge 171 => 151\n",
       " Edge 151 => 150"
      ]
     },
     "execution_count": 10,
     "metadata": {},
     "output_type": "execute_result"
    }
   ],
   "source": [
    "LightGraphs.a_star(SquareNet,origin_sq, destination_sq,weight_matrix_Square,\n",
    "    n -> EuclideanHeuristic(n,destination_sq,position_array_Square))"
   ]
  },
  {
   "cell_type": "code",
   "execution_count": 11,
   "metadata": {
    "scrolled": true
   },
   "outputs": [
    {
     "data": {
      "text/plain": [
       "BenchmarkTools.Trial: \n",
       "  memory estimate:  28.52 KiB\n",
       "  allocs estimate:  447\n",
       "  --------------\n",
       "  minimum time:     65.085 μs (0.00% GC)\n",
       "  median time:      68.325 μs (0.00% GC)\n",
       "  mean time:        85.813 μs (5.05% GC)\n",
       "  maximum time:     9.545 ms (97.78% GC)\n",
       "  --------------\n",
       "  samples:          10000\n",
       "  evals/sample:     1"
      ]
     },
     "execution_count": 11,
     "metadata": {},
     "output_type": "execute_result"
    }
   ],
   "source": [
    "@benchmark LightGraphs.a_star(SquareNet,origin_sq,destination_sq,weight_matrix_Square,\n",
    "    n -> EuclideanHeuristic(n,destination_sq,position_array_Square))"
   ]
  },
  {
   "cell_type": "code",
   "execution_count": 12,
   "metadata": {},
   "outputs": [
    {
     "data": {
      "text/plain": [
       "2-element Array{LightGraphs.SimpleGraphs.SimpleEdge{Int64},1}:\n",
       " Edge 149 => 102\n",
       " Edge 102 => 108"
      ]
     },
     "execution_count": 12,
     "metadata": {},
     "output_type": "execute_result"
    }
   ],
   "source": [
    "LightGraphs.a_star(RandNet,origin_rand, destination_rand,weight_matrix_Rand,\n",
    "    n -> EuclideanHeuristic(n,destination_rand,position_array_Rand))"
   ]
  },
  {
   "cell_type": "code",
   "execution_count": 13,
   "metadata": {
    "scrolled": true
   },
   "outputs": [
    {
     "data": {
      "text/plain": [
       "BenchmarkTools.Trial: \n",
       "  memory estimate:  20.61 KiB\n",
       "  allocs estimate:  390\n",
       "  --------------\n",
       "  minimum time:     45.314 μs (0.00% GC)\n",
       "  median time:      47.724 μs (0.00% GC)\n",
       "  mean time:        50.952 μs (4.31% GC)\n",
       "  maximum time:     5.626 ms (98.09% GC)\n",
       "  --------------\n",
       "  samples:          10000\n",
       "  evals/sample:     1"
      ]
     },
     "execution_count": 13,
     "metadata": {},
     "output_type": "execute_result"
    }
   ],
   "source": [
    "@benchmark LightGraphs.a_star(RandNet,origin_rand,destination_rand,weight_matrix_Rand,\n",
    "    n -> EuclideanHeuristic(n,destination_rand,position_array_Rand))"
   ]
  },
  {
   "cell_type": "markdown",
   "metadata": {},
   "source": [
    "## Time growth function"
   ]
  },
  {
   "cell_type": "markdown",
   "metadata": {},
   "source": [
    "### Random network"
   ]
  },
  {
   "cell_type": "code",
   "execution_count": 14,
   "metadata": {},
   "outputs": [],
   "source": [
    "dijkstra_randNet_times = []\n",
    "for n in 2:50:1000\n",
    "    origin_rand = rand(1:n);\n",
    "    destination_rand = rand(1:n);\n",
    "    RandNet, position_array_Rand, weight_matrix_Rand = mySimpleGraph(n);\n",
    "    t = @benchmark LightGraphs.a_star(RandNet,origin_rand,destination_rand,weight_matrix_Rand);\n",
    "    push!(dijkstra_randNet_times,mean(t).time)\n",
    "end"
   ]
  },
  {
   "cell_type": "code",
   "execution_count": 15,
   "metadata": {},
   "outputs": [],
   "source": [
    "as_randNet_times = []\n",
    "for n in 2:50:1000\n",
    "    origin_rand = rand(1:n);\n",
    "    destination_rand = rand(1:n);\n",
    "    RandNet, position_array_Rand, weight_matrix_Rand = mySimpleGraph(n);\n",
    "    t = @benchmark LightGraphs.a_star(RandNet,origin_rand,destination_rand,weight_matrix_Rand,\n",
    "    n -> EuclideanHeuristic(n,destination_rand,position_array_Rand));\n",
    "    push!(as_randNet_times,mean(t).time)\n",
    "end"
   ]
  },
  {
   "cell_type": "code",
   "execution_count": 16,
   "metadata": {
    "scrolled": false
   },
   "outputs": [
    {
     "data": {
      "image/svg+xml": [
       "<?xml version=\"1.0\" encoding=\"utf-8\"?>\n",
       "<svg xmlns=\"http://www.w3.org/2000/svg\" xmlns:xlink=\"http://www.w3.org/1999/xlink\" width=\"600\" height=\"400\" viewBox=\"0 0 2400 1600\">\n",
       "<defs>\n",
       "  <clipPath id=\"clip100\">\n",
       "    <rect x=\"0\" y=\"0\" width=\"2400\" height=\"1600\"/>\n",
       "  </clipPath>\n",
       "</defs>\n",
       "<path clip-path=\"url(#clip100)\" d=\"\n",
       "M0 1600 L2400 1600 L2400 0 L0 0  Z\n",
       "  \" fill=\"#ffffff\" fill-rule=\"evenodd\" fill-opacity=\"1\"/>\n",
       "<defs>\n",
       "  <clipPath id=\"clip101\">\n",
       "    <rect x=\"480\" y=\"0\" width=\"1681\" height=\"1600\"/>\n",
       "  </clipPath>\n",
       "</defs>\n",
       "<path clip-path=\"url(#clip100)\" d=\"\n",
       "M249.838 1486.45 L2352.76 1486.45 L2352.76 47.2441 L249.838 47.2441  Z\n",
       "  \" fill=\"#ffffff\" fill-rule=\"evenodd\" fill-opacity=\"1\"/>\n",
       "<defs>\n",
       "  <clipPath id=\"clip102\">\n",
       "    <rect x=\"249\" y=\"47\" width=\"2104\" height=\"1440\"/>\n",
       "  </clipPath>\n",
       "</defs>\n",
       "<polyline clip-path=\"url(#clip102)\" style=\"stroke:#000000; stroke-width:2; stroke-opacity:0.1; fill:none\" points=\"\n",
       "  727.015,1486.45 727.015,47.2441 \n",
       "  \"/>\n",
       "<polyline clip-path=\"url(#clip102)\" style=\"stroke:#000000; stroke-width:2; stroke-opacity:0.1; fill:none\" points=\"\n",
       "  1249.09,1486.45 1249.09,47.2441 \n",
       "  \"/>\n",
       "<polyline clip-path=\"url(#clip102)\" style=\"stroke:#000000; stroke-width:2; stroke-opacity:0.1; fill:none\" points=\"\n",
       "  1771.16,1486.45 1771.16,47.2441 \n",
       "  \"/>\n",
       "<polyline clip-path=\"url(#clip102)\" style=\"stroke:#000000; stroke-width:2; stroke-opacity:0.1; fill:none\" points=\"\n",
       "  2293.24,1486.45 2293.24,47.2441 \n",
       "  \"/>\n",
       "<polyline clip-path=\"url(#clip102)\" style=\"stroke:#000000; stroke-width:2; stroke-opacity:0.1; fill:none\" points=\"\n",
       "  249.838,1445.83 2352.76,1445.83 \n",
       "  \"/>\n",
       "<polyline clip-path=\"url(#clip102)\" style=\"stroke:#000000; stroke-width:2; stroke-opacity:0.1; fill:none\" points=\"\n",
       "  249.838,1148.5 2352.76,1148.5 \n",
       "  \"/>\n",
       "<polyline clip-path=\"url(#clip102)\" style=\"stroke:#000000; stroke-width:2; stroke-opacity:0.1; fill:none\" points=\"\n",
       "  249.838,851.162 2352.76,851.162 \n",
       "  \"/>\n",
       "<polyline clip-path=\"url(#clip102)\" style=\"stroke:#000000; stroke-width:2; stroke-opacity:0.1; fill:none\" points=\"\n",
       "  249.838,553.826 2352.76,553.826 \n",
       "  \"/>\n",
       "<polyline clip-path=\"url(#clip102)\" style=\"stroke:#000000; stroke-width:2; stroke-opacity:0.1; fill:none\" points=\"\n",
       "  249.838,256.491 2352.76,256.491 \n",
       "  \"/>\n",
       "<polyline clip-path=\"url(#clip100)\" style=\"stroke:#000000; stroke-width:4; stroke-opacity:1; fill:none\" points=\"\n",
       "  249.838,1486.45 2352.76,1486.45 \n",
       "  \"/>\n",
       "<polyline clip-path=\"url(#clip100)\" style=\"stroke:#000000; stroke-width:4; stroke-opacity:1; fill:none\" points=\"\n",
       "  249.838,1486.45 249.838,47.2441 \n",
       "  \"/>\n",
       "<polyline clip-path=\"url(#clip100)\" style=\"stroke:#000000; stroke-width:4; stroke-opacity:1; fill:none\" points=\"\n",
       "  727.015,1486.45 727.015,1469.18 \n",
       "  \"/>\n",
       "<polyline clip-path=\"url(#clip100)\" style=\"stroke:#000000; stroke-width:4; stroke-opacity:1; fill:none\" points=\"\n",
       "  1249.09,1486.45 1249.09,1469.18 \n",
       "  \"/>\n",
       "<polyline clip-path=\"url(#clip100)\" style=\"stroke:#000000; stroke-width:4; stroke-opacity:1; fill:none\" points=\"\n",
       "  1771.16,1486.45 1771.16,1469.18 \n",
       "  \"/>\n",
       "<polyline clip-path=\"url(#clip100)\" style=\"stroke:#000000; stroke-width:4; stroke-opacity:1; fill:none\" points=\"\n",
       "  2293.24,1486.45 2293.24,1469.18 \n",
       "  \"/>\n",
       "<polyline clip-path=\"url(#clip100)\" style=\"stroke:#000000; stroke-width:4; stroke-opacity:1; fill:none\" points=\"\n",
       "  249.838,1445.83 275.073,1445.83 \n",
       "  \"/>\n",
       "<polyline clip-path=\"url(#clip100)\" style=\"stroke:#000000; stroke-width:4; stroke-opacity:1; fill:none\" points=\"\n",
       "  249.838,1148.5 275.073,1148.5 \n",
       "  \"/>\n",
       "<polyline clip-path=\"url(#clip100)\" style=\"stroke:#000000; stroke-width:4; stroke-opacity:1; fill:none\" points=\"\n",
       "  249.838,851.162 275.073,851.162 \n",
       "  \"/>\n",
       "<polyline clip-path=\"url(#clip100)\" style=\"stroke:#000000; stroke-width:4; stroke-opacity:1; fill:none\" points=\"\n",
       "  249.838,553.826 275.073,553.826 \n",
       "  \"/>\n",
       "<polyline clip-path=\"url(#clip100)\" style=\"stroke:#000000; stroke-width:4; stroke-opacity:1; fill:none\" points=\"\n",
       "  249.838,256.491 275.073,256.491 \n",
       "  \"/>\n",
       "<path clip-path=\"url(#clip100)\" d=\"M 0 0 M717.293 1505.36 L735.649 1505.36 L735.649 1509.3 L721.575 1509.3 L721.575 1517.77 Q722.594 1517.42 723.612 1517.26 Q724.631 1517.07 725.649 1517.07 Q731.436 1517.07 734.816 1520.24 Q738.195 1523.42 738.195 1528.83 Q738.195 1534.41 734.723 1537.51 Q731.251 1540.59 724.932 1540.59 Q722.756 1540.59 720.487 1540.22 Q718.242 1539.85 715.834 1539.11 L715.834 1534.41 Q717.918 1535.54 720.14 1536.1 Q722.362 1536.66 724.839 1536.66 Q728.844 1536.66 731.182 1534.55 Q733.519 1532.44 733.519 1528.83 Q733.519 1525.22 731.182 1523.11 Q728.844 1521.01 724.839 1521.01 Q722.964 1521.01 721.089 1521.42 Q719.237 1521.84 717.293 1522.72 L717.293 1505.36 Z\" fill=\"#000000\" fill-rule=\"evenodd\" fill-opacity=\"1\" /><path clip-path=\"url(#clip100)\" d=\"M 0 0 M1225.96 1535.98 L1233.6 1535.98 L1233.6 1509.62 L1225.29 1511.29 L1225.29 1507.03 L1233.56 1505.36 L1238.23 1505.36 L1238.23 1535.98 L1245.87 1535.98 L1245.87 1539.92 L1225.96 1539.92 L1225.96 1535.98 Z\" fill=\"#000000\" fill-rule=\"evenodd\" fill-opacity=\"1\" /><path clip-path=\"url(#clip100)\" d=\"M 0 0 M1260.94 1508.44 Q1257.33 1508.44 1255.5 1512 Q1253.7 1515.55 1253.7 1522.67 Q1253.7 1529.78 1255.5 1533.35 Q1257.33 1536.89 1260.94 1536.89 Q1264.58 1536.89 1266.38 1533.35 Q1268.21 1529.78 1268.21 1522.67 Q1268.21 1515.55 1266.38 1512 Q1264.58 1508.44 1260.94 1508.44 M1260.94 1504.73 Q1266.75 1504.73 1269.81 1509.34 Q1272.89 1513.92 1272.89 1522.67 Q1272.89 1531.4 1269.81 1536.01 Q1266.75 1540.59 1260.94 1540.59 Q1255.13 1540.59 1252.05 1536.01 Q1249 1531.4 1249 1522.67 Q1249 1513.92 1252.05 1509.34 Q1255.13 1504.73 1260.94 1504.73 Z\" fill=\"#000000\" fill-rule=\"evenodd\" fill-opacity=\"1\" /><path clip-path=\"url(#clip100)\" d=\"M 0 0 M1748.54 1535.98 L1756.18 1535.98 L1756.18 1509.62 L1747.87 1511.29 L1747.87 1507.03 L1756.13 1505.36 L1760.81 1505.36 L1760.81 1535.98 L1768.44 1535.98 L1768.44 1539.92 L1748.54 1539.92 L1748.54 1535.98 Z\" fill=\"#000000\" fill-rule=\"evenodd\" fill-opacity=\"1\" /><path clip-path=\"url(#clip100)\" d=\"M 0 0 M1773.56 1505.36 L1791.92 1505.36 L1791.92 1509.3 L1777.84 1509.3 L1777.84 1517.77 Q1778.86 1517.42 1779.88 1517.26 Q1780.9 1517.07 1781.92 1517.07 Q1787.7 1517.07 1791.08 1520.24 Q1794.46 1523.42 1794.46 1528.83 Q1794.46 1534.41 1790.99 1537.51 Q1787.52 1540.59 1781.2 1540.59 Q1779.02 1540.59 1776.75 1540.22 Q1774.51 1539.85 1772.1 1539.11 L1772.1 1534.41 Q1774.19 1535.54 1776.41 1536.1 Q1778.63 1536.66 1781.11 1536.66 Q1785.11 1536.66 1787.45 1534.55 Q1789.79 1532.44 1789.79 1528.83 Q1789.79 1525.22 1787.45 1523.11 Q1785.11 1521.01 1781.11 1521.01 Q1779.23 1521.01 1777.36 1521.42 Q1775.5 1521.84 1773.56 1522.72 L1773.56 1505.36 Z\" fill=\"#000000\" fill-rule=\"evenodd\" fill-opacity=\"1\" /><path clip-path=\"url(#clip100)\" d=\"M 0 0 M2274.39 1535.98 L2290.7 1535.98 L2290.7 1539.92 L2268.76 1539.92 L2268.76 1535.98 Q2271.42 1533.23 2276.01 1528.6 Q2280.61 1523.95 2281.79 1522.61 Q2284.04 1520.08 2284.92 1518.35 Q2285.82 1516.59 2285.82 1514.9 Q2285.82 1512.14 2283.88 1510.41 Q2281.95 1508.67 2278.85 1508.67 Q2276.65 1508.67 2274.2 1509.43 Q2271.77 1510.2 2268.99 1511.75 L2268.99 1507.03 Q2271.82 1505.89 2274.27 1505.31 Q2276.72 1504.73 2278.76 1504.73 Q2284.13 1504.73 2287.33 1507.42 Q2290.52 1510.11 2290.52 1514.6 Q2290.52 1516.73 2289.71 1518.65 Q2288.92 1520.54 2286.82 1523.14 Q2286.24 1523.81 2283.14 1527.03 Q2280.03 1530.22 2274.39 1535.98 Z\" fill=\"#000000\" fill-rule=\"evenodd\" fill-opacity=\"1\" /><path clip-path=\"url(#clip100)\" d=\"M 0 0 M2305.77 1508.44 Q2302.16 1508.44 2300.33 1512 Q2298.53 1515.55 2298.53 1522.67 Q2298.53 1529.78 2300.33 1533.35 Q2302.16 1536.89 2305.77 1536.89 Q2309.41 1536.89 2311.21 1533.35 Q2313.04 1529.78 2313.04 1522.67 Q2313.04 1515.55 2311.21 1512 Q2309.41 1508.44 2305.77 1508.44 M2305.77 1504.73 Q2311.58 1504.73 2314.64 1509.34 Q2317.72 1513.92 2317.72 1522.67 Q2317.72 1531.4 2314.64 1536.01 Q2311.58 1540.59 2305.77 1540.59 Q2299.96 1540.59 2296.89 1536.01 Q2293.83 1531.4 2293.83 1522.67 Q2293.83 1513.92 2296.89 1509.34 Q2299.96 1504.73 2305.77 1504.73 Z\" fill=\"#000000\" fill-rule=\"evenodd\" fill-opacity=\"1\" /><path clip-path=\"url(#clip100)\" d=\"M 0 0 M213.894 1431.63 Q210.283 1431.63 208.454 1435.2 Q206.649 1438.74 206.649 1445.87 Q206.649 1452.97 208.454 1456.54 Q210.283 1460.08 213.894 1460.08 Q217.528 1460.08 219.334 1456.54 Q221.163 1452.97 221.163 1445.87 Q221.163 1438.74 219.334 1435.2 Q217.528 1431.63 213.894 1431.63 M213.894 1427.93 Q219.704 1427.93 222.76 1432.53 Q225.838 1437.12 225.838 1445.87 Q225.838 1454.59 222.76 1459.2 Q219.704 1463.78 213.894 1463.78 Q208.084 1463.78 205.005 1459.2 Q201.95 1454.59 201.95 1445.87 Q201.95 1437.12 205.005 1432.53 Q208.084 1427.93 213.894 1427.93 Z\" fill=\"#000000\" fill-rule=\"evenodd\" fill-opacity=\"1\" /><path clip-path=\"url(#clip100)\" d=\"M 0 0 M69.4577 1137.66 L87.814 1137.66 L87.814 1141.6 L73.74 1141.6 L73.74 1150.07 Q74.7586 1149.73 75.7771 1149.56 Q76.7956 1149.38 77.8141 1149.38 Q83.6011 1149.38 86.9807 1152.55 Q90.3603 1155.72 90.3603 1161.14 Q90.3603 1166.72 86.8881 1169.82 Q83.4159 1172.9 77.0965 1172.9 Q74.9206 1172.9 72.6521 1172.53 Q70.4067 1172.16 67.9993 1171.41 L67.9993 1166.72 Q70.0827 1167.85 72.3049 1168.41 Q74.5271 1168.96 77.0039 1168.96 Q81.0085 1168.96 83.3465 1166.85 Q85.6844 1164.75 85.6844 1161.14 Q85.6844 1157.53 83.3465 1155.42 Q81.0085 1153.31 77.0039 1153.31 Q75.1289 1153.31 73.2539 1153.73 Q71.4021 1154.15 69.4577 1155.03 L69.4577 1137.66 Z\" fill=\"#000000\" fill-rule=\"evenodd\" fill-opacity=\"1\" /><path clip-path=\"url(#clip100)\" d=\"M 0 0 M95.4297 1166.35 L100.314 1166.35 L100.314 1172.22 L95.4297 1172.22 L95.4297 1166.35 Z\" fill=\"#000000\" fill-rule=\"evenodd\" fill-opacity=\"1\" /><path clip-path=\"url(#clip100)\" d=\"M 0 0 M115.383 1140.74 Q111.772 1140.74 109.944 1144.31 Q108.138 1147.85 108.138 1154.98 Q108.138 1162.09 109.944 1165.65 Q111.772 1169.19 115.383 1169.19 Q119.018 1169.19 120.823 1165.65 Q122.652 1162.09 122.652 1154.98 Q122.652 1147.85 120.823 1144.31 Q119.018 1140.74 115.383 1140.74 M115.383 1137.04 Q121.193 1137.04 124.249 1141.65 Q127.328 1146.23 127.328 1154.98 Q127.328 1163.71 124.249 1168.31 Q121.193 1172.9 115.383 1172.9 Q109.573 1172.9 106.494 1168.31 Q103.439 1163.71 103.439 1154.98 Q103.439 1146.23 106.494 1141.65 Q109.573 1137.04 115.383 1137.04 Z\" fill=\"#000000\" fill-rule=\"evenodd\" fill-opacity=\"1\" /><path clip-path=\"url(#clip100)\" d=\"M 0 0 M160.568 1146.76 L149.99 1157.39 L160.568 1167.97 L157.814 1170.77 L147.189 1160.14 L136.564 1170.77 L133.832 1167.97 L144.388 1157.39 L133.832 1146.76 L136.564 1143.96 L147.189 1154.59 L157.814 1143.96 L160.568 1146.76 Z\" fill=\"#000000\" fill-rule=\"evenodd\" fill-opacity=\"1\" /><path clip-path=\"url(#clip100)\" d=\"M 0 0 M166.448 1168.29 L174.087 1168.29 L174.087 1141.92 L165.777 1143.59 L165.777 1139.33 L174.04 1137.66 L178.716 1137.66 L178.716 1168.29 L186.355 1168.29 L186.355 1172.22 L166.448 1172.22 L166.448 1168.29 Z\" fill=\"#000000\" fill-rule=\"evenodd\" fill-opacity=\"1\" /><path clip-path=\"url(#clip100)\" d=\"M 0 0 M201.425 1140.74 Q197.813 1140.74 195.985 1144.31 Q194.179 1147.85 194.179 1154.98 Q194.179 1162.09 195.985 1165.65 Q197.813 1169.19 201.425 1169.19 Q205.059 1169.19 206.864 1165.65 Q208.693 1162.09 208.693 1154.98 Q208.693 1147.85 206.864 1144.31 Q205.059 1140.74 201.425 1140.74 M201.425 1137.04 Q207.235 1137.04 210.29 1141.65 Q213.369 1146.23 213.369 1154.98 Q213.369 1163.71 210.29 1168.31 Q207.235 1172.9 201.425 1172.9 Q195.614 1172.9 192.536 1168.31 Q189.48 1163.71 189.48 1154.98 Q189.48 1146.23 192.536 1141.65 Q195.614 1137.04 201.425 1137.04 Z\" fill=\"#000000\" fill-rule=\"evenodd\" fill-opacity=\"1\" /><path clip-path=\"url(#clip100)\" d=\"M 0 0 M219.82 1123.51 Q218.165 1123.51 217.206 1124.48 Q216.247 1125.48 216.247 1127.19 Q216.247 1128.88 217.206 1129.86 Q218.165 1130.86 219.82 1130.86 Q221.456 1130.86 222.415 1129.86 Q223.375 1128.88 223.375 1127.19 Q223.375 1125.48 222.415 1124.48 Q221.456 1123.51 219.82 1123.51 M224.672 1116.85 L224.672 1118.78 Q223.751 1118.41 222.81 1118.22 Q221.87 1118.01 220.948 1118.01 Q218.541 1118.01 217.262 1119.42 Q215.983 1120.85 215.795 1123.73 Q216.51 1122.81 217.582 1122.32 Q218.673 1121.83 219.952 1121.83 Q222.679 1121.83 224.259 1123.26 Q225.838 1124.71 225.838 1127.19 Q225.838 1129.58 224.183 1131.07 Q222.547 1132.53 219.82 1132.53 Q216.679 1132.53 215.024 1130.45 Q213.369 1128.36 213.369 1124.37 Q213.369 1120.65 215.4 1118.45 Q217.431 1116.23 220.854 1116.23 Q221.776 1116.23 222.716 1116.38 Q223.657 1116.55 224.672 1116.85 Z\" fill=\"#000000\" fill-rule=\"evenodd\" fill-opacity=\"1\" /><path clip-path=\"url(#clip100)\" d=\"M 0 0 M71.3182 870.954 L78.957 870.954 L78.957 844.589 L70.6469 846.255 L70.6469 841.996 L78.9107 840.329 L83.5866 840.329 L83.5866 870.954 L91.2255 870.954 L91.2255 874.889 L71.3182 874.889 L71.3182 870.954 Z\" fill=\"#000000\" fill-rule=\"evenodd\" fill-opacity=\"1\" /><path clip-path=\"url(#clip100)\" d=\"M 0 0 M96.2949 869.01 L101.179 869.01 L101.179 874.889 L96.2949 874.889 L96.2949 869.01 Z\" fill=\"#000000\" fill-rule=\"evenodd\" fill-opacity=\"1\" /><path clip-path=\"url(#clip100)\" d=\"M 0 0 M116.248 843.408 Q112.637 843.408 110.809 846.973 Q109.003 850.514 109.003 857.644 Q109.003 864.751 110.809 868.315 Q112.637 871.857 116.248 871.857 Q119.883 871.857 121.688 868.315 Q123.517 864.751 123.517 857.644 Q123.517 850.514 121.688 846.973 Q119.883 843.408 116.248 843.408 M116.248 839.704 Q122.059 839.704 125.114 844.311 Q128.193 848.894 128.193 857.644 Q128.193 866.371 125.114 870.977 Q122.059 875.561 116.248 875.561 Q110.438 875.561 107.36 870.977 Q104.304 866.371 104.304 857.644 Q104.304 848.894 107.36 844.311 Q110.438 839.704 116.248 839.704 Z\" fill=\"#000000\" fill-rule=\"evenodd\" fill-opacity=\"1\" /><path clip-path=\"url(#clip100)\" d=\"M 0 0 M161.433 849.427 L150.855 860.051 L161.433 870.63 L158.679 873.431 L148.054 862.806 L137.429 873.431 L134.697 870.63 L145.253 860.051 L134.697 849.427 L137.429 846.626 L148.054 857.251 L158.679 846.626 L161.433 849.427 Z\" fill=\"#000000\" fill-rule=\"evenodd\" fill-opacity=\"1\" /><path clip-path=\"url(#clip100)\" d=\"M 0 0 M167.313 870.954 L174.952 870.954 L174.952 844.589 L166.642 846.255 L166.642 841.996 L174.906 840.329 L179.581 840.329 L179.581 870.954 L187.22 870.954 L187.22 874.889 L167.313 874.889 L167.313 870.954 Z\" fill=\"#000000\" fill-rule=\"evenodd\" fill-opacity=\"1\" /><path clip-path=\"url(#clip100)\" d=\"M 0 0 M202.29 843.408 Q198.679 843.408 196.85 846.973 Q195.044 850.514 195.044 857.644 Q195.044 864.751 196.85 868.315 Q198.679 871.857 202.29 871.857 Q205.924 871.857 207.729 868.315 Q209.558 864.751 209.558 857.644 Q209.558 850.514 207.729 846.973 Q205.924 843.408 202.29 843.408 M202.29 839.704 Q208.1 839.704 211.155 844.311 Q214.234 848.894 214.234 857.644 Q214.234 866.371 211.155 870.977 Q208.1 875.561 202.29 875.561 Q196.48 875.561 193.401 870.977 Q190.345 866.371 190.345 857.644 Q190.345 848.894 193.401 844.311 Q196.48 839.704 202.29 839.704 Z\" fill=\"#000000\" fill-rule=\"evenodd\" fill-opacity=\"1\" /><path clip-path=\"url(#clip100)\" d=\"M 0 0 M214.234 819.211 L225.838 819.211 L225.838 820.114 L219.293 834.915 L216.736 834.915 L222.904 820.998 L214.234 820.998 L214.234 819.211 Z\" fill=\"#000000\" fill-rule=\"evenodd\" fill-opacity=\"1\" /><path clip-path=\"url(#clip100)\" d=\"M 0 0 M72.3135 573.619 L79.9524 573.619 L79.9524 547.253 L71.6423 548.92 L71.6423 544.66 L79.9061 542.994 L84.582 542.994 L84.582 573.619 L92.2208 573.619 L92.2208 577.554 L72.3135 577.554 L72.3135 573.619 Z\" fill=\"#000000\" fill-rule=\"evenodd\" fill-opacity=\"1\" /><path clip-path=\"url(#clip100)\" d=\"M 0 0 M97.2903 571.674 L102.174 571.674 L102.174 577.554 L97.2903 577.554 L97.2903 571.674 Z\" fill=\"#000000\" fill-rule=\"evenodd\" fill-opacity=\"1\" /><path clip-path=\"url(#clip100)\" d=\"M 0 0 M107.29 542.994 L125.647 542.994 L125.647 546.929 L111.573 546.929 L111.573 555.401 Q112.591 555.054 113.61 554.892 Q114.628 554.707 115.647 554.707 Q121.434 554.707 124.813 557.878 Q128.193 561.049 128.193 566.466 Q128.193 572.045 124.721 575.146 Q121.248 578.225 114.929 578.225 Q112.753 578.225 110.485 577.855 Q108.239 577.484 105.832 576.744 L105.832 572.045 Q107.915 573.179 110.137 573.734 Q112.36 574.29 114.836 574.29 Q118.841 574.29 121.179 572.183 Q123.517 570.077 123.517 566.466 Q123.517 562.855 121.179 560.748 Q118.841 558.642 114.836 558.642 Q112.961 558.642 111.086 559.059 Q109.235 559.475 107.29 560.355 L107.29 542.994 Z\" fill=\"#000000\" fill-rule=\"evenodd\" fill-opacity=\"1\" /><path clip-path=\"url(#clip100)\" d=\"M 0 0 M161.433 552.091 L150.855 562.716 L161.433 573.295 L158.679 576.095 L148.054 565.471 L137.429 576.095 L134.697 573.295 L145.253 562.716 L134.697 552.091 L137.429 549.29 L148.054 559.915 L158.679 549.29 L161.433 552.091 Z\" fill=\"#000000\" fill-rule=\"evenodd\" fill-opacity=\"1\" /><path clip-path=\"url(#clip100)\" d=\"M 0 0 M167.313 573.619 L174.952 573.619 L174.952 547.253 L166.642 548.92 L166.642 544.66 L174.906 542.994 L179.581 542.994 L179.581 573.619 L187.22 573.619 L187.22 577.554 L167.313 577.554 L167.313 573.619 Z\" fill=\"#000000\" fill-rule=\"evenodd\" fill-opacity=\"1\" /><path clip-path=\"url(#clip100)\" d=\"M 0 0 M202.29 546.072 Q198.679 546.072 196.85 549.637 Q195.044 553.179 195.044 560.309 Q195.044 567.415 196.85 570.98 Q198.679 574.521 202.29 574.521 Q205.924 574.521 207.729 570.98 Q209.558 567.415 209.558 560.309 Q209.558 553.179 207.729 549.637 Q205.924 546.072 202.29 546.072 M202.29 542.369 Q208.1 542.369 211.155 546.975 Q214.234 551.559 214.234 560.309 Q214.234 569.035 211.155 573.642 Q208.1 578.225 202.29 578.225 Q196.48 578.225 193.401 573.642 Q190.345 569.035 190.345 560.309 Q190.345 551.559 193.401 546.975 Q196.48 542.369 202.29 542.369 Z\" fill=\"#000000\" fill-rule=\"evenodd\" fill-opacity=\"1\" /><path clip-path=\"url(#clip100)\" d=\"M 0 0 M214.234 521.875 L225.838 521.875 L225.838 522.778 L219.293 537.58 L216.736 537.58 L222.904 523.662 L214.234 523.662 L214.234 521.875 Z\" fill=\"#000000\" fill-rule=\"evenodd\" fill-opacity=\"1\" /><path clip-path=\"url(#clip100)\" d=\"M 0 0 M74.9061 276.283 L91.2255 276.283 L91.2255 280.218 L69.2812 280.218 L69.2812 276.283 Q71.9432 273.528 76.5265 268.899 Q81.1329 264.246 82.3135 262.904 Q84.5589 260.38 85.4385 258.644 Q86.3412 256.885 86.3412 255.195 Q86.3412 252.441 84.3968 250.705 Q82.4755 248.968 79.3737 248.968 Q77.1746 248.968 74.7209 249.732 Q72.2904 250.496 69.5126 252.047 L69.5126 247.325 Q72.3367 246.191 74.7904 245.612 Q77.2441 245.033 79.2811 245.033 Q84.6514 245.033 87.8459 247.718 Q91.0403 250.404 91.0403 254.894 Q91.0403 257.024 90.2301 258.945 Q89.4431 260.843 87.3366 263.436 Q86.7579 264.107 83.6561 267.325 Q80.5542 270.519 74.9061 276.283 Z\" fill=\"#000000\" fill-rule=\"evenodd\" fill-opacity=\"1\" /><path clip-path=\"url(#clip100)\" d=\"M 0 0 M96.2949 274.339 L101.179 274.339 L101.179 280.218 L96.2949 280.218 L96.2949 274.339 Z\" fill=\"#000000\" fill-rule=\"evenodd\" fill-opacity=\"1\" /><path clip-path=\"url(#clip100)\" d=\"M 0 0 M116.248 248.737 Q112.637 248.737 110.809 252.302 Q109.003 255.843 109.003 262.973 Q109.003 270.079 110.809 273.644 Q112.637 277.186 116.248 277.186 Q119.883 277.186 121.688 273.644 Q123.517 270.079 123.517 262.973 Q123.517 255.843 121.688 252.302 Q119.883 248.737 116.248 248.737 M116.248 245.033 Q122.059 245.033 125.114 249.64 Q128.193 254.223 128.193 262.973 Q128.193 271.7 125.114 276.306 Q122.059 280.89 116.248 280.89 Q110.438 280.89 107.36 276.306 Q104.304 271.7 104.304 262.973 Q104.304 254.223 107.36 249.64 Q110.438 245.033 116.248 245.033 Z\" fill=\"#000000\" fill-rule=\"evenodd\" fill-opacity=\"1\" /><path clip-path=\"url(#clip100)\" d=\"M 0 0 M161.433 254.755 L150.855 265.38 L161.433 275.959 L158.679 278.76 L148.054 268.135 L137.429 278.76 L134.697 275.959 L145.253 265.38 L134.697 254.755 L137.429 251.955 L148.054 262.579 L158.679 251.955 L161.433 254.755 Z\" fill=\"#000000\" fill-rule=\"evenodd\" fill-opacity=\"1\" /><path clip-path=\"url(#clip100)\" d=\"M 0 0 M167.313 276.283 L174.952 276.283 L174.952 249.917 L166.642 251.584 L166.642 247.325 L174.906 245.658 L179.581 245.658 L179.581 276.283 L187.22 276.283 L187.22 280.218 L167.313 280.218 L167.313 276.283 Z\" fill=\"#000000\" fill-rule=\"evenodd\" fill-opacity=\"1\" /><path clip-path=\"url(#clip100)\" d=\"M 0 0 M202.29 248.737 Q198.679 248.737 196.85 252.302 Q195.044 255.843 195.044 262.973 Q195.044 270.079 196.85 273.644 Q198.679 277.186 202.29 277.186 Q205.924 277.186 207.729 273.644 Q209.558 270.079 209.558 262.973 Q209.558 255.843 207.729 252.302 Q205.924 248.737 202.29 248.737 M202.29 245.033 Q208.1 245.033 211.155 249.64 Q214.234 254.223 214.234 262.973 Q214.234 271.7 211.155 276.306 Q208.1 280.89 202.29 280.89 Q196.48 280.89 193.401 276.306 Q190.345 271.7 190.345 262.973 Q190.345 254.223 193.401 249.64 Q196.48 245.033 202.29 245.033 Z\" fill=\"#000000\" fill-rule=\"evenodd\" fill-opacity=\"1\" /><path clip-path=\"url(#clip100)\" d=\"M 0 0 M214.234 224.54 L225.838 224.54 L225.838 225.443 L219.293 240.244 L216.736 240.244 L222.904 226.327 L214.234 226.327 L214.234 224.54 Z\" fill=\"#000000\" fill-rule=\"evenodd\" fill-opacity=\"1\" /><polyline clip-path=\"url(#clip102)\" style=\"stroke:#009af9; stroke-width:4; stroke-opacity:1; fill:none\" points=\"\n",
       "  309.355,1445.72 413.77,1443.68 518.185,1436.24 622.6,1428.7 727.015,1421.83 831.43,1386.77 935.845,1383.09 1040.26,1370.61 1144.67,1403.16 1249.09,1189.96 \n",
       "  1353.5,1276.98 1457.92,1321.59 1562.33,1170.25 1666.75,1058.98 1771.16,823.416 1875.58,1115.6 1979.99,914.417 2084.41,943.483 2188.82,1267.21 2293.24,87.9763 \n",
       "  \n",
       "  \"/>\n",
       "<polyline clip-path=\"url(#clip102)\" style=\"stroke:#e26f46; stroke-width:4; stroke-opacity:1; fill:none\" points=\"\n",
       "  309.355,1445.45 413.77,1436.13 518.185,1434.05 622.6,1426.29 727.015,1431.2 831.43,1429.09 935.845,1406.25 1040.26,1395.34 1144.67,1359.24 1249.09,1416.8 \n",
       "  1353.5,1415.14 1457.92,1375.37 1562.33,1349.58 1666.75,1408.34 1771.16,1305.06 1875.58,1293.22 1979.99,1252.26 2084.41,1336.55 2188.82,1417.76 2293.24,1316.41 \n",
       "  \n",
       "  \"/>\n",
       "<path clip-path=\"url(#clip100)\" d=\"\n",
       "M1891.11 276.658 L2282.66 276.658 L2282.66 95.2176 L1891.11 95.2176  Z\n",
       "  \" fill=\"#ffffff\" fill-rule=\"evenodd\" fill-opacity=\"1\"/>\n",
       "<polyline clip-path=\"url(#clip100)\" style=\"stroke:#000000; stroke-width:4; stroke-opacity:1; fill:none\" points=\"\n",
       "  1891.11,276.658 2282.66,276.658 2282.66,95.2176 1891.11,95.2176 1891.11,276.658 \n",
       "  \"/>\n",
       "<polyline clip-path=\"url(#clip100)\" style=\"stroke:#009af9; stroke-width:4; stroke-opacity:1; fill:none\" points=\"\n",
       "  1914.47,155.698 2054.67,155.698 \n",
       "  \"/>\n",
       "<path clip-path=\"url(#clip100)\" d=\"M 0 0 M2082.71 142.26 L2082.71 169.135 L2088.36 169.135 Q2095.51 169.135 2098.82 165.894 Q2102.15 162.654 2102.15 155.663 Q2102.15 148.718 2098.82 145.501 Q2095.51 142.26 2088.36 142.26 L2082.71 142.26 M2078.03 138.418 L2087.64 138.418 Q2097.69 138.418 2102.39 142.607 Q2107.09 146.774 2107.09 155.663 Q2107.09 164.598 2102.36 168.788 Q2097.64 172.978 2087.64 172.978 L2078.03 172.978 L2078.03 138.418 Z\" fill=\"#000000\" fill-rule=\"evenodd\" fill-opacity=\"1\" /><path clip-path=\"url(#clip100)\" d=\"M 0 0 M2111.55 147.052 L2115.81 147.052 L2115.81 172.978 L2111.55 172.978 L2111.55 147.052 M2111.55 136.959 L2115.81 136.959 L2115.81 142.353 L2111.55 142.353 L2111.55 136.959 Z\" fill=\"#000000\" fill-rule=\"evenodd\" fill-opacity=\"1\" /><path clip-path=\"url(#clip100)\" d=\"M 0 0 M2120.28 147.052 L2124.54 147.052 L2124.54 173.441 Q2124.54 178.394 2122.64 180.616 Q2120.77 182.839 2116.58 182.839 L2114.96 182.839 L2114.96 179.228 L2116.09 179.228 Q2118.52 179.228 2119.4 178.093 Q2120.28 176.982 2120.28 173.441 L2120.28 147.052 M2120.28 136.959 L2124.54 136.959 L2124.54 142.353 L2120.28 142.353 L2120.28 136.959 Z\" fill=\"#000000\" fill-rule=\"evenodd\" fill-opacity=\"1\" /><path clip-path=\"url(#clip100)\" d=\"M 0 0 M2128.84 136.959 L2133.13 136.959 L2133.13 158.232 L2145.84 147.052 L2151.27 147.052 L2137.52 159.181 L2151.85 172.978 L2146.3 172.978 L2133.13 160.316 L2133.13 172.978 L2128.84 172.978 L2128.84 136.959 Z\" fill=\"#000000\" fill-rule=\"evenodd\" fill-opacity=\"1\" /><path clip-path=\"url(#clip100)\" d=\"M 0 0 M2172.85 147.816 L2172.85 151.843 Q2171.04 150.917 2169.1 150.455 Q2167.15 149.992 2165.07 149.992 Q2161.9 149.992 2160.3 150.964 Q2158.73 151.936 2158.73 153.88 Q2158.73 155.362 2159.86 156.218 Q2161 157.052 2164.42 157.816 L2165.88 158.14 Q2170.42 159.112 2172.32 160.894 Q2174.24 162.654 2174.24 165.825 Q2174.24 169.436 2171.37 171.542 Q2168.52 173.649 2163.52 173.649 Q2161.44 173.649 2159.17 173.232 Q2156.92 172.839 2154.42 172.028 L2154.42 167.63 Q2156.78 168.857 2159.08 169.482 Q2161.37 170.084 2163.61 170.084 Q2166.62 170.084 2168.24 169.066 Q2169.86 168.024 2169.86 166.149 Q2169.86 164.413 2168.68 163.487 Q2167.52 162.561 2163.57 161.704 L2162.08 161.357 Q2158.13 160.524 2156.37 158.811 Q2154.61 157.075 2154.61 154.066 Q2154.61 150.408 2157.2 148.418 Q2159.79 146.427 2164.56 146.427 Q2166.92 146.427 2169.01 146.774 Q2171.09 147.121 2172.85 147.816 Z\" fill=\"#000000\" fill-rule=\"evenodd\" fill-opacity=\"1\" /><path clip-path=\"url(#clip100)\" d=\"M 0 0 M2182.92 139.691 L2182.92 147.052 L2191.69 147.052 L2191.69 150.362 L2182.92 150.362 L2182.92 164.436 Q2182.92 167.607 2183.77 168.51 Q2184.65 169.413 2187.32 169.413 L2191.69 169.413 L2191.69 172.978 L2187.32 172.978 Q2182.39 172.978 2180.51 171.149 Q2178.64 169.297 2178.64 164.436 L2178.64 150.362 L2175.51 150.362 L2175.51 147.052 L2178.64 147.052 L2178.64 139.691 L2182.92 139.691 Z\" fill=\"#000000\" fill-rule=\"evenodd\" fill-opacity=\"1\" /><path clip-path=\"url(#clip100)\" d=\"M 0 0 M2211.18 151.033 Q2210.46 150.617 2209.61 150.431 Q2208.77 150.223 2207.76 150.223 Q2204.14 150.223 2202.2 152.584 Q2200.28 154.922 2200.28 159.32 L2200.28 172.978 L2196 172.978 L2196 147.052 L2200.28 147.052 L2200.28 151.08 Q2201.62 148.718 2203.77 147.584 Q2205.93 146.427 2209.01 146.427 Q2209.45 146.427 2209.98 146.496 Q2210.51 146.543 2211.16 146.658 L2211.18 151.033 Z\" fill=\"#000000\" fill-rule=\"evenodd\" fill-opacity=\"1\" /><path clip-path=\"url(#clip100)\" d=\"M 0 0 M2227.43 159.945 Q2222.27 159.945 2220.28 161.126 Q2218.29 162.306 2218.29 165.154 Q2218.29 167.422 2219.77 168.765 Q2221.27 170.084 2223.84 170.084 Q2227.39 170.084 2229.52 167.584 Q2231.67 165.061 2231.67 160.894 L2231.67 159.945 L2227.43 159.945 M2235.93 158.186 L2235.93 172.978 L2231.67 172.978 L2231.67 169.042 Q2230.21 171.403 2228.03 172.538 Q2225.86 173.649 2222.71 173.649 Q2218.73 173.649 2216.37 171.427 Q2214.03 169.181 2214.03 165.431 Q2214.03 161.056 2216.95 158.834 Q2219.89 156.612 2225.7 156.612 L2231.67 156.612 L2231.67 156.195 Q2231.67 153.255 2229.72 151.658 Q2227.8 150.038 2224.31 150.038 Q2222.08 150.038 2219.98 150.57 Q2217.87 151.103 2215.93 152.167 L2215.93 148.232 Q2218.27 147.33 2220.46 146.89 Q2222.66 146.427 2224.75 146.427 Q2230.37 146.427 2233.15 149.343 Q2235.93 152.26 2235.93 158.186 Z\" fill=\"#000000\" fill-rule=\"evenodd\" fill-opacity=\"1\" /><polyline clip-path=\"url(#clip100)\" style=\"stroke:#e26f46; stroke-width:4; stroke-opacity:1; fill:none\" points=\"\n",
       "  1914.47,216.178 2054.67,216.178 \n",
       "  \"/>\n",
       "<path clip-path=\"url(#clip100)\" d=\"M 0 0 M2093.87 203.504 L2087.53 220.703 L2100.23 220.703 L2093.87 203.504 M2091.23 198.898 L2096.53 198.898 L2109.7 233.458 L2104.84 233.458 L2101.69 224.592 L2086.11 224.592 L2082.97 233.458 L2078.03 233.458 L2091.23 198.898 Z\" fill=\"#000000\" fill-rule=\"evenodd\" fill-opacity=\"1\" /><path clip-path=\"url(#clip100)\" d=\"M 0 0 M2131.99 204.592 L2123.68 209.083 L2131.99 213.597 L2130.65 215.865 L2122.87 211.166 L2122.87 219.893 L2120.23 219.893 L2120.23 211.166 L2112.46 215.865 L2111.11 213.597 L2119.42 209.083 L2111.11 204.592 L2112.46 202.3 L2120.23 206.999 L2120.23 198.273 L2122.87 198.273 L2122.87 206.999 L2130.65 202.3 L2131.99 204.592 Z\" fill=\"#000000\" fill-rule=\"evenodd\" fill-opacity=\"1\" /></svg>\n"
      ]
     },
     "execution_count": 16,
     "metadata": {},
     "output_type": "execute_result"
    }
   ],
   "source": [
    "plot(dijkstra_randNet_times,label=\"Dijkstra\")\n",
    "plot!(as_randNet_times, label=\"A*\")"
   ]
  },
  {
   "cell_type": "markdown",
   "metadata": {},
   "source": [
    "### Square network"
   ]
  },
  {
   "cell_type": "code",
   "execution_count": 17,
   "metadata": {},
   "outputs": [],
   "source": [
    "dijkstra_SqNet_times = []\n",
    "for k in 2:20:100\n",
    "    origin_sq = rand(1:k^2);\n",
    "    destination_sq = rand(1:k^2);\n",
    "    SquareNet, position_array_Square, weight_matrix_Square = SquareDiGraph(k);\n",
    "    t = @benchmark LightGraphs.a_star(SquareNet,origin_sq, destination_sq,weight_matrix_Square);\n",
    "    push!(dijkstra_SqNet_times,mean(t).time)\n",
    "end"
   ]
  },
  {
   "cell_type": "code",
   "execution_count": 18,
   "metadata": {
    "scrolled": true
   },
   "outputs": [],
   "source": [
    "as_SqNet_times = []\n",
    "for k in 2:20:100\n",
    "    origin_sq = rand(1:k^2);\n",
    "    destination_sq = rand(1:k^2);\n",
    "    SquareNet, position_array_Square, weight_matrix_Square = SquareDiGraph(k);\n",
    "    t = @benchmark LightGraphs.a_star(SquareNet,origin_sq, destination_sq,weight_matrix_Square,\n",
    "    n -> EuclideanHeuristic(n,destination_sq,position_array_Square));\n",
    "    push!(as_SqNet_times,mean(t).time)\n",
    "end"
   ]
  },
  {
   "cell_type": "code",
   "execution_count": 19,
   "metadata": {},
   "outputs": [
    {
     "data": {
      "image/svg+xml": [
       "<?xml version=\"1.0\" encoding=\"utf-8\"?>\n",
       "<svg xmlns=\"http://www.w3.org/2000/svg\" xmlns:xlink=\"http://www.w3.org/1999/xlink\" width=\"600\" height=\"400\" viewBox=\"0 0 2400 1600\">\n",
       "<defs>\n",
       "  <clipPath id=\"clip140\">\n",
       "    <rect x=\"0\" y=\"0\" width=\"2400\" height=\"1600\"/>\n",
       "  </clipPath>\n",
       "</defs>\n",
       "<path clip-path=\"url(#clip140)\" d=\"\n",
       "M0 1600 L2400 1600 L2400 0 L0 0  Z\n",
       "  \" fill=\"#ffffff\" fill-rule=\"evenodd\" fill-opacity=\"1\"/>\n",
       "<defs>\n",
       "  <clipPath id=\"clip141\">\n",
       "    <rect x=\"480\" y=\"0\" width=\"1681\" height=\"1600\"/>\n",
       "  </clipPath>\n",
       "</defs>\n",
       "<path clip-path=\"url(#clip140)\" d=\"\n",
       "M249.838 1486.45 L2352.76 1486.45 L2352.76 47.2441 L249.838 47.2441  Z\n",
       "  \" fill=\"#ffffff\" fill-rule=\"evenodd\" fill-opacity=\"1\"/>\n",
       "<defs>\n",
       "  <clipPath id=\"clip142\">\n",
       "    <rect x=\"249\" y=\"47\" width=\"2104\" height=\"1440\"/>\n",
       "  </clipPath>\n",
       "</defs>\n",
       "<polyline clip-path=\"url(#clip142)\" style=\"stroke:#000000; stroke-width:2; stroke-opacity:0.1; fill:none\" points=\"\n",
       "  309.355,1486.45 309.355,47.2441 \n",
       "  \"/>\n",
       "<polyline clip-path=\"url(#clip142)\" style=\"stroke:#000000; stroke-width:2; stroke-opacity:0.1; fill:none\" points=\"\n",
       "  805.326,1486.45 805.326,47.2441 \n",
       "  \"/>\n",
       "<polyline clip-path=\"url(#clip142)\" style=\"stroke:#000000; stroke-width:2; stroke-opacity:0.1; fill:none\" points=\"\n",
       "  1301.3,1486.45 1301.3,47.2441 \n",
       "  \"/>\n",
       "<polyline clip-path=\"url(#clip142)\" style=\"stroke:#000000; stroke-width:2; stroke-opacity:0.1; fill:none\" points=\"\n",
       "  1797.27,1486.45 1797.27,47.2441 \n",
       "  \"/>\n",
       "<polyline clip-path=\"url(#clip142)\" style=\"stroke:#000000; stroke-width:2; stroke-opacity:0.1; fill:none\" points=\"\n",
       "  2293.24,1486.45 2293.24,47.2441 \n",
       "  \"/>\n",
       "<polyline clip-path=\"url(#clip142)\" style=\"stroke:#000000; stroke-width:2; stroke-opacity:0.1; fill:none\" points=\"\n",
       "  249.838,1446.36 2352.76,1446.36 \n",
       "  \"/>\n",
       "<polyline clip-path=\"url(#clip142)\" style=\"stroke:#000000; stroke-width:2; stroke-opacity:0.1; fill:none\" points=\"\n",
       "  249.838,1117.79 2352.76,1117.79 \n",
       "  \"/>\n",
       "<polyline clip-path=\"url(#clip142)\" style=\"stroke:#000000; stroke-width:2; stroke-opacity:0.1; fill:none\" points=\"\n",
       "  249.838,789.22 2352.76,789.22 \n",
       "  \"/>\n",
       "<polyline clip-path=\"url(#clip142)\" style=\"stroke:#000000; stroke-width:2; stroke-opacity:0.1; fill:none\" points=\"\n",
       "  249.838,460.649 2352.76,460.649 \n",
       "  \"/>\n",
       "<polyline clip-path=\"url(#clip142)\" style=\"stroke:#000000; stroke-width:2; stroke-opacity:0.1; fill:none\" points=\"\n",
       "  249.838,132.078 2352.76,132.078 \n",
       "  \"/>\n",
       "<polyline clip-path=\"url(#clip140)\" style=\"stroke:#000000; stroke-width:4; stroke-opacity:1; fill:none\" points=\"\n",
       "  249.838,1486.45 2352.76,1486.45 \n",
       "  \"/>\n",
       "<polyline clip-path=\"url(#clip140)\" style=\"stroke:#000000; stroke-width:4; stroke-opacity:1; fill:none\" points=\"\n",
       "  249.838,1486.45 249.838,47.2441 \n",
       "  \"/>\n",
       "<polyline clip-path=\"url(#clip140)\" style=\"stroke:#000000; stroke-width:4; stroke-opacity:1; fill:none\" points=\"\n",
       "  309.355,1486.45 309.355,1469.18 \n",
       "  \"/>\n",
       "<polyline clip-path=\"url(#clip140)\" style=\"stroke:#000000; stroke-width:4; stroke-opacity:1; fill:none\" points=\"\n",
       "  805.326,1486.45 805.326,1469.18 \n",
       "  \"/>\n",
       "<polyline clip-path=\"url(#clip140)\" style=\"stroke:#000000; stroke-width:4; stroke-opacity:1; fill:none\" points=\"\n",
       "  1301.3,1486.45 1301.3,1469.18 \n",
       "  \"/>\n",
       "<polyline clip-path=\"url(#clip140)\" style=\"stroke:#000000; stroke-width:4; stroke-opacity:1; fill:none\" points=\"\n",
       "  1797.27,1486.45 1797.27,1469.18 \n",
       "  \"/>\n",
       "<polyline clip-path=\"url(#clip140)\" style=\"stroke:#000000; stroke-width:4; stroke-opacity:1; fill:none\" points=\"\n",
       "  2293.24,1486.45 2293.24,1469.18 \n",
       "  \"/>\n",
       "<polyline clip-path=\"url(#clip140)\" style=\"stroke:#000000; stroke-width:4; stroke-opacity:1; fill:none\" points=\"\n",
       "  249.838,1446.36 275.073,1446.36 \n",
       "  \"/>\n",
       "<polyline clip-path=\"url(#clip140)\" style=\"stroke:#000000; stroke-width:4; stroke-opacity:1; fill:none\" points=\"\n",
       "  249.838,1117.79 275.073,1117.79 \n",
       "  \"/>\n",
       "<polyline clip-path=\"url(#clip140)\" style=\"stroke:#000000; stroke-width:4; stroke-opacity:1; fill:none\" points=\"\n",
       "  249.838,789.22 275.073,789.22 \n",
       "  \"/>\n",
       "<polyline clip-path=\"url(#clip140)\" style=\"stroke:#000000; stroke-width:4; stroke-opacity:1; fill:none\" points=\"\n",
       "  249.838,460.649 275.073,460.649 \n",
       "  \"/>\n",
       "<polyline clip-path=\"url(#clip140)\" style=\"stroke:#000000; stroke-width:4; stroke-opacity:1; fill:none\" points=\"\n",
       "  249.838,132.078 275.073,132.078 \n",
       "  \"/>\n",
       "<path clip-path=\"url(#clip140)\" d=\"M 0 0 M299.737 1535.98 L307.376 1535.98 L307.376 1509.62 L299.066 1511.29 L299.066 1507.03 L307.33 1505.36 L312.005 1505.36 L312.005 1535.98 L319.644 1535.98 L319.644 1539.92 L299.737 1539.92 L299.737 1535.98 Z\" fill=\"#000000\" fill-rule=\"evenodd\" fill-opacity=\"1\" /><path clip-path=\"url(#clip140)\" d=\"M 0 0 M799.979 1535.98 L816.298 1535.98 L816.298 1539.92 L794.354 1539.92 L794.354 1535.98 Q797.016 1533.23 801.599 1528.6 Q806.206 1523.95 807.386 1522.61 Q809.632 1520.08 810.511 1518.35 Q811.414 1516.59 811.414 1514.9 Q811.414 1512.14 809.47 1510.41 Q807.548 1508.67 804.446 1508.67 Q802.247 1508.67 799.794 1509.43 Q797.363 1510.2 794.585 1511.75 L794.585 1507.03 Q797.409 1505.89 799.863 1505.31 Q802.317 1504.73 804.354 1504.73 Q809.724 1504.73 812.919 1507.42 Q816.113 1510.11 816.113 1514.6 Q816.113 1516.73 815.303 1518.65 Q814.516 1520.54 812.409 1523.14 Q811.831 1523.81 808.729 1527.03 Q805.627 1530.22 799.979 1535.98 Z\" fill=\"#000000\" fill-rule=\"evenodd\" fill-opacity=\"1\" /><path clip-path=\"url(#clip140)\" d=\"M 0 0 M1305.54 1521.29 Q1308.9 1522 1310.78 1524.27 Q1312.67 1526.54 1312.67 1529.87 Q1312.67 1534.99 1309.16 1537.79 Q1305.64 1540.59 1299.16 1540.59 Q1296.98 1540.59 1294.67 1540.15 Q1292.37 1539.73 1289.92 1538.88 L1289.92 1534.36 Q1291.86 1535.5 1294.18 1536.08 Q1296.49 1536.66 1299.02 1536.66 Q1303.42 1536.66 1305.71 1534.92 Q1308.02 1533.18 1308.02 1529.87 Q1308.02 1526.82 1305.87 1525.11 Q1303.74 1523.37 1299.92 1523.37 L1295.89 1523.37 L1295.89 1519.53 L1300.11 1519.53 Q1303.55 1519.53 1305.38 1518.16 Q1307.21 1516.77 1307.21 1514.18 Q1307.21 1511.52 1305.31 1510.11 Q1303.44 1508.67 1299.92 1508.67 Q1298 1508.67 1295.8 1509.09 Q1293.6 1509.5 1290.96 1510.38 L1290.96 1506.22 Q1293.62 1505.48 1295.94 1505.11 Q1298.28 1504.73 1300.34 1504.73 Q1305.66 1504.73 1308.76 1507.17 Q1311.86 1509.57 1311.86 1513.69 Q1311.86 1516.56 1310.22 1518.55 Q1308.58 1520.52 1305.54 1521.29 Z\" fill=\"#000000\" fill-rule=\"evenodd\" fill-opacity=\"1\" /><path clip-path=\"url(#clip140)\" d=\"M 0 0 M1800.28 1509.43 L1788.47 1527.88 L1800.28 1527.88 L1800.28 1509.43 M1799.05 1505.36 L1804.93 1505.36 L1804.93 1527.88 L1809.86 1527.88 L1809.86 1531.77 L1804.93 1531.77 L1804.93 1539.92 L1800.28 1539.92 L1800.28 1531.77 L1784.68 1531.77 L1784.68 1527.26 L1799.05 1505.36 Z\" fill=\"#000000\" fill-rule=\"evenodd\" fill-opacity=\"1\" /><path clip-path=\"url(#clip140)\" d=\"M 0 0 M2283.52 1505.36 L2301.87 1505.36 L2301.87 1509.3 L2287.8 1509.3 L2287.8 1517.77 Q2288.82 1517.42 2289.84 1517.26 Q2290.86 1517.07 2291.87 1517.07 Q2297.66 1517.07 2301.04 1520.24 Q2304.42 1523.42 2304.42 1528.83 Q2304.42 1534.41 2300.95 1537.51 Q2297.48 1540.59 2291.16 1540.59 Q2288.98 1540.59 2286.71 1540.22 Q2284.47 1539.85 2282.06 1539.11 L2282.06 1534.41 Q2284.14 1535.54 2286.36 1536.1 Q2288.59 1536.66 2291.06 1536.66 Q2295.07 1536.66 2297.41 1534.55 Q2299.74 1532.44 2299.74 1528.83 Q2299.74 1525.22 2297.41 1523.11 Q2295.07 1521.01 2291.06 1521.01 Q2289.19 1521.01 2287.31 1521.42 Q2285.46 1521.84 2283.52 1522.72 L2283.52 1505.36 Z\" fill=\"#000000\" fill-rule=\"evenodd\" fill-opacity=\"1\" /><path clip-path=\"url(#clip140)\" d=\"M 0 0 M213.894 1432.16 Q210.283 1432.16 208.454 1435.73 Q206.649 1439.27 206.649 1446.4 Q206.649 1453.5 208.454 1457.07 Q210.283 1460.61 213.894 1460.61 Q217.528 1460.61 219.334 1457.07 Q221.163 1453.5 221.163 1446.4 Q221.163 1439.27 219.334 1435.73 Q217.528 1432.16 213.894 1432.16 M213.894 1428.46 Q219.704 1428.46 222.76 1433.06 Q225.838 1437.65 225.838 1446.4 Q225.838 1455.12 222.76 1459.73 Q219.704 1464.31 213.894 1464.31 Q208.084 1464.31 205.005 1459.73 Q201.95 1455.12 201.95 1446.4 Q201.95 1437.65 205.005 1433.06 Q208.084 1428.46 213.894 1428.46 Z\" fill=\"#000000\" fill-rule=\"evenodd\" fill-opacity=\"1\" /><path clip-path=\"url(#clip140)\" d=\"M 0 0 M75.0363 1137.58 L91.3557 1137.58 L91.3557 1141.52 L69.4114 1141.52 L69.4114 1137.58 Q72.0734 1134.83 76.6567 1130.2 Q81.2632 1125.55 82.4437 1124.2 Q84.6891 1121.68 85.5687 1119.94 Q86.4715 1118.19 86.4715 1116.5 Q86.4715 1113.74 84.527 1112 Q82.6057 1110.27 79.5039 1110.27 Q77.3048 1110.27 74.8511 1111.03 Q72.4206 1111.8 69.6428 1113.35 L69.6428 1108.63 Q72.4669 1107.49 74.9206 1106.91 Q77.3743 1106.33 79.4113 1106.33 Q84.7817 1106.33 87.9761 1109.02 Q91.1705 1111.7 91.1705 1116.19 Q91.1705 1118.32 90.3603 1120.25 Q89.5733 1122.14 87.4668 1124.74 Q86.8881 1125.41 83.7863 1128.62 Q80.6845 1131.82 75.0363 1137.58 Z\" fill=\"#000000\" fill-rule=\"evenodd\" fill-opacity=\"1\" /><path clip-path=\"url(#clip140)\" d=\"M 0 0 M96.4251 1135.64 L101.309 1135.64 L101.309 1141.52 L96.4251 1141.52 L96.4251 1135.64 Z\" fill=\"#000000\" fill-rule=\"evenodd\" fill-opacity=\"1\" /><path clip-path=\"url(#clip140)\" d=\"M 0 0 M106.425 1106.96 L124.781 1106.96 L124.781 1110.89 L110.707 1110.89 L110.707 1119.37 Q111.726 1119.02 112.744 1118.86 Q113.763 1118.67 114.781 1118.67 Q120.568 1118.67 123.948 1121.84 Q127.328 1125.01 127.328 1130.43 Q127.328 1136.01 123.856 1139.11 Q120.383 1142.19 114.064 1142.19 Q111.888 1142.19 109.619 1141.82 Q107.374 1141.45 104.967 1140.71 L104.967 1136.01 Q107.05 1137.14 109.272 1137.7 Q111.494 1138.25 113.971 1138.25 Q117.976 1138.25 120.314 1136.15 Q122.652 1134.04 122.652 1130.43 Q122.652 1126.82 120.314 1124.71 Q117.976 1122.61 113.971 1122.61 Q112.096 1122.61 110.221 1123.02 Q108.369 1123.44 106.425 1124.32 L106.425 1106.96 Z\" fill=\"#000000\" fill-rule=\"evenodd\" fill-opacity=\"1\" /><path clip-path=\"url(#clip140)\" d=\"M 0 0 M160.568 1116.06 L149.99 1126.68 L160.568 1137.26 L157.814 1140.06 L147.189 1129.44 L136.564 1140.06 L133.832 1137.26 L144.388 1126.68 L133.832 1116.06 L136.564 1113.25 L147.189 1123.88 L157.814 1113.25 L160.568 1116.06 Z\" fill=\"#000000\" fill-rule=\"evenodd\" fill-opacity=\"1\" /><path clip-path=\"url(#clip140)\" d=\"M 0 0 M166.448 1137.58 L174.087 1137.58 L174.087 1111.22 L165.777 1112.88 L165.777 1108.63 L174.04 1106.96 L178.716 1106.96 L178.716 1137.58 L186.355 1137.58 L186.355 1141.52 L166.448 1141.52 L166.448 1137.58 Z\" fill=\"#000000\" fill-rule=\"evenodd\" fill-opacity=\"1\" /><path clip-path=\"url(#clip140)\" d=\"M 0 0 M201.425 1110.04 Q197.813 1110.04 195.985 1113.6 Q194.179 1117.14 194.179 1124.27 Q194.179 1131.38 195.985 1134.94 Q197.813 1138.49 201.425 1138.49 Q205.059 1138.49 206.864 1134.94 Q208.693 1131.38 208.693 1124.27 Q208.693 1117.14 206.864 1113.6 Q205.059 1110.04 201.425 1110.04 M201.425 1106.33 Q207.235 1106.33 210.29 1110.94 Q213.369 1115.52 213.369 1124.27 Q213.369 1133 210.29 1137.61 Q207.235 1142.19 201.425 1142.19 Q195.614 1142.19 192.536 1137.61 Q189.48 1133 189.48 1124.27 Q189.48 1115.52 192.536 1110.94 Q195.614 1106.33 201.425 1106.33 Z\" fill=\"#000000\" fill-rule=\"evenodd\" fill-opacity=\"1\" /><path clip-path=\"url(#clip140)\" d=\"M 0 0 M219.82 1092.8 Q218.165 1092.8 217.206 1093.78 Q216.247 1094.77 216.247 1096.49 Q216.247 1098.18 217.206 1099.16 Q218.165 1100.15 219.82 1100.15 Q221.456 1100.15 222.415 1099.16 Q223.375 1098.18 223.375 1096.49 Q223.375 1094.77 222.415 1093.78 Q221.456 1092.8 219.82 1092.8 M224.672 1086.14 L224.672 1088.08 Q223.751 1087.7 222.81 1087.51 Q221.87 1087.31 220.948 1087.31 Q218.541 1087.31 217.262 1088.72 Q215.983 1090.15 215.795 1093.02 Q216.51 1092.1 217.582 1091.61 Q218.673 1091.12 219.952 1091.12 Q222.679 1091.12 224.259 1092.55 Q225.838 1094 225.838 1096.49 Q225.838 1098.87 224.183 1100.36 Q222.547 1101.83 219.82 1101.83 Q216.679 1101.83 215.024 1099.74 Q213.369 1097.65 213.369 1093.66 Q213.369 1089.94 215.4 1087.74 Q217.431 1085.52 220.854 1085.52 Q221.776 1085.52 222.716 1085.67 Q223.657 1085.84 224.672 1086.14 Z\" fill=\"#000000\" fill-rule=\"evenodd\" fill-opacity=\"1\" /><path clip-path=\"url(#clip140)\" d=\"M 0 0 M69.4577 778.387 L87.814 778.387 L87.814 782.323 L73.74 782.323 L73.74 790.795 Q74.7586 790.448 75.7771 790.286 Q76.7956 790.1 77.8141 790.1 Q83.6011 790.1 86.9807 793.272 Q90.3603 796.443 90.3603 801.86 Q90.3603 807.438 86.8881 810.54 Q83.4159 813.619 77.0965 813.619 Q74.9206 813.619 72.6521 813.248 Q70.4067 812.878 67.9993 812.137 L67.9993 807.438 Q70.0827 808.572 72.3049 809.128 Q74.5271 809.684 77.0039 809.684 Q81.0085 809.684 83.3465 807.577 Q85.6844 805.471 85.6844 801.86 Q85.6844 798.248 83.3465 796.142 Q81.0085 794.035 77.0039 794.035 Q75.1289 794.035 73.2539 794.452 Q71.4021 794.869 69.4577 795.748 L69.4577 778.387 Z\" fill=\"#000000\" fill-rule=\"evenodd\" fill-opacity=\"1\" /><path clip-path=\"url(#clip140)\" d=\"M 0 0 M95.4297 807.068 L100.314 807.068 L100.314 812.947 L95.4297 812.947 L95.4297 807.068 Z\" fill=\"#000000\" fill-rule=\"evenodd\" fill-opacity=\"1\" /><path clip-path=\"url(#clip140)\" d=\"M 0 0 M115.383 781.466 Q111.772 781.466 109.944 785.031 Q108.138 788.573 108.138 795.702 Q108.138 802.809 109.944 806.373 Q111.772 809.915 115.383 809.915 Q119.018 809.915 120.823 806.373 Q122.652 802.809 122.652 795.702 Q122.652 788.573 120.823 785.031 Q119.018 781.466 115.383 781.466 M115.383 777.762 Q121.193 777.762 124.249 782.369 Q127.328 786.952 127.328 795.702 Q127.328 804.429 124.249 809.035 Q121.193 813.619 115.383 813.619 Q109.573 813.619 106.494 809.035 Q103.439 804.429 103.439 795.702 Q103.439 786.952 106.494 782.369 Q109.573 777.762 115.383 777.762 Z\" fill=\"#000000\" fill-rule=\"evenodd\" fill-opacity=\"1\" /><path clip-path=\"url(#clip140)\" d=\"M 0 0 M160.568 787.485 L149.99 798.11 L160.568 808.688 L157.814 811.489 L147.189 800.864 L136.564 811.489 L133.832 808.688 L144.388 798.11 L133.832 787.485 L136.564 784.684 L147.189 795.309 L157.814 784.684 L160.568 787.485 Z\" fill=\"#000000\" fill-rule=\"evenodd\" fill-opacity=\"1\" /><path clip-path=\"url(#clip140)\" d=\"M 0 0 M166.448 809.012 L174.087 809.012 L174.087 782.647 L165.777 784.313 L165.777 780.054 L174.04 778.387 L178.716 778.387 L178.716 809.012 L186.355 809.012 L186.355 812.947 L166.448 812.947 L166.448 809.012 Z\" fill=\"#000000\" fill-rule=\"evenodd\" fill-opacity=\"1\" /><path clip-path=\"url(#clip140)\" d=\"M 0 0 M201.425 781.466 Q197.813 781.466 195.985 785.031 Q194.179 788.573 194.179 795.702 Q194.179 802.809 195.985 806.373 Q197.813 809.915 201.425 809.915 Q205.059 809.915 206.864 806.373 Q208.693 802.809 208.693 795.702 Q208.693 788.573 206.864 785.031 Q205.059 781.466 201.425 781.466 M201.425 777.762 Q207.235 777.762 210.29 782.369 Q213.369 786.952 213.369 795.702 Q213.369 804.429 210.29 809.035 Q207.235 813.619 201.425 813.619 Q195.614 813.619 192.536 809.035 Q189.48 804.429 189.48 795.702 Q189.48 786.952 192.536 782.369 Q195.614 777.762 201.425 777.762 Z\" fill=\"#000000\" fill-rule=\"evenodd\" fill-opacity=\"1\" /><path clip-path=\"url(#clip140)\" d=\"M 0 0 M219.82 764.228 Q218.165 764.228 217.206 765.206 Q216.247 766.203 216.247 767.914 Q216.247 769.607 217.206 770.585 Q218.165 771.582 219.82 771.582 Q221.456 771.582 222.415 770.585 Q223.375 769.607 223.375 767.914 Q223.375 766.203 222.415 765.206 Q221.456 764.228 219.82 764.228 M224.672 757.57 L224.672 759.507 Q223.751 759.131 222.81 758.943 Q221.87 758.736 220.948 758.736 Q218.541 758.736 217.262 760.147 Q215.983 761.576 215.795 764.454 Q216.51 763.532 217.582 763.043 Q218.673 762.554 219.952 762.554 Q222.679 762.554 224.259 763.983 Q225.838 765.432 225.838 767.914 Q225.838 770.303 224.183 771.789 Q222.547 773.256 219.82 773.256 Q216.679 773.256 215.024 771.168 Q213.369 769.08 213.369 765.093 Q213.369 761.369 215.4 759.169 Q217.431 756.949 220.854 756.949 Q221.776 756.949 222.716 757.1 Q223.657 757.269 224.672 757.57 Z\" fill=\"#000000\" fill-rule=\"evenodd\" fill-opacity=\"1\" /><path clip-path=\"url(#clip140)\" d=\"M 0 0 M69.1336 449.816 L91.3557 449.816 L91.3557 451.807 L78.8095 484.376 L73.9252 484.376 L85.7307 453.752 L69.1336 453.752 L69.1336 449.816 Z\" fill=\"#000000\" fill-rule=\"evenodd\" fill-opacity=\"1\" /><path clip-path=\"url(#clip140)\" d=\"M 0 0 M96.4251 478.497 L101.309 478.497 L101.309 484.376 L96.4251 484.376 L96.4251 478.497 Z\" fill=\"#000000\" fill-rule=\"evenodd\" fill-opacity=\"1\" /><path clip-path=\"url(#clip140)\" d=\"M 0 0 M106.425 449.816 L124.781 449.816 L124.781 453.752 L110.707 453.752 L110.707 462.224 Q111.726 461.877 112.744 461.715 Q113.763 461.529 114.781 461.529 Q120.568 461.529 123.948 464.701 Q127.328 467.872 127.328 473.289 Q127.328 478.867 123.856 481.969 Q120.383 485.048 114.064 485.048 Q111.888 485.048 109.619 484.677 Q107.374 484.307 104.967 483.566 L104.967 478.867 Q107.05 480.001 109.272 480.557 Q111.494 481.113 113.971 481.113 Q117.976 481.113 120.314 479.006 Q122.652 476.9 122.652 473.289 Q122.652 469.677 120.314 467.571 Q117.976 465.464 113.971 465.464 Q112.096 465.464 110.221 465.881 Q108.369 466.298 106.425 467.177 L106.425 449.816 Z\" fill=\"#000000\" fill-rule=\"evenodd\" fill-opacity=\"1\" /><path clip-path=\"url(#clip140)\" d=\"M 0 0 M160.568 458.914 L149.99 469.539 L160.568 480.117 L157.814 482.918 L147.189 472.293 L136.564 482.918 L133.832 480.117 L144.388 469.539 L133.832 458.914 L136.564 456.113 L147.189 466.738 L157.814 456.113 L160.568 458.914 Z\" fill=\"#000000\" fill-rule=\"evenodd\" fill-opacity=\"1\" /><path clip-path=\"url(#clip140)\" d=\"M 0 0 M166.448 480.441 L174.087 480.441 L174.087 454.076 L165.777 455.742 L165.777 451.483 L174.04 449.816 L178.716 449.816 L178.716 480.441 L186.355 480.441 L186.355 484.376 L166.448 484.376 L166.448 480.441 Z\" fill=\"#000000\" fill-rule=\"evenodd\" fill-opacity=\"1\" /><path clip-path=\"url(#clip140)\" d=\"M 0 0 M201.425 452.895 Q197.813 452.895 195.985 456.46 Q194.179 460.002 194.179 467.131 Q194.179 474.238 195.985 477.802 Q197.813 481.344 201.425 481.344 Q205.059 481.344 206.864 477.802 Q208.693 474.238 208.693 467.131 Q208.693 460.002 206.864 456.46 Q205.059 452.895 201.425 452.895 M201.425 449.191 Q207.235 449.191 210.29 453.798 Q213.369 458.381 213.369 467.131 Q213.369 475.858 210.29 480.464 Q207.235 485.048 201.425 485.048 Q195.614 485.048 192.536 480.464 Q189.48 475.858 189.48 467.131 Q189.48 458.381 192.536 453.798 Q195.614 449.191 201.425 449.191 Z\" fill=\"#000000\" fill-rule=\"evenodd\" fill-opacity=\"1\" /><path clip-path=\"url(#clip140)\" d=\"M 0 0 M219.82 435.657 Q218.165 435.657 217.206 436.635 Q216.247 437.632 216.247 439.343 Q216.247 441.036 217.206 442.014 Q218.165 443.011 219.82 443.011 Q221.456 443.011 222.415 442.014 Q223.375 441.036 223.375 439.343 Q223.375 437.632 222.415 436.635 Q221.456 435.657 219.82 435.657 M224.672 428.999 L224.672 430.936 Q223.751 430.56 222.81 430.372 Q221.87 430.165 220.948 430.165 Q218.541 430.165 217.262 431.576 Q215.983 433.005 215.795 435.883 Q216.51 434.961 217.582 434.472 Q218.673 433.983 219.952 433.983 Q222.679 433.983 224.259 435.412 Q225.838 436.861 225.838 439.343 Q225.838 441.732 224.183 443.218 Q222.547 444.685 219.82 444.685 Q216.679 444.685 215.024 442.597 Q213.369 440.509 213.369 436.522 Q213.369 432.798 215.4 430.598 Q217.431 428.378 220.854 428.378 Q221.776 428.378 222.716 428.529 Q223.657 428.698 224.672 428.999 Z\" fill=\"#000000\" fill-rule=\"evenodd\" fill-opacity=\"1\" /><path clip-path=\"url(#clip140)\" d=\"M 0 0 M71.3182 151.87 L78.957 151.87 L78.957 125.505 L70.6469 127.171 L70.6469 122.912 L78.9107 121.245 L83.5866 121.245 L83.5866 151.87 L91.2255 151.87 L91.2255 155.805 L71.3182 155.805 L71.3182 151.87 Z\" fill=\"#000000\" fill-rule=\"evenodd\" fill-opacity=\"1\" /><path clip-path=\"url(#clip140)\" d=\"M 0 0 M96.2949 149.926 L101.179 149.926 L101.179 155.805 L96.2949 155.805 L96.2949 149.926 Z\" fill=\"#000000\" fill-rule=\"evenodd\" fill-opacity=\"1\" /><path clip-path=\"url(#clip140)\" d=\"M 0 0 M116.248 124.324 Q112.637 124.324 110.809 127.889 Q109.003 131.431 109.003 138.56 Q109.003 145.667 110.809 149.231 Q112.637 152.773 116.248 152.773 Q119.883 152.773 121.688 149.231 Q123.517 145.667 123.517 138.56 Q123.517 131.431 121.688 127.889 Q119.883 124.324 116.248 124.324 M116.248 120.62 Q122.059 120.62 125.114 125.227 Q128.193 129.81 128.193 138.56 Q128.193 147.287 125.114 151.893 Q122.059 156.477 116.248 156.477 Q110.438 156.477 107.36 151.893 Q104.304 147.287 104.304 138.56 Q104.304 129.81 107.36 125.227 Q110.438 120.62 116.248 120.62 Z\" fill=\"#000000\" fill-rule=\"evenodd\" fill-opacity=\"1\" /><path clip-path=\"url(#clip140)\" d=\"M 0 0 M161.433 130.343 L150.855 140.968 L161.433 151.546 L158.679 154.347 L148.054 143.722 L137.429 154.347 L134.697 151.546 L145.253 140.968 L134.697 130.343 L137.429 127.542 L148.054 138.167 L158.679 127.542 L161.433 130.343 Z\" fill=\"#000000\" fill-rule=\"evenodd\" fill-opacity=\"1\" /><path clip-path=\"url(#clip140)\" d=\"M 0 0 M167.313 151.87 L174.952 151.87 L174.952 125.505 L166.642 127.171 L166.642 122.912 L174.906 121.245 L179.581 121.245 L179.581 151.87 L187.22 151.87 L187.22 155.805 L167.313 155.805 L167.313 151.87 Z\" fill=\"#000000\" fill-rule=\"evenodd\" fill-opacity=\"1\" /><path clip-path=\"url(#clip140)\" d=\"M 0 0 M202.29 124.324 Q198.679 124.324 196.85 127.889 Q195.044 131.431 195.044 138.56 Q195.044 145.667 196.85 149.231 Q198.679 152.773 202.29 152.773 Q205.924 152.773 207.729 149.231 Q209.558 145.667 209.558 138.56 Q209.558 131.431 207.729 127.889 Q205.924 124.324 202.29 124.324 M202.29 120.62 Q208.1 120.62 211.155 125.227 Q214.234 129.81 214.234 138.56 Q214.234 147.287 211.155 151.893 Q208.1 156.477 202.29 156.477 Q196.48 156.477 193.401 151.893 Q190.345 147.287 190.345 138.56 Q190.345 129.81 193.401 125.227 Q196.48 120.62 202.29 120.62 Z\" fill=\"#000000\" fill-rule=\"evenodd\" fill-opacity=\"1\" /><path clip-path=\"url(#clip140)\" d=\"M 0 0 M214.234 100.127 L225.838 100.127 L225.838 101.03 L219.293 115.831 L216.736 115.831 L222.904 101.914 L214.234 101.914 L214.234 100.127 Z\" fill=\"#000000\" fill-rule=\"evenodd\" fill-opacity=\"1\" /><polyline clip-path=\"url(#clip142)\" style=\"stroke:#009af9; stroke-width:4; stroke-opacity:1; fill:none\" points=\"\n",
       "  309.355,1445.71 805.326,1324.91 1301.3,1081.09 1797.27,467.972 2293.24,87.9763 \n",
       "  \"/>\n",
       "<polyline clip-path=\"url(#clip142)\" style=\"stroke:#e26f46; stroke-width:4; stroke-opacity:1; fill:none\" points=\"\n",
       "  309.355,1445.72 805.326,1427.64 1301.3,1271.89 1797.27,388.958 2293.24,923.375 \n",
       "  \"/>\n",
       "<path clip-path=\"url(#clip140)\" d=\"\n",
       "M1891.11 276.658 L2282.66 276.658 L2282.66 95.2176 L1891.11 95.2176  Z\n",
       "  \" fill=\"#ffffff\" fill-rule=\"evenodd\" fill-opacity=\"1\"/>\n",
       "<polyline clip-path=\"url(#clip140)\" style=\"stroke:#000000; stroke-width:4; stroke-opacity:1; fill:none\" points=\"\n",
       "  1891.11,276.658 2282.66,276.658 2282.66,95.2176 1891.11,95.2176 1891.11,276.658 \n",
       "  \"/>\n",
       "<polyline clip-path=\"url(#clip140)\" style=\"stroke:#009af9; stroke-width:4; stroke-opacity:1; fill:none\" points=\"\n",
       "  1914.47,155.698 2054.67,155.698 \n",
       "  \"/>\n",
       "<path clip-path=\"url(#clip140)\" d=\"M 0 0 M2082.71 142.26 L2082.71 169.135 L2088.36 169.135 Q2095.51 169.135 2098.82 165.894 Q2102.15 162.654 2102.15 155.663 Q2102.15 148.718 2098.82 145.501 Q2095.51 142.26 2088.36 142.26 L2082.71 142.26 M2078.03 138.418 L2087.64 138.418 Q2097.69 138.418 2102.39 142.607 Q2107.09 146.774 2107.09 155.663 Q2107.09 164.598 2102.36 168.788 Q2097.64 172.978 2087.64 172.978 L2078.03 172.978 L2078.03 138.418 Z\" fill=\"#000000\" fill-rule=\"evenodd\" fill-opacity=\"1\" /><path clip-path=\"url(#clip140)\" d=\"M 0 0 M2111.55 147.052 L2115.81 147.052 L2115.81 172.978 L2111.55 172.978 L2111.55 147.052 M2111.55 136.959 L2115.81 136.959 L2115.81 142.353 L2111.55 142.353 L2111.55 136.959 Z\" fill=\"#000000\" fill-rule=\"evenodd\" fill-opacity=\"1\" /><path clip-path=\"url(#clip140)\" d=\"M 0 0 M2120.28 147.052 L2124.54 147.052 L2124.54 173.441 Q2124.54 178.394 2122.64 180.616 Q2120.77 182.839 2116.58 182.839 L2114.96 182.839 L2114.96 179.228 L2116.09 179.228 Q2118.52 179.228 2119.4 178.093 Q2120.28 176.982 2120.28 173.441 L2120.28 147.052 M2120.28 136.959 L2124.54 136.959 L2124.54 142.353 L2120.28 142.353 L2120.28 136.959 Z\" fill=\"#000000\" fill-rule=\"evenodd\" fill-opacity=\"1\" /><path clip-path=\"url(#clip140)\" d=\"M 0 0 M2128.84 136.959 L2133.13 136.959 L2133.13 158.232 L2145.84 147.052 L2151.27 147.052 L2137.52 159.181 L2151.85 172.978 L2146.3 172.978 L2133.13 160.316 L2133.13 172.978 L2128.84 172.978 L2128.84 136.959 Z\" fill=\"#000000\" fill-rule=\"evenodd\" fill-opacity=\"1\" /><path clip-path=\"url(#clip140)\" d=\"M 0 0 M2172.85 147.816 L2172.85 151.843 Q2171.04 150.917 2169.1 150.455 Q2167.15 149.992 2165.07 149.992 Q2161.9 149.992 2160.3 150.964 Q2158.73 151.936 2158.73 153.88 Q2158.73 155.362 2159.86 156.218 Q2161 157.052 2164.42 157.816 L2165.88 158.14 Q2170.42 159.112 2172.32 160.894 Q2174.24 162.654 2174.24 165.825 Q2174.24 169.436 2171.37 171.542 Q2168.52 173.649 2163.52 173.649 Q2161.44 173.649 2159.17 173.232 Q2156.92 172.839 2154.42 172.028 L2154.42 167.63 Q2156.78 168.857 2159.08 169.482 Q2161.37 170.084 2163.61 170.084 Q2166.62 170.084 2168.24 169.066 Q2169.86 168.024 2169.86 166.149 Q2169.86 164.413 2168.68 163.487 Q2167.52 162.561 2163.57 161.704 L2162.08 161.357 Q2158.13 160.524 2156.37 158.811 Q2154.61 157.075 2154.61 154.066 Q2154.61 150.408 2157.2 148.418 Q2159.79 146.427 2164.56 146.427 Q2166.92 146.427 2169.01 146.774 Q2171.09 147.121 2172.85 147.816 Z\" fill=\"#000000\" fill-rule=\"evenodd\" fill-opacity=\"1\" /><path clip-path=\"url(#clip140)\" d=\"M 0 0 M2182.92 139.691 L2182.92 147.052 L2191.69 147.052 L2191.69 150.362 L2182.92 150.362 L2182.92 164.436 Q2182.92 167.607 2183.77 168.51 Q2184.65 169.413 2187.32 169.413 L2191.69 169.413 L2191.69 172.978 L2187.32 172.978 Q2182.39 172.978 2180.51 171.149 Q2178.64 169.297 2178.64 164.436 L2178.64 150.362 L2175.51 150.362 L2175.51 147.052 L2178.64 147.052 L2178.64 139.691 L2182.92 139.691 Z\" fill=\"#000000\" fill-rule=\"evenodd\" fill-opacity=\"1\" /><path clip-path=\"url(#clip140)\" d=\"M 0 0 M2211.18 151.033 Q2210.46 150.617 2209.61 150.431 Q2208.77 150.223 2207.76 150.223 Q2204.14 150.223 2202.2 152.584 Q2200.28 154.922 2200.28 159.32 L2200.28 172.978 L2196 172.978 L2196 147.052 L2200.28 147.052 L2200.28 151.08 Q2201.62 148.718 2203.77 147.584 Q2205.93 146.427 2209.01 146.427 Q2209.45 146.427 2209.98 146.496 Q2210.51 146.543 2211.16 146.658 L2211.18 151.033 Z\" fill=\"#000000\" fill-rule=\"evenodd\" fill-opacity=\"1\" /><path clip-path=\"url(#clip140)\" d=\"M 0 0 M2227.43 159.945 Q2222.27 159.945 2220.28 161.126 Q2218.29 162.306 2218.29 165.154 Q2218.29 167.422 2219.77 168.765 Q2221.27 170.084 2223.84 170.084 Q2227.39 170.084 2229.52 167.584 Q2231.67 165.061 2231.67 160.894 L2231.67 159.945 L2227.43 159.945 M2235.93 158.186 L2235.93 172.978 L2231.67 172.978 L2231.67 169.042 Q2230.21 171.403 2228.03 172.538 Q2225.86 173.649 2222.71 173.649 Q2218.73 173.649 2216.37 171.427 Q2214.03 169.181 2214.03 165.431 Q2214.03 161.056 2216.95 158.834 Q2219.89 156.612 2225.7 156.612 L2231.67 156.612 L2231.67 156.195 Q2231.67 153.255 2229.72 151.658 Q2227.8 150.038 2224.31 150.038 Q2222.08 150.038 2219.98 150.57 Q2217.87 151.103 2215.93 152.167 L2215.93 148.232 Q2218.27 147.33 2220.46 146.89 Q2222.66 146.427 2224.75 146.427 Q2230.37 146.427 2233.15 149.343 Q2235.93 152.26 2235.93 158.186 Z\" fill=\"#000000\" fill-rule=\"evenodd\" fill-opacity=\"1\" /><polyline clip-path=\"url(#clip140)\" style=\"stroke:#e26f46; stroke-width:4; stroke-opacity:1; fill:none\" points=\"\n",
       "  1914.47,216.178 2054.67,216.178 \n",
       "  \"/>\n",
       "<path clip-path=\"url(#clip140)\" d=\"M 0 0 M2093.87 203.504 L2087.53 220.703 L2100.23 220.703 L2093.87 203.504 M2091.23 198.898 L2096.53 198.898 L2109.7 233.458 L2104.84 233.458 L2101.69 224.592 L2086.11 224.592 L2082.97 233.458 L2078.03 233.458 L2091.23 198.898 Z\" fill=\"#000000\" fill-rule=\"evenodd\" fill-opacity=\"1\" /><path clip-path=\"url(#clip140)\" d=\"M 0 0 M2131.99 204.592 L2123.68 209.083 L2131.99 213.597 L2130.65 215.865 L2122.87 211.166 L2122.87 219.893 L2120.23 219.893 L2120.23 211.166 L2112.46 215.865 L2111.11 213.597 L2119.42 209.083 L2111.11 204.592 L2112.46 202.3 L2120.23 206.999 L2120.23 198.273 L2122.87 198.273 L2122.87 206.999 L2130.65 202.3 L2131.99 204.592 Z\" fill=\"#000000\" fill-rule=\"evenodd\" fill-opacity=\"1\" /></svg>\n"
      ]
     },
     "execution_count": 19,
     "metadata": {},
     "output_type": "execute_result"
    }
   ],
   "source": [
    "plot(dijkstra_SqNet_times,label=\"Dijkstra\")\n",
    "plot!(as_SqNet_times, label=\"A*\")"
   ]
  },
  {
   "cell_type": "markdown",
   "metadata": {},
   "source": [
    "## Understanding A*"
   ]
  },
  {
   "cell_type": "code",
   "execution_count": null,
   "metadata": {},
   "outputs": [],
   "source": [
    "# Parts of this code were taken / derived from Graphs.jl. See LICENSE for\n",
    "# licensing details.\n",
    "\n",
    "# A* shortest-path algorithm\n",
    "\n",
    "function reconstruct_path!(total_path, # a vector to be filled with the shortest path\n",
    "    came_from, # a vector holding the parent of each node in the A* exploration\n",
    "    end_idx, # the end vertex\n",
    "    g) # the graph\n",
    "\n",
    "    E = edgetype(g)\n",
    "    curr_idx = end_idx\n",
    "    while came_from[curr_idx] != curr_idx\n",
    "        pushfirst!(total_path, E(came_from[curr_idx], curr_idx))\n",
    "        curr_idx = came_from[curr_idx]\n",
    "    end\n",
    "end\n",
    "\n",
    "function a_star_impl!(g, # the graph\n",
    "    goal, # the end vertex\n",
    "    open_set, # an initialized heap containing the active vertices\n",
    "    closed_set, # an (initialized) color-map to indicate status of vertices\n",
    "    g_score, # a vector holding g scores for each node\n",
    "    f_score, # a vector holding f scores for each node\n",
    "    came_from, # a vector holding the parent of each node in the A* exploration\n",
    "    distmx,\n",
    "    heuristic)\n",
    "\n",
    "    E = edgetype(g)\n",
    "    total_path = Vector{E}()\n",
    "\n",
    "    @inbounds while !isempty(open_set)\n",
    "        current = dequeue!(open_set)\n",
    "\n",
    "        if current == goal\n",
    "            reconstruct_path!(total_path, came_from, current, g)\n",
    "            return total_path\n",
    "        end\n",
    "\n",
    "        closed_set[current] = true\n",
    "\n",
    "        for neighbor in LightGraphs.outneighbors(g, current)\n",
    "            closed_set[neighbor] && continue\n",
    "\n",
    "            tentative_g_score = g_score[current] + distmx[current, neighbor]\n",
    "\n",
    "            if tentative_g_score < g_score[neighbor]\n",
    "                g_score[neighbor] = tentative_g_score\n",
    "                priority = tentative_g_score + heuristic(neighbor)\n",
    "                open_set[neighbor] = priority\n",
    "                came_from[neighbor] = current\n",
    "            end\n",
    "        end\n",
    "    end\n",
    "    return total_path\n",
    "end\n",
    "\n",
    "\"\"\"\n",
    "    a_star(g, s, t[, distmx][, heuristic])\n",
    "Return a vector of edges comprising the shortest path between vertices `s` and `t`\n",
    "using the [A* search algorithm](http://en.wikipedia.org/wiki/A%2A_search_algorithm).\n",
    "An optional heuristic function and edge distance matrix may be supplied. If missing,\n",
    "the distance matrix is set to [`LightGraphs.DefaultDistance`](@ref) and the heuristic is set to\n",
    "`n -> 0`.\n",
    "\"\"\"\n",
    "function a_star(g::AbstractGraph{U},  # the g\n",
    "    s::Integer,                       # the start vertex\n",
    "    t::Integer,                       # the end vertex\n",
    "    distmx::AbstractMatrix{T}=weights(g),\n",
    "    heuristic::Function=n -> zero(T)) where {T, U}\n",
    "\n",
    "    E = Edge{eltype(g)}\n",
    "\n",
    "    # if we do checkbounds here, we can use @inbounds in a_star_impl!\n",
    "    checkbounds(distmx, Base.OneTo(nv(g)), Base.OneTo(nv(g)))\n",
    "\n",
    "    open_set = PriorityQueue{Integer, T}()\n",
    "    enqueue!(open_set, s, 0)\n",
    "\n",
    "    closed_set = zeros(Bool, nv(g))\n",
    "\n",
    "    g_score = fill(Inf, nv(g))\n",
    "    g_score[s] = 0\n",
    "\n",
    "    f_score = fill(Inf, nv(g))\n",
    "    f_score[s] = heuristic(s)\n",
    "\n",
    "    came_from = -ones(Integer, nv(g))\n",
    "    came_from[s] = s\n",
    "\n",
    "    a_star_impl!(g, t, open_set, closed_set, g_score, f_score, came_from, distmx, heuristic)\n",
    "end"
   ]
  },
  {
   "cell_type": "markdown",
   "metadata": {},
   "source": [
    "TODO:\n",
    "- Pasar ordenado a archivo\n",
    "- Tests of growth of time for both algorithms\n",
    "- Modify heuristic to include time\n",
    "- Nueva funcion de pesos modificada con el algoritmo BPR\n",
    "- Modificar A* para que no reabra caminos\n",
    "- Creación de red cuadrada con una diagonal\n",
    "\n",
    "Para después:\n",
    "- Hacer simulaciones con autos\n",
    "- Buscar estados estacionarios\n",
    "- Pruebas en redes cuadradas y redes cuadradas con diagonal"
   ]
  },
  {
   "cell_type": "code",
   "execution_count": null,
   "metadata": {},
   "outputs": [],
   "source": [
    "methods(LightGraphs.a_star)"
   ]
  },
  {
   "cell_type": "code",
   "execution_count": null,
   "metadata": {},
   "outputs": [],
   "source": []
  }
 ],
 "metadata": {
  "kernelspec": {
   "display_name": "Julia 1.5.4",
   "language": "julia",
   "name": "julia-1.5"
  },
  "language_info": {
   "file_extension": ".jl",
   "mimetype": "application/julia",
   "name": "julia",
   "version": "1.5.4"
  }
 },
 "nbformat": 4,
 "nbformat_minor": 2
}
