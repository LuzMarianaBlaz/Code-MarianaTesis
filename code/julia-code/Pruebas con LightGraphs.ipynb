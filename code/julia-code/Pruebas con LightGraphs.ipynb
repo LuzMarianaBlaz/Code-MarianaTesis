{
 "cells": [
  {
   "cell_type": "code",
   "execution_count": 1,
   "metadata": {
    "scrolled": true
   },
   "outputs": [
    {
     "data": {
      "text/plain": [
       "EuclideanHeuristic (generic function with 1 method)"
      ]
     },
     "execution_count": 1,
     "metadata": {},
     "output_type": "execute_result"
    }
   ],
   "source": [
    "using BenchmarkTools\n",
    "using Plots\n",
    "include(\"funciones_de_red.jl\")"
   ]
  },
  {
   "cell_type": "markdown",
   "metadata": {},
   "source": [
    "## Random and square graphs"
   ]
  },
  {
   "cell_type": "code",
   "execution_count": 2,
   "metadata": {
    "scrolled": false
   },
   "outputs": [],
   "source": [
    "n=200\n",
    "RandNet, position_array_Rand, weight_matrix_Rand = mySimpleGraph(n);\n",
    "#gplot(RandNet,nodelabel=1:n)"
   ]
  },
  {
   "cell_type": "code",
   "execution_count": 3,
   "metadata": {
    "scrolled": true
   },
   "outputs": [],
   "source": [
    "k = 20\n",
    "SquareNet, position_array_Square, weight_matrix_Square = SquareDiGraph(k);\n",
    "#gplot(SquareNet, nodelabel=1:k^2)"
   ]
  },
  {
   "cell_type": "markdown",
   "metadata": {},
   "source": [
    "## Benchmarking A* vs Dijkstra"
   ]
  },
  {
   "cell_type": "markdown",
   "metadata": {},
   "source": [
    "A* search evaluates what next step to take by combining the cost to reach the node $g(n)$ and an estimation of the cost to get from that node to the destination $h(n)$.\n",
    "\n",
    "So it calculates a function $f(n) = g(n) + h(n)$ and proceeds to move to the node that minimizes it.\n",
    "\n",
    "$h(n)$ will include memory of the drivers"
   ]
  },
  {
   "cell_type": "code",
   "execution_count": 4,
   "metadata": {},
   "outputs": [
    {
     "name": "stdout",
     "output_type": "stream",
     "text": [
      "291 - 150\n"
     ]
    }
   ],
   "source": [
    "origin_sq = rand(1:k^2)\n",
    "destination_sq = rand(1:k^2)\n",
    "println(\"$origin_sq - $destination_sq\")"
   ]
  },
  {
   "cell_type": "code",
   "execution_count": 5,
   "metadata": {},
   "outputs": [
    {
     "name": "stdout",
     "output_type": "stream",
     "text": [
      "149 - 108\n"
     ]
    }
   ],
   "source": [
    "origin_rand = rand(1:n)\n",
    "destination_rand = rand(1:n)\n",
    "println(\"$origin_rand - $destination_rand\")"
   ]
  },
  {
   "cell_type": "markdown",
   "metadata": {},
   "source": [
    "#### Dijkstra is just A* with heuristic $h(n) = 0$"
   ]
  },
  {
   "cell_type": "code",
   "execution_count": 6,
   "metadata": {},
   "outputs": [
    {
     "data": {
      "text/plain": [
       "8-element Array{LightGraphs.SimpleGraphs.SimpleEdge{Int64},1}:\n",
       " Edge 291 => 271\n",
       " Edge 271 => 251\n",
       " Edge 251 => 231\n",
       " Edge 231 => 211\n",
       " Edge 211 => 191\n",
       " Edge 191 => 171\n",
       " Edge 171 => 151\n",
       " Edge 151 => 150"
      ]
     },
     "execution_count": 6,
     "metadata": {},
     "output_type": "execute_result"
    }
   ],
   "source": [
    "LightGraphs.a_star(SquareNet,origin_sq,destination_sq,weight_matrix_Square)"
   ]
  },
  {
   "cell_type": "code",
   "execution_count": 7,
   "metadata": {},
   "outputs": [
    {
     "data": {
      "text/plain": [
       "BenchmarkTools.Trial: \n",
       "  memory estimate:  63.13 KiB\n",
       "  allocs estimate:  2021\n",
       "  --------------\n",
       "  minimum time:     240.393 μs (0.00% GC)\n",
       "  median time:      260.526 μs (0.00% GC)\n",
       "  mean time:        316.765 μs (2.89% GC)\n",
       "  maximum time:     9.161 ms (92.30% GC)\n",
       "  --------------\n",
       "  samples:          10000\n",
       "  evals/sample:     1"
      ]
     },
     "execution_count": 7,
     "metadata": {},
     "output_type": "execute_result"
    }
   ],
   "source": [
    "@benchmark LightGraphs.a_star(SquareNet,origin_sq,destination_sq, weight_matrix_Square)"
   ]
  },
  {
   "cell_type": "code",
   "execution_count": 8,
   "metadata": {
    "scrolled": true
   },
   "outputs": [
    {
     "data": {
      "text/plain": [
       "2-element Array{LightGraphs.SimpleGraphs.SimpleEdge{Int64},1}:\n",
       " Edge 149 => 102\n",
       " Edge 102 => 108"
      ]
     },
     "execution_count": 8,
     "metadata": {},
     "output_type": "execute_result"
    }
   ],
   "source": [
    "LightGraphs.a_star(RandNet,origin_rand,destination_rand,weight_matrix_Rand)"
   ]
  },
  {
   "cell_type": "code",
   "execution_count": 9,
   "metadata": {},
   "outputs": [
    {
     "data": {
      "text/plain": [
       "BenchmarkTools.Trial: \n",
       "  memory estimate:  39.05 KiB\n",
       "  allocs estimate:  997\n",
       "  --------------\n",
       "  minimum time:     107.846 μs (0.00% GC)\n",
       "  median time:      110.757 μs (0.00% GC)\n",
       "  mean time:        121.677 μs (3.59% GC)\n",
       "  maximum time:     5.855 ms (97.27% GC)\n",
       "  --------------\n",
       "  samples:          10000\n",
       "  evals/sample:     1"
      ]
     },
     "execution_count": 9,
     "metadata": {},
     "output_type": "execute_result"
    }
   ],
   "source": [
    "@benchmark LightGraphs.a_star(RandNet,origin_rand,destination_rand,weight_matrix_Rand)"
   ]
  },
  {
   "cell_type": "markdown",
   "metadata": {},
   "source": [
    "#### To use A* we need to define an heuristic function"
   ]
  },
  {
   "cell_type": "code",
   "execution_count": 10,
   "metadata": {},
   "outputs": [
    {
     "data": {
      "text/plain": [
       "8-element Array{LightGraphs.SimpleGraphs.SimpleEdge{Int64},1}:\n",
       " Edge 291 => 271\n",
       " Edge 271 => 251\n",
       " Edge 251 => 231\n",
       " Edge 231 => 211\n",
       " Edge 211 => 191\n",
       " Edge 191 => 171\n",
       " Edge 171 => 151\n",
       " Edge 151 => 150"
      ]
     },
     "execution_count": 10,
     "metadata": {},
     "output_type": "execute_result"
    }
   ],
   "source": [
    "LightGraphs.a_star(SquareNet,origin_sq, destination_sq,weight_matrix_Square,\n",
    "    n -> EuclideanHeuristic(n,destination_sq,position_array_Square))"
   ]
  },
  {
   "cell_type": "code",
   "execution_count": 11,
   "metadata": {
    "scrolled": true
   },
   "outputs": [
    {
     "data": {
      "text/plain": [
       "BenchmarkTools.Trial: \n",
       "  memory estimate:  28.52 KiB\n",
       "  allocs estimate:  447\n",
       "  --------------\n",
       "  minimum time:     65.085 μs (0.00% GC)\n",
       "  median time:      68.325 μs (0.00% GC)\n",
       "  mean time:        85.813 μs (5.05% GC)\n",
       "  maximum time:     9.545 ms (97.78% GC)\n",
       "  --------------\n",
       "  samples:          10000\n",
       "  evals/sample:     1"
      ]
     },
     "execution_count": 11,
     "metadata": {},
     "output_type": "execute_result"
    }
   ],
   "source": [
    "@benchmark LightGraphs.a_star(SquareNet,origin_sq,destination_sq,weight_matrix_Square,\n",
    "    n -> EuclideanHeuristic(n,destination_sq,position_array_Square))"
   ]
  },
  {
   "cell_type": "code",
   "execution_count": 12,
   "metadata": {},
   "outputs": [
    {
     "data": {
      "text/plain": [
       "2-element Array{LightGraphs.SimpleGraphs.SimpleEdge{Int64},1}:\n",
       " Edge 149 => 102\n",
       " Edge 102 => 108"
      ]
     },
     "execution_count": 12,
     "metadata": {},
     "output_type": "execute_result"
    }
   ],
   "source": [
    "LightGraphs.a_star(RandNet,origin_rand, destination_rand,weight_matrix_Rand,\n",
    "    n -> EuclideanHeuristic(n,destination_rand,position_array_Rand))"
   ]
  },
  {
   "cell_type": "code",
   "execution_count": 13,
   "metadata": {
    "scrolled": true
   },
   "outputs": [
    {
     "data": {
      "text/plain": [
       "BenchmarkTools.Trial: \n",
       "  memory estimate:  20.61 KiB\n",
       "  allocs estimate:  390\n",
       "  --------------\n",
       "  minimum time:     45.314 μs (0.00% GC)\n",
       "  median time:      47.724 μs (0.00% GC)\n",
       "  mean time:        50.952 μs (4.31% GC)\n",
       "  maximum time:     5.626 ms (98.09% GC)\n",
       "  --------------\n",
       "  samples:          10000\n",
       "  evals/sample:     1"
      ]
     },
     "execution_count": 13,
     "metadata": {},
     "output_type": "execute_result"
    }
   ],
   "source": [
    "@benchmark LightGraphs.a_star(RandNet,origin_rand,destination_rand,weight_matrix_Rand,\n",
    "    n -> EuclideanHeuristic(n,destination_rand,position_array_Rand))"
   ]
  },
  {
   "cell_type": "markdown",
   "metadata": {},
   "source": [
    "## Time growth function"
   ]
  },
  {
   "cell_type": "markdown",
   "metadata": {},
   "source": [
    "### Random network"
   ]
  },
  {
   "cell_type": "code",
   "execution_count": null,
   "metadata": {},
   "outputs": [],
   "source": [
    "dijkstra_randNet_times = []\n",
    "for n in 2:50:1000\n",
    "    origin_rand = rand(1:n);\n",
    "    destination_rand = rand(1:n);\n",
    "    RandNet, position_array_Rand, weight_matrix_Rand = mySimpleGraph(n);\n",
    "    t = @benchmark LightGraphs.a_star(RandNet,origin_rand,destination_rand,weight_matrix_Rand);\n",
    "    push!(dijkstra_randNet_times,mean(t).time)\n",
    "end"
   ]
  },
  {
   "cell_type": "code",
   "execution_count": null,
   "metadata": {},
   "outputs": [],
   "source": [
    "as_randNet_times = []\n",
    "for n in 2:50:1000\n",
    "    origin_rand = rand(1:n);\n",
    "    destination_rand = rand(1:n);\n",
    "    RandNet, position_array_Rand, weight_matrix_Rand = mySimpleGraph(n);\n",
    "    t = @benchmark LightGraphs.a_star(RandNet,origin_rand,destination_rand,weight_matrix_Rand,\n",
    "    n -> EuclideanHeuristic(n,destination_rand,position_array_Rand));\n",
    "    push!(as_randNet_times,mean(t).time)\n",
    "end"
   ]
  },
  {
   "cell_type": "code",
   "execution_count": null,
   "metadata": {
    "scrolled": false
   },
   "outputs": [],
   "source": [
    "plot(dijkstra_randNet_times,label=\"Dijkstra\")\n",
    "plot!(as_randNet_times, label=\"A*\")"
   ]
  },
  {
   "cell_type": "markdown",
   "metadata": {},
   "source": [
    "### Square network"
   ]
  },
  {
   "cell_type": "code",
   "execution_count": null,
   "metadata": {},
   "outputs": [],
   "source": [
    "dijkstra_SqNet_times = []\n",
    "for k in 2:20:100\n",
    "    origin_sq = rand(1:k^2);\n",
    "    destination_sq = rand(1:k^2);\n",
    "    SquareNet, position_array_Square, weight_matrix_Square = SquareDiGraph(k);\n",
    "    t = @benchmark LightGraphs.a_star(SquareNet,origin_sq, destination_sq,weight_matrix_Square);\n",
    "    push!(dijkstra_SqNet_times,mean(t).time)\n",
    "end"
   ]
  },
  {
   "cell_type": "code",
   "execution_count": null,
   "metadata": {
    "scrolled": true
   },
   "outputs": [],
   "source": [
    "as_SqNet_times = []\n",
    "for k in 2:20:100\n",
    "    origin_sq = rand(1:k^2);\n",
    "    destination_sq = rand(1:k^2);\n",
    "    SquareNet, position_array_Square, weight_matrix_Square = SquareDiGraph(k);\n",
    "    t = @benchmark LightGraphs.a_star(SquareNet,origin_sq, destination_sq,weight_matrix_Square,\n",
    "    n -> EuclideanHeuristic(n,destination_sq,position_array_Square));\n",
    "    push!(as_SqNet_times,mean(t).time)\n",
    "end"
   ]
  },
  {
   "cell_type": "code",
   "execution_count": null,
   "metadata": {},
   "outputs": [],
   "source": [
    "plot(dijkstra_SqNet_times,label=\"Dijkstra\")\n",
    "plot!(as_SqNet_times, label=\"A*\")"
   ]
  },
  {
   "cell_type": "markdown",
   "metadata": {},
   "source": [
    "## Understanding A*"
   ]
  },
  {
   "cell_type": "code",
   "execution_count": null,
   "metadata": {},
   "outputs": [],
   "source": [
    "# Parts of this code were taken / derived from Graphs.jl. See LICENSE for\n",
    "# licensing details.\n",
    "\n",
    "# A* shortest-path algorithm\n",
    "\n",
    "function reconstruct_path!(total_path, # a vector to be filled with the shortest path\n",
    "    came_from, # a vector holding the parent of each node in the A* exploration\n",
    "    end_idx, # the end vertex\n",
    "    g) # the graph\n",
    "\n",
    "    E = edgetype(g)\n",
    "    curr_idx = end_idx\n",
    "    while came_from[curr_idx] != curr_idx\n",
    "        pushfirst!(total_path, E(came_from[curr_idx], curr_idx))\n",
    "        curr_idx = came_from[curr_idx]\n",
    "    end\n",
    "end\n",
    "\n",
    "function a_star_impl!(g, # the graph\n",
    "    goal, # the end vertex\n",
    "    open_set, # an initialized heap containing the active vertices\n",
    "    closed_set, # an (initialized) color-map to indicate status of vertices\n",
    "    g_score, # a vector holding g scores for each node\n",
    "    f_score, # a vector holding f scores for each node\n",
    "    came_from, # a vector holding the parent of each node in the A* exploration\n",
    "    distmx,\n",
    "    heuristic)\n",
    "\n",
    "    E = edgetype(g)\n",
    "    total_path = Vector{E}()\n",
    "\n",
    "    @inbounds while !isempty(open_set)\n",
    "        current = dequeue!(open_set)\n",
    "\n",
    "        if current == goal\n",
    "            reconstruct_path!(total_path, came_from, current, g)\n",
    "            return total_path\n",
    "        end\n",
    "\n",
    "        closed_set[current] = true\n",
    "\n",
    "        for neighbor in LightGraphs.outneighbors(g, current)\n",
    "            closed_set[neighbor] && continue\n",
    "\n",
    "            tentative_g_score = g_score[current] + distmx[current, neighbor]\n",
    "\n",
    "            if tentative_g_score < g_score[neighbor]\n",
    "                g_score[neighbor] = tentative_g_score\n",
    "                priority = tentative_g_score + heuristic(neighbor)\n",
    "                open_set[neighbor] = priority\n",
    "                came_from[neighbor] = current\n",
    "            end\n",
    "        end\n",
    "    end\n",
    "    return total_path\n",
    "end\n",
    "\n",
    "\"\"\"\n",
    "    a_star(g, s, t[, distmx][, heuristic])\n",
    "Return a vector of edges comprising the shortest path between vertices `s` and `t`\n",
    "using the [A* search algorithm](http://en.wikipedia.org/wiki/A%2A_search_algorithm).\n",
    "An optional heuristic function and edge distance matrix may be supplied. If missing,\n",
    "the distance matrix is set to [`LightGraphs.DefaultDistance`](@ref) and the heuristic is set to\n",
    "`n -> 0`.\n",
    "\"\"\"\n",
    "function a_star(g::AbstractGraph{U},  # the g\n",
    "    s::Integer,                       # the start vertex\n",
    "    t::Integer,                       # the end vertex\n",
    "    distmx::AbstractMatrix{T}=weights(g),\n",
    "    heuristic::Function=n -> zero(T)) where {T, U}\n",
    "\n",
    "    E = Edge{eltype(g)}\n",
    "\n",
    "    # if we do checkbounds here, we can use @inbounds in a_star_impl!\n",
    "    checkbounds(distmx, Base.OneTo(nv(g)), Base.OneTo(nv(g)))\n",
    "\n",
    "    open_set = PriorityQueue{Integer, T}()\n",
    "    enqueue!(open_set, s, 0)\n",
    "\n",
    "    closed_set = zeros(Bool, nv(g))\n",
    "\n",
    "    g_score = fill(Inf, nv(g))\n",
    "    g_score[s] = 0\n",
    "\n",
    "    f_score = fill(Inf, nv(g))\n",
    "    f_score[s] = heuristic(s)\n",
    "\n",
    "    came_from = -ones(Integer, nv(g))\n",
    "    came_from[s] = s\n",
    "\n",
    "    a_star_impl!(g, t, open_set, closed_set, g_score, f_score, came_from, distmx, heuristic)\n",
    "end"
   ]
  },
  {
   "cell_type": "markdown",
   "metadata": {},
   "source": [
    "TODO:\n",
    "- Pasar ordenado a archivo\n",
    "- Tests of growth of time for both algorithms\n",
    "- Modify heuristic to include time\n",
    "- Nueva funcion de pesos modificada con el algoritmo BPR\n",
    "- Modificar A* para que no reabra caminos\n",
    "- Creación de red cuadrada con una diagonal\n",
    "\n",
    "Para después:\n",
    "- Hacer simulaciones con autos\n",
    "- Buscar estados estacionarios\n",
    "- Pruebas en redes cuadradas y redes cuadradas con diagonal"
   ]
  },
  {
   "cell_type": "code",
   "execution_count": null,
   "metadata": {},
   "outputs": [],
   "source": [
    "methods(LightGraphs.a_star)"
   ]
  },
  {
   "cell_type": "code",
   "execution_count": null,
   "metadata": {},
   "outputs": [],
   "source": []
  }
 ],
 "metadata": {
  "kernelspec": {
   "display_name": "Julia 1.5.4",
   "language": "julia",
   "name": "julia-1.5"
  },
  "language_info": {
   "file_extension": ".jl",
   "mimetype": "application/julia",
   "name": "julia",
   "version": "1.5.4"
  }
 },
 "nbformat": 4,
 "nbformat_minor": 2
}
