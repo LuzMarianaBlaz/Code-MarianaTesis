{
 "cells": [
  {
   "cell_type": "code",
   "execution_count": 1,
   "metadata": {},
   "outputs": [
    {
     "data": {
      "text/plain": [
       "plot_digraph (generic function with 1 method)"
      ]
     },
     "metadata": {},
     "output_type": "display_data"
    }
   ],
   "source": [
    "using DataFrames, CSV, GraphPlot, Impute, Plots, Colors, Statistics, Random, Distributions\n",
    "\n",
    "dir = \"../Mariana-Paquete/Mariana-Basefunc/\"\n",
    "\n",
    "include(dir*\"funciones_de_red.jl\")\n",
    "include(dir*\"objetos.jl\")\n",
    "include(dir*\"dinamica_conductores.jl\")\n",
    "include(dir*\"animaciones.jl\")"
   ]
  },
  {
   "cell_type": "code",
   "execution_count": 2,
   "metadata": {},
   "outputs": [],
   "source": [
    "# Parametros\n",
    "tamano_red = 10;\n",
    "doble_sentido = false;\n",
    "center_h_dist = 0.5;\n",
    "sd_h_dist = 0;\n",
    "h_distribution = Normal(center_h_dist, sd_h_dist);\n",
    "n_cars = 500;\n",
    "ti = 0.0;\n",
    "tf = 150;\n",
    "max_n_dias = 200;\n",
    "path_csv = \"test.csv\";"
   ]
  },
  {
   "cell_type": "code",
   "execution_count": 3,
   "metadata": {},
   "outputs": [],
   "source": [
    "# Generacion de la red\n",
    "red_cuadrada = create_square_network(tamano_red, both_ways=doble_sentido);\n",
    "SqNet= red_cuadrada.digraph;\n",
    "m = nv(SqNet);\n",
    "posarr = red_cuadrada.position_array;\n",
    "city_mt = red_cuadrada.city_matrix;"
   ]
  },
  {
   "cell_type": "code",
   "execution_count": 4,
   "metadata": {},
   "outputs": [],
   "source": [
    "# Generacion de los autos\n",
    "autos = generate_autos(m,tamano_red,red_cuadrada,n_cars,ti,tf,h_distribution);"
   ]
  },
  {
   "cell_type": "code",
   "execution_count": 5,
   "metadata": {},
   "outputs": [
    {
     "name": "stdout",
     "output_type": "stream",
     "text": [
      "día 0 \n",
      "7.995633552163156"
     ]
    },
    {
     "name": "stdout",
     "output_type": "stream",
     "text": [
      " 12.788569240376729\n",
      "día 1 \n"
     ]
    },
    {
     "name": "stdout",
     "output_type": "stream",
     "text": [
      "7.999678761090259 12.793828194554775\n",
      "día 2 \n",
      "7.999977874625295"
     ]
    },
    {
     "name": "stdout",
     "output_type": "stream",
     "text": [
      " 12.794219997791908\n",
      "día 3 \n"
     ]
    },
    {
     "name": "stdout",
     "output_type": "stream",
     "text": [
      "7.983516163641585 12.794073232655089\n",
      "día 4 \n",
      "7.999990742452448"
     ]
    },
    {
     "name": "stdout",
     "output_type": "stream",
     "text": [
      " 12.79409828338912\n",
      "día 5 \n"
     ]
    },
    {
     "name": "stdout",
     "output_type": "stream",
     "text": [
      "7.999990742452448 12.794117401232697\n",
      "día 6 \n",
      "7.999990742452448"
     ]
    },
    {
     "name": "stdout",
     "output_type": "stream",
     "text": [
      " 12.7941073574617\n",
      "día 7 \n"
     ]
    },
    {
     "name": "stdout",
     "output_type": "stream",
     "text": [
      "7.999990742452448 12.794111491185129\n",
      "día 8 \n",
      "7.997094900105988"
     ]
    },
    {
     "name": "stdout",
     "output_type": "stream",
     "text": [
      " 12.786549366414949\n",
      "día 9 \n"
     ]
    },
    {
     "name": "stdout",
     "output_type": "stream",
     "text": [
      "7.99967860865141 12.79360409397621\n",
      "día 10 \n",
      "7.999977874625295"
     ]
    },
    {
     "name": "stdout",
     "output_type": "stream",
     "text": [
      " 12.794202197519105\n",
      "día 11 \n"
     ]
    },
    {
     "name": "stdout",
     "output_type": "stream",
     "text": [
      "7.998538345689352 12.794021158085629\n",
      "día 12 \n",
      "7.983800198804075"
     ]
    },
    {
     "name": "stdout",
     "output_type": "stream",
     "text": [
      " 12.794068218474477\n",
      "día 13 \n"
     ]
    },
    {
     "name": "stdout",
     "output_type": "stream",
     "text": [
      "7.999990742452448 12.794105516223812\n",
      "día 14 \n",
      "7.999990742452448"
     ]
    },
    {
     "name": "stdout",
     "output_type": "stream",
     "text": [
      " 12.794100435193792\n",
      "día 15 \n"
     ]
    },
    {
     "name": "stdout",
     "output_type": "stream",
     "text": [
      "7.999990742452448 12.794114120819884\n",
      "día 16 \n",
      "7.998390467774317"
     ]
    },
    {
     "name": "stdout",
     "output_type": "stream",
     "text": [
      " 12.786455647365006\n",
      "día 17 \n"
     ]
    },
    {
     "name": "stdout",
     "output_type": "stream",
     "text": [
      "7.99967860865141 12.79363180404341\n",
      "día 18 \n",
      "7.999977874625295"
     ]
    },
    {
     "name": "stdout",
     "output_type": "stream",
     "text": [
      " 12.794246326395832\n",
      "día 19 \n"
     ]
    },
    {
     "name": "stdout",
     "output_type": "stream",
     "text": [
      "7.997094900105988 12.794287357104627\n",
      "día 20 \n",
      "7.983800198804075"
     ]
    },
    {
     "name": "stdout",
     "output_type": "stream",
     "text": [
      " 12.794052238584783\n",
      "día 21 \n"
     ]
    },
    {
     "name": "stdout",
     "output_type": "stream",
     "text": [
      "7.999990742452448 12.794105093548826\n",
      "día 22 \n",
      "7.999990742452448"
     ]
    },
    {
     "name": "stdout",
     "output_type": "stream",
     "text": [
      " 12.794094455629375\n",
      "día 23 \n"
     ]
    },
    {
     "name": "stdout",
     "output_type": "stream",
     "text": [
      "7.999990742452448 12.794113876661156\n",
      "día 24 \n",
      "7.9996783037737105"
     ]
    },
    {
     "name": "stdout",
     "output_type": "stream",
     "text": [
      " 12.786500597609102\n",
      "día 25 \n"
     ]
    },
    {
     "name": "stdout",
     "output_type": "stream",
     "text": [
      "7.998234858190346 12.793565945879552\n",
      "día 26 \n",
      "7.99983421823538"
     ]
    },
    {
     "name": "stdout",
     "output_type": "stream",
     "text": [
      " 12.794032256427133\n",
      "día 27 \n"
     ]
    },
    {
     "name": "stdout",
     "output_type": "stream",
     "text": [
      "7.999990437574749 12.794265646729981\n",
      "día 28 \n",
      "7.983800198804075"
     ]
    },
    {
     "name": "stdout",
     "output_type": "stream",
     "text": [
      " 12.794057020837691\n",
      "día 29 \n"
     ]
    },
    {
     "name": "stdout",
     "output_type": "stream",
     "text": [
      "7.999990742452448 12.794096909850843\n",
      "día 30 \n",
      "7.998538345689352"
     ]
    },
    {
     "name": "stdout",
     "output_type": "stream",
     "text": [
      " 12.794093109078997\n",
      "día 31 \n"
     ]
    },
    {
     "name": "stdout",
     "output_type": "stream",
     "text": [
      "7.999990285135898 12.794040884423298\n",
      "día 32 \n",
      "7.9996783037737105"
     ]
    },
    {
     "name": "stdout",
     "output_type": "stream",
     "text": [
      " 12.786501163263319\n",
      "día 33 \n"
     ]
    },
    {
     "name": "stdout",
     "output_type": "stream",
     "text": [
      "7.996938528327769 12.793620238849238\n",
      "día 34 \n",
      "7.99983421823538"
     ]
    },
    {
     "name": "stdout",
     "output_type": "stream",
     "text": [
      " 12.794014195207904\n",
      "día 35 \n"
     ]
    },
    {
     "name": "stdout",
     "output_type": "stream",
     "text": [
      "7.999990742452448 12.794267003749408\n",
      "día 36 \n",
      "7.983800198804075"
     ]
    },
    {
     "name": "stdout",
     "output_type": "stream",
     "text": [
      " 12.794056561652376\n",
      "día 37 \n"
     ]
    },
    {
     "name": "stdout",
     "output_type": "stream",
     "text": [
      "7.999990742452448 12.794089833519847\n",
      "día 38 \n",
      "7.997094900105988"
     ]
    },
    {
     "name": "stdout",
     "output_type": "stream",
     "text": [
      " 12.794093587977502\n",
      "día 39 \n"
     ]
    },
    {
     "name": "stdout",
     "output_type": "stream",
     "text": [
      "7.999990742452448 12.79410772549095\n",
      "día 40 \n",
      "7.998538345689352"
     ]
    },
    {
     "name": "stdout",
     "output_type": "stream",
     "text": [
      " 12.786532625294809\n",
      "día 41 \n"
     ]
    },
    {
     "name": "stdout",
     "output_type": "stream",
     "text": [
      "7.996938528327769 12.793595577570517\n",
      "día 42 \n",
      "7.99983421823538"
     ]
    },
    {
     "name": "stdout",
     "output_type": "stream",
     "text": [
      " 12.794038355380776\n",
      "día 43 \n"
     ]
    },
    {
     "name": "stdout",
     "output_type": "stream",
     "text": [
      "7.999990742452448 12.794274269379557\n",
      "día 44 \n",
      "7.983800198804075"
     ]
    },
    {
     "name": "stdout",
     "output_type": "stream",
     "text": [
      " 12.794064202290532\n",
      "día 45 \n"
     ]
    },
    {
     "name": "stdout",
     "output_type": "stream",
     "text": [
      "7.999990742452448 12.794105461738228\n",
      "día 46 \n",
      "7.999990285135898"
     ]
    },
    {
     "name": "stdout",
     "output_type": "stream",
     "text": [
      " 12.794105663494935\n",
      "día 47 \n"
     ]
    },
    {
     "name": "stdout",
     "output_type": "stream",
     "text": [
      "7.999990742452448 12.794107233984906\n",
      "día 48 \n",
      "7.997094900105988"
     ]
    },
    {
     "name": "stdout",
     "output_type": "stream",
     "text": [
      " 12.786341717820152\n",
      "día 49 \n"
     ]
    },
    {
     "name": "stdout",
     "output_type": "stream",
     "text": [
      "7.996938528327769 12.793626372969308\n"
     ]
    }
   ],
   "source": [
    "# simulacion\n",
    "day_simulacion = 0;\n",
    "n_simulacion = 200;\n",
    "\n",
    "while day_simulacion < 50\n",
    "    print(\"día $(day_simulacion) \\n\")\n",
    "    times, vels = simulacion!(0., red_cuadrada, autos);\n",
    "    vels_summ = vels_summary(autos)\n",
    "    travel_times = times_summary(autos)\n",
    "    indexes = restart(autos, red_cuadrada)\n",
    "\n",
    "\n",
    "    df = DataFrame(speeds = [vels_summ],\n",
    "                times = [travel_times],\n",
    "                indexes = [indexes]\n",
    "               )\n",
    "\n",
    "    CSV.write(path_csv, df, append=true, writeheader = (day_simulacion==0))\n",
    "\n",
    "    print(minimum(vels_summ),\" \", mean(vels_summ),\"\\n\")\n",
    "    global day_simulacion += 1\n",
    "end"
   ]
  },
  {
   "cell_type": "markdown",
   "metadata": {},
   "source": [
    "# Read the file"
   ]
  },
  {
   "cell_type": "code",
   "execution_count": 9,
   "metadata": {},
   "outputs": [],
   "source": [
    "reads=CSV.read(path_csv,DataFrame);"
   ]
  },
  {
   "cell_type": "code",
   "execution_count": 10,
   "metadata": {},
   "outputs": [
    {
     "name": "stderr",
     "output_type": "stream",
     "text": [
      "┌ Info: Saved animation to \n",
      "│   fn = /Users/Mariana/Documents/Code-MarianaTesis/code/julia-code/Mariana-Notebooks/vels.gif\n",
      "└ @ Plots /Users/Mariana/.julia/packages/Plots/XbAWb/src/animation.jl:104\n"
     ]
    },
    {
     "data": {
      "text/html": [
       "<img src=\"data:image/gif;base64,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\" />"
      ],
      "text/plain": [
       "Plots.AnimatedGif(\"/Users/Mariana/Documents/Code-MarianaTesis/code/julia-code/Mariana-Notebooks/vels.gif\")"
      ]
     },
     "metadata": {},
     "output_type": "display_data"
    }
   ],
   "source": [
    "anim = @animate for i in 1:50\n",
    "    histogram(eval(Meta.parse(reads.speeds[i])),nbins=15,ylim=[0,180],title = string(i))\n",
    "end\n",
    "\n",
    "gif(anim, \"vels.gif\", fps = 2)"
   ]
  },
  {
   "cell_type": "code",
   "execution_count": 11,
   "metadata": {},
   "outputs": [
    {
     "name": "stderr",
     "output_type": "stream",
     "text": [
      "┌ Info: Saved animation to \n",
      "│   fn = /Users/Mariana/Documents/Code-MarianaTesis/code/julia-code/Mariana-Notebooks/times.gif\n",
      "└ @ Plots /Users/Mariana/.julia/packages/Plots/XbAWb/src/animation.jl:104\n"
     ]
    },
    {
     "data": {
      "text/html": [
       "<img src=\"data:image/gif;base64,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\" />"
      ],
      "text/plain": [
       "Plots.AnimatedGif(\"/Users/Mariana/Documents/Code-MarianaTesis/code/julia-code/Mariana-Notebooks/times.gif\")"
      ]
     },
     "metadata": {},
     "output_type": "display_data"
    }
   ],
   "source": [
    "anim = @animate for i in 1:50\n",
    "    histogram(eval(Meta.parse(reads.times[i])),nbins=15,ylim=[0,180],title = string(i))\n",
    "end\n",
    "\n",
    "gif(anim, \"times.gif\", fps = 2)"
   ]
  },
  {
   "cell_type": "code",
   "execution_count": null,
   "metadata": {},
   "outputs": [],
   "source": []
  }
 ],
 "metadata": {
  "kernelspec": {
   "display_name": "Julia 1.5.4",
   "language": "julia",
   "name": "julia-1.5"
  },
  "language_info": {
   "file_extension": ".jl",
   "mimetype": "application/julia",
   "name": "julia",
   "version": "1.5.4"
  },
  "orig_nbformat": 4
 },
 "nbformat": 4,
 "nbformat_minor": 2
}
