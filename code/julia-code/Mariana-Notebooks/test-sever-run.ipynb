{
 "cells": [
  {
   "cell_type": "code",
   "execution_count": 1,
   "metadata": {},
   "outputs": [
    {
     "data": {
      "text/plain": [
       "plot_digraph (generic function with 1 method)"
      ]
     },
     "metadata": {},
     "output_type": "display_data"
    }
   ],
   "source": [
    "using DataFrames, CSV, GraphPlot, Impute, Plots, Colors, Statistics, Random, Distributions\n",
    "\n",
    "dir = \"../Mariana-Paquete/Mariana-Basefunc/\"\n",
    "\n",
    "include(dir*\"funciones_de_red.jl\")\n",
    "include(dir*\"objetos.jl\")\n",
    "include(dir*\"dinamica_conductores.jl\")\n",
    "include(dir*\"animaciones.jl\")"
   ]
  },
  {
   "cell_type": "code",
   "execution_count": 2,
   "metadata": {},
   "outputs": [],
   "source": [
    "# Parametros\n",
    "tamano_red = 5;\n",
    "doble_sentido = false;\n",
    "center_h_dist = 0.5;\n",
    "sd_h_dist = 0;\n",
    "h_distribution = Normal(center_h_dist, sd_h_dist);\n",
    "n_cars = 500;\n",
    "ti = 0.0;\n",
    "tf = 150;\n",
    "max_n_dias = 200;\n",
    "path_csv = \"test.csv\";"
   ]
  },
  {
   "cell_type": "code",
   "execution_count": 3,
   "metadata": {},
   "outputs": [],
   "source": [
    "# Generacion de la red\n",
    "red_cuadrada = create_square_network(tamano_red, both_ways=doble_sentido);\n",
    "SqNet= red_cuadrada.digraph;\n",
    "m = nv(SqNet);\n",
    "posarr = red_cuadrada.position_array;\n",
    "city_mt = red_cuadrada.city_matrix;"
   ]
  },
  {
   "cell_type": "code",
   "execution_count": 4,
   "metadata": {},
   "outputs": [],
   "source": [
    "# Generacion de los autos\n",
    "autos = generate_autos(m,tamano_red,red_cuadrada,n_cars,ti,tf,h_distribution);"
   ]
  },
  {
   "cell_type": "code",
   "execution_count": 5,
   "metadata": {},
   "outputs": [
    {
     "name": "stdout",
     "output_type": "stream",
     "text": [
      "día 0 \n",
      "7.919710724349493"
     ]
    },
    {
     "name": "stdout",
     "output_type": "stream",
     "text": [
      " 11.699947475409163\n",
      "día 1 \n"
     ]
    },
    {
     "name": "stdout",
     "output_type": "stream",
     "text": [
      "7.8394223648222 11.627082169054782\n",
      "día 2 \n",
      "7.86670552677188"
     ]
    },
    {
     "name": "stdout",
     "output_type": "stream",
     "text": [
      " 11.629418539550006\n",
      "día 3 \n"
     ]
    },
    {
     "name": "stdout",
     "output_type": "stream",
     "text": [
      "7.86670552677188 11.630288872516406\n",
      "día 4 \n",
      "7.86670552677188"
     ]
    },
    {
     "name": "stdout",
     "output_type": "stream",
     "text": [
      " 11.630418745187447\n",
      "día 5 \n"
     ]
    },
    {
     "name": "stdout",
     "output_type": "stream",
     "text": [
      "7.86670552677188 11.630449115058001\n",
      "día 6 \n",
      "7.86670552677188"
     ]
    },
    {
     "name": "stdout",
     "output_type": "stream",
     "text": [
      " 11.630369789425078\n",
      "día 7 \n"
     ]
    },
    {
     "name": "stdout",
     "output_type": "stream",
     "text": [
      "7.86670552677188 11.630400159295634\n",
      "día 8 \n",
      "7.919710724349493"
     ]
    },
    {
     "name": "stdout",
     "output_type": "stream",
     "text": [
      " 11.699463355524903\n",
      "día 9 \n"
     ]
    },
    {
     "name": "stdout",
     "output_type": "stream",
     "text": [
      "7.86670552677188 11.628641835467175\n",
      "día 10 \n",
      "7.8394223648222"
     ]
    },
    {
     "name": "stdout",
     "output_type": "stream",
     "text": [
      " 11.629293756662188\n",
      "día 11 \n"
     ]
    },
    {
     "name": "stdout",
     "output_type": "stream",
     "text": [
      "7.86670552677188 11.630375404880933\n",
      "día 12 \n",
      "7.86670552677188"
     ]
    },
    {
     "name": "stdout",
     "output_type": "stream",
     "text": [
      " 11.630534408121694\n",
      "día 13 \n"
     ]
    },
    {
     "name": "stdout",
     "output_type": "stream",
     "text": [
      "7.86670552677188 11.630534408121694\n",
      "día 14 \n",
      "7.86670552677188"
     ]
    },
    {
     "name": "stdout",
     "output_type": "stream",
     "text": [
      " 11.630534408121694\n",
      "día 15 \n"
     ]
    },
    {
     "name": "stdout",
     "output_type": "stream",
     "text": [
      "7.86670552677188 11.630534408121694\n",
      "día 16 \n",
      "7.919710724349493"
     ]
    },
    {
     "name": "stdout",
     "output_type": "stream",
     "text": [
      " 11.69945688586553\n",
      "día 17 \n"
     ]
    },
    {
     "name": "stdout",
     "output_type": "stream",
     "text": [
      "7.86670552677188 11.62856914458722\n",
      "día 18 \n",
      "7.8394223648222"
     ]
    },
    {
     "name": "stdout",
     "output_type": "stream",
     "text": [
      " 11.629146649491124\n",
      "día 19 \n"
     ]
    },
    {
     "name": "stdout",
     "output_type": "stream",
     "text": [
      "7.86670552677188 11.630550942140868\n",
      "día 20 \n",
      "7.86670552677188"
     ]
    },
    {
     "name": "stdout",
     "output_type": "stream",
     "text": [
      " 11.630505277551972\n",
      "día 21 \n"
     ]
    },
    {
     "name": "stdout",
     "output_type": "stream",
     "text": [
      "7.86670552677188 11.630534408121694\n",
      "día 22 \n",
      "7.86670552677188"
     ]
    },
    {
     "name": "stdout",
     "output_type": "stream",
     "text": [
      " 11.630534408121694\n",
      "día 23 \n"
     ]
    },
    {
     "name": "stdout",
     "output_type": "stream",
     "text": [
      "7.86670552677188 11.630534408121694\n",
      "día 24 \n",
      "7.919710724349493"
     ]
    },
    {
     "name": "stdout",
     "output_type": "stream",
     "text": [
      " 11.69945688586553\n",
      "día 25 \n"
     ]
    },
    {
     "name": "stdout",
     "output_type": "stream",
     "text": [
      "7.86670552677188 11.62856914458722\n",
      "día 26 \n",
      "7.8394223648222"
     ]
    },
    {
     "name": "stdout",
     "output_type": "stream",
     "text": [
      " 11.629142381039896\n",
      "día 27 \n"
     ]
    },
    {
     "name": "stdout",
     "output_type": "stream",
     "text": [
      "7.86670552677188 11.630408803393754\n",
      "día 28 \n",
      "7.86670552677188"
     ]
    },
    {
     "name": "stdout",
     "output_type": "stream",
     "text": [
      " 11.630680814811905\n",
      "día 29 \n"
     ]
    },
    {
     "name": "stdout",
     "output_type": "stream",
     "text": [
      "7.86670552677188 11.630505277551972\n",
      "día 30 \n",
      "7.86670552677188"
     ]
    },
    {
     "name": "stdout",
     "output_type": "stream",
     "text": [
      " 11.630534408121694\n",
      "día 31 \n"
     ]
    },
    {
     "name": "stdout",
     "output_type": "stream",
     "text": [
      "7.86670552677188 11.630534408121694\n",
      "día 32 \n",
      "7.919710724349493"
     ]
    },
    {
     "name": "stdout",
     "output_type": "stream",
     "text": [
      " 11.69945688586553\n",
      "día 33 \n"
     ]
    },
    {
     "name": "stdout",
     "output_type": "stream",
     "text": [
      "7.86670552677188 11.62856914458722\n",
      "día 34 \n",
      "7.8394223648222"
     ]
    },
    {
     "name": "stdout",
     "output_type": "stream",
     "text": [
      " 11.629142381039896\n",
      "día 35 \n"
     ]
    },
    {
     "name": "stdout",
     "output_type": "stream",
     "text": [
      "7.86670552677188 11.630404535450657\n",
      "día 36 \n",
      "7.86670552677188"
     ]
    },
    {
     "name": "stdout",
     "output_type": "stream",
     "text": [
      " 11.630538676064793\n",
      "día 37 \n"
     ]
    },
    {
     "name": "stdout",
     "output_type": "stream",
     "text": [
      "7.86670552677188 11.630680814811905\n",
      "día 38 \n",
      "7.86670552677188"
     ]
    },
    {
     "name": "stdout",
     "output_type": "stream",
     "text": [
      " 11.630505277551972\n",
      "día 39 \n"
     ]
    },
    {
     "name": "stdout",
     "output_type": "stream",
     "text": [
      "7.86670552677188 11.630534408121694\n",
      "día 40 \n",
      "7.919710724349493"
     ]
    },
    {
     "name": "stdout",
     "output_type": "stream",
     "text": [
      " 11.69945688586553\n",
      "día 41 \n"
     ]
    },
    {
     "name": "stdout",
     "output_type": "stream",
     "text": [
      "7.86670552677188 11.62856914458722\n",
      "día 42 \n",
      "7.8394223648222"
     ]
    },
    {
     "name": "stdout",
     "output_type": "stream",
     "text": [
      " 11.629142381039896\n",
      "día 43 \n"
     ]
    },
    {
     "name": "stdout",
     "output_type": "stream",
     "text": [
      "7.86670552677188 11.630404535450657\n",
      "día 44 \n",
      "7.86670552677188"
     ]
    },
    {
     "name": "stdout",
     "output_type": "stream",
     "text": [
      " 11.630534408121694\n",
      "día 45 \n"
     ]
    },
    {
     "name": "stdout",
     "output_type": "stream",
     "text": [
      "7.86670552677188 11.630538676064793\n",
      "día 46 \n",
      "7.86670552677188"
     ]
    },
    {
     "name": "stdout",
     "output_type": "stream",
     "text": [
      " 11.630680814811905\n",
      "día 47 \n"
     ]
    },
    {
     "name": "stdout",
     "output_type": "stream",
     "text": [
      "7.86670552677188 11.630505277551972\n",
      "día 48 \n",
      "7.919710724349493"
     ]
    },
    {
     "name": "stdout",
     "output_type": "stream",
     "text": [
      " 11.69945688586553\n",
      "día 49 \n"
     ]
    },
    {
     "name": "stdout",
     "output_type": "stream",
     "text": [
      "7.86670552677188 11.62856914458722\n"
     ]
    }
   ],
   "source": [
    "# simulacion\n",
    "day_simulacion = 0;\n",
    "n_simulacion = 200;\n",
    "\n",
    "while day_simulacion < 50\n",
    "    print(\"día $(day_simulacion) \\n\")\n",
    "    times, vels = simulacion!(0., red_cuadrada, autos);\n",
    "    vels_summ = vels_summary(autos)\n",
    "    travel_times = times_summary(autos)\n",
    "    indexes = restart(autos, red_cuadrada)\n",
    "\n",
    "\n",
    "    df = DataFrame(speeds = [vels_summ],\n",
    "                times = [travel_times],\n",
    "                indexes = [indexes]\n",
    "               )\n",
    "\n",
    "    CSV.write(path_csv, df, append=true, writeheader = (day_simulacion==0))\n",
    "\n",
    "    print(minimum(vels_summ),\" \", mean(vels_summ),\"\\n\")\n",
    "    global day_simulacion += 1\n",
    "end"
   ]
  },
  {
   "cell_type": "markdown",
   "metadata": {},
   "source": [
    "# Read the file"
   ]
  },
  {
   "cell_type": "code",
   "execution_count": 6,
   "metadata": {},
   "outputs": [],
   "source": [
    "reads=CSV.read(path_csv,DataFrame);"
   ]
  },
  {
   "cell_type": "code",
   "execution_count": 7,
   "metadata": {},
   "outputs": [
    {
     "name": "stderr",
     "output_type": "stream",
     "text": [
      "┌ Info: Saved animation to \n",
      "│   fn = /Users/Mariana/Documents/Code-MarianaTesis/code/julia-code/Mariana-Notebooks/vels.gif\n",
      "└ @ Plots /Users/Mariana/.julia/packages/Plots/XbAWb/src/animation.jl:104\n"
     ]
    },
    {
     "data": {
      "text/html": [
       "<img src=\"data:image/gif;base64,R0lGODlhWAKQAfccAAAAAAADBAADBgAEBgAtSQAuSgAvSwAvSwBOfQBShABUhwBViQBWiwBemABkoQBpqQBqqwCE1QCK3wCL4ACL4QCS6wCT7QCU7gCW8QCW8gCX8wCb+gD/AAEBAQECAgEIDQENEwEWIwEgMwEpQQIDBAIOFQJEbQJFbQJFbgJGbwMDAwMFBgMGBwMnPQNCaQNGbwNHcQNIcgNKdQQGCAQGCAQfLwUFBQUICgUJCwVIcQVIcgYGBgYKDQYLDgZHbwcRFwgICAgbJwg8XAkJCQlDZwoKCgoUGgpBYwwMDA0NDQ0NDg00TA01Tg4hLA4iLQ42Tw44Ug8PDw8VGQ8lMhAQEBAWGhAXGxERERMTExMWGRQbIBUVFRYWFhgYGBkZGRoaGhwcHB0dHR8fHyAgICEoLiIiIiQkJCYmJigoKCoqKi0tLS8vLzAwMDA7QTExMTMzMzU1NTY2NjZBSDg4ODo6Ojw8PD09PT8/P0BITkBJTkFBQUFKUEJCQkNDQ0RERERMUkVFRUdHR0pKSkxMTE1NTU9PT1BQUFNTU1ZWVlhYWFhfY1lZWVtbW11dXV5eXl9fX2FhYWNjY2VlZWZmZmdnZ2hsb2lpaWpqamxsbGxwcm5ubm9vb29ydHBydHFxcXJzc3J0dXR0dHV1dXd3d3h4eHp6enx8fH5+foCAgIKCgoODg4SEhIWFhYaGhoeHh4iIiImJiYqKiouLi42NjY+Pj5GRkZKSkpSUlJWVlZaWlpiYmJmZmZqampycnJ6enqCgoKKioqOjo6WlpaioqKqqqqurq6ysrK6urq+vr7KysrW1tbe3t7i4uLm5ubu7u729vcDAwMLCwsPDw8TExMbGxsfHx8jIyMvLy83Nzc/Pz9DQ0NHR0dPT09XV1dfX19nZ2dvb29zc3N3d3d7e3uDg4OHh4eLi4uPj4+Xl5ebm5ujo6Onp6erq6uzs7O3t7e/v7/Dw8PHx8fLy8vPz8/T09PX19fb29vf39/j4+Pn5+fr6+vv7+/z8/P39/f7+/v///yH/C05FVFNDQVBFMi4wAwEAAAAh+QQFMgAcACwAAAAAWAKQAYcAAAAAAwQAAwYABAYALUkALkoAL0sAL0sATn0AUoQAVIcAVYkAVosAXpgAZKEAaakAaqsAhNUAit8Ai+AAi+EAkusAk+0AlO4AlvEAlvIAl/MAm/oA/wABAQEBAgIBCA0BDRMBFiMBIDMBKUECAwQCDhUCRG0CRW0CRW4CRm8DAwMDBQYDBgcDJz0DQmkDRm8DR3EDSHIDSnUEBggEBggEHy8FBQUFCAoFCQsFSHEFSHIGBgYGCg0GCw4GR28HERcICAgIGycIPFwJCQkJQ2cKCgoKFBoKQWMMDAwNDQ0NDQ4NNEwNNU4OISwOIi0ONk8OOFIPDw8PFRkPJTIQEBAQFhoQFxsRERETExMTFhkUGyAVFRUWFhYYGBgZGRkaGhocHBwdHR0fHx8gICAhKC4iIiIkJCQmJiYoKCgqKiotLS0vLy8wMDAwO0ExMTEzMzM1NTU2NjY2QUg4ODg6Ojo8PDw9PT0/Pz9ASE5ASU5BQUFBSlBCQkJDQ0NERERETFJFRUVHR0dKSkpMTExNTU1PT09QUFBTU1NWVlZYWFhYX2NZWVlbW1tdXV1eXl5fX19hYWFjY2NlZWVmZmZnZ2dobG9paWlqampsbGxscHJubm5vb29vcnRwcnRxcXFyc3NydHV0dHR1dXV3d3d4eHh6enp8fHx+fn6AgICCgoKDg4OEhISFhYWGhoaHh4eIiIiJiYmKioqLi4uNjY2Pj4+RkZGSkpKUlJSVlZWWlpaYmJiZmZmampqcnJyenp6goKCioqKjo6OlpaWoqKiqqqqrq6usrKyurq6vr6+ysrK1tbW3t7e4uLi5ubm7u7u9vb3AwMDCwsLDw8PExMTGxsbHx8fIyMjLy8vNzc3Pz8/Q0NDR0dHT09PV1dXX19fZ2dnb29vc3Nzd3d3e3t7g4ODh4eHi4uLj4+Pl5eXm5ubo6Ojp6enq6urs7Ozt7e3v7+/w8PDx8fHy8vLz8/P09PT19fX29vb39/f4+Pj5+fn6+vr7+/v8/Pz9/f3+/v7///8I/wD/CRxIsKDBgwgTKlzIsKHDhxAjSpxIsaLFixgzatzIsaPHjyBDihxJsqTJkyhTqlzJsqXLlzBjypxJs6bNmzhz6tzJs6fPn0A7xutFCc4OALKCKl3KtKnTp1BbXgNAFQjSqFizat3KtWvPca2atdN01avZs2jTql37kGxStnDjyp1Ld6fbunjz6t3LF+PdvoADCx489y/hw4gTKw5qeLHjx5Ajn2wsubLly5gbUs7MubNnx5s/ix5Num7o0qhTq9Z6erXr17Bxfpo0SQ2AObRZxd7Nu3dLLlSDU4Xju7jx4x3JiVvOXNw55NCjS59Ovbr169iza9/Ovbv37+DDi/8fT768+fPo06tfz769+/fw48ufT7++/fv4a/Ir19OfP9T+AfhfaQFCh44XPemDD2oKMrhgafrcE92BCT5IWoMQWjhahBMiyBOGF2ooGogbSmighzuROKKIn6nYoonIUfghi565WCONnXF4YoUO9gghjMfJmCKOnNmYI5GZ6RgjijoZWSSSmDmZJJDGCdkklJdJGSWWlikZJJM5aZkll5WJ2SWVxVkZJpmSmVkmm5FxKE8zdNZp55145qnnnnz2qSd/S6mJk5ttwgkZoXFKmE0SgDTq6KOQRirppJRWammkYdTClKA3IXqooY95GqqibECFiaaBgjkoqI6J2iqri3H/mE2pT526qaqdwqqYq7HqmpistDpla6o8ZujjhaSaiqpSnNrE666+Ivbsr8nWumxQzdY0rbTRHratt9UKey1Q2dL0LWHnDpauYMAqe2uxIR5b4j+zEqTPNfjmq+++/Pbr7zXsdDQss7g62y26B6ubMLvh/nPOClNELPHEFFdsscU/4CLwuD+VO9O6gYEMmMh9tTvQOUZsoPLKLLfs8ssvE6ExRwNjW7C2C4ec88g7l9wwyjAHLTTMMjM0TR9UoNFQzeTebG7PfJEcNdR7mSwQ0ENnPXTRC21TzC1KM8R0x05/TLVeUld9dl5WO5yy1nDHPPNAiEgjED52mCMQMmEv/zS2Tx7LlDbaa+M1ONs/vx334ipzPVAsiwgkzBwD8b00x4CXLXjhdR1uOOd0tY0144s7LlA7Sqzzjx6/VN63Qn/3FHhMnncO+ly1h5446YybLlAjsoRzRT2uX/7ujPKuyODuvMft+z/UmPEJJgRZLjbmsmtO++1y5Y4793GJrnjzWT//Dxs7cHM6MaJ8QQw0fmPP0+wwed89+HDZHz7z5Jc/N0GsoMNAvoGIAiLiFPE73pCS1yL8sUV0P5iABCdIwQpa8IIXFML/BNIPNwiDIrGbn/bq58C16C9/JVRL2+qBBylU4YUwjKEMZ0hDGraOIMk4gx74AUL57YR+LznhA/9TmBYhmrBhLInHOfpRkRD+cIRBJCJajKhCKZ6lbUxxok6A6BIqFtGKZvHiFJG4FC3mhIstEeMVwegVNYaRjEoxI07QyBI3tpGNXbFjHuEYFDnehI4r0SNXBLkVQmoFi2X04Rah2EU8DtKRhYTkIfkIFD/aBJAqMWRWNIkVTkZFVmuwhyhHScpSmvKUqEylKldpykso8oyMTKMkNznLTtbykxJaBxuAwMte+vKXwAymMIdJzGIGc4Nkg9eGbgkVTzYTTb7BZEqc+RRqOsWaTfFSlWJZR2ZW05vXBGc2odkbaaIEm0xB51LUqRRtpombgRRnOuW5Tnq2k5y8MedJ2Bn/FH4CxZ8/cWc04ZlJe/bToP9EaEDxuRt9mgSgPoGoMkfE0Ng4tCQSRZ6xftShiTaQgTWqKGwuSpKMLnCjyOqoRuOF0nntaKXLBGmORPoako7EpFeSaZFo6hqbigSna9LplFR6UpYa1aWdKcc15iEQc+hrINQIRjcM4tOQAHVVQo0STxPjjy1EQQXTEAgmzOCHsv7HE2aQBBd6UZCqguSqucpqlraamG/4Awth/QcmUkEQcgzhOc/oQj4I4taPwNVgcj2TaPAqVko04xsCyYUeBNLVvAqksB45LM4SWya6Koax/9BEHAJxhUPsoxSNGMgahkFYLNzita/NBT9mS9va/9r2trjNrW53e4967Pa3wA2ucIdL3OIad7a9Pa5yl8vc5jY3uc6NrnSnG9170IO62M0ubge0EdDuQyDvMIMuRuGIgbwhGISlAm3Wi4l7uPe98I2vfOdL3/raVx7wsK9+98vf/vr3vwAOsHvxK+ACG/jACEYwgRPM4AY7mMHyeMeDJ0zh+TKRI6AlCCYoUQtBDAQMzyAsQaep0IiW2KMhXaxlKWsHVWRDCcTrBhLiIWIUH4mzbfLsYU4xCSAUYhLr4MMpZhGIMARsEHy4hRpK0dYRn/PEMFUeRztDjF1YeRfxSMYpRsELpv4DH7kQBTG4e1kn7xPKRY3plJdk4yfhOP9RRM1pS6Wc0pemmc5qrjObo/zROb8ozkH1842WB2isCvrGa/5Sm5OEZjnrWdF8HvShd1rouE6a0YS2s6PzzGmKVhqxl95Spvd85z4f1dOaDvSpTY1USJda0qtOcaoNHWtEP3qbixZ1qOf66c3uukuNDpOOS4PZjmj2aW8+1LBJU2yOHNtsyR5Vr5H96zeN2tWbxrO2/zxrS9fazYnGdaRt3WlukzrbrN62rM+t6nLDutXifjW51T3TaUO72oW6drzR/W56U7rboP42psP9zlyPKdqtWvZomr2RZ28O4bFSuGgYrhGHbw/iu5L4ZyieEYuTEOPUsvfD8R2nYA9K457/4ThGPB5FkEsL5Z1R+UVY3kiXg0vkFyf5p/Rd8HGDW+BaxfnHdR4qk3cK5pyRuUVoLkubowvpmVF6RZjeTaerC+qYkTpFqB5PqzNM6C0n+qt4PlCDA9vrIcP6ZbQ+Ea4XFO0jU7tl2C4Rt5MY7j4De83F3iuyl9PMDzV6wN1db4D7GugHJ3jZfT5wxCvW8NR2vLUV/3ezT17yOdZ70/kOLb/nE/AYFfzhCf9vdtOa9I2Hd8/l/XPUBx3y98Z8yT3fUNCXVPSRdz2vYT9y2e+c8p+3fL45H3Le59z3Rae9RW1/U9zHXvePN723oX951S+e9an391CNP3Tkjx34tRf+/+yJ/3LNV5383nK+4OReGbpHxO5PxnvU2C8Z90ME/meWf9XoHxn7PwT/gad/aMN/kOF/DgGAoSeAiGN+XYd+CKN8I8V8P6V+x0d9mcd9Yed9fQd+yyd+v6eBGceAb+eACgOBNSWBVkWB3WeBcIaBeweCv6KCQUSAj2GADYGAt6eAhkODefEO3zUQ/PAOB2GDDIGDzaeDncODahEOhzAGWzBAasAFWIBe/4AMXNAFZpANTeaByUeCX8cZ4tALw6ACA8EHpvAP1lAE7DAPUdAM/0ALbrCFjKdrMFh+nrENZOgwKtAOAqEHtyAMayAQ91AE6jMQRLgQRjiBSKg7n4GHAv8RDV0wEJTwCamACAOBBshAWFxQDpzIiXozeNpHh9ZnGY74D8lQBgMRCpDwCZAwEHFwQ5dVBGAwi7NYBvNwi7iYi7q4i7zYi774i+/QDr84jMRYjMZ4jMiYjMp4i8G4jM74jNAYjdHYjNJYjdZ4jdVIjdi4jdyoixemEaVoDVgwEJIwCrBwCANhBstQY3OYeHV4c3eYh+6wA+MgEGwQDMogBv8xj4BSZlz4fe/4dJ2RD87ACyrgDNHwD41gCOJgC1xgD/wwBqowDpAwCHKIfaIYiruXGe9QVmWVCP8AD5OABoKghf/gDYSABo/Ah+yIke7IgsomgnfnhTpjgj2Fgm//JYMvCJPS5oKbF5AlyIER+I8bCJRfKH2gmG5KuW7Y1m4aeXZCeYJE2Xk0GXcyGX9VWTI6mUZKqBiHqBCJmIKLiDtdmRhfmRBhmZNj2T1liRhniRBpaVhbeX63tnr8Nm9LWXhIOXpPWX2otpe515fDV5fXd5etJ5gtCJjPh5gfOIrB145QaZRpd5X5l5VTY5Or8ZYHEZeZNZcNSJiVB5l+mZel15Snx5hdCJqP6ZKRyZMJR5kBaJlqg5mqoZkGwZnG5pkjqJrhJ5qD6ZoRB5sJKJuEQ5upYZsFgZvOppszyZsd6JvjJ5lW6ZN0CZxU6ZxDCZ2NiZqvSZ2faZ0xaJyo/4Gc9sKcWCmdeeeduwme3CKexIaTcrmW4WOe+9SWh0GeA6GcDUefsYmdUqmdqcme8KiYvSegDxiVNzmV4UmcC6iezWmgQemfCQqgAAmhR2ma08edRemYvcmao9lv5oahSQmiJKqXIsqXpGkT26AFUtCiLvqiMBqjMuqiWUA8uemezAafnSmfFxELLjABFBCkQjqkRFqkRhqkN+Bly4mjC6ejN8qgHRELOtA/QYMDSrqfTDpxTrqkUMoRUkqlMGOlO+oR31AMZnqmaJqmarqmaLoNCyWcOdilG/GlYOoyYvqkHaEFTwAFfNqnfvqngBqofFoDnvCmDnqeFkoSdFqnLP9zpxxhD6DACZI6qZRaqZZ6qZM6AxbAqCyzAJlgqARagRq6EovKqRvgqBvxCi2gAKzaqq76qrAaq60qAJtqqhvgqaB6ooGZojVRqpyKqhrxCjlgqyozALVqqrgaUfZJGPgpEPpZcfbkq4wKrBkhrMS6AcZKrMmaIMs6GM36D8/acdE6pcRKrRhhrcSarba6rR/SrYJRVeugDfI6r/Rar/Z6r/N6Df2YqCMhrXVqrheBrraqrsj6qcoKpwNBBk3gBAzbsA77sBAbsQz7A53Aoxbhr2AKsBYhsKZKsJzKriniroFRVSugAcSaABUrpxqBsVSqsRXBsZzqsYwKsk0isoD/QbIma6soa7EVwbL947IUAbOMKrN1SrPChrACUbInm7LoGRI+Sz5AOxFCW6dEC6ZGe3JI+w9Kq7NMy68i8bTNE7USMbVgWrVUerVHl7Vba6o7q7IZAba8I7YRQbZUarb9g7bOYrN9gbNLy7MUAbekI7cQQbf9Y7fkg7faord8wbdc67cTAbiMI7gPQbjkY7jNg7jmorh7wbhs27WjqhKQuziS6xCU2zyWyzuY+zGaqxecy6lt27QgEbpxM7oNUbq8c7qkk7rrp7Y527mOKxGyCze0yxC2Szq4yzi6Szurmxety6iv67VOS662OrwLUbyMc7yLk7z1s7x40bx1+ryf/5sSwas11KsQ1rs42Bs32juDvNu3bosR45s15ZsQ5xs36Qs369tF3FsX3gum4MurNBG/QzO/CFG/cHO/WpO/XNm+jfu+PSq9pkrAB2HAWoPAWaPAdbS/dNG/VPq/JXoTAiw0EmwQFJw1Fjw0GBxIGjwXHNw/HoyXORHCVXqlwTqs6XqsH2uw3MrAvuvAFwvBv0rD1WrDA4vDM6vD7crDruu5ADwTMhymQnyuRNyxRly0SByySuy8TPzBNvHELzPCBVHCQ3PCQpPCmbTCctHC5PPCh6kTXmynURywUxyzVWy1V1yzWfy9WwzDOPHGLQPGBCHGQkPGQWPG04TGcaHGzf/DxtnnxkA8rXG8sXM8tHV8tnd8tId6EGu7xL8bEX7cqJH8spNMtZV8t5eMtZlsEJusxZ0MEZ+8MoA8EIIcNIQMM4Z8Toj8FL1gQIjwH+TQCHSgCTTWkhqxynrcyg/xyioTywIxyzBTyy9zy/WJGpiACMRwzf7QD2jwCdhwCJZIzBlhzP67x20cw4/8r6EctKNctqV8uKectqWxVwThDF/wH+uwA+gAzhghzh1Mzo1sztfKzP/gzC8DzS4jzQ+Vy8LyBoXgCeHwD7JgCOnIDPp8Efzswv6ckY4c0Okstetct+18ue+ct6gxDL+QDJeQBOGgigMBB7D4D+iABGkw0zP/vQbycNM4ndM6vdM3fdFrXAk8HdRCPdREXdRGfdRIndRG7Q7toNRO/dRCrQof/bPpANVDnQo+cK0G3TILUAnxYNVg/dTuwA5hXdZmDdY8RBKEUAqVOBBpkImGyAXbMNdzPVUW4dOLnNEvuRPKfKodPbZTXbkhjbojnbiucQmX8AtvIBD5kAQm6Y8cgde8w8gaDdDl+tdzG9imO9i5W9iZixom+Q1cMAzwgATV8A+9kAYXWcy9y8k+3LPnnLGYPbiafbucjbyerbqoYQZbUAZFwGT/EAxXkAZfsGIwjYKSTTqUvdcbfdkeQdAus9Wdmtu7ixrqUA76QBD1IA4/WNF3/93arPzafxvbLTvbk1vbxnvb2UvdypvH44zMDtHXAg3dLSPdK4PQGKXQa6HIk63XrbkRtrAHAj7gBF7gBn7gA04GL8DRz43e16ve6sve2+ve/Sx/OOAAEJDhGr7hHN7hHp7hIpACDN4R9M0y9q0y+F1S+q0W/K3c/v2hGHEDF0CsBCDizk3iDo6+EI6/Es6+qVwQyc04y/3fGiHjNG7j02vepJvj9rvjCdzj+kvhGC1/Rm6rNT7iHFHiK3PitwrlC/zjBBHkizPkMH4RVW6qV37jWc7kB+zkF+zlGSzla/ziv7kRZ86paZ7kDa7Vbo7CcK7Ccp7XVD7jVo7kEazktf/L5hXc52X852cc6P096EeO5amq6CbM6IXs6IcM6S4u6YVO6TXM59qq6bjM6UJO59HJEXfOqHl+6Ht+w6Oeq/sWzuB9zJa56nXa6kH86kVMrCZwAzMQ7MI+7MRe7MYu7DsgD5m14mnR4qfu6Whu6LuO46JuqwbgAhiQ7dq+7dze7d6u7TwwzM7G7Gjh7GOO6ttZ5IQe7aA+xNVuqgZgAtca7stu6ucO7Xgu7ZDM61RMrPE+7+LecOR+FuYeN2Re5+o+6Wpe6e/Oqf9OrPRubANvFgUPNwef6na+7vne7lLc8Iz68LYa8RzxDopQ8iZ/8iif8ip/8pBgDwWI3LX+3rf/rvGsru/ozO907O/yDvEBrxGyMAINEPRCP/REX/RGL/QzAA8v3xFibvDoHqAZr/B6Tu2wbu07H/I9nxGykNXE2gNKX4Mw774X8g71UPZmf/Zon/Zqb/a4Dqa6vu9U3+tWD/AeEQtcb6tev/SRHfMVXhrPcOyAH/jEHgA0n+s2L9s4T8k6T/dRevemmvdgz/R8P+Wl0Qrk3T+EL/WuHvf9Pvc8X/eOz6mQ7xgVrzUXDxmWf62Z/+kLH+pVD+9Xb6oiP6ehz6ijvxilnzWn/xipT6yrz+6t7+6v7/Cxz6mzv7K1X6e375Vh38Ck0fu2+vsbH/wdP/wfX/yMevxvm/xg/7r8Ztn8Pfz8l08+0l/zHC/HHl+nIC/7WQ+/3E+l3u+W4O/a4q/6he/2h1/eiU/Ki//5APFP4ECCBQ0e/BfLxwaGDR0+hBixYQ94CC1exJhR40aOHQmi8+Ix4woNEk2ebJigk0iWLV2+hFmwlQ6UNSUGuGBTZ0MCKXb+xDEvpsFXOX7uHGDhqE0DJpba5BFvaEGFT2tSnJpV61aBILeStHpSJVeyZc0KnBn2JE61Enu2lRiUa1G4EZPWfdgU78OoXKvunVjx7GDCBr1qBQt4w9jCjR1rTKt4A1vFbyXL3UpX8l3FeiX33fpXMdbHpbkezpoYMGPTrUtHVkwZsGXFmP+1albMGbBnxaC1igZM2vVwl6inqt7LmvjysrABy95LG7DtrLgB697LG7DvrMD3CmcePqPxocjxKhefHqbzvdDxSt9Lfar1vdjxat/Lfap3vDwqgQIwQAEHJLDAAJNRTyvyYjKvLvQShLAj9vByry748JJvKPrwsq8u/PqTKrSFNkMgARNPRDFFFVc0sYBKIhxqQZgahOtBGG+0aMK6KoTrwroyjGnDujqE68O69BuKvyErkIyBF3EsLiTESlLMRiivRIsmyXhsy0e4gIRJSLiIbMtIuJCMSckxmVTMSSxZkvElGtuy8k0cdYSLS7W8bAvMl8Rsi0y1zGwLTZjUDJT/TcDctLOjOF2aU606G40Qz7b0DItPtfx0CVC1BA2LULUMfQnRTxXdi1FKNXq0pUjDmnRV9SxVC1OrNA2L05Y8DQtUq0QNi1SXTO0VVbxUlfWiVll61apYkw2P1rBsfQpXq3RliVerfH0KWKuEbYnYbY2tC1loD1pWpGafevZc4qS1itqlrH0KW5G0fYrbpbx9ClyWxM2XXLjMdfcjKVOjcrWVCq5Uy9hyqsyny4TKzKjNlOrMqc9C/G3E3ARui2CG/0nXo3WXanfk1xx+DuLZJK6N4tsszg3j3TTujePuPL4OZLVEZrjkjk4+KmWVHYP3KXmPoncpez3Cdyl9j+J3/yl/RQJYap/DArpgoTki+iejjy4s6aWW/qnpo3Bgxx6334Y7brnndlsVmq+zOTuct9N5P57r29qqrt39eqOwdxqb7MHMPgrtndT+CYQZJqe8cssvx5xyD1CQbIOpf6r6qKs9yvqoAQJ/avBzC9focJ0SV9wsxn9yXCfId6rdpgI4v1iy0H8avaPSfzq9yScVZ32khJNbOPblZsfd5ehgblmy3Tv/fKffdwqeo+GRQn0p1aFNHiPXbYLdea6g1yn3mm5vX3q8ru8948673+h7nYpv83iyy7/I+WqSPvVphX02cR9K4IdA+dWFfjXz3d7y07ck/Y1D4TvK+JIFQIsIEP8lBCzgVA5YkwSeZIEkbCBcHoi3CN6Pgmmy4JKM5zwOIsSDYmleCE0zQpSU0CQn7GEK27LC+uTtPhIEkV9iuKYZxq6GB7mhSUCow/WwrD1C3BP1rmg93kHQfhtTIvYw+BMNyuqJBomiRKZIRZfwcC1YzJQWKQRHqxCRQ0b0EBKP9MJDLTFRTUTewY6zvPPkkI2NcaNJfOgWOe6Ijk+x45DwWCQ9nomPpfLjqQD5P0GWh5AOMuQhCZPImzxyXo3MkymPEskxTbJMlSzUJYeVyWJt8mhnLEgaI7JGUXqElBFZZESA+EYuYs+Vg4LlqGQZLlqOy5YqwyVBdAkRXvaSI7//hEgwITJMRaryJ6wM1DFDlcxgLfNfzQzYM0cWzYFM8yHVtCZkrDhHyXCzlMWs381cGMbNjHEnZVwVOwXiTofAM54YweZDtPkQewLTmzsB56fE+StyfsucWEOn1tQZtE4y6JM1CuVB1zdPR9YTlZd6qE4i2quJdqui/boo6TJqOn/qBKCUEug/CJqSkIrUgCRNpUk7t1CHrHRbLd3XS60WU+HNlHg1tclNG5XTnTLEoD49SEIdQlSenLRWKdVdF1n4xZzx82Mb9VpHZ/RROvUUq0PRakO4ypCGZhOsNTFqvpBKNaWKjqnecyr40Eo4tcqJrZJy61urONS7KtCr02rs/0nyKrW9gq6vwPtr/gK7P6jWRKp2ouphYZVYxbYRqCgV6pYia5LJmq6y2rss9zKrEf3ZhH+L8t8tCwsp0TqLtKVlSVwZMtcN1FWhq5VIa4n3Wp1sTyf4o+1mbdtZlHz2TaGVzFWB+w/hTga5wnxsvL4LEeUihblMie1zZ5uR2tbktqnKLTR366resuu325XQab+a2ofh04v6BKOIxDjY1c2XWfVF2X1Fwo97NNjBD4ZwhCX84H3YqbvENe5Wx/uQ8u7vvDVxLlTWi5H2ouS9x4rvOg2sLgQXTcEeacMMWDBjGtfYxjfG8YxJIAoL6xey/K2eYjps2w+jJMQ1gS57pf/rXuqexLpYwm6VXtyRGWQgu6DoMWOBvEUhi7WILQxwxwbcPxqu2GQtFtuUOVLlK2dZtVumZ5eNCeayCrifBCafmYeGZsSpeSNsrhKW33ThDTskw3ItdEOG7N4in+TIKEkyiZds4iab5MlXirLCyALo1QgaS4SGc0nlnE+97dPOZyWzE/UMNj6/zs8a4XRyPH0lUEdMy6P+b6klUwI8/MHXvwZ2sIU9bF+T4QRjxm2Zv9Jq9L06I7E+z6yhVOuX3RowizZxo03y6JMMwAEPAHe4xT1ucpcb3CJI73TxvMFVG47ZA3Q2RqDtIGnfycfiDXVQcT1WAKO63z1b9434MQz/VjTDMO1u3bs/GO+LzLtG9b4Rtadn7b1gu9valgi3TXLiPCIbvudKRBxSYYZWFCTTzNu0lQPt5v7a+s37/jJZAS5zwAU8Qt0owjv+kQ0q0MNgy84uwy3icDpBPCbfOEbSlb50pjfd6UpvRAwo/p7wKi3RDLH4xjEeEY1LhOOU9DiKoWWLQAzEC9D4+ZSCnvI2c0ULS3hC3OU+d7rX3e5x/0HVz3b14uq9cXzPute3DpGu26XSGU83k20OIVI4YiBuEMZHrhAKylOeFPjAfOY1v3nOY34FMZBB6EU/etKX3vShb0EcKr961rfe9a3//OllP3vRj0D1r8d97ivPAhjQ/973pg+BCH4//NEHoPfEH37wkU/8ALxg+b9X/vN933zp0z761Zf9AJyP/dNfn/ulH8AJvm/6EVSi8+dH/+b94ZhSNGIgbBiG5Fcx//m/Qh/3x3/+9b//+7+C/v8HwAAUwABMBUkYwANEwP+bhARkwAOkhAaEwP97wAiMwEmABAqMQEFIBQxsQEq4QA5kQA0EwQS0wBFMQBE0wQG0hA9MQQFEwRYEQEp4BBh0wQ2kQQBkBv7TwR3Uv/VrjFvwg4HggmhIOyjRB3zAr6w4wiSciiVkwpjQh3t4Qq4AhyJoh3+wBiyQwoHIqbJwwil0iS8EQ5YQwzH0iCg0w6yABDUYBf8wqAWTQzjXKMM03Ig5pMOMsMM7vAg01MOX8AdlsIVqODgsycM+PIhCNMSCQMREHAg+ZMSs6EKyiAaDe8SLkAZKrESEmAZmyESLmIZl6MQYicPWWIVQCMWs+oRTJApPUEWqwIRWjBIsKUVYHIhWSEVa/IdXYEVcjIVXxEWPiESumEVctMVf1MVf7MVf9Ah4gAMwcMZnhMZolMZppMZqtEZp3AIsuMZt5MZu9MZvBMdw3MZsFMdyNMdzREd0JMd0ZMd2dEd23IIreMd5pMdp7Ib0eAdz0Md95Md+9Md/BMiAFMiBJMiCNMiDRMiEVMiFZMiGdMiHhMiIlMiJpMiKtMj/i8TIhdQHZeTIjvTIjwTJkBTJkSTJkjTJk0TJjdgHV7gDO0iFLczEZCgFRLCGgQiGO7iDyKvEalCFRdDJapgEOgiEXvBBRjyGUUCEbCAIf9iEW0zJG2EFNbAGbIiDUQhFRBAFLzAGgXiGLWgGZ9iCZ6jEUsAEOCAFgTiFWZiGY+iCXKjEQiAFLADFgeCFMUiDp8SRQii5f8gFPVDFNNjKfygEVRCIVTCEToSEsyyIVCCEThyDuSSZNOiFu8RLGPEFOPiGcbCDNzxFwBSIMaDEZhgDxFRMgkAEp3zExxyIQkAGYqDMyoQQeyAEJFACPZCHvwzMIqjJf7iGIiDNgiAG/y5YB8ecy19AhH9wTdiMkEZoBH3gh0tozM4MzC5Au3+Ahi/4zYFghi24hlBUTXYwA3VAztdUzvT4grmshiTATYGYg14QiF6gg+z8h2fggmk4RdW0hivQzyJQgSvQufIUjz7QhPUzBThYz3+whTjIh3yYg1vIzmngArG8T8gUiOQE0PToBjUYAzNAg+7sRD4AgBAFAGnAB0PgAi44BCR8xFEQUQCYBUNoUQN9xDloUaWsUPK80PBoB3boSHbg0RwF0iAV0iEl0iI10iNF0iRV0iVl0iZ10ieF0iiV0iml0iq10ivF0izV0i3l0i710i8F0zAV0zEl0zI10zNF0zRV0ws1ZdM2ddM3JcmAAAAh+QQFMgAcACxGAAIAJgFJAQAI/wA5CBxIsKDBgwgTKlzIsKHDhxAjSpxIseLCdteuvbPIsaPHjyBDihxJ0uI4UWUAAODQoc+2kjBjypxJs6ZNDrk4XEl0ypMZAEle3hxKtKjRoyGT4aL3r2k+QgAEIZ1KtapVqk3/bQNQ5KrXr2DDcsyqDgAQsWjTqk2b9RcAO2vjyp1LtCm6LQCU0d3Lt+/Hf/n0AIjkt7Dhwwv5IQIACB/ix5ALK+agx17ky5jX9nMEoA69zKBDX/VHCcAcef9Eq1491N8lAG7eNWVNu3bJWyoRTdotcFI828CDTzy10iCAdMKTK1f4TtxBcfyWS59Ovbr169iza9/Ovbv37+DDi/8fT768+fPo06tfz769+/fw48ufT7++/fv48+vfz7+///8ABijggAQWaOCBCCao4IIMNujggxBGKOGEFFZo4YUYZqjhhhx26OGHIIYo4ogklmjiiSimqOKKLLbo4oswxijjjDTWaOONOOao44489ujjj0AGKeSQRBZp5JFIJqnkkkw26eSTUEYp5ZRUVmnllVhmqeWWXHbp5ZdghinmmGSWaeaZaKap5ppstunmm3DGKeecdNZp55145qnnnnz26eefgAYq6KCEFmrooYgmquiijDbq6KOQRirppJRWaumlmGaq6aacdurpp6CGKuqopJZq6qmopqrqqqy26uqrsMb/KuustNZq66245qrrrrz26uuvwAYr7LDEFmvsscgmq+yyzDbr7LPQRivttNRWa+212GarLU360OPtt+CGK+64374zD55t3KDuuuy26+6765LwCZ4raLDBvfjmq+++/N6bQCf02tvvwAT7C/Cd9RasML//Brzww/g2jLDAEC8ssZ0JV2zxwRhTrDHBF8uY1cgkl2zyybORlPHHIHMsMsowxzxySSuz3G/IMcqsM8w0e2zzvjjDuPPQJff888BBv0j00imPVPPR+SbtItNLGw010C7nTPXQVl8dddZCb71z114bXKPYY6vss9dSt4i2zmSX3TaLb8scN9s21h3znf/4rLLL34AHLvjghAe+z5251HDE4ow37vjjkDNOwraUV2755ZhnrvnmnHfu+eeghy766KSXbvrpqKeu+uqst+7667DHLvvstNdu++2456777rz37vvvwAcv/PDEF2/88cgnr/zyzDcv7Dx6k/xKnjhAH31Wr+SAZ/XXY6/9ndx3/0/221vfPfngm389+naCkMcf8Mcv//z01w8/GS/k6cAD/Pfv//8ADCD/RMCBgAAAIfkEBTIAHAAsNQECAFgASwEACP8AOXDQJ65aN3oCEypcyLChw4cQI0pUCK7OkIQA6FSbyLGjx48Kp9mwQwnVpjQcgFADybKlS3rz/iXs94hDIJc4c7K8xiGMzp9AIULjMCeo0aPj4HAQdrSpy3hv3phRcSaYTKdYPb67ckUFgDGz/GUd2/GfvmdpAJAiyxbiv7f/xtnY4a6tXYVw33JQA2Da3bt5r3IBgO1vW3R5BQIDgEWfYbaG2JzydcyWoA4AfF19nHUUkIVjhunlnPWfvWjBcgHL1g8u6dewY8ueTbu27du4c+vezbu379/AgwsfTry48ePIkytfzry58+fQo0ufTr269evYs2vfzr279+/gw4v/H0++vPnz6NOrX8++vfv38OPLn0+/vv37+PPr38+/v///AAYo4IAEFmjggQgmqOCCDDbo4IMQRijhhBRWaOGFGGao4YYcdujhhyCGKOKIJJZo4okopqjiiiy26OKLMMYo44w01mjjjTjmqOOOPPbo449ABinkkEQWaeSRSCY5HjHFNOnkk1BGKaWTtgxzWy9BQKHlllx26eWXW37AxG2v5LDBmWimqeaabKI5QG5mtinnnG4qaeedeOap55589unnn4AGKuighBZq6KGIJqrooow26uijkEYq6aSUVmrppZgqiUNMgXXq6adwlYnbpqCWaqqot5VQhRWsturqq7DGFcpqDy/kFoEEuOaq66689orrCGMFBAAh+QQFMgAcACw0AQIADAARAAAIggA5CPxHkKDAgwUJTvMAgBHCgvXMqODA6N9Aixw+qbjUEONBaypK9ep4kAO+NGbsjaxYslSHZxxWetRmQxLBlQf3ueny7iZJDqkAGBsokwO5HXXEKRXnCkAhceesAZhKlSoHN+Mmad1qB4CZSas4eBQo02JCnyzFnsX5sKA8cesEBgQAIfkEBTIAHAAsNAEDAAwAEAAACIQAOXAoAqBgQQ4A3AkcuMOPw4fyFhbhwuGfRYsLB3K5eDHjRI4YJRYplAYOpGf/PAIY4uWgpH4C/9Eal5IeLSQAZsUMWXEYgC/+QF7MZwNAOaEXKXZD+i8dAA/wOKjLyGEfIwB3BFJKY6qXMVlpOAy5JtCUB4MF3VTLCK8ZsFzClqbkEBAAIfkEBTIAHAAsNQECAAsAEQAACKMAOQjkkK8btXD9Bv6bF4rKwC2+BMaLAyAMJlSSzpAS+AhAonsDObzj0A0AmHohB5YCsDGlwD4AhjEzpIZOqXQCzQBABCCJmiIctmjjwAUAAEz6/tlzxAENvzAAzuwbaO8LgGdrAFAK+W8Rh1k8S6XExCFVrp1cAwHoxQ4JEHIC/3VTYcPcv1kme03LVVQUh3//WO0YuIMUv7j/2hHLNUzdwIAAACH5BAUyABwALDUBAgALABEAAAh3ADkI5PCvYEGBmwAoBDBQ4TdcfiJKVAOgyz6CBgVSAjAK40EO9qgA6OZx4C8AdQQaNHgHgC+VK8V1QCLvn8eCpQBEWmmQXxgA1HjaVAYAjT+hHAwBkHWzYLsdKtI1/TcLgKGbGNMASLZyILWK+7oKhCcuXUaBAQEAIfkEBTIAHAAsNQECAAsAEQAACLMAOQjM981aOoEC/61bZAPhl1z//t1LA8CMqluTdnCY9S9YRXoIj3G4wu8UgE0I//UrAiBdLgCRUtpTsWOfuytIsgnk9wnAJYHb4KiwY6jMEE35BI6DtAMAAA5laPXjQI7Ljlnt9m0LBAASB0gATnGI+K9eGADXKE4bG5FDIwC30ABwRvYfh0MAbC0C0Igsh3NRAEzD1hRRMmq7xgDQ44/DsjAcnALocMgdQn7TeuUaRg5hQAAh+QQFMgAcACxGAAIARwFLAQAI/wA5CBxIsKDBgwgTKlzIsKHDhxAjSpxIseJCetc4uLPIsaPHjyBDihxJsmRHeZJ2CFSBSJ3JlzBjypxJs+ZHfHM4nOEwSw+ANPJsCh1KtKjRowlrcQAq0F8jDqX+IZ1KtarVqw3tcAhGcBwALvywih1LtmzMLxyyEfynBEBGs3Djyp2rUAwAa1I5/OsHBMAvuoADC8YaCECtf4j/XQMAINbgx5AjzwQGoMs3xPDsMEYlubPnzxb7GQJQZBAiLzvcAJgFurXr1wb/7aO1ZscQP9YAcRAGu7fvzokJ+vPC4dvv48jpBh/4DICbvMmjS7+6nEM7NACOQZ/OvfvQf2tG/f9ChsoLAEmIvatfP/MLgIFFWvXbzr6+/Y/7qAHTpYwe/fsABijggAQWaOCBCCao4IIMNujggxBGKOGEFFZo4YUYZqjhhhx26OGHIIYo4ogklmjiiSimqOKKLLbo4oswxijjjDTWaOONOOao44489ujjj0AGKeSQRBZp5JFIJqnkkkw26eSTUEYp5ZRUVmnllVhmqeWWXHbp5ZdghinmmGSWaeaZaKap5ppstunmm3DGKeecdNZp55145qnnnnz26eefgAYq6KCEFmrooYgmquiijDbq6KOQRirppJRWaumlmGaq6aacdurpp6CGKuqopJZq6qmopqrqqqy26uqrsMb/KuustNZq66245qrrrrz26uuvwAYr7LDEFmvsscgmq+yyzDbr7LPQRivttNRWa+212Gar7bbcduvtt+CGK+645JZr7rnopqvuuuy26+678MYr77z01mvvvfjmq+++/Pbr778AByzwwAQXbPDBCCes8MIMN+zwwxBHLPHEFFdsMa6JZazxxhxzrA8+wnYs8sgafxwyySh3bHKwKbdcMsgsuyzzysDKPDPMNdvcMs2/6rwzzj37jDLPWm6jhRRIJ6300kw3nXQW9QAm9NBAaxmLCxNQoPXWXHft9dda3zCP1FOPTHSWseiwwdpst+3223CzjcPYypUt8tlYph333ny3/z03SfjY3fE3xQiuctVoq9334nD/LdLHhm+sxRORb4z3lXozrrncdIdkDyichC766KSXbrroM+hVecaXW5n55po7LlILCtRu++2456677QKovjpirVf5OuyLyy7X74kFT+XwxPNtfFzIA4943oo33/fzcK2jzfbcd+/99+Bzf005XjJvfeOdy0VGE0607/778Mcvf/s/fGn++W5jv+v9+HMeLP/92wAOLkbAAhrwgAhMoAIXyMAGOvCBEIygBCdIwQpa8IIYzKAGN8jBDnrwgyAMoQhHSMISmvCEKEyhClfIwha68IUwjKEMZ0jDGtrwhjjMoQ53yMMe+vCHQAxiYFfYYY8iGvGISEyiEouoimGBYAZQjKIUp0jFKkbRAygQVgAuEEC4FSCLwdpiF9/2RS1ycYxtK2MYz4jGtakRWGJsoxvBCEc2tvGNv4qjHPH4KzuisQAvCQgAIfkEBTIAHAAsRgACAEcBSwEACP8AOQgcSLCgwYMIEypcyLChw4cQI0qcSLHiwn8Y/wkER02cxY8gQ4ocSbKkyZMoGd77hYlOEQCiMmaMlgaATTbWUurcybOnz59AH5azCQAITJn/rAFRYUmXJA9ItgWdSrWq1atW3aVSpm7VUYwC4QDopZEDLQB6sKpdy7at24ZeY5bNBqBMP7D7vAAA97av37+AdcYFy0EWAEoZBToCkCuw48eQIyccXBYSgFiJOaACoEmy58+g21IWSGhs5lsAFoVezbr1Tsoa/QAwljkYgEKuc+vePRH2v0EAfmXOBQAR7+PIkw/03QjArMxeKSmfTp11XIKqAHzKTAkArergwz//vj4QGgA3hDmcAXBNvPv3omES5DcGwLOyyQCk8Qe/v/+fqUwyiVhrCDgKRsZ0cMUu1dyShAfL/CfhhCepQRRRHISR0S4v2ZREMBSGKOJH54hj4onilJMYPMfogow8I8Yo44w01mjjjTjmqOOOPPbo449ABinkkEQWaeSRSCap5JJMNunkk1BGKeWUVFZp5ZVYZqnlllx26eWXYIYp5phklmnmmWimqeaabLbp5ptwxinnnHTWaeedeOap55589unnn4AGKuighBZq6KGIJqrooow26uijkEYq6aSUVmrppZhmqummnHbq6aeghirqqKSWauqpqKaq6qqsturqq7DG/yrrrLTWauutuOaq66689urrr8AGK+ywxBZr7LHIJqvsssw26+yz0EYr7bTUVmvttdhmq+223Hbr7bfghivuuOSWa+656Kar7rrstuvuu/DGK++89NZr77345qvvvvz26++/AAcs8MAEF2zwwQgnrPDCDDfs8MMQRyzxxBRXbPHFGGes8cYcd+zxxyCHLPLIJJds8skop6zyyiy37PLLMMcs88w012zzzTjnrPPOPPfs889ABy300EQXbfTRSCeqDz1MN+3001BH3fQ789Dbxg1YZ6311lx3nTUJn9C7ggYblG322WinrXbZCXQiNtlrxy03227PO/bceKvd9tt59/9t9t52w+133oDLe/fghNdtuOCIy114o0hFLvnklH92eOOOKw455Zx3LpPljGOut+aMem4656CLnjmkp7ce+UnEFCP77LTXbvvts9syzOWqp/146a4HXxZJvQQBxfHIJ6/88swj/wETvPd+9u+LCh+8Sa/kIP3aA3AQ/fYbUK+o9a6fpD34aHf//fbiJ0p+66mj/zfp1b9vevzyh0//+PZ7jr/87UNU//znmfVJLwGRGmDn5vUPX+zigRCMoAQnSMEI7mNeuajBETbIwQ568IMg5CAJkkbCEprwhChMoQpXyMIWuvCFMIyhDGdIwxra8IY4zKEOd8jDHvrwh0AMohCCh0jEIhrxiEhMohKXyMQmOvGJUIyiFKdIxSpa8YpYzKIWt8jFLnrxi2AMI2jmoUCkvKJeOCBjGTOSPXqlcY1szIEb1QjHNs7rjXD8hx3lhcc6yvGOdFzjHuPVR0H+UV4lqIIVFsnIRjrykZBcZA9eUK8ISOCSmMykJjfJyUuOQCcBAQAh+QQFMgAcACwvAQIAFgARAAAIsAA5CBxIsOC/gwT/LSsVaAsHNgW5wUJURmC6fwL/oSEIkeAmAAB2eABwEeO/WcO+WXtY8Jiua/mukERIcGXHjAcxyiyJcaDNhDR35qzJcuBQDkJpCvxpNOhMpRyY4uyZtOfSolMFViV6k8PRrT6xenXKkytQqk+tRhWbU2daDsQEGuKAReCkdBy6Tdq7A0Cjvc84fCooEIA3Ds1ADgQJgBaHdoQ5iNPHwZ64y5gvwwsIACH5BAUyABwALDABAgAVABEAAAjAADkIHEhwYL1u08gRhHZqUBcOXwjWkzWnAwCBaIoJrEMw4sBvAGwEIlXKDgAAvDjkAtYNHESC5kad+0fzHywAUe4NFPey4ECa/rYAsLazp08ONdMAmFbU41Ga5FQAkdf0qMB//PQA+ESQp1Of/0wBSFOvq1GftTiEGVfQq9VcHby4bHt2YC8PXLr98+m24DAVW7jR5FuXmAoq12oOXCYwEYciA8FxUwGADodJmAVaa2VVGrSLR4O9s3rvHs+j8wICACH5BAUyABwALDABAgAVABEAAAjMADkIHEhw4Lls19gRHBZKjxIOhgj+Q7QFwMAwugTuIBhx4D8qaB6VIhWoAwdVHE4dKzcMokR1/xZyGEJvYMuOBSVy4bDNpsucBPkp6dDOJ06g8zABaBRT4E2gkN6kKXJlVD6ZRwcGugIEQBJJ8LACFfjv2yEAbvYZHfuv7b43AIitzdm2LYdRAEzNlVhXICQAKJ3+FMhOX18O4a4AkJZLYB8OYwbu69VF061jvSgVAYDo36Gx+JRtKZhkFL5/6sb6+9cv27FcvZ7RqxsQACH5BAUyABwALC8BAgAWABEAAAjCADkIHEiQ4L+D/wjC60UJzg4OtAoi/EfNA4BEAqkBIBjR4EF7Z1RcTCjOVTN3lyBKFBhKBaaRCQem7FjQmgpSvWASnFmQQz41ZuzlTHRwp8qCpjo44zA0psyjA7XZiHSwaUGeA/e96fKu6sirUDmoAkBsYFOnHLByMLeDjri34l4BGCTunFGa1wDo3buXA5u7A8dNGkz4DgAzk8DS5FDUrE5PAtNwoCPQ1USEVjlc6clhzmWvRAWO43wu4WV54tYJDAgAIfkEBTIAHAAsLwEDABYAEAAACMMA/yUjBegKBzscEiZMBKBhQw4AfnH490XhQYscGMLxw5Fjs4mthoV7dtEiQ2v/UqbEyIEkQpMAJqr8x9IlxpMzaWK0CTOQmzWEeuGrWVIhQxVebMRck25n0YnEqPHjsK8ZGgB3nL5MqFLhv3RKAFyzyFNmzpUAbpEtelZlJA6w1m5tmxIOAGFyLb4b6jUYACDrOABLOIhDl4ST3iXDcunWsVyFIL5KKIklxHPRijhsyAWXQnaWxe3joM/asFy+pOHTGRAAIfkEBTIAHAAsLwECABYAEQAACOQAOQgcSLCgv2/Uut0TWO8XpjlAOJwq+K8frjADi2zi8A0AwYkE/UECEAUSqod2OKhTtWydKYkFd3FYk47gu4IvQQrUx8VDt4JAcxJUBuDOP6A4YQ48BWBTN0gc4EjaFlSpQEcADO3YoQYLBxvCkurkYAgAAD3t/vmjxWGIOYJCByICsKPcwH+DOKiCa5WDJQBrCtricIjv2FpFCwbjEMgwQW0AMH7kEMnxXTYAkA2sBwbAMQ4vObgRLfDUv3/RbBRxFW1YYDv9OJhBeub0P2RbBgI4dJPDW6Dmjp6+t0zXr28DAwIAIfkEBTIAHAAsRgACAEcBSwEACP8AOQgcSLCgwYMIEypcyLChw4cQI0qcSLFixH8YMVrcyLGjx48gQ4ocSVLhP2Sj/FDhwIegNQAwAQyEeaqkzZs4c+rcybPhvy0EWw705qeo0T4dADTrybSp06dQnf5bRWzcMpYFM/4TCA0AGH5Rw4odS7Ysw6tCBWod6AhATbNw48qdaxMtwYwD4xXpII6u37+AAyu0O1ArRl0A/AhezLixWcJqDcfhIGyr48uYM9+EzMEwNwBU7GnUTLq0aYmc13oCgAnv6dewYwtMrTHfFgDZXMvezdsx7a3FAKzpPLq38eN0f3MQBOAWccvIo0sXy5n4ORVA3K2dzr27zl8CBXH/+CJwkjziqgAsMuy9vXuRkA4CWCfQnxkOzra/38+fIruD4oDFAT/iiNNPcf0lqOCCDDbo4IMQRijhhBRWaOGFGGao4YYcdujhhyCGKOKIJJZo4okopqjiiiy26OKLMMYo44w01mjjjTjmqOOOPPbo449ABinkkEQWaeSRSCap5JJMNunkk1BGKeWUVFZp5ZVYZqnlllx26eWXYIYp5phklmnmmWimqeaabLbp5ptwxinnnHTWaeedeOap55589unnn4AGKuighBZq6KGIJqrooow26uijkEYq6aSUVmrppZhmqummnHbq6aeghirqqKSWauqpqKaq6qqsturqq7DG/yrrrLTWauutuOaq66689urrr8AGK+ywxBZr7LHIJqvsssw26+yz0EYr7bTUVmvttdhmq+223Hbr7bfghivuuOSWa+656Kar7rrstuvuu/DGK++89NZr77345qvvvvz26++/AAcs8MAEF2zwwQgnrPDCDDfs8MMQRyzxxBRXbPHFGGes8cYcd+zxxyB7adjIJJc8sj74MGvyyixjhLLKLcd8csrLymxzRi/XfLPNOSu7M880+/xzzD0nOzTRQRt9NMtFk7mNFlJELfXUVFdttdRZ1MPY0kwnTWYsLkxAwdhkl2322WiPfcM8W3NtctNjxqLDBnTXbffdeOddNw5sL//m9ttexz233oQXvnffIeHzN8nfFLM4yXCLKbfhlOvNt0goP26YFk9obljkYU5e+eiHi2QPKJykrvrqrLfuuuozPOf5P6CDKTrpo18uUgsK9O7778AHL7zvAsjuee1f3o475boLNjvOgUs++PLMIx7Y8y5HH/r01BfefGDraCP++OSXb/75419TDprKd2+59YCR0YQT9Ndv//3450//D2m27z7e3zuW//5ntwAaa4AEpBsOQsbABjrwgRCMoAQnSMEKWvCCGMygBjfIwQ568IMgDKEIR0jCEprwhChMoQpXyMIWuvCFMIyhDGdIwxra8IY4zKEOd8jDHvrwh0AMohBih0jEIhrxiEhMYmPYYY8mOvGJUIyiFJuoimaBYAZYzKIWt8jFLmbRAyhgVgAukMC8FSCMyxpjGfF2RjGScY12a2Ma3whHuslRWWqsox3RiEc61vGOycqjHgGZLD/CsQA2CQgAIfkEBTIAHAAsRgACAEcBSwEACP8AOQgcSLCgwYMIEypcyLChw4cQI0qcSLEiRH7lrJXjZ7Gjx48gQ4ocSbKkyYX4fmmiU4TDJoL/8I1SMlDJKHz/TurcybOnz59AG6YDQPDlwH+IAGAZlWvUFQCLcgadSrWq1atU4aFKlg6WS4LfAAz5NvDbEABksapdy7at24VejQpMBoAOzDoAkr3dy7evX51xCV4DsOboPzYAsP1dzLix44SBB/qDA0CYwH/BAMzx97iz589tIw9cV8iDG0NsPBRiB7q169c8RQucNwoLAKJXRM2Dzbu3b4qy8bkBgImcP3KXALjJ97u58+cDZecCEIjDv+v/BAHQBb27d9eyIQH/oGX9OgdbACB9X8+esexGAFqVz/kKgKP2+POH/jqQFuF82OWzBgC16GfggT+tItAcHKghUCj/vOOFZsNQM8wcAHwBD4IcdkjSGwd1kVM3lHFwm2beeKjiihadcxA5Uv2zzS+5/MINizjmqOOOPPbo449ABinkkEQWaeSRSCap5JJMNunkk1BGKeWUVFZp5ZVYZqnlllx26eWXYIYp5phklmnmmWimqeaabLbp5ptwxinnnHTWaeedeOap55589unnn4AGKuighBZq6KGIJqrooow26uijkEYq6aSUVmrppZhmqummnHbq6aeghirqqKSWauqpqKaq6qqsturqq7DG/yrrrLTWauutuOaq66689urrr8AGK+ywxBZr7LHIJqvsssw26+yz0EYr7bTUVmvttdhmq+223Hbr7bfghivuuOSWa+656Kar7rrstuvuu/DGK++89NZr77345qvvvvz26++/AAcs8MAEF2zwwQgnrPDCDDfs8MMQRyzxxBRXbPHFGGes8cYcd+zxxyCHLPLIJJds8skop6zyyiy37PLLMMcs88w012zzzTjnrPPOPPfs889ABy300EQXbfTRSCet9NJMN+3005DqQ8/UVFdt9dVYU/3Obvq2ccPXYIct9thkg03CJ/uuoMEGbLft9ttwx812Ap2kvbbceOc9d936qv+t999x02034IS3LXjfdxcO+OH5+q344nw3nvjjeTNOKXaYZ6755pyb15njlFce+eWdl2465p6BHrrclk96+uulpz756nC3LinsuGteEjHF9O7778AHL7zvtgyjOu1v2x5p7sx7LlIvQUAh/fTUV2/99dN/wMTxyBs+uuvN507SKzl0L/cAHHBvvvKQhi8+SeWbDzf66nfP/qPu4y67/Ml/f3v+r9sf/7x3KQAG8HOzk9/9HGXA0wlwgBtIAKYaaDp9/cMXu8igBjfIwQ56cIP70FcuanCEEprwhChMoQpNSAKoufCFMIyhDGdIwxra8IY4zKEOd8jDHvrwh0AMohCQh0jEIhrxiEhMohKXyMQmOvGJUIyiFKdIxSpa8YpYzKIWt8jFLnrxi2AMoxjHSMYymvGMaEyjGtf4mXlQMHOv4BcO3PhG7JBvX3Osox1zgEc66vGO+sqjHv8ByHwJ8o98DKQf61hIfB2SkYnMVwmqYIVKWvKSmMykJivZgxfwKwISCKUoR0nKUpoylCPQSUAAACH5BAUyABwALC8BAgAWABEAAAjmADkIHEiQYD5t1NL9G6gv2KY6Ai8V3FcqicAOerwtbFdQIsFEHLiUqnUIAJdxHOidEjiLg0eBzDhcOTcwFYBDCwe2fMlBEodSBPFFUaGO4E6CfTgMKwiHQzCjLgkGAvArJ4d/awAA1Rl14CYAlv6J/dduCACfXHlaA7Ajmth8iwAAWASV579RHFT4aWQGwJyzdQmKFUZnyI44yTBxWJlWsNiCejgkCzxwLEFyKq7coyxwbM57fQCwWuhKIB0OaQR6ujoIUy9ks9AA6KNv4ZyCArEI5ANgoApM9aziJuhvmzBdx9pZDQgAIfkEBTIAHAAsLwECABYAEQAACP8AOQh8l83aOoEIBf5jx4GbPoTpTqUBAIADADrUEP5LZ8iDxS26BCLjkOTQqU9qAOyAJnDeRD+3Tm0BcIuDtFjw/unkBwmAGw7/UgEw1E8gNyBIDmrUmY6iPH9hAHDT2LNWQp3/9qkAAM8bhzAJOQzjMOiqzmUA0HA4xsFO2GscypiFNwZALw4hDV0lR/Jqv0MACPnjQIvDo38K/73j4BGhP0oA5swTmAvAIaw6zXEokhATBzaLBQ4DwAfzP20cwCD8BEBNu4TZAJwJm4xDH4Gl0qZDjFDflQ7nNHoCkIrDKQBm0OkMewmAJ4XssKj4ZozioEnYBU4Kjm5LB0/Tjq0kAaCJA66KYS2i/nfNjEAAHSg9jCcuPQdx+YD+4/eMVzC+AgUEACH5BAUyABwALC8BAgAWABEAAAjWADkIvOdtGjiBCBH+W/gPIb9belQgFNMLobtdktzY4MCrIYd5HDzoCXUqEAcAqQQ2A8Chww4AHRvWw3RQ4D9gHGyo49AN1rN3jmAyTKhQDQdkDBsGjemR6D8/HIwN5bB0KtF3SDqQm1p1IVEO/xBxWATWK1WhZhXi4gCmXVmPXZuCLaZiSzebZuMmNKYiyjWFedE2TbYjSbWEXAWrBFIEmtOhepsBGfLs69uzTNMN4cDmazOwlyZNMgPAjmha3ywLlCXwJUIAsP3oU80BnsBx4nLrFpcuIAAh+QQFMgAcACwvAQIAFgARAAAI6QA5CMz3jcM3fwITctg3blo3fgn/9QpkI6EXWv0EGjM0BAAADldO4ePwb0gHOp44FPLAQZNANBzcYEK1aAeAQiQvdVOozEMHbxxGVftH9B+2js0UKtTDgZfSopAAlFKacBGHXE+JkgJAiiqHe14AYMvazw2AY14xcfBDlWgsAGn2UR3W4Qq5ttJsALlGtdmOItK8ZruiohjVZ0OGPPO6jbAwqtGK7GDmtRsXD7/+KaWWZEcyr9++dMhFVCE2wsO8ghN9q2jCelQ4wFSK1gyALxwm6RbY651XgaM4KPlINVHG3+44jBPndV1AACH5BAUyABwALC8BAgAWABEAAAj/ADkIpMeNmrl/AhNyeNeNWjmF82DF6ZAwDTKEHGydAZCwCKZ4HLgB2CGoFKk6ADoAE9iIyyFPHBoV4UBnn7hS6RSmAoBFH4d1/hSO28IBmcKE/aJwyHY0oSQOrZoKNMPhmlQOiDj8kvqtQxF7Tf0NswFmXtN9dDiUUtjrDZstKgyRw6hQFAA29xTOupIEgAdATI/OAmAGndR/71qpKNJNIS0AYcYd/ke5FIBGCXN1+PJtMmUO0gCsEdjLA5fGTSl/5mAMwBytHrZwa5qvnWqB+PQAGIVNBQc7TbGl25FoVrFgp8IAAMOu2VUOxd6hOeqh0FywV+lx+FcuWa9dydKpAg4IACH5BAUyABwALC8BAgAXABEAAAjyADkIbHft2juBCAX+W7gwobhQYwAI7ACoG0KG/+KFAYDkn8BbHK4sOrXJDAcl3BQytKSCY8NkueohxCeIAyGPDaF1+OTSY0KE2ABE8cmhnpk16Hr+RHjOJUJPHqixU7qUQy8AfHxWU/GJw9SORBOew8KBmUB8acTM+/c17Ew7HCj5JAWA2cK2S/UV4hAon8BsNhwhbBt23yEOfu4hjFPEmrjH1wAUebxPID9GAO7IRMgFgOfPnjkAOMfBnyQAdOT9DDWpdWtHAGy0fuePEgA3B382HKy0lkRES9diZKu0VNWBw4l3FOjuOAd+KhfyEzcOYUAAIfkEBTIAHAAsRgACAEcBSwEACP8AOQgcSLCgwYMIEypcyLChw4cQI0qcSLFiQXvdpo2zyLGjx48gQ4ocSbIkR3y06ngQCMBMsIHBAMiUyQHAIZM4c+rcybOnT4fpOKjwM6pUn5q0BMYc46dp01Q/o0qdSrUq1XafNgr8h4vDEHgcYpr6R5as1bNo06pdG/HfGADPwgIYW/Yf27t48+rt+W8OAGZy6ZbdS7iw4cMO1e1QwU4umzpp7pwKiriy5ct3/Q3iMEmpzC1JAHCI0gyz6dOod/57xcEMWA7XjNUT+M0QgCToUuvezXviP18duHzbanarPz8ATvVezrz51l8etnQbWLfuLgCB7Drfzt3yv2EqrmT/I1i9LDIOdrR3X8/+7r9jKqJcK1iebCoAi9S3389f6r9lOyhhzUHqkAfOFgAI09+CDPIUzg4cwGFQNBzsYIgsw/yiyRAA3MFPgyCGKNJ8COnCgRczybTDJPKI6OKLFeGTUDy0IcOLLsq0ox+MPPbo449ABinkkEQWaeSRSCap5JJMNunkk1BGKeWUVFZp5ZVYZqnlllx26eWXYIYp5phklmnmmWimqeaabLbp5ptwxinnnHTWaeedeOap55589unnn4AGKuighBZq6KGIJqrooow26uijkEYq6aSUVmrppZhmqummnHbq6aeghirqqKSWauqpqKaq6qqsturqq7DG/yrrrLTWauutuOaq66689urrr8AGK+ywxBZr7LHIJqvsssw26+yz0EYr7bTUVmvttdhmq+223Hbr7bfghivuuOSWa+656Kar7rrstuvuu/DGK++89NZr77345qvvvvz26++/AAcs8MAEF2zwwQgnrPDCDDfs8MMQRyzxxBRXbPHFGGes8cYcd+zxxyCHLPLIJJds8skop6zyyiy37PLLMMcs88w012zzzTjnrPPOPPfs889ABy300EQXbfTRSCet9NJMN+3001BHLfXUj9Zn9dVW6yOjv1h33bXW/3otdn1gcz322WSV3S/aaKvNL9tnu70v3GPLrS/dYtudL95e6/9N6TZaSCH44IQXbvjhg2cxW2V8f711prG4MAEFlFdu+eWYZ075DfN41/jVfk8aiw4blG766ainrrrpOHTO+OdZP47p6KvXbvvprZOED+z1fVMM72TLfinttxeveu4iaQ18dVo8sXx1oUtKvPHUl458SPaAwsn23Hfv/ffgcz8DB8/XFX2k01dv/PUhtaDA+/DHL//89MMvAPnlpy28pemrfzv7hsmf/jbVP//VDoCFEeA/zgepAhrweK5DzDq0QcEKWvCCGMxgBa9RDgKS7oH/i+BhyNAEJ5jwhChMoQpXaMIfcMqBIMSdCPUFwxhab4b5qqENcUC1Hvrwh0AMohCnh0jEIhrxiEhMohKXyMQmOvGJUIyiFKdIxSpa8YpYzKIWt8jFLnrxi2AMoxjHSMYymvGMaEyjGtfIxja68Y1wjKMc50jHOtrxjnjMox4vww57+PGPgAykIAfpR1UADAQzSKQiF8nIRjpSkR5Awb8CcAEbrq4AkvQXJS2pOkxOspKcRJ0nNQnKUJpulP3apClPmclUlnKVqOSXKle5gVjy65WmLABOAgIAIfkEBTIAHAAsRgACAEcBSwEACP8AOQgcSLCgwYMIEypcyLChw4cQI0qcSLFiwXfYrLVLqK6aNncWQ4ocSbKkyZMoU6pUeK4UGgAD7Vwb+O/fNDodBHqAU2+lz59AgwodSrShMA5KEJ36lIbDkGoC/xFT4UHQKVGFgMAryrWr169gvT6bFW/gvkUc6PzjEK5IEWgE4fELS7eu3bt4H44D4EEfh0YcZuUdTLiwYa/1AHTAd2+IineHI0ueTHniMQBs/lkDYAaeqTlqDBnzV7m06dOD24HhcJQYADhmOpgp0wEAJNKoc+ve/XPfIA6I1vYCAICLNQ42twD4xbu58+cT+zUCQIeewGDEe9HUxWEO9O/gwwv/9CcJQBx5A5URN0dwHIcd4uPLR+0PEwA3kAeGIz4vLocO+8wn4ICGjQLAGhsR5E8YAGhD0ExcECjhhHSRAgAa6Rx0im00OcIBJBSGKKJQ2HFQiEHqcABPGQA4wswygFHh3og01miSYAh9gxw4cAx04Uw2BikkRVsh5Bdy/ljjSy/SzDXkk1BGKeWUVFZp5ZVYZqnlllx26eWXYIYp5phklmnmmWimqeaabLbp5ptwxinnnHTWaeedeOap55589unnn4AGKuighBZq6KGIJqrooow26uijkEYq6aSUVmrppZhmqummnHbq6aeghirqqKSWauqpqKaq6qqsturqq7DG/yrrrLTWauutuOaq66689urrr8AGK+ywxBZr7LHIJqvsssw26+yz0EYr7bTUVmvttdhmq+223Hbr7bfghivuuOSWa+656Kar7rrstuvuu/DGK++89NZr77345qvvvvz26++/AAcs8MAEF2zwwQgnrPDCDDfs8MMQRyzxxBRXbPHFGGes8cYcd+zxxyCHLPLIJJds8skop6zyyiy37PLLMMcs88w012zzzTjnrPPOPPfs889ABy300EQXbfTRSCet9NJMN+3001BHLfXUVFdt9dVYZ6311lx37fXXYIct9thkl212qfrQo/babLft9ttrv9NfxG3cYPfdeOet9953k//wicQraLDB4IQXbvjhiA+eQCeAC57445ArznjEgUduOeKLN3755oRnTrnjnF/uOcSVhy765KSDbjrko69a0+uwxy777LSbVvrqrKPuOu289z677arjjrnuqvpuvPHAC5+7q8c3XztKxBQj/fTUV2/99dPbMsztyh/eevHOh/86Sr0EAcX56Kev/vrso/8BE9x3X/j3qYpvP0qv5CB/4gNwEP/+G6AfquwnvpToD4CG69//9ifAUxEwfMlDYOeIV78HNi+CEgwgBQdoweNhUIINNFUHPViaBcovAa8aIfIg9g9f7OKFMIyhDGdIwxgGCGK5qMERdsjDHvrwh0DkIQmvzkbEIhrxiEhMohKXyMQmOvGJUIyiFKdIxSpa8YpYzKIWt8jFLnrxi2AMoxjHSMYymvGMaEyjGtfIxja68Y1wjKMc50jHOtrxjnjMox73yMc++vGPgAzkaeahQtm9YmI4IGQhYZc/iSVykYzMgSMVCcl/NDJij6ykJSWJSUpC8pIQy2QlQfkwUX6SkxArQRWswMpWuvKVsIwlK3vwgolFQAK4zKUud8nLXuJyBD4JCAAh+QQFMgAcACwvAQIAFwARAAAI6QA5CLTXbdo4gQgT/lv4D+G9WXQ8IDwzDCEXABgBCMTohkM5DioCjSqlhwMAXAIP+VnJcgsATBzShfoo8F8tDkjmcWDYkEM+l9kSKvwCINrOhQiJAXgjVKEbAM94Igx0silCdDZsvOO58JwKIO+scugXiANMrv9SAWCEVOg/VRzQ6OTqzwzUtgj/9erw5eBRpM8AjOmHd+deLt7yMuSwCECqxTWDqdiyTSFDeEU8lJPKoZgKKtfcMrwFoCzkYyqihG7K8Cmxvxy+2eAwp+m0o9sAYMEntZpYDr1qwvTEGd9veQjPiZsHmUNAACH5BAUyABwALC8BAgAWABEAAAj/ADkIhJfNmjqBCBGyu9btHsJ1p9QAQDhHGsJ/wsog9EBo3D9lHJAYMhVqDQcbzwQGA6DC0S1XawCEeVft1TuE/SRxUPOPgxkAuRDqg8NhVkKE7TpwcNevAwB3F2EBmHRUYL8dHNhx8ALA3MVTAFJV5fAMQJmeqAA8ysfhHzguQ8hVlWeGgy6rppSEKaRnR5ppVfsh4iDIH8JeaQAo9oCo21F/lwCwuSmQFAA61/K965VEibaEngCoaYdwnAoqpP+pxgVgEELLadYlNAbAT1vV/8YB2CIQrBl0R4ddvt2zG4ArHFIBMHOu6jcAO7rh5hCqdrKJgqqO44AIQJda05ZBI/Lg4RmvsQKvcaD3SAUHxQC4EOMgDz0HfAjTFcvVCxpbDgEBACH5BAUyABwALC8BAgAWABEAAAj/ADkIjKetWjqBCBF+o/bNH8J2qBJygAMt4TEzCMcc+8ehGYciAkW54aCCGcIOHCRx8FSkw7B/11q5S3iJAxoO865wIIbwmoot8iQKhOeBg7pkANZwRHiIwy+hHPyBREcLAKOlAlNxSAQ1Gocw/m4BOPRv6b9SANQIpXfzFgdnAMbsK1tWDwAuEv014uCnH4d8YACc8lf2FwAASRL+C8VhTcJmQJI6ogNgDoAuCUdxSMMOYdlsh650GMNKGYeRAk/ZPOi5rMRZHCgJjCXwnES6Cf2NfMYBdphxQulifQWAjj/THAIJDcfh1aFbyHoJuvvt31OoHKb1PoxQT3XsCO/VCUamK5g31xwCAgAh+QQFMgAcACwvAQIAFwARAAAI/wA5cOBHztq2eAITJox3LRs9hez0IFHIppnCepeACERSSp/AcCrmSDrl6Y3AZAL9EQKwhlYsMwAkCcT37l/Cf6I4sOHw7xiHNPUEtgMDoJpChecA7Pj3TxAAYQpncYh0NKE3AGP+8RvSwZ1CbxzEVOWQDhAHWv/CcaByNF+HDg8FznmDxoYYXDapcTBj86YSAOQScrliA4AXVPw4PAPghqlApmEAdDvKj1ocAJA4TANwhqnnf1QAiFPouR2VDuC6AdjyWasHAO9ueubgB8AxfCpUxBVYjgMX2Y45qAGwjAMd4jd/cThE1t9sDsw6AImdC4AffwL1sQGAjAMlNKV6HTPDdei1K5v5hh+C1iwQAD3YZRU56iWX43/n6CQEIMgrz3zUCJPLL9bs8xxT1vTyyzYKBQQAIfkEBTIAHAAsLwECABcAEQAACOgAOXD4l06btXQCEyb8x/Cfwn+Suij0MsufwHzANNEpwkETQ4H/yphpVKoUIQ8APglUB4ADACAAPDocqE4hB2YeVNSMhypZOlkxG9pciAYAtIEfgcqcOdRfGADhGjpUKnSovVIcBCGdSbVqRw5qkiTBVG+rQKVmBSLiMIRDkUbs0qL1CnLcIw5m7FWd+7GpHgC69galq9AVh0tSOXRlOtQTB8dCF3Nwd8/mOS8Akm39J9kYlku2OPjCpIQDIIv/WE2aNAeAmtUqpUlUOEQTvYRwWiYEAICLQH/bkHHo5UyeZXHIk4sjxyEgACH5BAUyABwALC8BAgAWABEAAAj/ADkIXLetGjp/AhNy8HdumrZ7CkWBUbgllT6B0SBdAQCAAxBJ7gTGEbNo1KlDNjg0EoiIg5lJqCRFAaCmnsKE1nYA6MZhVrJ+/4KmAwNg1s2EdjgYuxn03ywAhY5y+OeGQzWmQYUBGHRUnywOcxAqbNoIQKqEpzisiTIE0rujQZd1ULIuoSUORTjsOFQOLjkuAIRJRYeJg5e3CtWhAeBKqsB/LVcpXIeGQynHCXtxaCmwnRoAof5hFthKpcB3bwBoCpoQHr2b7s5w0AwPDoBI/lhjVBKpFodfn7BwgHPREIAikiYpF4iKW5ibO9wKpNPxaJqp3pLp4sUMsUB04qSeAgsIACH5BAUyABwALEYAAgBHAUsBAAj/ADkIHEiwoMGDCBMqXMiwocOHECNKnEixIkF/57Bda/fPID1v1MDls0iypMmTKFOqXMmyJUNBVwiaAdaRQ7I1KgbaQGTOpc+fQIMKHUr0oQc1kE6N4gOAgy2BsJIM0sSBEhcOYdoV3cq1q9evYAnuAnBFH4d2+2pymLeGg6qwcOPKnUs3Ib8iHMohrMVhUd2/gAMLbmnPhg18CFdxCDW4sePHkA3Ce8QBk1qC07AA+Ra5s+fPXw9xSANky6l9BKO9efMFgB1rl0HLnk375BwOOzhQwUSP4LIrVAAAgKOstvHjyCP66zaIgx1/Bf/Z+3XFQ7Lk2LNrF4gPDYdmBP+J//83DACb7ejTz6bEIdbA8R3hAbDBT739+40NORUIX+A3AHjhJ+CAXKlTH0Hc4LUNB+j0VxUAghAo4YQ/zfLFJ7lwwAskuUXSUReBtCLMMLGsAWA2FKao4knDxEQQFaigxgEfHhQ0xzWxrajjjg3xc00xufQSjT3htcPML7kQE854PDbp5JNQRinllFRWaeWVWGap5ZZcdunll2CGKeaYZJZp5plopqnmmmy26eabcMYp55x01mnnnXjmqeeefPbp55+ABirooIQWauihiCaq6KKMNuroo5BGKumklFZq6aWYZqrpppx26umnoIYq6qiklmrqqaimquqqrLbq6quwxv8q66y01mrrrbjmquuuvPbq66/ABivssMQWa+yxyCar7LLMNuvss9BGK+201FZr7bXYZqvtttx26+234IYr7rjklmvuueimq+667Lbr7rvwxivvvPTWa++9+Oar77789uvvvwAHLPDABBds8MEIJ6zwwgw37PDDEEcs8cQUV2zxxRhnrPHGHHfs8ccghyzyyCSXbPLJKKes8sost+zyyzDHLPPMNNds880456zzzjz37PPPQAct9NBEF2300UgnrfTSTDft9NNQRy311FRXbfXVWGet9dZcd+3112CHLfbYAsNn9tlopy2ePog5rPbbcK/ddsNx14022w/brfd4eLv/vbfefdP9t92BMzw44XMbfnjchS+8OOOJn7qNFlJUbvnlmGeuueVZ1NPZ43A3bmosLkxAwemop6766qyffsM8n4OutuilxqLDBrjnrvvuvPeeOw6wRyb77JGPfrvvyCf/e/Aq4TM82t8U8/zdxdd+vPLY8w78SmxPb7YWT3hvNu2k2p79+bpvr5I9oHDi/vvwxy///O/PwIH48JE/qvnoo6++Si1QgAAHSMACGvCAAxTA/fAnt1Xxr3/Z+99jGNhAVT0QgsqToGMo+A/9ieqCGESeBhuzDm2Y8IQoTKEKV3jCa+jFgtcLoQiZ9xgyNMEJOMyhDnfIwx7i8AesAqEMwLVHQ4UJcYjpK2LCjohE3OGAbFCMohSnSMUqWvGKWMyiFrfIxS568YtgDKMYx0jGMprxjGhMoxrXyMY2uvGNcIyjHOdIxzra8Y54zKMe98jHPvrxj4AMpCAHSchCGvKQiEykIhfJyEZ6hh32iKQkJ0nJSloykm95GAhmwMlOevKToAxlJz2AgocF4AJN7F0BSumwU6aSd6s0JSpfqbtYtnKWtMSdLRvmylzqkpW8xGUud8mwXvqSmAwTJi0L4JOAAAAh+QQFMgAcACxGAAIARwFLAQAI/wA5CBxIsKDBgwgTKlzIsKHDhxAjSpxIsSJBfeKodaN38J9HjxZDihxJsqTJkyhTqlz4jQ4QgnWsDfz4z58fAADGrdzJs6fPn0CDOoxmww4lVJvQcBgikwPNXABUcBj3T6jVq1izasU6bx7Bfo04DKoKslySRV1yVt3Ktq3bt3AdWgMwZq3AQFjWpaUat6/fv4B9PgNQx24vAL847LUbuLHjx5ARjnvDgdjAdFf0+FOsNrLnz6DbuqNsRgWaYXYNFQnncW/o17Bj72x3hYPUMbU2cxAGYNZH17KDCx9OUZ8zpab+tePCZp/Af4uJS59O3aA4FTvgRepwTJx3cVsARP8TV6+6+fPBlVoDhLN9ew4AlKGfTx+yv9rbaE3az78IgEWTcFPfgARqhQ5jHPgCwBbOIRhdgRBG6BMhbpySmC2BdNBBYk7RBN1UCEoo4ogifbJDQWMQs5aH0OVE4oswWlRPNMFwAEw2/RTkITniOBfjj0AGKeSQRBZp5JFIJqnkkkw26eSTUEYp5ZRUVmnllVhmqeWWXHbp5ZdghinmmGSWaeaZaKap5ppstunmm3DGKeecdNZp55145qnnnnz26eefgAYq6KCEFmrooYgmquiijDbq6KOQRirppJRWaumlmGaq6aacdurpp6CGKuqopJZq6qmopqrqqqy26uqrsMb/KuustNZq66245qrrrrz26uuvwAYr7LDEFmvsscgmq+yyzDbr7LPQRivttNRWa+212Gar7bbcduvtt+CGK+645JZr7rnopqvuuuy26+678MYr77z01mvvvfjmq+++/Pbr778AByzwwAQXbPDBCCes8MIMN+zwwxBHLPHEFFds8cUYZ6zxxhx37PHHIIcs8sgkl2zyySinrPLKLLfs8sswxyzzzDTXbPPNOOes88489+zzz0AHLfTQRBdt9NFIJ6300kw37fTTUEct9dRUV201pfrQo/XWXHft9ddbv+NVwG3cYPbZaKet9tpnk/CJwCtosMHcdNdt9914z51AJ3DL/53334DrzXfAcQduON5793344nQnTrjfjB/uOMCFRy754JRDbjngk2/K4uegh+7hZ5Vvzjnmnouu+uohNla66Xl3rinrtINOuuaw3y17prX3TlNKxBQj/PDEF2/88cPbMszrudu9O6a+R49SL0FAYf312Gev/fbXf8AE8803jvrs0feO0is5hJ/3AByAr/7zl5ZvPkrpq383++6HD7+l8td+u/3OGx/v+se6/wFQfJ4iYAE9k7/m7a9SClydAQ+4gQR8KoKqC9g/fLGLDnrwgyAMoQg/6KN/5aIGR0ihClfIwha6UIUkuJoMZ0jDGtrwhjjMoQ53yMMe+vCHQAyiEJWHSMQiGvGISEyiEpfIxCY68YlQjKIUp0jFKlrxiljMoha3yMUuevGLYAyjGMdIxjKa8YxoTKMa18jGNrrxjaCZBwY99IqB4UCOc/wI+gR2xzzqMQd8xKMf9xiwPvrxH4QEmCEHCchCCjKPifzXIiHZSICVoApWyKQmN8nJTnoykz14wcAiIIFSmvKUqEylKks5gp0EBAAh+QQFMgAcACwvAQIAFwARAAAI/wA5cPiHLpu1dQITKlwo8N8iLgrD5Eq4DYBFiwLRNNyCxlEpUoE6ADglsOIWPyhRQmqoTuE/Yxx2xONQsdC/mzgZJvwHBgA2mgBs4rypU2C/Kx1a1iSaUye9TRwQlQQwpk8aOp66/XMpiYOaIlRC4ZsKIAoWizYm7hTEYQiHJJHeCTzXq51AdZo6eJDG8N83qWv0Dd25CYChovziABA2dOg0AF+26izFYVRjnOE4UJG88F/XU5dvHgOg5l+7fAvHnX3GoaXCd2sAjOLwiwumWxx6WSpiWOAaPayCDTu1hcMYdxyYFVeIRNQ9gYAuWuxAyFzCftqO5X5Gb+G5ZL5yHQU7R5RDQAAh+QQFMgAcACwvAQIAFwARAAAI/wA5cNg3rto2eQITKnx37Vq6hOfuFFEI51nCf/++EVKh0BsHbiroTELliQ0AFc4E/rsWBQAdUqUSXZHGwR48hf4wcaDzj8O8MR16KcRHT6HCbwCi9JTFwZHRpwqzAUjTcw2HaVChRuSgy6eKDu9q3VETKFc+hfzecDijokyvnt0AcNED4AsaFQDq1Eu47woHjmBa9eNgDQCAHcY4/BOXBoCnp/ukueFw6Z82w5oUYlWyD2o6JCrOlTOsTOG/JAC+ZaXDYZk/JACwXgwDIFtWMxygcRAEAJhCe3jXoeupEBmAIkWJAZgzWDFTOBwepTEl9FYhDxxqCfTHB4AfZM9GqSVQYVHVRIVffBH/965QQgBdkCXEN00Yh1/X+BnF6O1Xrmb2JBQQACH5BAUyABwALC8BAgAXABEAAAj4ADlw+Hcu2zV2AhMq/MfwX8J/iLYoDLMrYR8AGAEkBGBjIBU0j0qRCtQBwCqBovyoXDkGwJ2B6hYO4zCE3sCGCekAAKZwIRcA2246FPitQ5R6PRPyU9KhndCEogBQSipwHiYOjYQ23OcFwLWFkDikKXJlVD6tDJEBUMPwISAOQDgokQQPLQdCAGi17fnv2yEObvY1dKjOxg52OJPucwOA2GAOrwAgekp1FAdTj9EAWEY56SMOJxtGA/CF32B2+nqGowJgmlBIAEw95dVlEy4OvSgV4TD55jwkHcI9ViZRYRJS+B7y4sDnscB+2Y7hfmazJztx7hJzCAgAIfkEBTIAHAAsLwECABcAEQAACP8AOXDgV86aNngCEyaEl22bPIXu+CRRuGZZwn/S3Cicc+0fh3Iq4kg69SkOAA/IBF7bAUAQrVl9ABTpxiHfO4UcSnFI4/EQAEsKG3GAhDOhOgAq/HFQAyDaxWUA6BQVGA4AGI+BACi7OAzAoanqBHGIJfAYgDoI/7Vz08GZQqlobISx5VFgLy9YBAWKAkYYzi8cbHDocmpfwmV2ACjm0OfZVH7WpDbyGMyDmWX16CULo+LYVA7usHTwpm8LgGwc/qmOBkDMZw5ih30DwEWg6n/+kgBI91ljsm4AlPi7/U8fy3PplCp85mFHO31KABy7zeEXAC/+MJ0p1YtDLkQqOKQxEphK5qlnz0oBAVCLAy0kOLncqtvv1BAOigEgeZUwH7Vh1VVjGE7vKKOLLss8JFBAAAAh+QQFMgAcACwvAQIAFwARAAAI/wA5CBSY7d3AgxzMUeOm7yA8PwjVJDtoDc5ALLP8CUznwaLAOQKJCbQ2hIOhWqa8cDD1j4M+dwhPcTgj8M3Kgem2qOiGcCDMDvvGAShi72AqDp56CizHgQuHZwDWtByIjEMapesIcWDFIRoANP+m/hsGwEZDgXoGfsnIQV2HHerChtUEAMC6gWM47Gha6qwfAIjwhZ0GpO44hP2uCUQk8NsWAGUYBbLBZgcAdkrfcQGwLaw5SV8AdMHEcwg/pRwKcQgmF2EzAHSm9gRpTK5sDo4A1Lo9MJoKG+lsD0zm4Uu8f5/MkOIlMJFAmRyQ6Zl1LJgjFU9b3lJaSyMHZioADBREI022vmoDqZ0d+E4Zr1/W/MkOCAAh+QQFMgAcACwuAQIAGAARAAAI/wA5CPxHkKDAgwf/gaMmDiGHggS77QDQB+E/aWkEAlhjLWFBfnBUcOjzb+C1ISoo7ZLkAcm2gSU5vOqwiWLMf3EA7BpYC8Adh9+GQEpmk+A2AGP6Hdz3BcC3g/3scHFHlOTDWQAmWYQEANfBnsM4VC35TxKAVxZTAcAkcBwSQQTHPiwEoJfFXBwScfAHSIm5uDYFBuJA7OY/YRwIcdDVdaDcxAB8QfyniwOid0rSgBPHuRcAOuLKcXAEQNbkVgAojQPAunVrDl84sALgyeIlALPaTdrNOxCAL5NGcYi20SIaANcexhQ4tiS/MgCcOQaAxp9yiI//HetwRVc1XEo8LBqDiT2w8l5FNCb5ZRFiPXHp2sM7puuYvIMBAQAh+QQFMgAcACxGAAIARwFLAQAI/wA5CBxIsKDBgwgTKlzIsKHDhxAjSpxIsaLEfxgtatzIsaPHjyBDihwJEV8aDgD8DewWC5EZgej+kZxJs6bNmzhzXhwlMOVATwAA2PAAIKZMnUiTKl3KtGk2G59QqhSITNe1fFuKZmzKtavXr2AV5lNj5p1UgRgzZjV6NKzbt3Djgvx3qsOze2c5pBW4dq/cv4ADCy64bYckDnh96t3ad+vgx5AjL90Hp4vZxFP9Nm4rubPnzx7/sQJgTCBmtIy1OgbNurXrhd+ADBp4evHRza9z6379z8+OaCtRhhOXT7NqzruTKxf87yVCAN2Ms11OvXrcf6YKRkLJYVI66X6ti/8fH7Z2Wpm4yatfv7Q2h26T4gMB0Ci+M/b489t07yzowKAAzKLfgAR+pJI4BNkjzoIMLghPgRBGKOGEFFZo4YUYZqjhhhx26OGHIIYo4ogklmjiiSimqOKKLLbo4oswxijjjDTWaOONOOao44489ujjj0AGKeSQRBZp5JFIJqnkkkw26eSTUEYp5ZRUVmnllVhmqeWWXHbp5ZdghinmmGSWaeaZaKap5ppstunmm3DGKeecdNZp55145qnnnnz26eefgAYq6KCEFmrooYgmquiijDbq6KOQRirppJRWaumlmGaq6aacdurpp6CGKuqopJZq6qmopqrqqqy26uqrsMb/KuustNZq66245qrrrrz26uuvwAYr7LDEFmvsscgmq+yyzDbr7LPQRivttNRWa+212Gar7bbcduvtt+CGK+645JZr7rnopqvuuuy26+678MYr77z01mvvvfjmq+++/Pbr778AByzwwAQXbPDBCCes8MIMN+zwwxBHLPHEFFds8cUYZ6zxxhx37PHHIIcs8sgkl2zyySiPd97KLLfsMkb64EPtyzTXDLPM09qsc8sxz7zzzzf7DPTOPec8NNE4S3s00kIvTXPRSjtdM9RtbqOFFFhnrfXWXHeddRb1QCb11Em3GYsLE1Cg9tpst+3222rfMI/YY79MNZux6LDB3nz3/+3334DzjcPcj9Vtd9l46x344owLTjhI+Bje8jfFSM4z4mvm3fjmgQ8eUsyWr6zFE6GvfHfminOu+t6eg2QPKJzELvvstNduu+wz2Fb6P6erqfnqq7cOUgsKFG/88cgnr7zxAuheeu9p/g4858Izt3vQb0o/fePVB3Y99m5qv/3i3QO2jjbop6/++uy3n/415cAp/viAl/8XGU04of/+/Pfv///6+0Gc5kc/v9mPWQQsoOOmlUAFbgAHKYugBCdIwQpa8IIYzKAGN8jBDnrwgyAMoQhHSMISmvCEKEyhClfIwha68IUwjKEMZ0jDGtrwhjjMoQ53yMMe+vCHQAyiEGmHSMQiGvGISEyiEpfIxCY6MTLssIcUp0jFKlrxilJURbVAMIMuevGLYAyjGL3oARRQKwAXcCDgCmDGaaFRjX9j4xnTCMe+ydGNdKzj3u4orTfqcY9t7GMe9cjHaPnxj4WM1iDrWICZBAQAIfkEBTIAHAAsRgACAEcBSwEACP8AOQgcSLCgwYMIEypcyLChw4cQI0qcSLFixHrdppGzyLGjx48gQ4ocSbIkxH50BK4TaE8WnQ4ABKIhZrKmzZs4c+rcOVFWBw8cVnIIB8BGoFGl7gAAsIun06dQo0qdyuHbEElJggo8N+rcv6//ZAFQYo+q2bNo06ol2M9OFw5ZhRb86o8LAGpr8+rdyxekLQDG/sU9CFYNgGh9EytezJgDuSSDOAjWavBrORU74jXezLnzU3+BlJyTPLhyPz4APHlezbp1SF4ccgmcLJfgv1MA0tBzzbu374XortDpN7t0QVscwIz7zby570UelA0UV4TDNQ73COrq4OWb8+/gO6f/TIhY4C8PXLr9C8++PV9YBSfZ4NCoqsBhKq5g++q+v/+8tA1UjApUXAPWfwgmKFWAHHSjAgApTSKhQNUoaOGFNTEYTUwHAYPhhyB69M9y/Ah0jzgIzRPiiiy26OKLMMYo44w01mjjjTjmqOOOPPbo449ABinkkEQWaeSRSCap5JJMNunkk1BGKeWUVFZp5ZVYZqnlllx26eWXYIYp5phklmnmmWimqeaabLbp5ptwxinnnHTWaeedeOap55589unnn4AGKuighBZq6KGIJqrooow26uijkEYq6aSUVmrppZhmqummnHbq6aeghirqqKSWauqpqKaq6qqsturqq7DG/yrrrLTWauutuOaq66689urrr8AGK+ywxBZr7LHIJqvsssw26+yz0EYr7bTUVmvttdhmq+223Hbr7bfghivuuOSWa+656Kar7rrstuvuu/DGK++89NZr77345qvvvvz26++/AAcs8MAEF2zwwQgnrPDCDDfs8MMQRyzxxBRXbPHFGGes8cYcd+zxxyCHLPLIJJds8skop6zyyiy37PLLMMcs88w012zzzTjnrPPOPPfs889ABy30n/rQY/TRSCet9NJHv6Niu23cIPXUVFdt9dVTk/CJuytosMHXYIct9thkf51AJ1x7XfbabJuNdrtdty032WenPffdYNcNt9p4z/+tN7tx9+3324DzLTjbfx8K1uKMN+744/w1FvjhiBOuOOSYZ774ZpNTXnbihmouOuacG+752KAXOvrqjZNETDGwxy777LTXHrstw3R+utipE8r675GH1EsQUBRv/PHIJ6+88R8wofvueVseOvCsj/RKDtCXPQAHz2ff+6DUVz8S9tmPvX330H8vaPirl14+79Krzr7o7r8fvaLz0y+56eWrH2j+mquf/TaQgEUBMHPt+ocvdsHABjrwgRCMoAP30a5c1OAIGMygBjfIwQ5mkARDC6EIR0jCEprwhChMoQpXyMIWuvCFMIyhDGdIwxra8IY4zKEOd8jDHvrwh0AMohB+h0jEIhrxiEhMohKXyMQmOvGJUIyiFKdIxSpa8YpYzKIWt8jFLnqRM/M4IONe8S4chFGMYLmeu8yIxjTmYI1nbKMa28XGNv5jjuyqoxzfSMc4ohGP69LjH/nIrhJUwQqITKQiF8nIRiKyBy94VwQkQMlKWvKSmMwkJUdQk4AAACH5BAUyABwALC8BAgAXABEAAAj5ADkIHEiw4Lls19YVJNiOCwcx/wT+S7QFwMAwuRZyQKQCAESJV9A8KkUqUAcOqQomA/DJY0QO/9S9FEiMA5B5A911sdPNpUaJXjhoG9hoRzdvPn/2o9KBnUBlAFhxQPpRIz1NABZFjBdGjb6pSQdCepOmCBVR+ARK8kBNINWZAgNdAQIgiaR3HJ518PTyrcZ/3xABYLPPzJZtA5sB+CKOgz+C/yLzgwNgmIqfAu0NjByZQykApSgVFIxkEoevMDkLhAQgZUG/HNrlU81B3BUA0RbC7sVF061jvSgVAXAIrtuky7YURDIKn/HT4sq9/Ncv27FcvZ7R4xwQACH5BAUyABwALC4BAgAYABEAAAjcADkIHEiwIId/CP8ZJPisA4dHBBP+o6YCAKKF9MoIhDgw4T00FREpLKhpB6aHEQWOUoHJIkKCFE/lQlkwm41Rv1yO5IAvDZp7MzkOzKdmDL2cIneO8iCNQ9CCpwA044B0p01LCp8O3Lbj4L+qAol6eSdQK4d9cLa0QwiWQ1RkA82yAjBsYNV/42zcETdQFYdDHM6dAzJHnGFxsQAMEnduGoCFAuNcA0C5cmUOa8JNKmiHwxkOrcpNGk1aDwAzmxeafWlXp2qaXiW2Nbha4leXkONxYBdRojxx6wQGBAAh+QQFMgAcACwuAQMAGAAQAAAI6QA5CBxIrwwHJAM5LALAkCEHAL0SCvx3SSDCgQvh+Nm4cZlEDtA6fDqYcCG1fyhRfqxnZg06khgBnEz5T+I/Tx6osYMp0CTNmgmtqRi582JPAIHcrCHE615CfGnEzONQtCQAFV5sAODgcmIpAMwEVp1YbBo/DvucoQFgR2A2G44GjuWQcuA/dVEAWPs3p4i1gdc4FOEgbt/PlIUA2PrX5eNAAOYOo5TEwdW/UBLj2uAw6Z3kf3EABHM89x2+hP+EAQCSjjRPZVcs3TqWy9DDVo6p8oxWpCHDLbdyczg7LqG+a8Ny+ZKGD2hAACH5BAUyABwALC4BAgAYABEAAAj/ADkIHEiwoEB/36h1u2dQYDYbHAYR/NcvV5iBRTAZzLdGoMSB/iQBUAIJFSY6dgye8rApIsFeHNSkI/iu4LYdmIi5FKivi4duDQfug/Plnc6PHJYBsPMvqEBXAJBxODrwFABM3SBxeCNpG8FvQxA1pSoQEgBDO3ao2cLBhjCB/epEQSeQLIdDAADoYffvXy0OQMhxoAXA10C7iwDsECzwHyEOqdgVYRNu4C0OfDiY+4cJgJqClw11A+DUzL9bSwu+DZRuUkE/HC6a+rcNwBd/BFNx0GrQ7j83AI4NrBcGQLGGvqXZGNIq2jA2HOrwQ76TQ99kbAWerdmQHoeZA/veCFum69e3gQEBACH5BAUyABwALC4BAgAYABEAAAjiADkIHEiwoMB/CBEaFBgvDIcrA68BmAhg4ERTBf9JEghR4Dc/IEP26QBgWcFnHT49JJjwn8BoAMDwI0jPzJpyKw8mHAgJwCmWmFRgQ5eTw06B85B0CEeQmodRHIh2NNryHy8AfAjiQzOGXtSiVf/N4RDMpdFQHZwJlDqwqjcAUeoptKYi0kC2OhV+AnCppZsk1wZW4xCFgzh+O/d1AXCtJZaFAgGo23kMgBqqCD0VbMRhB4dJ8VoOAlAL80K8Os+p2NGu5emiVFkBQFT19VSB/sxwaOZ64cxxBfmJE9dPocCAAAAh+QQFMgAcACwuAQIAGAARAAAI/wA5CBxIsCAHfuWskeNncOA3IBzsDPyHb5SSgUlE4ftXsB8dgRIF/lsE4MqoXKOwAEDEkeAsAJgiOgQA5JvDIQC8ERyHpBEzmQKTAfg40Q4AZAP9+cGy7mdIDtgAqJn4zw2AawNxAQjGwWnSOVtFCusQx5/AckkCcfQ6kF0hD2wMufFQaN3AQEXECWQrcF5KAAA4XAklT2AvALQG8s33BoAlcv7IYQLgBp+8K2dsCvzFIQ4Hcv9yAQjE4Z/pf4MA5DoXuCEHLv8gAZhV2jSHWwAevZtUUBAHLxw+/XMEYFVtjrEANGrIt5bUfKf1sUHMHCgHeF8AzBlGbRjYL++qPxnl0C1OYMAA4nRzbY8DuoL/tv3K9WvbwIAAACH5BAUyABwALEYAAgBHAUsBAAj/ADkIHEiwoMGDCBMqXMiwocOHECNKnEixYsR82qih+2exo8ePIEOKHEmypMmH44pwoENwn6kkAjvc6cbxpM2bOHPq3Mkzoh2BLAtyKWXrEIAt43oqXcq0qdOnHG5x2LRyYDMOV84NXAXgUE2oYMOKHUtWILkkiZ5VFUiJQymC+Kh4SFe2rt27eEMGuqJObVAOgDgIKziHA7C8iBMrXsyhF4dfHPwOFATA19d/bACQYsy5s+el6K7o8Rd5LQdPACj9W/2v3RAAkD7Lnk07pKEh4ARKFnitw45oq/M1AgAAUe3jyJMrDMYh1sDdHP5tVuGnkRkAcwBEUs69e217WMoQ/2TuhkPS1cPoDNkRJ5kmDqe8y5+/mJ3CK9FXF+TDIRn9/wCWJY9Bg3DAxWn5fcVBOSpcYU+AEEY4FnSs1YQPIACooqCEHHa4E4WDYNILMrOgAYAe+Wzo4YosjgQdB34AMJAKmNSjYos45hiSP9sIo4sx7dyo45BEFmnkkUgmqeSSTDbp5JNQRinllFRWaeWVWGap5ZZcdunll2CGKeaYZJZp5plopqnmmmy26eabcMYp55x01mnnnXjmqeeefPbp55+ABirooIQWauihiCaq6KKMNuroo5BGKumklFZq6aWYZqrpppx26umnoIYq6qiklmrqqaimquqqrLbq6quwxv8q66y01mrrrbjmquuuvPbq66/ABivssMQWa+yxyCar7LLMNuvss9BGK+201FZr7bXYZqvtttx26+234IYr7rjklmvuueimq+667Lbr7rvwxivvvPTWa++9+Oar77789uvvvwAHLPDABBds8MEIJ6zwwgw37PDDEEcs8cQUV2zxxRhnrPHGHHfs8ccghyzyyCSXbPLJKKes8sost+zyyzDHLPPMNNds880456zzzjz37PPPQAct9NBEF2300UgnrfTSTDft9NNQRy311FRXbfXVWGet9aQVdu3112Cvpg8+Bodt9tlik10w2mx/PXbZbcedNtxyt/322nXbrTbBeev/TXffZt/NN+BnC/7pNlpIofjijDfu+OOLZ1EPZ4QXvvensbgwAQWcd+7556CHzvkN81BeediGexqLDhu07vrrsMcuu+s4lM7Y6ahfrjrrs/fuO+22j4QP7l9/Uwzxbuve6eq/Nz977SSNjXzXWjwxfdepL8+789y3Dv1I9oDCyfjkl2/++eiTP0OC1/+TPafMd9/99yO1oMD9+Oev//784y8A+9d736biJz/n0U8x7WONADVFwAL+7oCJSeDcQtVAB/YOgohZhzY2yMEOevCDIOTgNcohqgpaUHYYzAsZmuCEFrrwhTCMoQxb+INRmfCEsEuhv26IQ+AVjIc93AAOr7ZGxCIa8YhITKISl8jEJjrxiVCMohSnSMUqWvGKWMyiFrfIxS568YtgDKMYx0jGMprxjGhMoxrXyMY2uvGNcIyjHOdIxzra8Y54zKMe98jHPvrxj4AMZGfYYY9CGvKQiEykIgupioOBYAaQjKQkJ0nJSkbSAygwWAAuEETZFSCTBdtkJ2P3SU1ycpSvK2UoT4nK1qmSYKJspStBCUtWtvKVA4ulLHE5MFuisgA2CQgAIfkEBTIAHAAsRgACAEcBSwEACP8AOQgcSLCgwYMIEypcyLChw4cQI0qcSLFixHfWtt2zyLGjx48gQ4ocSbIkwzIAUqbkAKDbwHeNbAik8qqfyZs4c+rcybPnQ5R+ggolJ1AfHQ5zbLUCw6HUP59Qo0qdSnUqSn//smYdqItDHX0CzV1R8a2q2bNo06pNeFXrVoFvODwjSAqA07V48+rdO7KtW4HvOhQBOzAaADhP+SpezLgxQZSH1LhhlMyfQGoA0CQWeA4Aks2OQ4seLRXlDi8eAHA4lI8DMgB0QONTbY+07du4Sebq9vReLywARHEYBiDQ26xAOLDLzby5c4daB/6DBqCIvWMA7Lj9p68Dh3nPw4v/f77dLRcA16in2a4OwA7L4+PLF11eqxoO0NIBoAJf4DUAaoA234AErlXfP/bsAAA4HJgBADYEwQLAJQIWaOGFUq3THwf9bJKZQKkAsMhA9IzBATUYpqiiT6eUMQovx8wCBwcqNCMQPGMAEEk0yhyFSIUrBinkR7WooFJKaNg40DdrDARAIkNGKeVH80ATTC7AZIMVQf/0I00vv5Q15ZhklmnmmWimqeaabLbp5ptwxinnnHTWaeedeOap55589unnn4AGKuighBZq6KGIJqrooow26uijkEYq6aSUVmrppZhmqummnHbq6aeghirqqKSWauqpqKaq6qqsturqq7DG/yrrrLTWauutuOaq66689urrr8AGK+ywxBZr7LHIJqvsssw26+yz0EYr7bTUVmvttdhmq+223Hbr7bfghivuuOSWa+656Kar7rrstuvuu/DGK++89NZr77345qvvvvz26++/AAcs8MAEF2zwwQgnrPDCDDfs8MMQRyzxxBRXbPHFGGes8cYcd+zxxyCHLPLIJJds8skop6zyyiy37PLLMMcs88w012zzzTjnrPPOPPfs889ABy300EQXbfTRSCet9NJMN+3001BHLfXUVFdt9dVYZ6311lx37fXXYIct9thkl2322WinrfbabLft9ttwxy333HTXbffdeOet994q6v9Dz9+ABy744IQD/g54Jrdxw+KMN+7445AzTsInJ6+gwQaYZ6755px3jnkCnVR+ueekl/556CZbbvrqnYMuOuuwZ+566qPHzvrsJatu++2o51777qXjDuyBxBd/oGi6Ax9878Mb77zxyP+ufOvM//r89ceHlvz01A+L/fd/jURMMeSXb/756Kdfvi3DbM/95sJbDz74I/USBBT456///vz3n/8HTHDf+2RXPV/Nj34ieUUOBui5AXBAgAyMnwEPiD2SLJCBnHMgBAcowV5RsILakx4GO8irD14vehiEXwE9aELnoTCFBPReC6EXQhjKjlgzpCHJ/uGLXfjwh0AMohDDhwjEfZgsFzU4ghKXyMQmOvGJSyQB36ZIxSpa8YpYzKIWt8jFLnrxi2AMoxjHSMYymvGMaEyjGtfIxja68Y1wjKMc50jHOtrxjnjMox73yMc++vGPgAykIAdJyEIa8pCITKQiF8nIRjrykZAczTxyuJ1XoAwHk6SkVhR4MkxqcpM56GQmP8lJk3nyk/8oZclOScpQmnKUmlQlyVgZS1eWrARVsIIud8nLXvryl7rswQtQFgEJGPOYyEymMpdpzBHcJCAAADs=\" />"
      ],
      "text/plain": [
       "Plots.AnimatedGif(\"/Users/Mariana/Documents/Code-MarianaTesis/code/julia-code/Mariana-Notebooks/vels.gif\")"
      ]
     },
     "metadata": {},
     "output_type": "display_data"
    }
   ],
   "source": [
    "anim = @animate for i in 1:50\n",
    "    histogram(eval(Meta.parse(reads.speeds[i])),nbins=15,ylim=[0,180],title = string(i))\n",
    "end\n",
    "\n",
    "gif(anim, \"vels.gif\", fps = 2)"
   ]
  },
  {
   "cell_type": "code",
   "execution_count": 10,
   "metadata": {},
   "outputs": [
    {
     "name": "stderr",
     "output_type": "stream",
     "text": [
      "┌ Info: Saved animation to \n",
      "│   fn = /Users/Mariana/Documents/Code-MarianaTesis/code/julia-code/Mariana-Notebooks/times.gif\n",
      "└ @ Plots /Users/Mariana/.julia/packages/Plots/XbAWb/src/animation.jl:104\n"
     ]
    },
    {
     "data": {
      "text/html": [
       "<img src=\"data:image/gif;base64,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\" />"
      ],
      "text/plain": [
       "Plots.AnimatedGif(\"/Users/Mariana/Documents/Code-MarianaTesis/code/julia-code/Mariana-Notebooks/times.gif\")"
      ]
     },
     "metadata": {},
     "output_type": "display_data"
    }
   ],
   "source": [
    "anim = @animate for i in 1:50\n",
    "    histogram(eval(Meta.parse(reads.times[i])),nbins=15,ylim=[0,180],title = string(i))\n",
    "end\n",
    "\n",
    "gif(anim, \"times.gif\", fps = 2)"
   ]
  },
  {
   "cell_type": "code",
   "execution_count": null,
   "metadata": {},
   "outputs": [],
   "source": []
  }
 ],
 "metadata": {
  "kernelspec": {
   "display_name": "Julia 1.5.4",
   "language": "julia",
   "name": "julia-1.5"
  },
  "language_info": {
   "file_extension": ".jl",
   "mimetype": "application/julia",
   "name": "julia",
   "version": "1.5.4"
  },
  "orig_nbformat": 4
 },
 "nbformat": 4,
 "nbformat_minor": 2
}
