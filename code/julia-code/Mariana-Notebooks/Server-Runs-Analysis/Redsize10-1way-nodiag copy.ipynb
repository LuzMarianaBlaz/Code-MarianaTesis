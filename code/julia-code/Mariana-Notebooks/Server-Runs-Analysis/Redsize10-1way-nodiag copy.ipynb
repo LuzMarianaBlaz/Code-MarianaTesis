{
 "cells": [
  {
   "cell_type": "code",
   "execution_count": 1,
   "metadata": {},
   "outputs": [
    {
     "data": {
      "text/plain": [
       "plot_digraph (generic function with 1 method)"
      ]
     },
     "execution_count": 1,
     "metadata": {},
     "output_type": "execute_result"
    }
   ],
   "source": [
    "using DataFrames, CSV, GraphPlot, Impute, Plots, Colors, Statistics, Random, Distributions, StatsPlots\n",
    "\n",
    "dir = \"../../Mariana-Paquete/Mariana-Basefunc/\"\n",
    "\n",
    "include(dir*\"funciones_de_red.jl\")\n",
    "include(dir*\"objetos.jl\")\n",
    "include(dir*\"dinamica_conductores.jl\")\n",
    "include(dir*\"animaciones.jl\")"
   ]
  },
  {
   "cell_type": "markdown",
   "metadata": {},
   "source": [
    "Calculating the maximum number of cars that can be in the network at the same time"
   ]
  },
  {
   "cell_type": "code",
   "execution_count": 2,
   "metadata": {},
   "outputs": [],
   "source": [
    "SquareNet, position_array, dist_matrix = SquareDiGraph(10, doble_sentido=false);"
   ]
  },
  {
   "cell_type": "code",
   "execution_count": 3,
   "metadata": {},
   "outputs": [
    {
     "name": "stdout",
     "output_type": "stream",
     "text": [
      "This is the max number that can be at the same time in the 10x10 network: 1656.0"
     ]
    }
   ],
   "source": [
    "total = 0\n",
    "for edge in edges(SquareNet)\n",
    "    total += dist_matrix[src(edge),dst(edge)]\n",
    "end\n",
    "\n",
    "print(\"This is the max number that can be at the same time in the 10x10 network: \", total./5)"
   ]
  },
  {
   "cell_type": "code",
   "execution_count": 4,
   "metadata": {},
   "outputs": [
    {
     "name": "stdout",
     "output_type": "stream",
     "text": [
      "This is the average distance for cars in the 10x10 network: 469.3968726731199"
     ]
    }
   ],
   "source": [
    "distance = 0\n",
    "count = 0\n",
    "for i in vertices(SquareNet)\n",
    "    for j in vertices(SquareNet)\n",
    "        ij_dist = LightGraphs.dijkstra_shortest_paths(SquareNet,i).dists[j]\n",
    "        if ij_dist >= 10\n",
    "            distance += ij_dist\n",
    "            count +=1\n",
    "        end\n",
    "    end\n",
    "end\n",
    "\n",
    "print(\"This is the average distance for cars in the 10x10 network: \", 40.0*distance./count)"
   ]
  },
  {
   "cell_type": "markdown",
   "metadata": {},
   "source": [
    "# Plots for analysis"
   ]
  },
  {
   "cell_type": "code",
   "execution_count": 11,
   "metadata": {},
   "outputs": [
    {
     "data": {
      "text/plain": [
       "\"../../simulaciones-cluster/un-sentido/sin-diagonal/redsize5/\""
      ]
     },
     "execution_count": 11,
     "metadata": {},
     "output_type": "execute_result"
    }
   ],
   "source": [
    "simulations_path = \"../../simulaciones-cluster/un-sentido/sin-diagonal/redsize5/\"\n"
   ]
  },
  {
   "cell_type": "markdown",
   "metadata": {},
   "source": [
    "## Read a single file"
   ]
  },
  {
   "cell_type": "code",
   "execution_count": 12,
   "metadata": {},
   "outputs": [],
   "source": [
    "reads=CSV.read(simulations_path*\"nautos1000/1/Datos-RS5-N1000-R1.csv\",DataFrame);"
   ]
  },
  {
   "cell_type": "code",
   "execution_count": 8,
   "metadata": {},
   "outputs": [],
   "source": [
    "# Get daily times and daily means\n",
    "daily_times = [parse.(Float64, split(chop(reads.times[i]; head=1, tail=1), \", \")) for i in 1:50];\n",
    "daily_mean_times = [mean(daily_times[i]) for i in 1:50];"
   ]
  },
  {
   "cell_type": "code",
   "execution_count": 9,
   "metadata": {},
   "outputs": [
    {
     "data": {
      "text/plain": [
       "50-element Array{Array{Float64,1},1}:\n",
       " [13.41246183053771, 21.811631336588878, 23.49292740037882, 25.5443496476097, 16.478406565434522, 27.849996661318013, 23.824642923444912, 19.170121706438913, 25.20832474466119, 25.259609261409782  …  13.6200728633047, 36.00002285026454, 16.02936246314229, 25.902443417755478, 21.93343219735587, 13.581545151569998, 18.06090043399118, 22.811661026074432, 26.836710936789814, 24.82391864954465]\n",
       " [13.412461830537701, 21.811840568468735, 23.505877871901763, 25.000350488702626, 16.478600721473526, 27.847079674327823, 24.12310369721885, 19.15918444390953, 25.805923361165892, 25.25825399624413  …  14.570055970944964, 38.150804348031954, 17.304688287969412, 26.084625356480757, 23.412652888816723, 14.366872507191914, 18.04126803374831, 22.811861159948023, 27.749717992582646, 26.076748058820044]\n",
       " [13.412461830537714, 21.811840568468774, 23.492886363104464, 25.000815964273386, 16.47860072147355, 27.853225777512517, 23.821725320905767, 19.159184443909567, 25.12528146742168, 25.266668971188704  …  13.5880987368337, 36.00028340214766, 16.039046228543697, 25.968112495464283, 23.073878981198135, 13.561626580842386, 17.688897917764706, 22.81192282902066, 26.03191554755628, 25.223109544931702]\n",
       " [13.412461830537714, 21.811840568468774, 23.492886363104457, 25.00081596427338, 16.47860072147355, 27.853225777106985, 23.82172532090576, 19.159184443909567, 25.12528146742167, 25.266668971188693  …  13.549044101525709, 36.0000185010511, 16.128892527634548, 25.965517232557914, 22.518097395872047, 13.594137067286226, 17.707670841149707, 22.81165773180041, 26.573511079036564, 25.11856482426589]\n",
       " [13.412461830537714, 21.811840568468774, 23.492886363104446, 25.000815964273365, 16.47860072147355, 27.853225777107486, 23.821725320905745, 19.159184443909567, 25.12528146742165, 25.26666897118868  …  13.61967761244756, 36.000018854136016, 16.11629190037624, 25.968451471737723, 22.59230752020622, 13.688853312699223, 17.560319232119213, 22.811672647921228, 25.346842255024768, 25.237084286368116]\n",
       " [13.412461830537714, 21.811840568468774, 23.492886363104457, 25.00081596427339, 16.47860072147355, 27.853225777107014, 23.82172532090576, 19.159184443909567, 25.125281467421683, 25.266668971188707  …  13.596942003109945, 36.00001850175829, 16.06752702977377, 25.316464556755477, 22.8061183265132, 13.569427054018092, 18.0689604017048, 22.81165175810679, 26.74846829345077, 25.326541371050467]\n",
       " [13.412461830537714, 21.811840568468774, 23.492886363104446, 25.000815964273365, 16.47860072147355, 27.853225777107486, 23.821725320905745, 19.159184443909567, 25.12528146742165, 25.26666897118868  …  13.576028734504177, 36.000019594034285, 16.15277261882173, 25.967874131505653, 22.887290755035423, 13.561824589075911, 17.671805661791666, 22.81165707173986, 26.618136070815723, 25.134621773522383]\n",
       " [13.412461830537714, 21.811840568468774, 23.492886363104457, 25.00081596427339, 16.47860072147355, 27.853225777107014, 23.82172532090576, 19.159184443909567, 25.125281467421683, 25.266668971188707  …  13.670001349497426, 36.00001850166234, 16.021216849950406, 25.961269855206154, 22.320342006802292, 13.600042580923258, 17.851298283190317, 22.811651726470046, 26.834061240240146, 25.52975662890711]\n",
       " [13.41246183053771, 21.812831060631154, 23.49302456844641, 25.544347139690952, 16.478371598708623, 27.852407922092368, 23.82687267711934, 19.15853252201225, 25.2309226707774, 25.26227013155061  …  13.880930266723823, 36.000009498888176, 16.937956428368153, 25.652505288535707, 22.991744793613606, 13.723354972319498, 17.684531813727887, 22.811783525694835, 26.67991614193309, 25.45143692158007]\n",
       " [13.412461830537701, 21.81311792092583, 23.505877871901774, 25.000351992850717, 16.478636985696955, 27.847112275401305, 23.892867132897617, 19.17077853284881, 25.298425218444425, 25.25830165928884  …  15.1228880928754, 37.0154685951787, 16.998502665082896, 25.666919456983948, 22.682343172097433, 14.636612793696116, 17.738706699901627, 22.811847318552196, 27.844439778275927, 25.331647932693528]\n",
       " [13.412461830537714, 21.811840568468767, 23.492927425724005, 25.000193980356467, 16.478636060107483, 27.85331145900397, 23.813301088543245, 19.170770031840352, 25.029824558902135, 25.266782176396283  …  13.601126292835488, 36.00001854637469, 16.1721681602896, 25.97240273825176, 22.72806409831398, 13.708684749495688, 17.517843821269793, 22.811660217862567, 26.505548226615787, 25.115015698386117]\n",
       " [13.412461830537715, 21.81184056846875, 23.49292742572398, 25.00019398035644, 16.478636060107476, 27.853178020640172, 23.81330108854322, 19.17077003184033, 25.029824558902106, 25.266781729296294  …  13.737434721015575, 36.00001854837981, 16.123273806981217, 25.21024317977063, 23.11630601395484, 13.677720373046697, 17.973656718220667, 22.81165171927006, 26.9516515767657, 25.84349262874929]\n",
       " [13.412461830537719, 21.811840568468764, 23.492886363107846, 25.00019607945281, 16.478600721473548, 27.853245250634995, 23.82613173744097, 19.159184443909552, 25.05307699797675, 25.266693951957745  …  13.51637286128647, 36.00001854686198, 16.081126998780746, 25.976369014167858, 22.84494532656481, 13.51307754787436, 17.55719866244786, 22.81177526738321, 26.336359322929155, 25.048426332403523]\n",
       " ⋮\n",
       " [13.412461830537714, 21.811840568468757, 23.492927432425997, 25.000196079452788, 16.478636265549245, 27.853311314693926, 23.822993712724934, 19.170770239555356, 25.05033341771592, 25.26678208470632  …  13.5393321274303, 36.00002993715316, 16.15531322937767, 25.25464522263985, 22.550869296941784, 13.512413787882252, 17.837855986509396, 22.812017487112172, 25.895875492915195, 25.54852444353682]\n",
       " [13.412461830537714, 21.81184056846876, 23.49292743290198, 25.000221278495523, 16.478636265548037, 27.8533111008417, 23.86587139117628, 19.170770239554145, 25.232027078379865, 25.26678194677117  …  13.592765778962615, 36.00002086520931, 16.13321062960128, 25.972984518657057, 22.465127465667308, 13.64463848858233, 17.77483862791803, 22.811661176584636, 26.215928466788426, 25.067588279894693]\n",
       " [13.412461830537717, 21.812830803825474, 23.492935355003883, 25.693983026768766, 16.478406527770197, 27.85236014334928, 23.887429585691674, 19.170120338653074, 25.432902735640035, 25.262233726397106  …  13.623023140057029, 36.00001661869962, 16.127832860632225, 25.66187157699696, 22.336696261734858, 13.618382043346031, 16.813705015780243, 22.81186142145299, 26.20615379914443, 24.791512197211233]\n",
       " [13.412461830537701, 21.81311792092583, 23.50587787190177, 25.000351992850725, 16.478636985696955, 27.847112275401322, 23.892867132897617, 19.17077853284881, 25.298425218444443, 25.25830165928886  …  14.3338628838587, 40.91940820494591, 16.777185693818893, 25.466863486363337, 22.766123785570926, 14.27737277546612, 17.916254193414602, 22.811835214971637, 29.898703244391015, 25.425796310273313]\n",
       " [13.412461830537714, 21.811840568468767, 23.49292742572401, 25.000193980356475, 16.478636060107483, 27.85331145900398, 23.81330108854326, 19.170770031840352, 25.029824558902142, 25.266782176396287  …  13.530238430852648, 36.00000158550813, 16.05342510583057, 25.31139095301546, 22.327659369912965, 13.524206672008859, 17.64244594222285, 22.81175977944173, 26.9347115826221, 25.08058658984757]\n",
       " [13.412461830537715, 21.811840568468735, 23.492927432425983, 25.000196798769846, 16.47863626554923, 27.853177876745207, 23.82299371272493, 19.17077023955535, 25.050333417715912, 25.26678163760635  …  13.632765538429823, 36.00002232203926, 16.02423755569484, 25.914488531658975, 22.718056204670376, 13.556386899972921, 18.01796338652167, 22.811651716160043, 25.94829327005857, 25.577101877217387]\n",
       " [13.412461830537719, 21.811840568468764, 23.492886363107846, 25.00019607945279, 16.478600721473548, 27.853245250634988, 23.826131737440953, 19.159184443909552, 25.053076997976728, 25.266693951957734  …  13.620286432223708, 36.00001854556615, 16.30939758486477, 25.170068859119368, 22.717179683435262, 13.761894071360217, 17.661360053950148, 22.811711264254484, 27.160609140753763, 25.138398290757152]\n",
       " [13.412461830537714, 21.811840568468767, 23.493016724151925, 25.000196079452802, 16.478600721473544, 27.853311314693453, 23.822993712724948, 19.15918444390956, 25.050333417715937, 25.266782084706332  …  14.276217057022563, 36.000018527231134, 16.18457914591457, 25.98652496471408, 22.89462167280149, 13.894570181313952, 17.93574471309978, 22.811921104279776, 25.64214406029592, 25.904853131812928]\n",
       " [13.412461830537714, 21.811840568468757, 23.492927432425997, 25.000196079452788, 16.478636265549245, 27.853311314693926, 23.822993712724934, 19.170770239555356, 25.05033341771592, 25.26678208470632  …  13.566588841209523, 36.000019003171275, 16.042365130971803, 25.84147532246797, 22.474175514842273, 13.549395044635588, 17.90728657002407, 22.81165402311791, 26.756688423493472, 25.174117963890097]\n",
       " [13.412461830537714, 21.81184056846876, 23.49292743290198, 25.000221278495523, 16.478636265548037, 27.8533111008417, 23.86587139117628, 19.170770239554145, 25.232027078379865, 25.26678194677117  …  13.745152279987963, 36.00002390222696, 16.47655794310353, 25.553719615497727, 22.767594565463412, 13.799605219524778, 17.661460570380854, 22.811800261508182, 26.12674522305494, 25.294736179474654]\n",
       " [13.412461830537717, 21.812830803825474, 23.492935355003883, 25.693983026768766, 16.478406527770197, 27.85236014334928, 23.887429585691674, 19.170120338653074, 25.432902735640035, 25.262233726397106  …  13.55484040877738, 36.00001715014204, 16.08838229619454, 25.937779648104566, 22.607989564181565, 13.561928201002218, 17.034786192358524, 22.812655225309044, 26.446062398669227, 25.226841347043035]\n",
       " [13.412461830537701, 21.81311792092583, 23.50587787190177, 25.000351992850725, 16.478636985696955, 27.847112275401322, 23.892867132897617, 19.17077853284881, 25.298425218444443, 25.25830165928886  …  14.396744927308305, 37.667916255400655, 17.256172837204076, 25.787865621929967, 22.01295804848249, 14.60069036595388, 18.235873881982144, 22.811903322440827, 28.53246533844532, 25.744954410325164]"
      ]
     },
     "execution_count": 9,
     "metadata": {},
     "output_type": "execute_result"
    }
   ],
   "source": [
    "df = DataFrame(a = 1:length(daily_times), b = daily_times)\n"
   ]
  },
  {
   "cell_type": "code",
   "execution_count": null,
   "metadata": {},
   "outputs": [],
   "source": [
    "# Get daily times and daily means\n",
    "daily_times = [parse.(Float64, split(chop(reads.times[i]; head=1, tail=1), \", \")) for i in 1:50];\n",
    "daily_mean_times = [mean(daily_times[i]) for i in 1:50];\n",
    "\n",
    "anim = @animate for i in 1:50\n",
    "    histogram(daily_times[i],nbins=20,title = \"Times \\n day: \"*string(i), label=\"\")\n",
    "    xlims!(0.0, 100.0)\n",
    "    ylims!(0.0, 350.0)\n",
    "    vline!([daily_mean_times[i]], label = \"mean that day: \"*string(round(daily_mean_times[i],digits=2)))\n",
    "    vline!([mean(daily_mean_times)], label = \"overall mean: \"*string(round(mean(daily_mean_times),digits=2)))\n",
    "end\n",
    "\n",
    "gif(anim, \"../../gifs/time_repetition1.gif\", fps = 2)"
   ]
  },
  {
   "cell_type": "code",
   "execution_count": null,
   "metadata": {},
   "outputs": [],
   "source": [
    "# Get daily speeds and daily means\n",
    "daily_speeds = [parse.(Float64, split(chop(reads.speeds[i]; head=1, tail=1), \", \")) for i in 1:50];\n",
    "daily_mean_speeds = [mean(daily_speeds[i]) for i in 1:50];\n",
    "\n",
    "anim = @animate for i in 1:50\n",
    "    histogram(daily_speeds[i],nbins=20,title = \"Speed \\n day: \"*string(i), label=\"\")\n",
    "    xlims!(5.0, 16.0)\n",
    "    ylims!(0.0, 160.0)\n",
    "    vline!([daily_mean_speeds[i]], label = \"mean that day: \"*string(round(daily_mean_speeds[i],digits=2)))\n",
    "    vline!([mean(daily_mean_speeds)], label = \"overall mean: \"*string(round(mean(daily_mean_speeds),digits=2)))\n",
    "end\n",
    "\n",
    "gif(anim, \"../../gifs/speed_repetition1.gif\", fps = 2)"
   ]
  },
  {
   "cell_type": "code",
   "execution_count": null,
   "metadata": {},
   "outputs": [],
   "source": [
    "# Get daily indexes and daily means\n",
    "daily_indexes = [parse.(Float64, split(chop(reads.indexes[i]; head=4, tail=1), \", \")) for i in 1:50];\n",
    "daily_mean_indexes = [mean(daily_indexes[i]) for i in 1:50];\n",
    "\n",
    "anim = @animate for i in 1:50\n",
    "    histogram(daily_indexes[i],nbins=20,title = \"Indexes \\n day: \"*string(i), label=\"\")\n",
    "    xlims!(-5.0, 1005.0)\n",
    "    ylims!(0.0, 25.0)\n",
    "    vline!([daily_mean_indexes[i]], label = \"mean that day: \"*string(round(daily_mean_indexes[i],digits=2)))\n",
    "    vline!([mean(daily_mean_indexes)], label = \"overall mean: \"*string(round(mean(daily_mean_indexes),digits=2)))\n",
    "end\n",
    "\n",
    "gif(anim, \"../../gifs/indexes_repetition1.gif\", fps = 2)"
   ]
  },
  {
   "cell_type": "markdown",
   "metadata": {},
   "source": [
    "## Read a the results of a number of cars"
   ]
  },
  {
   "cell_type": "code",
   "execution_count": null,
   "metadata": {},
   "outputs": [],
   "source": [
    "reads_1000 = [CSV.read(simulations_path*\"nautos1000/\"*string(i)*\"/Datos-RS5-N1000-R\"*string(i)*\".csv\",DataFrame) for i in 1:10];"
   ]
  },
  {
   "cell_type": "code",
   "execution_count": null,
   "metadata": {},
   "outputs": [],
   "source": [
    "# Distribution of average times over repetitions\n",
    "daily_times = [[parse.(Float64, split(chop(reads_1000[j].times[i]; head=1, tail=1), \", \")) for i in 1:50] for j in 1:10];\n",
    "daily_mean_times = [[mean(daily_times[j][i]) for i in 1:50] for j in 1:10];\n",
    "repetition_mean_times = [mean(daily_mean_times[i]) for i in 1:10];\n",
    "\n",
    "anim = @animate for i in 1:10\n",
    "    histogram(daily_mean_times[i],nbins=15,title = \"Times \\n repetition: \"*string(i), label=\"\")\n",
    "    xlims!(22.0, 25.0)\n",
    "    ylims!(0.0, 20.0)\n",
    "    vline!([repetition_mean_times[i]], label = \"mean that repetition: \"*string(round(repetition_mean_times[i],digits=2)))\n",
    "    vline!([mean(repetition_mean_times)], label = \"overall mean: \"*string(round(mean(repetition_mean_times),digits=2)))\n",
    "end\n",
    "\n",
    "gif(anim, \"../../gifs/time_1000cars.gif\", fps = 2)"
   ]
  },
  {
   "cell_type": "code",
   "execution_count": null,
   "metadata": {},
   "outputs": [],
   "source": [
    "# Distribution of average speeds over repetitions\n",
    "daily_speeds = [[parse.(Float64, split(chop(reads_1000[j].speeds[i]; head=1, tail=1), \", \")) for i in 1:50] for j in 1:10];\n",
    "daily_mean_speeds = [[mean(daily_speeds[j][i]) for i in 1:50] for j in 1:10];\n",
    "repetition_mean_speeds = [mean(daily_mean_speeds[i]) for i in 1:10];\n",
    "\n",
    "anim = @animate for i in 1:10\n",
    "    histogram(daily_mean_speeds[i],nbins=15,title = \"Speed \\n repetition: \"*string(i), label=\"\")\n",
    "    xlims!(10.5, 11.5)\n",
    "    ylims!(0.0, 20.0)\n",
    "    vline!([repetition_mean_speeds[i]], label = \"mean that repetition: \"*string(round(repetition_mean_speeds[i],digits=2)))\n",
    "    vline!([mean(repetition_mean_speeds)], label = \"overall mean: \"*string(round(mean(repetition_mean_speeds),digits=2)))\n",
    "end\n",
    "\n",
    "gif(anim, \"../../gifs/speed_1000cars.gif\", fps = 2)"
   ]
  },
  {
   "cell_type": "code",
   "execution_count": null,
   "metadata": {},
   "outputs": [],
   "source": [
    "# Distribution of average indexes over repetitions\n",
    "to_parse = [[split(chop(reads_1000[j].indexes[i]; head=4, tail=1), \", \") for i in 1:50] for j in 1:10];\n",
    "daily_indexes = [[(to_parse[j][i]==[\"\"] ? [] : parse.(Float64, to_parse[j][i]) ) for i in 1:50] for j in 1:10];\n",
    "daily_mean_indexes = [[(daily_indexes[j][i]!=[] ? mean(daily_indexes[j][i]) : NaN) for i in 1:50] for j in 1:10];\n",
    "repetition_mean_indexes = [mean(filter(!isnan, daily_mean_indexes[i])) for i in 1:10];\n",
    "\n",
    "anim = @animate for i in 1:10\n",
    "    histogram(daily_mean_indexes[i],nbins=15,title = \"Indexes \\n repetition: \"*string(i), label=\"\")\n",
    "    xlims!(200.0, 900.0)\n",
    "    ylims!(0.0, 30.0)\n",
    "    vline!([repetition_mean_indexes[i]], label = \"mean that repetition: \"*string(round(repetition_mean_indexes[i],digits=2)))\n",
    "    vline!([mean(repetition_mean_indexes)], label = \"overall mean: \"*string(round(mean(repetition_mean_indexes),digits=2)))\n",
    "end\n",
    "\n",
    "gif(anim, \"../../gifs/indexes_1000cars.gif\", fps = 2)"
   ]
  },
  {
   "cell_type": "code",
   "execution_count": null,
   "metadata": {},
   "outputs": [],
   "source": [
    "# Distribution of number of cars changing each repetition\n",
    "to_parse = [[split(chop(reads_1000[j].indexes[i]; head=4, tail=1), \", \") for i in 1:50] for j in 1:10];\n",
    "daily_indexes = [[(to_parse[j][i]==[\"\"] ? [] : parse.(Float64, to_parse[j][i]) ) for i in 1:50] for j in 1:10];\n",
    "daily_number_indexes = [[length(daily_indexes[j][i]) for i in 1:50] for j in 1:10];\n",
    "repetition_mean_number_indexes = [mean(filter(!isnan, daily_number_indexes[i])) for i in 1:10];\n",
    "\n",
    "anim = @animate for i in 1:10\n",
    "    histogram(daily_number_indexes[i],nbins=10,title = \"Number of cars changing \\n repetition: \"*string(i), label=\"\")\n",
    "    xlims!(0.0, 350.0)\n",
    "    ylims!(0.0, 35.0)\n",
    "    vline!([repetition_mean_number_indexes[i]], label = \"average number that repetition: \"*string(round(repetition_mean_number_indexes[i],digits=2)))\n",
    "    vline!([mean(repetition_mean_number_indexes)], label = \"overall mean: \"*string(round(mean(repetition_mean_number_indexes),digits=2)))\n",
    "end\n",
    "\n",
    "gif(anim, \"../../gifs/indexes_1000cars.gif\", fps = 2)"
   ]
  },
  {
   "cell_type": "markdown",
   "metadata": {},
   "source": [
    "## Results of all number of cars 1000-3000"
   ]
  },
  {
   "cell_type": "markdown",
   "metadata": {},
   "source": []
  }
 ],
 "metadata": {
  "kernelspec": {
   "display_name": "Julia 1.5.4",
   "language": "julia",
   "name": "julia-1.5"
  },
  "language_info": {
   "file_extension": ".jl",
   "mimetype": "application/julia",
   "name": "julia",
   "version": "1.5.4"
  },
  "orig_nbformat": 4
 },
 "nbformat": 4,
 "nbformat_minor": 2
}
