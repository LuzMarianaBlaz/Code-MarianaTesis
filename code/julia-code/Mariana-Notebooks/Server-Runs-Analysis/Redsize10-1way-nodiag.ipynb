{
 "cells": [
  {
   "cell_type": "code",
   "execution_count": 1,
   "metadata": {},
   "outputs": [
    {
     "data": {
      "text/plain": [
       "plot_digraph (generic function with 1 method)"
      ]
     },
     "execution_count": 1,
     "metadata": {},
     "output_type": "execute_result"
    }
   ],
   "source": [
    "using DataFrames, CSV, GraphPlot, Impute, Plots, Colors, Statistics, Random, Distributions, StatsPlots\n",
    "\n",
    "dir = \"../../Mariana-Paquete/Mariana-Basefunc/\"\n",
    "\n",
    "include(dir*\"funciones_de_red.jl\")\n",
    "include(dir*\"objetos.jl\")\n",
    "include(dir*\"dinamica_conductores.jl\")\n",
    "include(dir*\"animaciones.jl\")"
   ]
  },
  {
   "cell_type": "code",
   "execution_count": 2,
   "metadata": {},
   "outputs": [],
   "source": [
    "SquareNet, position_array, dist_matrix = SquareDiGraph(10, doble_sentido=false);\n",
    "SquareNet, position_array, dist_matrix = make_slow_corners(SquareNet, position_array);\n",
    "    \n",
    "f = x -> [max_speed(i,j,x) for i in 1:length(x),j in 1:length(x)];\n",
    "vels = f(position_array);"
   ]
  },
  {
   "cell_type": "code",
   "execution_count": 3,
   "metadata": {},
   "outputs": [
    {
     "data": {
      "image/svg+xml": "<?xml version=\"1.0\" encoding=\"utf-8\"?>\n<svg xmlns=\"http://www.w3.org/2000/svg\" xmlns:xlink=\"http://www.w3.org/1999/xlink\" width=\"600\" height=\"400\" viewBox=\"0 0 2400 1600\">\n<defs>\n  <clipPath id=\"clip720\">\n    <rect x=\"0\" y=\"0\" width=\"2400\" height=\"1600\"/>\n  </clipPath>\n</defs>\n<path clip-path=\"url(#clip720)\" d=\"\nM0 1600 L2400 1600 L2400 0 L0 0  Z\n  \" fill=\"#ffffff\" fill-rule=\"evenodd\" fill-opacity=\"1\"/>\n<defs>\n  <clipPath id=\"clip721\">\n    <rect x=\"480\" y=\"0\" width=\"1681\" height=\"1600\"/>\n  </clipPath>\n</defs>\n<path clip-path=\"url(#clip720)\" d=\"\nM163.774 1486.45 L2352.76 1486.45 L2352.76 47.2441 L163.774 47.2441  Z\n  \" fill=\"#ffffff\" fill-rule=\"evenodd\" fill-opacity=\"1\"/>\n<defs>\n  <clipPath id=\"clip722\">\n    <rect x=\"163\" y=\"47\" width=\"2190\" height=\"1440\"/>\n  </clipPath>\n</defs>\n<polyline clip-path=\"url(#clip722)\" style=\"stroke:#000000; stroke-width:2; stroke-opacity:0.1; fill:none\" points=\"\n  208.08,1486.45 208.08,47.2441 \n  \"/>\n<polyline clip-path=\"url(#clip722)\" style=\"stroke:#000000; stroke-width:2; stroke-opacity:0.1; fill:none\" points=\"\n  583.146,1486.45 583.146,47.2441 \n  \"/>\n<polyline clip-path=\"url(#clip722)\" style=\"stroke:#000000; stroke-width:2; stroke-opacity:0.1; fill:none\" points=\"\n  958.212,1486.45 958.212,47.2441 \n  \"/>\n<polyline clip-path=\"url(#clip722)\" style=\"stroke:#000000; stroke-width:2; stroke-opacity:0.1; fill:none\" points=\"\n  1333.28,1486.45 1333.28,47.2441 \n  \"/>\n<polyline clip-path=\"url(#clip722)\" style=\"stroke:#000000; stroke-width:2; stroke-opacity:0.1; fill:none\" points=\"\n  1708.34,1486.45 1708.34,47.2441 \n  \"/>\n<polyline clip-path=\"url(#clip722)\" style=\"stroke:#000000; stroke-width:2; stroke-opacity:0.1; fill:none\" points=\"\n  2083.41,1486.45 2083.41,47.2441 \n  \"/>\n<polyline clip-path=\"url(#clip722)\" style=\"stroke:#000000; stroke-width:2; stroke-opacity:0.1; fill:none\" points=\"\n  163.774,1438.21 2352.76,1438.21 \n  \"/>\n<polyline clip-path=\"url(#clip722)\" style=\"stroke:#000000; stroke-width:2; stroke-opacity:0.1; fill:none\" points=\"\n  163.774,1063.15 2352.76,1063.15 \n  \"/>\n<polyline clip-path=\"url(#clip722)\" style=\"stroke:#000000; stroke-width:2; stroke-opacity:0.1; fill:none\" points=\"\n  163.774,688.082 2352.76,688.082 \n  \"/>\n<polyline clip-path=\"url(#clip722)\" style=\"stroke:#000000; stroke-width:2; stroke-opacity:0.1; fill:none\" points=\"\n  163.774,313.016 2352.76,313.016 \n  \"/>\n<polyline clip-path=\"url(#clip720)\" style=\"stroke:#000000; stroke-width:4; stroke-opacity:1; fill:none\" points=\"\n  163.774,1486.45 2352.76,1486.45 \n  \"/>\n<polyline clip-path=\"url(#clip720)\" style=\"stroke:#000000; stroke-width:4; stroke-opacity:1; fill:none\" points=\"\n  163.774,1486.45 163.774,47.2441 \n  \"/>\n<polyline clip-path=\"url(#clip720)\" style=\"stroke:#000000; stroke-width:4; stroke-opacity:1; fill:none\" points=\"\n  208.08,1486.45 208.08,1469.18 \n  \"/>\n<polyline clip-path=\"url(#clip720)\" style=\"stroke:#000000; stroke-width:4; stroke-opacity:1; fill:none\" points=\"\n  583.146,1486.45 583.146,1469.18 \n  \"/>\n<polyline clip-path=\"url(#clip720)\" style=\"stroke:#000000; stroke-width:4; stroke-opacity:1; fill:none\" points=\"\n  958.212,1486.45 958.212,1469.18 \n  \"/>\n<polyline clip-path=\"url(#clip720)\" style=\"stroke:#000000; stroke-width:4; stroke-opacity:1; fill:none\" points=\"\n  1333.28,1486.45 1333.28,1469.18 \n  \"/>\n<polyline clip-path=\"url(#clip720)\" style=\"stroke:#000000; stroke-width:4; stroke-opacity:1; fill:none\" points=\"\n  1708.34,1486.45 1708.34,1469.18 \n  \"/>\n<polyline clip-path=\"url(#clip720)\" style=\"stroke:#000000; stroke-width:4; stroke-opacity:1; fill:none\" points=\"\n  2083.41,1486.45 2083.41,1469.18 \n  \"/>\n<polyline clip-path=\"url(#clip720)\" style=\"stroke:#000000; stroke-width:4; stroke-opacity:1; fill:none\" points=\"\n  163.774,1438.21 190.042,1438.21 \n  \"/>\n<polyline clip-path=\"url(#clip720)\" style=\"stroke:#000000; stroke-width:4; stroke-opacity:1; fill:none\" points=\"\n  163.774,1063.15 190.042,1063.15 \n  \"/>\n<polyline clip-path=\"url(#clip720)\" style=\"stroke:#000000; stroke-width:4; stroke-opacity:1; fill:none\" points=\"\n  163.774,688.082 190.042,688.082 \n  \"/>\n<polyline clip-path=\"url(#clip720)\" style=\"stroke:#000000; stroke-width:4; stroke-opacity:1; fill:none\" points=\"\n  163.774,313.016 190.042,313.016 \n  \"/>\n<path clip-path=\"url(#clip720)\" d=\"M 0 0 M161.934 1525.04 L174.411 1525.04 L174.411 1528.83 L161.934 1528.83 L161.934 1525.04 Z\" fill=\"#000000\" fill-rule=\"evenodd\" fill-opacity=\"1\" /><path clip-path=\"url(#clip720)\" d=\"M 0 0 M180.291 1535.98 L187.929 1535.98 L187.929 1509.62 L179.619 1511.29 L179.619 1507.03 L187.883 1505.36 L192.559 1505.36 L192.559 1535.98 L200.198 1535.98 L200.198 1539.92 L180.291 1539.92 L180.291 1535.98 Z\" fill=\"#000000\" fill-rule=\"evenodd\" fill-opacity=\"1\" /><path clip-path=\"url(#clip720)\" d=\"M 0 0 M215.267 1508.44 Q211.656 1508.44 209.828 1512 Q208.022 1515.55 208.022 1522.67 Q208.022 1529.78 209.828 1533.35 Q211.656 1536.89 215.267 1536.89 Q218.902 1536.89 220.707 1533.35 Q222.536 1529.78 222.536 1522.67 Q222.536 1515.55 220.707 1512 Q218.902 1508.44 215.267 1508.44 M215.267 1504.73 Q221.077 1504.73 224.133 1509.34 Q227.212 1513.92 227.212 1522.67 Q227.212 1531.4 224.133 1536.01 Q221.077 1540.59 215.267 1540.59 Q209.457 1540.59 206.378 1536.01 Q203.323 1531.4 203.323 1522.67 Q203.323 1513.92 206.378 1509.34 Q209.457 1504.73 215.267 1504.73 Z\" fill=\"#000000\" fill-rule=\"evenodd\" fill-opacity=\"1\" /><path clip-path=\"url(#clip720)\" d=\"M 0 0 M242.281 1508.44 Q238.67 1508.44 236.841 1512 Q235.036 1515.55 235.036 1522.67 Q235.036 1529.78 236.841 1533.35 Q238.67 1536.89 242.281 1536.89 Q245.915 1536.89 247.721 1533.35 Q249.55 1529.78 249.55 1522.67 Q249.55 1515.55 247.721 1512 Q245.915 1508.44 242.281 1508.44 M242.281 1504.73 Q248.091 1504.73 251.147 1509.34 Q254.225 1513.92 254.225 1522.67 Q254.225 1531.4 251.147 1536.01 Q248.091 1540.59 242.281 1540.59 Q236.471 1540.59 233.392 1536.01 Q230.337 1531.4 230.337 1522.67 Q230.337 1513.92 233.392 1509.34 Q236.471 1504.73 242.281 1504.73 Z\" fill=\"#000000\" fill-rule=\"evenodd\" fill-opacity=\"1\" /><path clip-path=\"url(#clip720)\" d=\"M 0 0 M583.146 1508.44 Q579.535 1508.44 577.706 1512 Q575.901 1515.55 575.901 1522.67 Q575.901 1529.78 577.706 1533.35 Q579.535 1536.89 583.146 1536.89 Q586.78 1536.89 588.586 1533.35 Q590.414 1529.78 590.414 1522.67 Q590.414 1515.55 588.586 1512 Q586.78 1508.44 583.146 1508.44 M583.146 1504.73 Q588.956 1504.73 592.012 1509.34 Q595.09 1513.92 595.09 1522.67 Q595.09 1531.4 592.012 1536.01 Q588.956 1540.59 583.146 1540.59 Q577.336 1540.59 574.257 1536.01 Q571.202 1531.4 571.202 1522.67 Q571.202 1513.92 574.257 1509.34 Q577.336 1504.73 583.146 1504.73 Z\" fill=\"#000000\" fill-rule=\"evenodd\" fill-opacity=\"1\" /><path clip-path=\"url(#clip720)\" d=\"M 0 0 M921.58 1535.98 L929.219 1535.98 L929.219 1509.62 L920.909 1511.29 L920.909 1507.03 L929.173 1505.36 L933.849 1505.36 L933.849 1535.98 L941.488 1535.98 L941.488 1539.92 L921.58 1539.92 L921.58 1535.98 Z\" fill=\"#000000\" fill-rule=\"evenodd\" fill-opacity=\"1\" /><path clip-path=\"url(#clip720)\" d=\"M 0 0 M956.557 1508.44 Q952.946 1508.44 951.117 1512 Q949.312 1515.55 949.312 1522.67 Q949.312 1529.78 951.117 1533.35 Q952.946 1536.89 956.557 1536.89 Q960.191 1536.89 961.997 1533.35 Q963.826 1529.78 963.826 1522.67 Q963.826 1515.55 961.997 1512 Q960.191 1508.44 956.557 1508.44 M956.557 1504.73 Q962.367 1504.73 965.423 1509.34 Q968.501 1513.92 968.501 1522.67 Q968.501 1531.4 965.423 1536.01 Q962.367 1540.59 956.557 1540.59 Q950.747 1540.59 947.668 1536.01 Q944.613 1531.4 944.613 1522.67 Q944.613 1513.92 947.668 1509.34 Q950.747 1504.73 956.557 1504.73 Z\" fill=\"#000000\" fill-rule=\"evenodd\" fill-opacity=\"1\" /><path clip-path=\"url(#clip720)\" d=\"M 0 0 M983.571 1508.44 Q979.96 1508.44 978.131 1512 Q976.325 1515.55 976.325 1522.67 Q976.325 1529.78 978.131 1533.35 Q979.96 1536.89 983.571 1536.89 Q987.205 1536.89 989.011 1533.35 Q990.839 1529.78 990.839 1522.67 Q990.839 1515.55 989.011 1512 Q987.205 1508.44 983.571 1508.44 M983.571 1504.73 Q989.381 1504.73 992.436 1509.34 Q995.515 1513.92 995.515 1522.67 Q995.515 1531.4 992.436 1536.01 Q989.381 1540.59 983.571 1540.59 Q977.761 1540.59 974.682 1536.01 Q971.626 1531.4 971.626 1522.67 Q971.626 1513.92 974.682 1509.34 Q977.761 1504.73 983.571 1504.73 Z\" fill=\"#000000\" fill-rule=\"evenodd\" fill-opacity=\"1\" /><path clip-path=\"url(#clip720)\" d=\"M 0 0 M1300.92 1535.98 L1317.24 1535.98 L1317.24 1539.92 L1295.29 1539.92 L1295.29 1535.98 Q1297.95 1533.23 1302.54 1528.6 Q1307.14 1523.95 1308.32 1522.61 Q1310.57 1520.08 1311.45 1518.35 Q1312.35 1516.59 1312.35 1514.9 Q1312.35 1512.14 1310.41 1510.41 Q1308.49 1508.67 1305.38 1508.67 Q1303.19 1508.67 1300.73 1509.43 Q1298.3 1510.2 1295.52 1511.75 L1295.52 1507.03 Q1298.35 1505.89 1300.8 1505.31 Q1303.26 1504.73 1305.29 1504.73 Q1310.66 1504.73 1313.86 1507.42 Q1317.05 1510.11 1317.05 1514.6 Q1317.05 1516.73 1316.24 1518.65 Q1315.45 1520.54 1313.35 1523.14 Q1312.77 1523.81 1309.67 1527.03 Q1306.57 1530.22 1300.92 1535.98 Z\" fill=\"#000000\" fill-rule=\"evenodd\" fill-opacity=\"1\" /><path clip-path=\"url(#clip720)\" d=\"M 0 0 M1332.31 1508.44 Q1328.69 1508.44 1326.87 1512 Q1325.06 1515.55 1325.06 1522.67 Q1325.06 1529.78 1326.87 1533.35 Q1328.69 1536.89 1332.31 1536.89 Q1335.94 1536.89 1337.75 1533.35 Q1339.57 1529.78 1339.57 1522.67 Q1339.57 1515.55 1337.75 1512 Q1335.94 1508.44 1332.31 1508.44 M1332.31 1504.73 Q1338.12 1504.73 1341.17 1509.34 Q1344.25 1513.92 1344.25 1522.67 Q1344.25 1531.4 1341.17 1536.01 Q1338.12 1540.59 1332.31 1540.59 Q1326.5 1540.59 1323.42 1536.01 Q1320.36 1531.4 1320.36 1522.67 Q1320.36 1513.92 1323.42 1509.34 Q1326.5 1504.73 1332.31 1504.73 Z\" fill=\"#000000\" fill-rule=\"evenodd\" fill-opacity=\"1\" /><path clip-path=\"url(#clip720)\" d=\"M 0 0 M1359.32 1508.44 Q1355.71 1508.44 1353.88 1512 Q1352.07 1515.55 1352.07 1522.67 Q1352.07 1529.78 1353.88 1533.35 Q1355.71 1536.89 1359.32 1536.89 Q1362.95 1536.89 1364.76 1533.35 Q1366.59 1529.78 1366.59 1522.67 Q1366.59 1515.55 1364.76 1512 Q1362.95 1508.44 1359.32 1508.44 M1359.32 1504.73 Q1365.13 1504.73 1368.19 1509.34 Q1371.26 1513.92 1371.26 1522.67 Q1371.26 1531.4 1368.19 1536.01 Q1365.13 1540.59 1359.32 1540.59 Q1353.51 1540.59 1350.43 1536.01 Q1347.38 1531.4 1347.38 1522.67 Q1347.38 1513.92 1350.43 1509.34 Q1353.51 1504.73 1359.32 1504.73 Z\" fill=\"#000000\" fill-rule=\"evenodd\" fill-opacity=\"1\" /><path clip-path=\"url(#clip720)\" d=\"M 0 0 M1685.58 1521.29 Q1688.93 1522 1690.81 1524.27 Q1692.71 1526.54 1692.71 1529.87 Q1692.71 1534.99 1689.19 1537.79 Q1685.67 1540.59 1679.19 1540.59 Q1677.01 1540.59 1674.7 1540.15 Q1672.41 1539.73 1669.95 1538.88 L1669.95 1534.36 Q1671.9 1535.5 1674.21 1536.08 Q1676.53 1536.66 1679.05 1536.66 Q1683.45 1536.66 1685.74 1534.92 Q1688.06 1533.18 1688.06 1529.87 Q1688.06 1526.82 1685.9 1525.11 Q1683.77 1523.37 1679.95 1523.37 L1675.93 1523.37 L1675.93 1519.53 L1680.14 1519.53 Q1683.59 1519.53 1685.42 1518.16 Q1687.24 1516.77 1687.24 1514.18 Q1687.24 1511.52 1685.35 1510.11 Q1683.47 1508.67 1679.95 1508.67 Q1678.03 1508.67 1675.83 1509.09 Q1673.63 1509.5 1671 1510.38 L1671 1506.22 Q1673.66 1505.48 1675.97 1505.11 Q1678.31 1504.73 1680.37 1504.73 Q1685.69 1504.73 1688.8 1507.17 Q1691.9 1509.57 1691.9 1513.69 Q1691.9 1516.56 1690.25 1518.55 Q1688.61 1520.52 1685.58 1521.29 Z\" fill=\"#000000\" fill-rule=\"evenodd\" fill-opacity=\"1\" /><path clip-path=\"url(#clip720)\" d=\"M 0 0 M1707.78 1508.44 Q1704.17 1508.44 1702.34 1512 Q1700.53 1515.55 1700.53 1522.67 Q1700.53 1529.78 1702.34 1533.35 Q1704.17 1536.89 1707.78 1536.89 Q1711.41 1536.89 1713.22 1533.35 Q1715.05 1529.78 1715.05 1522.67 Q1715.05 1515.55 1713.22 1512 Q1711.41 1508.44 1707.78 1508.44 M1707.78 1504.73 Q1713.59 1504.73 1716.64 1509.34 Q1719.72 1513.92 1719.72 1522.67 Q1719.72 1531.4 1716.64 1536.01 Q1713.59 1540.59 1707.78 1540.59 Q1701.97 1540.59 1698.89 1536.01 Q1695.83 1531.4 1695.83 1522.67 Q1695.83 1513.92 1698.89 1509.34 Q1701.97 1504.73 1707.78 1504.73 Z\" fill=\"#000000\" fill-rule=\"evenodd\" fill-opacity=\"1\" /><path clip-path=\"url(#clip720)\" d=\"M 0 0 M1734.79 1508.44 Q1731.18 1508.44 1729.35 1512 Q1727.55 1515.55 1727.55 1522.67 Q1727.55 1529.78 1729.35 1533.35 Q1731.18 1536.89 1734.79 1536.89 Q1738.43 1536.89 1740.23 1533.35 Q1742.06 1529.78 1742.06 1522.67 Q1742.06 1515.55 1740.23 1512 Q1738.43 1508.44 1734.79 1508.44 M1734.79 1504.73 Q1740.6 1504.73 1743.66 1509.34 Q1746.74 1513.92 1746.74 1522.67 Q1746.74 1531.4 1743.66 1536.01 Q1740.6 1540.59 1734.79 1540.59 Q1728.98 1540.59 1725.9 1536.01 Q1722.85 1531.4 1722.85 1522.67 Q1722.85 1513.92 1725.9 1509.34 Q1728.98 1504.73 1734.79 1504.73 Z\" fill=\"#000000\" fill-rule=\"evenodd\" fill-opacity=\"1\" /><path clip-path=\"url(#clip720)\" d=\"M 0 0 M2059.41 1509.43 L2047.6 1527.88 L2059.41 1527.88 L2059.41 1509.43 M2058.18 1505.36 L2064.06 1505.36 L2064.06 1527.88 L2068.99 1527.88 L2068.99 1531.77 L2064.06 1531.77 L2064.06 1539.92 L2059.41 1539.92 L2059.41 1531.77 L2043.8 1531.77 L2043.8 1527.26 L2058.18 1505.36 Z\" fill=\"#000000\" fill-rule=\"evenodd\" fill-opacity=\"1\" /><path clip-path=\"url(#clip720)\" d=\"M 0 0 M2084.06 1508.44 Q2080.45 1508.44 2078.62 1512 Q2076.81 1515.55 2076.81 1522.67 Q2076.81 1529.78 2078.62 1533.35 Q2080.45 1536.89 2084.06 1536.89 Q2087.69 1536.89 2089.5 1533.35 Q2091.33 1529.78 2091.33 1522.67 Q2091.33 1515.55 2089.5 1512 Q2087.69 1508.44 2084.06 1508.44 M2084.06 1504.73 Q2089.87 1504.73 2092.92 1509.34 Q2096 1513.92 2096 1522.67 Q2096 1531.4 2092.92 1536.01 Q2089.87 1540.59 2084.06 1540.59 Q2078.25 1540.59 2075.17 1536.01 Q2072.11 1531.4 2072.11 1522.67 Q2072.11 1513.92 2075.17 1509.34 Q2078.25 1504.73 2084.06 1504.73 Z\" fill=\"#000000\" fill-rule=\"evenodd\" fill-opacity=\"1\" /><path clip-path=\"url(#clip720)\" d=\"M 0 0 M2111.07 1508.44 Q2107.46 1508.44 2105.63 1512 Q2103.83 1515.55 2103.83 1522.67 Q2103.83 1529.78 2105.63 1533.35 Q2107.46 1536.89 2111.07 1536.89 Q2114.71 1536.89 2116.51 1533.35 Q2118.34 1529.78 2118.34 1522.67 Q2118.34 1515.55 2116.51 1512 Q2114.71 1508.44 2111.07 1508.44 M2111.07 1504.73 Q2116.88 1504.73 2119.94 1509.34 Q2123.02 1513.92 2123.02 1522.67 Q2123.02 1531.4 2119.94 1536.01 Q2116.88 1540.59 2111.07 1540.59 Q2105.26 1540.59 2102.18 1536.01 Q2099.13 1531.4 2099.13 1522.67 Q2099.13 1513.92 2102.18 1509.34 Q2105.26 1504.73 2111.07 1504.73 Z\" fill=\"#000000\" fill-rule=\"evenodd\" fill-opacity=\"1\" /><path clip-path=\"url(#clip720)\" d=\"M 0 0 M127.83 1424.01 Q124.219 1424.01 122.39 1427.58 Q120.584 1431.12 120.584 1438.25 Q120.584 1445.36 122.39 1448.92 Q124.219 1452.46 127.83 1452.46 Q131.464 1452.46 133.27 1448.92 Q135.098 1445.36 135.098 1438.25 Q135.098 1431.12 133.27 1427.58 Q131.464 1424.01 127.83 1424.01 M127.83 1420.31 Q133.64 1420.31 136.695 1424.92 Q139.774 1429.5 139.774 1438.25 Q139.774 1446.98 136.695 1451.58 Q133.64 1456.17 127.83 1456.17 Q122.02 1456.17 118.941 1451.58 Q115.885 1446.98 115.885 1438.25 Q115.885 1429.5 118.941 1424.92 Q122.02 1420.31 127.83 1420.31 Z\" fill=\"#000000\" fill-rule=\"evenodd\" fill-opacity=\"1\" /><path clip-path=\"url(#clip720)\" d=\"M 0 0 M65.8393 1076.49 L73.4782 1076.49 L73.4782 1050.13 L65.168 1051.79 L65.168 1047.53 L73.4319 1045.87 L78.1078 1045.87 L78.1078 1076.49 L85.7466 1076.49 L85.7466 1080.43 L65.8393 1080.43 L65.8393 1076.49 Z\" fill=\"#000000\" fill-rule=\"evenodd\" fill-opacity=\"1\" /><path clip-path=\"url(#clip720)\" d=\"M 0 0 M100.816 1048.95 Q97.2049 1048.95 95.3762 1052.51 Q93.5707 1056.05 93.5707 1063.18 Q93.5707 1070.29 95.3762 1073.85 Q97.2049 1077.4 100.816 1077.4 Q104.45 1077.4 106.256 1073.85 Q108.084 1070.29 108.084 1063.18 Q108.084 1056.05 106.256 1052.51 Q104.45 1048.95 100.816 1048.95 M100.816 1045.24 Q106.626 1045.24 109.682 1049.85 Q112.76 1054.43 112.76 1063.18 Q112.76 1071.91 109.682 1076.52 Q106.626 1081.1 100.816 1081.1 Q95.0058 1081.1 91.9272 1076.52 Q88.8716 1071.91 88.8716 1063.18 Q88.8716 1054.43 91.9272 1049.85 Q95.0058 1045.24 100.816 1045.24 Z\" fill=\"#000000\" fill-rule=\"evenodd\" fill-opacity=\"1\" /><path clip-path=\"url(#clip720)\" d=\"M 0 0 M127.83 1048.95 Q124.219 1048.95 122.39 1052.51 Q120.584 1056.05 120.584 1063.18 Q120.584 1070.29 122.39 1073.85 Q124.219 1077.4 127.83 1077.4 Q131.464 1077.4 133.27 1073.85 Q135.098 1070.29 135.098 1063.18 Q135.098 1056.05 133.27 1052.51 Q131.464 1048.95 127.83 1048.95 M127.83 1045.24 Q133.64 1045.24 136.695 1049.85 Q139.774 1054.43 139.774 1063.18 Q139.774 1071.91 136.695 1076.52 Q133.64 1081.1 127.83 1081.1 Q122.02 1081.1 118.941 1076.52 Q115.885 1071.91 115.885 1063.18 Q115.885 1054.43 118.941 1049.85 Q122.02 1045.24 127.83 1045.24 Z\" fill=\"#000000\" fill-rule=\"evenodd\" fill-opacity=\"1\" /><path clip-path=\"url(#clip720)\" d=\"M 0 0 M69.4273 701.427 L85.7466 701.427 L85.7466 705.362 L63.8023 705.362 L63.8023 701.427 Q66.4643 698.672 71.0476 694.043 Q75.6541 689.39 76.8346 688.047 Q79.08 685.524 79.9596 683.788 Q80.8624 682.029 80.8624 680.339 Q80.8624 677.584 78.918 675.848 Q76.9967 674.112 73.8948 674.112 Q71.6958 674.112 69.2421 674.876 Q66.8115 675.64 64.0338 677.191 L64.0338 672.469 Q66.8578 671.335 69.3115 670.756 Q71.7652 670.177 73.8023 670.177 Q79.1726 670.177 82.367 672.862 Q85.5614 675.547 85.5614 680.038 Q85.5614 682.168 84.7513 684.089 Q83.9642 685.987 81.8578 688.58 Q81.2791 689.251 78.1772 692.469 Q75.0754 695.663 69.4273 701.427 Z\" fill=\"#000000\" fill-rule=\"evenodd\" fill-opacity=\"1\" /><path clip-path=\"url(#clip720)\" d=\"M 0 0 M100.816 673.881 Q97.2049 673.881 95.3762 677.446 Q93.5707 680.987 93.5707 688.117 Q93.5707 695.223 95.3762 698.788 Q97.2049 702.33 100.816 702.33 Q104.45 702.33 106.256 698.788 Q108.084 695.223 108.084 688.117 Q108.084 680.987 106.256 677.446 Q104.45 673.881 100.816 673.881 M100.816 670.177 Q106.626 670.177 109.682 674.784 Q112.76 679.367 112.76 688.117 Q112.76 696.844 109.682 701.45 Q106.626 706.033 100.816 706.033 Q95.0058 706.033 91.9272 701.45 Q88.8716 696.844 88.8716 688.117 Q88.8716 679.367 91.9272 674.784 Q95.0058 670.177 100.816 670.177 Z\" fill=\"#000000\" fill-rule=\"evenodd\" fill-opacity=\"1\" /><path clip-path=\"url(#clip720)\" d=\"M 0 0 M127.83 673.881 Q124.219 673.881 122.39 677.446 Q120.584 680.987 120.584 688.117 Q120.584 695.223 122.39 698.788 Q124.219 702.33 127.83 702.33 Q131.464 702.33 133.27 698.788 Q135.098 695.223 135.098 688.117 Q135.098 680.987 133.27 677.446 Q131.464 673.881 127.83 673.881 M127.83 670.177 Q133.64 670.177 136.695 674.784 Q139.774 679.367 139.774 688.117 Q139.774 696.844 136.695 701.45 Q133.64 706.033 127.83 706.033 Q122.02 706.033 118.941 701.45 Q115.885 696.844 115.885 688.117 Q115.885 679.367 118.941 674.784 Q122.02 670.177 127.83 670.177 Z\" fill=\"#000000\" fill-rule=\"evenodd\" fill-opacity=\"1\" /><path clip-path=\"url(#clip720)\" d=\"M 0 0 M78.617 311.662 Q81.9735 312.379 83.8485 314.648 Q85.7466 316.916 85.7466 320.25 Q85.7466 325.365 82.2281 328.166 Q78.7096 330.967 72.2282 330.967 Q70.0523 330.967 67.7375 330.527 Q65.4458 330.111 62.9921 329.254 L62.9921 324.74 Q64.9366 325.875 67.2514 326.453 Q69.5662 327.032 72.0893 327.032 Q76.4874 327.032 78.7791 325.296 Q81.0939 323.56 81.0939 320.25 Q81.0939 317.194 78.9411 315.481 Q76.8115 313.745 72.9921 313.745 L68.9643 313.745 L68.9643 309.903 L73.1773 309.903 Q76.6263 309.903 78.455 308.537 Q80.2837 307.148 80.2837 304.555 Q80.2837 301.893 78.3856 300.481 Q76.5106 299.046 72.9921 299.046 Q71.0708 299.046 68.8717 299.463 Q66.6727 299.879 64.0338 300.759 L64.0338 296.592 Q66.6958 295.852 69.0106 295.481 Q71.3486 295.111 73.4087 295.111 Q78.7328 295.111 81.8346 297.542 Q84.9365 299.949 84.9365 304.069 Q84.9365 306.94 83.2929 308.93 Q81.6494 310.898 78.617 311.662 Z\" fill=\"#000000\" fill-rule=\"evenodd\" fill-opacity=\"1\" /><path clip-path=\"url(#clip720)\" d=\"M 0 0 M100.816 298.815 Q97.2049 298.815 95.3762 302.379 Q93.5707 305.921 93.5707 313.051 Q93.5707 320.157 95.3762 323.722 Q97.2049 327.264 100.816 327.264 Q104.45 327.264 106.256 323.722 Q108.084 320.157 108.084 313.051 Q108.084 305.921 106.256 302.379 Q104.45 298.815 100.816 298.815 M100.816 295.111 Q106.626 295.111 109.682 299.717 Q112.76 304.301 112.76 313.051 Q112.76 321.777 109.682 326.384 Q106.626 330.967 100.816 330.967 Q95.0058 330.967 91.9272 326.384 Q88.8716 321.777 88.8716 313.051 Q88.8716 304.301 91.9272 299.717 Q95.0058 295.111 100.816 295.111 Z\" fill=\"#000000\" fill-rule=\"evenodd\" fill-opacity=\"1\" /><path clip-path=\"url(#clip720)\" d=\"M 0 0 M127.83 298.815 Q124.219 298.815 122.39 302.379 Q120.584 305.921 120.584 313.051 Q120.584 320.157 122.39 323.722 Q124.219 327.264 127.83 327.264 Q131.464 327.264 133.27 323.722 Q135.098 320.157 135.098 313.051 Q135.098 305.921 133.27 302.379 Q131.464 298.815 127.83 298.815 M127.83 295.111 Q133.64 295.111 136.695 299.717 Q139.774 304.301 139.774 313.051 Q139.774 321.777 136.695 326.384 Q133.64 330.967 127.83 330.967 Q122.02 330.967 118.941 326.384 Q115.885 321.777 115.885 313.051 Q115.885 304.301 118.941 299.717 Q122.02 295.111 127.83 295.111 Z\" fill=\"#000000\" fill-rule=\"evenodd\" fill-opacity=\"1\" /><polyline clip-path=\"url(#clip722)\" style=\"stroke:#008000; stroke-width:8; stroke-opacity:1; fill:none\" points=\"\n  583.146,1445.72 714.419,1445.72 \n  \"/>\n<polyline clip-path=\"url(#clip722)\" style=\"stroke:#008000; stroke-width:8; stroke-opacity:1; fill:none\" points=\"\n  575.645,1438.21 575.645,1306.94 \n  \"/>\n<polyline clip-path=\"url(#clip722)\" style=\"stroke:#008000; stroke-width:8; stroke-opacity:1; fill:none\" points=\"\n  733.172,1430.71 601.899,1430.71 \n  \"/>\n<polyline clip-path=\"url(#clip722)\" style=\"stroke:#008000; stroke-width:8; stroke-opacity:1; fill:none\" points=\"\n  733.172,1445.72 864.446,1445.72 \n  \"/>\n<polyline clip-path=\"url(#clip722)\" style=\"stroke:#008000; stroke-width:8; stroke-opacity:1; fill:none\" points=\"\n  725.671,1438.21 725.671,1306.94 \n  \"/>\n<polyline clip-path=\"url(#clip722)\" style=\"stroke:#008000; stroke-width:8; stroke-opacity:1; fill:none\" points=\"\n  883.199,1430.71 751.926,1430.71 \n  \"/>\n<polyline clip-path=\"url(#clip722)\" style=\"stroke:#008000; stroke-width:8; stroke-opacity:1; fill:none\" points=\"\n  883.199,1445.72 1014.47,1445.72 \n  \"/>\n<polyline clip-path=\"url(#clip722)\" style=\"stroke:#008000; stroke-width:8; stroke-opacity:1; fill:none\" points=\"\n  1033.23,1430.71 901.952,1430.71 \n  \"/>\n<polyline clip-path=\"url(#clip722)\" style=\"stroke:#008000; stroke-width:8; stroke-opacity:1; fill:none\" points=\"\n  1033.23,1445.72 1164.5,1445.72 \n  \"/>\n<polyline clip-path=\"url(#clip722)\" style=\"stroke:#008000; stroke-width:8; stroke-opacity:1; fill:none\" points=\"\n  1025.72,1438.21 1025.72,1306.94 \n  \"/>\n<polyline clip-path=\"url(#clip722)\" style=\"stroke:#008000; stroke-width:8; stroke-opacity:1; fill:none\" points=\"\n  1183.25,1430.71 1051.98,1430.71 \n  \"/>\n<polyline clip-path=\"url(#clip722)\" style=\"stroke:#923700; stroke-width:8; stroke-opacity:1; fill:none\" points=\"\n  1183.25,1445.72 1314.52,1445.72 \n  \"/>\n<polyline clip-path=\"url(#clip722)\" style=\"stroke:#923700; stroke-width:8; stroke-opacity:1; fill:none\" points=\"\n  1333.28,1430.71 1202.01,1430.71 \n  \"/>\n<polyline clip-path=\"url(#clip722)\" style=\"stroke:#ff0000; stroke-width:8; stroke-opacity:1; fill:none\" points=\"\n  1333.28,1445.72 1464.55,1445.72 \n  \"/>\n<polyline clip-path=\"url(#clip722)\" style=\"stroke:#ff0000; stroke-width:8; stroke-opacity:1; fill:none\" points=\"\n  1325.78,1438.21 1325.78,1306.94 \n  \"/>\n<polyline clip-path=\"url(#clip722)\" style=\"stroke:#ff0000; stroke-width:8; stroke-opacity:1; fill:none\" points=\"\n  1483.3,1430.71 1352.03,1430.71 \n  \"/>\n<polyline clip-path=\"url(#clip722)\" style=\"stroke:#ff0000; stroke-width:8; stroke-opacity:1; fill:none\" points=\"\n  1483.3,1445.72 1614.58,1445.72 \n  \"/>\n<polyline clip-path=\"url(#clip722)\" style=\"stroke:#ff0000; stroke-width:8; stroke-opacity:1; fill:none\" points=\"\n  1633.33,1430.71 1502.06,1430.71 \n  \"/>\n<polyline clip-path=\"url(#clip722)\" style=\"stroke:#ff0000; stroke-width:8; stroke-opacity:1; fill:none\" points=\"\n  1633.33,1445.72 1764.6,1445.72 \n  \"/>\n<polyline clip-path=\"url(#clip722)\" style=\"stroke:#ff0000; stroke-width:8; stroke-opacity:1; fill:none\" points=\"\n  1625.83,1438.21 1625.83,1306.94 \n  \"/>\n<polyline clip-path=\"url(#clip722)\" style=\"stroke:#ff0000; stroke-width:8; stroke-opacity:1; fill:none\" points=\"\n  1783.36,1430.71 1652.08,1430.71 \n  \"/>\n<polyline clip-path=\"url(#clip722)\" style=\"stroke:#ff0000; stroke-width:8; stroke-opacity:1; fill:none\" points=\"\n  1783.36,1445.72 1914.63,1445.72 \n  \"/>\n<polyline clip-path=\"url(#clip722)\" style=\"stroke:#ff0000; stroke-width:8; stroke-opacity:1; fill:none\" points=\"\n  1933.38,1430.71 1802.11,1430.71 \n  \"/>\n<polyline clip-path=\"url(#clip722)\" style=\"stroke:#ff0000; stroke-width:8; stroke-opacity:1; fill:none\" points=\"\n  1925.88,1438.21 1925.88,1306.94 \n  \"/>\n<polyline clip-path=\"url(#clip722)\" style=\"stroke:#008000; stroke-width:8; stroke-opacity:1; fill:none\" points=\"\n  590.647,1288.19 590.647,1419.46 \n  \"/>\n<polyline clip-path=\"url(#clip722)\" style=\"stroke:#008000; stroke-width:8; stroke-opacity:1; fill:none\" points=\"\n  583.146,1295.69 714.419,1295.69 \n  \"/>\n<polyline clip-path=\"url(#clip722)\" style=\"stroke:#008000; stroke-width:8; stroke-opacity:1; fill:none\" points=\"\n  575.645,1288.19 575.645,1156.91 \n  \"/>\n<polyline clip-path=\"url(#clip722)\" style=\"stroke:#008000; stroke-width:8; stroke-opacity:1; fill:none\" points=\"\n  733.172,1295.69 864.446,1295.69 \n  \"/>\n<polyline clip-path=\"url(#clip722)\" style=\"stroke:#008000; stroke-width:8; stroke-opacity:1; fill:none\" points=\"\n  725.671,1288.19 725.671,1156.91 \n  \"/>\n<polyline clip-path=\"url(#clip722)\" style=\"stroke:#008000; stroke-width:8; stroke-opacity:1; fill:none\" points=\"\n  890.7,1288.19 890.7,1419.46 \n  \"/>\n<polyline clip-path=\"url(#clip722)\" style=\"stroke:#008000; stroke-width:8; stroke-opacity:1; fill:none\" points=\"\n  883.199,1295.69 1014.47,1295.69 \n  \"/>\n<polyline clip-path=\"url(#clip722)\" style=\"stroke:#008000; stroke-width:8; stroke-opacity:1; fill:none\" points=\"\n  1033.23,1295.69 1164.5,1295.69 \n  \"/>\n<polyline clip-path=\"url(#clip722)\" style=\"stroke:#008000; stroke-width:8; stroke-opacity:1; fill:none\" points=\"\n  1025.72,1288.19 1025.72,1156.91 \n  \"/>\n<polyline clip-path=\"url(#clip722)\" style=\"stroke:#008000; stroke-width:8; stroke-opacity:1; fill:none\" points=\"\n  1190.75,1288.19 1190.75,1419.46 \n  \"/>\n<polyline clip-path=\"url(#clip722)\" style=\"stroke:#923700; stroke-width:8; stroke-opacity:1; fill:none\" points=\"\n  1183.25,1295.69 1314.52,1295.69 \n  \"/>\n<polyline clip-path=\"url(#clip722)\" style=\"stroke:#ff0000; stroke-width:8; stroke-opacity:1; fill:none\" points=\"\n  1333.28,1295.69 1464.55,1295.69 \n  \"/>\n<polyline clip-path=\"url(#clip722)\" style=\"stroke:#ff0000; stroke-width:8; stroke-opacity:1; fill:none\" points=\"\n  1325.78,1288.19 1325.78,1156.91 \n  \"/>\n<polyline clip-path=\"url(#clip722)\" style=\"stroke:#ff0000; stroke-width:8; stroke-opacity:1; fill:none\" points=\"\n  1490.81,1288.19 1490.81,1419.46 \n  \"/>\n<polyline clip-path=\"url(#clip722)\" style=\"stroke:#ff0000; stroke-width:8; stroke-opacity:1; fill:none\" points=\"\n  1483.3,1295.69 1614.58,1295.69 \n  \"/>\n<polyline clip-path=\"url(#clip722)\" style=\"stroke:#ff0000; stroke-width:8; stroke-opacity:1; fill:none\" points=\"\n  1633.33,1295.69 1764.6,1295.69 \n  \"/>\n<polyline clip-path=\"url(#clip722)\" style=\"stroke:#ff0000; stroke-width:8; stroke-opacity:1; fill:none\" points=\"\n  1625.83,1288.19 1625.83,1156.91 \n  \"/>\n<polyline clip-path=\"url(#clip722)\" style=\"stroke:#ff0000; stroke-width:8; stroke-opacity:1; fill:none\" points=\"\n  1790.86,1288.19 1790.86,1419.46 \n  \"/>\n<polyline clip-path=\"url(#clip722)\" style=\"stroke:#ff0000; stroke-width:8; stroke-opacity:1; fill:none\" points=\"\n  1783.36,1295.69 1914.63,1295.69 \n  \"/>\n<polyline clip-path=\"url(#clip722)\" style=\"stroke:#ff0000; stroke-width:8; stroke-opacity:1; fill:none\" points=\"\n  1940.89,1288.19 1940.89,1419.46 \n  \"/>\n<polyline clip-path=\"url(#clip722)\" style=\"stroke:#ff0000; stroke-width:8; stroke-opacity:1; fill:none\" points=\"\n  1925.88,1288.19 1925.88,1156.91 \n  \"/>\n<polyline clip-path=\"url(#clip722)\" style=\"stroke:#008000; stroke-width:8; stroke-opacity:1; fill:none\" points=\"\n  590.647,1138.16 590.647,1269.43 \n  \"/>\n<polyline clip-path=\"url(#clip722)\" style=\"stroke:#008000; stroke-width:8; stroke-opacity:1; fill:none\" points=\"\n  575.645,1138.16 575.645,1006.89 \n  \"/>\n<polyline clip-path=\"url(#clip722)\" style=\"stroke:#008000; stroke-width:8; stroke-opacity:1; fill:none\" points=\"\n  733.172,1130.66 601.899,1130.66 \n  \"/>\n<polyline clip-path=\"url(#clip722)\" style=\"stroke:#008000; stroke-width:8; stroke-opacity:1; fill:none\" points=\"\n  725.671,1138.16 725.671,1006.89 \n  \"/>\n<polyline clip-path=\"url(#clip722)\" style=\"stroke:#008000; stroke-width:8; stroke-opacity:1; fill:none\" points=\"\n  890.7,1138.16 890.7,1269.43 \n  \"/>\n<polyline clip-path=\"url(#clip722)\" style=\"stroke:#008000; stroke-width:8; stroke-opacity:1; fill:none\" points=\"\n  883.199,1130.66 751.926,1130.66 \n  \"/>\n<polyline clip-path=\"url(#clip722)\" style=\"stroke:#008000; stroke-width:8; stroke-opacity:1; fill:none\" points=\"\n  1033.23,1130.66 901.952,1130.66 \n  \"/>\n<polyline clip-path=\"url(#clip722)\" style=\"stroke:#008000; stroke-width:8; stroke-opacity:1; fill:none\" points=\"\n  1025.72,1138.16 1025.72,1006.89 \n  \"/>\n<polyline clip-path=\"url(#clip722)\" style=\"stroke:#008000; stroke-width:8; stroke-opacity:1; fill:none\" points=\"\n  1190.75,1138.16 1190.75,1269.43 \n  \"/>\n<polyline clip-path=\"url(#clip722)\" style=\"stroke:#008000; stroke-width:8; stroke-opacity:1; fill:none\" points=\"\n  1183.25,1130.66 1051.98,1130.66 \n  \"/>\n<polyline clip-path=\"url(#clip722)\" style=\"stroke:#923700; stroke-width:8; stroke-opacity:1; fill:none\" points=\"\n  1333.28,1130.66 1202.01,1130.66 \n  \"/>\n<polyline clip-path=\"url(#clip722)\" style=\"stroke:#ff0000; stroke-width:8; stroke-opacity:1; fill:none\" points=\"\n  1325.78,1138.16 1325.78,1006.89 \n  \"/>\n<polyline clip-path=\"url(#clip722)\" style=\"stroke:#ff0000; stroke-width:8; stroke-opacity:1; fill:none\" points=\"\n  1490.81,1138.16 1490.81,1269.43 \n  \"/>\n<polyline clip-path=\"url(#clip722)\" style=\"stroke:#ff0000; stroke-width:8; stroke-opacity:1; fill:none\" points=\"\n  1483.3,1130.66 1352.03,1130.66 \n  \"/>\n<polyline clip-path=\"url(#clip722)\" style=\"stroke:#ff0000; stroke-width:8; stroke-opacity:1; fill:none\" points=\"\n  1633.33,1130.66 1502.06,1130.66 \n  \"/>\n<polyline clip-path=\"url(#clip722)\" style=\"stroke:#ff0000; stroke-width:8; stroke-opacity:1; fill:none\" points=\"\n  1625.83,1138.16 1625.83,1006.89 \n  \"/>\n<polyline clip-path=\"url(#clip722)\" style=\"stroke:#ff0000; stroke-width:8; stroke-opacity:1; fill:none\" points=\"\n  1790.86,1138.16 1790.86,1269.43 \n  \"/>\n<polyline clip-path=\"url(#clip722)\" style=\"stroke:#ff0000; stroke-width:8; stroke-opacity:1; fill:none\" points=\"\n  1783.36,1130.66 1652.08,1130.66 \n  \"/>\n<polyline clip-path=\"url(#clip722)\" style=\"stroke:#ff0000; stroke-width:8; stroke-opacity:1; fill:none\" points=\"\n  1940.89,1138.16 1940.89,1269.43 \n  \"/>\n<polyline clip-path=\"url(#clip722)\" style=\"stroke:#ff0000; stroke-width:8; stroke-opacity:1; fill:none\" points=\"\n  1933.38,1130.66 1802.11,1130.66 \n  \"/>\n<polyline clip-path=\"url(#clip722)\" style=\"stroke:#ff0000; stroke-width:8; stroke-opacity:1; fill:none\" points=\"\n  1925.88,1138.16 1925.88,1006.89 \n  \"/>\n<polyline clip-path=\"url(#clip722)\" style=\"stroke:#008000; stroke-width:8; stroke-opacity:1; fill:none\" points=\"\n  590.647,988.135 590.647,1119.41 \n  \"/>\n<polyline clip-path=\"url(#clip722)\" style=\"stroke:#008000; stroke-width:8; stroke-opacity:1; fill:none\" points=\"\n  583.146,995.636 714.419,995.636 \n  \"/>\n<polyline clip-path=\"url(#clip722)\" style=\"stroke:#008000; stroke-width:8; stroke-opacity:1; fill:none\" points=\"\n  575.645,988.135 575.645,856.862 \n  \"/>\n<polyline clip-path=\"url(#clip722)\" style=\"stroke:#008000; stroke-width:8; stroke-opacity:1; fill:none\" points=\"\n  733.172,995.636 864.446,995.636 \n  \"/>\n<polyline clip-path=\"url(#clip722)\" style=\"stroke:#008000; stroke-width:8; stroke-opacity:1; fill:none\" points=\"\n  725.671,988.135 725.671,856.862 \n  \"/>\n<polyline clip-path=\"url(#clip722)\" style=\"stroke:#008000; stroke-width:8; stroke-opacity:1; fill:none\" points=\"\n  890.7,988.135 890.7,1119.41 \n  \"/>\n<polyline clip-path=\"url(#clip722)\" style=\"stroke:#008000; stroke-width:8; stroke-opacity:1; fill:none\" points=\"\n  883.199,995.636 1014.47,995.636 \n  \"/>\n<polyline clip-path=\"url(#clip722)\" style=\"stroke:#008000; stroke-width:8; stroke-opacity:1; fill:none\" points=\"\n  1033.23,995.636 1164.5,995.636 \n  \"/>\n<polyline clip-path=\"url(#clip722)\" style=\"stroke:#008000; stroke-width:8; stroke-opacity:1; fill:none\" points=\"\n  1025.72,988.135 1025.72,856.862 \n  \"/>\n<polyline clip-path=\"url(#clip722)\" style=\"stroke:#008000; stroke-width:8; stroke-opacity:1; fill:none\" points=\"\n  1190.75,988.135 1190.75,1119.41 \n  \"/>\n<polyline clip-path=\"url(#clip722)\" style=\"stroke:#923700; stroke-width:8; stroke-opacity:1; fill:none\" points=\"\n  1183.25,995.636 1314.52,995.636 \n  \"/>\n<polyline clip-path=\"url(#clip722)\" style=\"stroke:#ff0000; stroke-width:8; stroke-opacity:1; fill:none\" points=\"\n  1333.28,995.636 1464.55,995.636 \n  \"/>\n<polyline clip-path=\"url(#clip722)\" style=\"stroke:#ff0000; stroke-width:8; stroke-opacity:1; fill:none\" points=\"\n  1325.78,988.135 1325.78,856.862 \n  \"/>\n<polyline clip-path=\"url(#clip722)\" style=\"stroke:#ff0000; stroke-width:8; stroke-opacity:1; fill:none\" points=\"\n  1490.81,988.135 1490.81,1119.41 \n  \"/>\n<polyline clip-path=\"url(#clip722)\" style=\"stroke:#ff0000; stroke-width:8; stroke-opacity:1; fill:none\" points=\"\n  1483.3,995.636 1614.58,995.636 \n  \"/>\n<polyline clip-path=\"url(#clip722)\" style=\"stroke:#ff0000; stroke-width:8; stroke-opacity:1; fill:none\" points=\"\n  1633.33,995.636 1764.6,995.636 \n  \"/>\n<polyline clip-path=\"url(#clip722)\" style=\"stroke:#ff0000; stroke-width:8; stroke-opacity:1; fill:none\" points=\"\n  1625.83,988.135 1625.83,856.862 \n  \"/>\n<polyline clip-path=\"url(#clip722)\" style=\"stroke:#ff0000; stroke-width:8; stroke-opacity:1; fill:none\" points=\"\n  1790.86,988.135 1790.86,1119.41 \n  \"/>\n<polyline clip-path=\"url(#clip722)\" style=\"stroke:#ff0000; stroke-width:8; stroke-opacity:1; fill:none\" points=\"\n  1783.36,995.636 1914.63,995.636 \n  \"/>\n<polyline clip-path=\"url(#clip722)\" style=\"stroke:#ff0000; stroke-width:8; stroke-opacity:1; fill:none\" points=\"\n  1940.89,988.135 1940.89,1119.41 \n  \"/>\n<polyline clip-path=\"url(#clip722)\" style=\"stroke:#ff0000; stroke-width:8; stroke-opacity:1; fill:none\" points=\"\n  1925.88,988.135 1925.88,856.862 \n  \"/>\n<polyline clip-path=\"url(#clip722)\" style=\"stroke:#008000; stroke-width:8; stroke-opacity:1; fill:none\" points=\"\n  590.647,838.109 590.647,969.382 \n  \"/>\n<polyline clip-path=\"url(#clip722)\" style=\"stroke:#008000; stroke-width:8; stroke-opacity:1; fill:none\" points=\"\n  575.645,838.109 575.645,706.835 \n  \"/>\n<polyline clip-path=\"url(#clip722)\" style=\"stroke:#008000; stroke-width:8; stroke-opacity:1; fill:none\" points=\"\n  733.172,830.607 601.899,830.607 \n  \"/>\n<polyline clip-path=\"url(#clip722)\" style=\"stroke:#008000; stroke-width:8; stroke-opacity:1; fill:none\" points=\"\n  725.671,838.109 725.671,706.835 \n  \"/>\n<polyline clip-path=\"url(#clip722)\" style=\"stroke:#008000; stroke-width:8; stroke-opacity:1; fill:none\" points=\"\n  890.7,838.109 890.7,969.382 \n  \"/>\n<polyline clip-path=\"url(#clip722)\" style=\"stroke:#008000; stroke-width:8; stroke-opacity:1; fill:none\" points=\"\n  883.199,830.607 751.926,830.607 \n  \"/>\n<polyline clip-path=\"url(#clip722)\" style=\"stroke:#008000; stroke-width:8; stroke-opacity:1; fill:none\" points=\"\n  1033.23,830.607 901.952,830.607 \n  \"/>\n<polyline clip-path=\"url(#clip722)\" style=\"stroke:#008000; stroke-width:8; stroke-opacity:1; fill:none\" points=\"\n  1025.72,838.109 1025.72,706.835 \n  \"/>\n<polyline clip-path=\"url(#clip722)\" style=\"stroke:#008000; stroke-width:8; stroke-opacity:1; fill:none\" points=\"\n  1190.75,838.109 1190.75,969.382 \n  \"/>\n<polyline clip-path=\"url(#clip722)\" style=\"stroke:#008000; stroke-width:8; stroke-opacity:1; fill:none\" points=\"\n  1183.25,830.607 1051.98,830.607 \n  \"/>\n<polyline clip-path=\"url(#clip722)\" style=\"stroke:#923700; stroke-width:8; stroke-opacity:1; fill:none\" points=\"\n  1333.28,830.607 1202.01,830.607 \n  \"/>\n<polyline clip-path=\"url(#clip722)\" style=\"stroke:#ff0000; stroke-width:8; stroke-opacity:1; fill:none\" points=\"\n  1325.78,838.109 1325.78,706.835 \n  \"/>\n<polyline clip-path=\"url(#clip722)\" style=\"stroke:#ff0000; stroke-width:8; stroke-opacity:1; fill:none\" points=\"\n  1490.81,838.109 1490.81,969.382 \n  \"/>\n<polyline clip-path=\"url(#clip722)\" style=\"stroke:#ff0000; stroke-width:8; stroke-opacity:1; fill:none\" points=\"\n  1483.3,830.607 1352.03,830.607 \n  \"/>\n<polyline clip-path=\"url(#clip722)\" style=\"stroke:#ff0000; stroke-width:8; stroke-opacity:1; fill:none\" points=\"\n  1633.33,830.607 1502.06,830.607 \n  \"/>\n<polyline clip-path=\"url(#clip722)\" style=\"stroke:#ff0000; stroke-width:8; stroke-opacity:1; fill:none\" points=\"\n  1625.83,838.109 1625.83,706.835 \n  \"/>\n<polyline clip-path=\"url(#clip722)\" style=\"stroke:#ff0000; stroke-width:8; stroke-opacity:1; fill:none\" points=\"\n  1790.86,838.109 1790.86,969.382 \n  \"/>\n<polyline clip-path=\"url(#clip722)\" style=\"stroke:#ff0000; stroke-width:8; stroke-opacity:1; fill:none\" points=\"\n  1783.36,830.607 1652.08,830.607 \n  \"/>\n<polyline clip-path=\"url(#clip722)\" style=\"stroke:#ff0000; stroke-width:8; stroke-opacity:1; fill:none\" points=\"\n  1940.89,838.109 1940.89,969.382 \n  \"/>\n<polyline clip-path=\"url(#clip722)\" style=\"stroke:#ff0000; stroke-width:8; stroke-opacity:1; fill:none\" points=\"\n  1933.38,830.607 1802.11,830.607 \n  \"/>\n<polyline clip-path=\"url(#clip722)\" style=\"stroke:#ff0000; stroke-width:8; stroke-opacity:1; fill:none\" points=\"\n  1925.88,838.109 1925.88,706.835 \n  \"/>\n<polyline clip-path=\"url(#clip722)\" style=\"stroke:#008000; stroke-width:8; stroke-opacity:1; fill:none\" points=\"\n  590.647,688.082 590.647,819.355 \n  \"/>\n<polyline clip-path=\"url(#clip722)\" style=\"stroke:#008000; stroke-width:8; stroke-opacity:1; fill:none\" points=\"\n  583.146,695.583 714.419,695.583 \n  \"/>\n<polyline clip-path=\"url(#clip722)\" style=\"stroke:#008000; stroke-width:8; stroke-opacity:1; fill:none\" points=\"\n  575.645,688.082 575.645,556.809 \n  \"/>\n<polyline clip-path=\"url(#clip722)\" style=\"stroke:#008000; stroke-width:8; stroke-opacity:1; fill:none\" points=\"\n  733.172,695.583 864.446,695.583 \n  \"/>\n<polyline clip-path=\"url(#clip722)\" style=\"stroke:#008000; stroke-width:8; stroke-opacity:1; fill:none\" points=\"\n  725.671,688.082 725.671,556.809 \n  \"/>\n<polyline clip-path=\"url(#clip722)\" style=\"stroke:#008000; stroke-width:8; stroke-opacity:1; fill:none\" points=\"\n  890.7,688.082 890.7,819.355 \n  \"/>\n<polyline clip-path=\"url(#clip722)\" style=\"stroke:#008000; stroke-width:8; stroke-opacity:1; fill:none\" points=\"\n  883.199,695.583 1014.47,695.583 \n  \"/>\n<polyline clip-path=\"url(#clip722)\" style=\"stroke:#008000; stroke-width:8; stroke-opacity:1; fill:none\" points=\"\n  1033.23,695.583 1164.5,695.583 \n  \"/>\n<polyline clip-path=\"url(#clip722)\" style=\"stroke:#008000; stroke-width:8; stroke-opacity:1; fill:none\" points=\"\n  1025.72,688.082 1025.72,556.809 \n  \"/>\n<polyline clip-path=\"url(#clip722)\" style=\"stroke:#008000; stroke-width:8; stroke-opacity:1; fill:none\" points=\"\n  1190.75,688.082 1190.75,819.355 \n  \"/>\n<polyline clip-path=\"url(#clip722)\" style=\"stroke:#923700; stroke-width:8; stroke-opacity:1; fill:none\" points=\"\n  1183.25,695.583 1314.52,695.583 \n  \"/>\n<polyline clip-path=\"url(#clip722)\" style=\"stroke:#ff0000; stroke-width:8; stroke-opacity:1; fill:none\" points=\"\n  1333.28,695.583 1464.55,695.583 \n  \"/>\n<polyline clip-path=\"url(#clip722)\" style=\"stroke:#ff0000; stroke-width:8; stroke-opacity:1; fill:none\" points=\"\n  1325.78,688.082 1325.78,556.809 \n  \"/>\n<polyline clip-path=\"url(#clip722)\" style=\"stroke:#ff0000; stroke-width:8; stroke-opacity:1; fill:none\" points=\"\n  1490.81,688.082 1490.81,819.355 \n  \"/>\n<polyline clip-path=\"url(#clip722)\" style=\"stroke:#ff0000; stroke-width:8; stroke-opacity:1; fill:none\" points=\"\n  1483.3,695.583 1614.58,695.583 \n  \"/>\n<polyline clip-path=\"url(#clip722)\" style=\"stroke:#ff0000; stroke-width:8; stroke-opacity:1; fill:none\" points=\"\n  1633.33,695.583 1764.6,695.583 \n  \"/>\n<polyline clip-path=\"url(#clip722)\" style=\"stroke:#ff0000; stroke-width:8; stroke-opacity:1; fill:none\" points=\"\n  1625.83,688.082 1625.83,556.809 \n  \"/>\n<polyline clip-path=\"url(#clip722)\" style=\"stroke:#ff0000; stroke-width:8; stroke-opacity:1; fill:none\" points=\"\n  1790.86,688.082 1790.86,819.355 \n  \"/>\n<polyline clip-path=\"url(#clip722)\" style=\"stroke:#ff0000; stroke-width:8; stroke-opacity:1; fill:none\" points=\"\n  1783.36,695.583 1914.63,695.583 \n  \"/>\n<polyline clip-path=\"url(#clip722)\" style=\"stroke:#ff0000; stroke-width:8; stroke-opacity:1; fill:none\" points=\"\n  1940.89,688.082 1940.89,819.355 \n  \"/>\n<polyline clip-path=\"url(#clip722)\" style=\"stroke:#ff0000; stroke-width:8; stroke-opacity:1; fill:none\" points=\"\n  1925.88,688.082 1925.88,556.809 \n  \"/>\n<polyline clip-path=\"url(#clip722)\" style=\"stroke:#008000; stroke-width:8; stroke-opacity:1; fill:none\" points=\"\n  590.647,538.056 590.647,669.329 \n  \"/>\n<polyline clip-path=\"url(#clip722)\" style=\"stroke:#008000; stroke-width:8; stroke-opacity:1; fill:none\" points=\"\n  575.645,538.056 575.645,406.782 \n  \"/>\n<polyline clip-path=\"url(#clip722)\" style=\"stroke:#008000; stroke-width:8; stroke-opacity:1; fill:none\" points=\"\n  733.172,530.554 601.899,530.554 \n  \"/>\n<polyline clip-path=\"url(#clip722)\" style=\"stroke:#008000; stroke-width:8; stroke-opacity:1; fill:none\" points=\"\n  725.671,538.056 725.671,406.782 \n  \"/>\n<polyline clip-path=\"url(#clip722)\" style=\"stroke:#008000; stroke-width:8; stroke-opacity:1; fill:none\" points=\"\n  890.7,538.056 890.7,669.329 \n  \"/>\n<polyline clip-path=\"url(#clip722)\" style=\"stroke:#008000; stroke-width:8; stroke-opacity:1; fill:none\" points=\"\n  883.199,530.554 751.926,530.554 \n  \"/>\n<polyline clip-path=\"url(#clip722)\" style=\"stroke:#008000; stroke-width:8; stroke-opacity:1; fill:none\" points=\"\n  1033.23,530.554 901.952,530.554 \n  \"/>\n<polyline clip-path=\"url(#clip722)\" style=\"stroke:#008000; stroke-width:8; stroke-opacity:1; fill:none\" points=\"\n  1025.72,538.056 1025.72,406.782 \n  \"/>\n<polyline clip-path=\"url(#clip722)\" style=\"stroke:#008000; stroke-width:8; stroke-opacity:1; fill:none\" points=\"\n  1190.75,538.056 1190.75,669.329 \n  \"/>\n<polyline clip-path=\"url(#clip722)\" style=\"stroke:#008000; stroke-width:8; stroke-opacity:1; fill:none\" points=\"\n  1183.25,530.554 1051.98,530.554 \n  \"/>\n<polyline clip-path=\"url(#clip722)\" style=\"stroke:#923700; stroke-width:8; stroke-opacity:1; fill:none\" points=\"\n  1333.28,530.554 1202.01,530.554 \n  \"/>\n<polyline clip-path=\"url(#clip722)\" style=\"stroke:#ff0000; stroke-width:8; stroke-opacity:1; fill:none\" points=\"\n  1325.78,538.056 1325.78,406.782 \n  \"/>\n<polyline clip-path=\"url(#clip722)\" style=\"stroke:#ff0000; stroke-width:8; stroke-opacity:1; fill:none\" points=\"\n  1490.81,538.056 1490.81,669.329 \n  \"/>\n<polyline clip-path=\"url(#clip722)\" style=\"stroke:#ff0000; stroke-width:8; stroke-opacity:1; fill:none\" points=\"\n  1483.3,530.554 1352.03,530.554 \n  \"/>\n<polyline clip-path=\"url(#clip722)\" style=\"stroke:#ff0000; stroke-width:8; stroke-opacity:1; fill:none\" points=\"\n  1633.33,530.554 1502.06,530.554 \n  \"/>\n<polyline clip-path=\"url(#clip722)\" style=\"stroke:#ff0000; stroke-width:8; stroke-opacity:1; fill:none\" points=\"\n  1625.83,538.056 1625.83,406.782 \n  \"/>\n<polyline clip-path=\"url(#clip722)\" style=\"stroke:#ff0000; stroke-width:8; stroke-opacity:1; fill:none\" points=\"\n  1790.86,538.056 1790.86,669.329 \n  \"/>\n<polyline clip-path=\"url(#clip722)\" style=\"stroke:#ff0000; stroke-width:8; stroke-opacity:1; fill:none\" points=\"\n  1783.36,530.554 1652.08,530.554 \n  \"/>\n<polyline clip-path=\"url(#clip722)\" style=\"stroke:#ff0000; stroke-width:8; stroke-opacity:1; fill:none\" points=\"\n  1940.89,538.056 1940.89,669.329 \n  \"/>\n<polyline clip-path=\"url(#clip722)\" style=\"stroke:#ff0000; stroke-width:8; stroke-opacity:1; fill:none\" points=\"\n  1933.38,530.554 1802.11,530.554 \n  \"/>\n<polyline clip-path=\"url(#clip722)\" style=\"stroke:#ff0000; stroke-width:8; stroke-opacity:1; fill:none\" points=\"\n  1925.88,538.056 1925.88,406.782 \n  \"/>\n<polyline clip-path=\"url(#clip722)\" style=\"stroke:#008000; stroke-width:8; stroke-opacity:1; fill:none\" points=\"\n  590.647,388.029 590.647,519.302 \n  \"/>\n<polyline clip-path=\"url(#clip722)\" style=\"stroke:#008000; stroke-width:8; stroke-opacity:1; fill:none\" points=\"\n  583.146,395.531 714.419,395.531 \n  \"/>\n<polyline clip-path=\"url(#clip722)\" style=\"stroke:#008000; stroke-width:8; stroke-opacity:1; fill:none\" points=\"\n  575.645,388.029 575.645,256.756 \n  \"/>\n<polyline clip-path=\"url(#clip722)\" style=\"stroke:#008000; stroke-width:8; stroke-opacity:1; fill:none\" points=\"\n  733.172,395.531 864.446,395.531 \n  \"/>\n<polyline clip-path=\"url(#clip722)\" style=\"stroke:#008000; stroke-width:8; stroke-opacity:1; fill:none\" points=\"\n  725.671,388.029 725.671,256.756 \n  \"/>\n<polyline clip-path=\"url(#clip722)\" style=\"stroke:#008000; stroke-width:8; stroke-opacity:1; fill:none\" points=\"\n  890.7,388.029 890.7,519.302 \n  \"/>\n<polyline clip-path=\"url(#clip722)\" style=\"stroke:#008000; stroke-width:8; stroke-opacity:1; fill:none\" points=\"\n  883.199,395.531 1014.47,395.531 \n  \"/>\n<polyline clip-path=\"url(#clip722)\" style=\"stroke:#008000; stroke-width:8; stroke-opacity:1; fill:none\" points=\"\n  1033.23,395.531 1164.5,395.531 \n  \"/>\n<polyline clip-path=\"url(#clip722)\" style=\"stroke:#008000; stroke-width:8; stroke-opacity:1; fill:none\" points=\"\n  1025.72,388.029 1025.72,256.756 \n  \"/>\n<polyline clip-path=\"url(#clip722)\" style=\"stroke:#008000; stroke-width:8; stroke-opacity:1; fill:none\" points=\"\n  1190.75,388.029 1190.75,519.302 \n  \"/>\n<polyline clip-path=\"url(#clip722)\" style=\"stroke:#923700; stroke-width:8; stroke-opacity:1; fill:none\" points=\"\n  1183.25,395.531 1314.52,395.531 \n  \"/>\n<polyline clip-path=\"url(#clip722)\" style=\"stroke:#ff0000; stroke-width:8; stroke-opacity:1; fill:none\" points=\"\n  1333.28,395.531 1464.55,395.531 \n  \"/>\n<polyline clip-path=\"url(#clip722)\" style=\"stroke:#ff0000; stroke-width:8; stroke-opacity:1; fill:none\" points=\"\n  1325.78,388.029 1325.78,256.756 \n  \"/>\n<polyline clip-path=\"url(#clip722)\" style=\"stroke:#ff0000; stroke-width:8; stroke-opacity:1; fill:none\" points=\"\n  1490.81,388.029 1490.81,519.302 \n  \"/>\n<polyline clip-path=\"url(#clip722)\" style=\"stroke:#ff0000; stroke-width:8; stroke-opacity:1; fill:none\" points=\"\n  1483.3,395.531 1614.58,395.531 \n  \"/>\n<polyline clip-path=\"url(#clip722)\" style=\"stroke:#ff0000; stroke-width:8; stroke-opacity:1; fill:none\" points=\"\n  1633.33,395.531 1764.6,395.531 \n  \"/>\n<polyline clip-path=\"url(#clip722)\" style=\"stroke:#ff0000; stroke-width:8; stroke-opacity:1; fill:none\" points=\"\n  1625.83,388.029 1625.83,256.756 \n  \"/>\n<polyline clip-path=\"url(#clip722)\" style=\"stroke:#ff0000; stroke-width:8; stroke-opacity:1; fill:none\" points=\"\n  1790.86,388.029 1790.86,519.302 \n  \"/>\n<polyline clip-path=\"url(#clip722)\" style=\"stroke:#ff0000; stroke-width:8; stroke-opacity:1; fill:none\" points=\"\n  1783.36,395.531 1914.63,395.531 \n  \"/>\n<polyline clip-path=\"url(#clip722)\" style=\"stroke:#ff0000; stroke-width:8; stroke-opacity:1; fill:none\" points=\"\n  1940.89,388.029 1940.89,519.302 \n  \"/>\n<polyline clip-path=\"url(#clip722)\" style=\"stroke:#ff0000; stroke-width:8; stroke-opacity:1; fill:none\" points=\"\n  1925.88,388.029 1925.88,256.756 \n  \"/>\n<polyline clip-path=\"url(#clip722)\" style=\"stroke:#008000; stroke-width:8; stroke-opacity:1; fill:none\" points=\"\n  590.647,238.003 590.647,369.276 \n  \"/>\n<polyline clip-path=\"url(#clip722)\" style=\"stroke:#008000; stroke-width:8; stroke-opacity:1; fill:none\" points=\"\n  575.645,238.003 575.645,106.73 \n  \"/>\n<polyline clip-path=\"url(#clip722)\" style=\"stroke:#008000; stroke-width:8; stroke-opacity:1; fill:none\" points=\"\n  733.172,230.501 601.899,230.501 \n  \"/>\n<polyline clip-path=\"url(#clip722)\" style=\"stroke:#008000; stroke-width:8; stroke-opacity:1; fill:none\" points=\"\n  725.671,238.003 725.671,106.73 \n  \"/>\n<polyline clip-path=\"url(#clip722)\" style=\"stroke:#008000; stroke-width:8; stroke-opacity:1; fill:none\" points=\"\n  890.7,238.003 890.7,369.276 \n  \"/>\n<polyline clip-path=\"url(#clip722)\" style=\"stroke:#008000; stroke-width:8; stroke-opacity:1; fill:none\" points=\"\n  883.199,230.501 751.926,230.501 \n  \"/>\n<polyline clip-path=\"url(#clip722)\" style=\"stroke:#008000; stroke-width:8; stroke-opacity:1; fill:none\" points=\"\n  1033.23,230.501 901.952,230.501 \n  \"/>\n<polyline clip-path=\"url(#clip722)\" style=\"stroke:#008000; stroke-width:8; stroke-opacity:1; fill:none\" points=\"\n  1025.72,238.003 1025.72,106.73 \n  \"/>\n<polyline clip-path=\"url(#clip722)\" style=\"stroke:#008000; stroke-width:8; stroke-opacity:1; fill:none\" points=\"\n  1190.75,238.003 1190.75,369.276 \n  \"/>\n<polyline clip-path=\"url(#clip722)\" style=\"stroke:#008000; stroke-width:8; stroke-opacity:1; fill:none\" points=\"\n  1183.25,230.501 1051.98,230.501 \n  \"/>\n<polyline clip-path=\"url(#clip722)\" style=\"stroke:#923700; stroke-width:8; stroke-opacity:1; fill:none\" points=\"\n  1333.28,230.501 1202.01,230.501 \n  \"/>\n<polyline clip-path=\"url(#clip722)\" style=\"stroke:#ff0000; stroke-width:8; stroke-opacity:1; fill:none\" points=\"\n  1325.78,238.003 1325.78,106.73 \n  \"/>\n<polyline clip-path=\"url(#clip722)\" style=\"stroke:#ff0000; stroke-width:8; stroke-opacity:1; fill:none\" points=\"\n  1490.81,238.003 1490.81,369.276 \n  \"/>\n<polyline clip-path=\"url(#clip722)\" style=\"stroke:#ff0000; stroke-width:8; stroke-opacity:1; fill:none\" points=\"\n  1483.3,230.501 1352.03,230.501 \n  \"/>\n<polyline clip-path=\"url(#clip722)\" style=\"stroke:#ff0000; stroke-width:8; stroke-opacity:1; fill:none\" points=\"\n  1633.33,230.501 1502.06,230.501 \n  \"/>\n<polyline clip-path=\"url(#clip722)\" style=\"stroke:#ff0000; stroke-width:8; stroke-opacity:1; fill:none\" points=\"\n  1625.83,238.003 1625.83,106.73 \n  \"/>\n<polyline clip-path=\"url(#clip722)\" style=\"stroke:#ff0000; stroke-width:8; stroke-opacity:1; fill:none\" points=\"\n  1790.86,238.003 1790.86,369.276 \n  \"/>\n<polyline clip-path=\"url(#clip722)\" style=\"stroke:#ff0000; stroke-width:8; stroke-opacity:1; fill:none\" points=\"\n  1783.36,230.501 1652.08,230.501 \n  \"/>\n<polyline clip-path=\"url(#clip722)\" style=\"stroke:#ff0000; stroke-width:8; stroke-opacity:1; fill:none\" points=\"\n  1940.89,238.003 1940.89,369.276 \n  \"/>\n<polyline clip-path=\"url(#clip722)\" style=\"stroke:#ff0000; stroke-width:8; stroke-opacity:1; fill:none\" points=\"\n  1933.38,230.501 1802.11,230.501 \n  \"/>\n<polyline clip-path=\"url(#clip722)\" style=\"stroke:#ff0000; stroke-width:8; stroke-opacity:1; fill:none\" points=\"\n  1925.88,238.003 1925.88,106.73 \n  \"/>\n<polyline clip-path=\"url(#clip722)\" style=\"stroke:#008000; stroke-width:8; stroke-opacity:1; fill:none\" points=\"\n  590.647,87.9763 590.647,219.249 \n  \"/>\n<polyline clip-path=\"url(#clip722)\" style=\"stroke:#008000; stroke-width:8; stroke-opacity:1; fill:none\" points=\"\n  583.146,95.4776 714.419,95.4776 \n  \"/>\n<polyline clip-path=\"url(#clip722)\" style=\"stroke:#008000; stroke-width:8; stroke-opacity:1; fill:none\" points=\"\n  733.172,95.4776 864.446,95.4776 \n  \"/>\n<polyline clip-path=\"url(#clip722)\" style=\"stroke:#008000; stroke-width:8; stroke-opacity:1; fill:none\" points=\"\n  890.7,87.9763 890.7,219.249 \n  \"/>\n<polyline clip-path=\"url(#clip722)\" style=\"stroke:#008000; stroke-width:8; stroke-opacity:1; fill:none\" points=\"\n  883.199,95.4776 1014.47,95.4776 \n  \"/>\n<polyline clip-path=\"url(#clip722)\" style=\"stroke:#008000; stroke-width:8; stroke-opacity:1; fill:none\" points=\"\n  1033.23,95.4776 1164.5,95.4776 \n  \"/>\n<polyline clip-path=\"url(#clip722)\" style=\"stroke:#008000; stroke-width:8; stroke-opacity:1; fill:none\" points=\"\n  1190.75,87.9763 1190.75,219.249 \n  \"/>\n<polyline clip-path=\"url(#clip722)\" style=\"stroke:#923700; stroke-width:8; stroke-opacity:1; fill:none\" points=\"\n  1183.25,95.4776 1314.52,95.4776 \n  \"/>\n<polyline clip-path=\"url(#clip722)\" style=\"stroke:#ff0000; stroke-width:8; stroke-opacity:1; fill:none\" points=\"\n  1333.28,95.4776 1464.55,95.4776 \n  \"/>\n<polyline clip-path=\"url(#clip722)\" style=\"stroke:#ff0000; stroke-width:8; stroke-opacity:1; fill:none\" points=\"\n  1490.81,87.9763 1490.81,219.249 \n  \"/>\n<polyline clip-path=\"url(#clip722)\" style=\"stroke:#ff0000; stroke-width:8; stroke-opacity:1; fill:none\" points=\"\n  1483.3,95.4776 1614.58,95.4776 \n  \"/>\n<polyline clip-path=\"url(#clip722)\" style=\"stroke:#ff0000; stroke-width:8; stroke-opacity:1; fill:none\" points=\"\n  1633.33,95.4776 1764.6,95.4776 \n  \"/>\n<polyline clip-path=\"url(#clip722)\" style=\"stroke:#ff0000; stroke-width:8; stroke-opacity:1; fill:none\" points=\"\n  1790.86,87.9763 1790.86,219.249 \n  \"/>\n<polyline clip-path=\"url(#clip722)\" style=\"stroke:#ff0000; stroke-width:8; stroke-opacity:1; fill:none\" points=\"\n  1783.36,95.4776 1914.63,95.4776 \n  \"/>\n<polyline clip-path=\"url(#clip722)\" style=\"stroke:#ff0000; stroke-width:8; stroke-opacity:1; fill:none\" points=\"\n  1940.89,87.9763 1940.89,219.249 \n  \"/>\n<polyline clip-path=\"url(#clip722)\" style=\"stroke:#008000; stroke-width:8; stroke-opacity:1; fill:none\" points=\"\n  714.419,1445.72 733.172,1445.72 \n  \"/>\n<polyline clip-path=\"url(#clip722)\" style=\"stroke:#008000; stroke-width:8; stroke-opacity:1; fill:none\" points=\"\n  575.645,1306.94 575.645,1288.19 \n  \"/>\n<polyline clip-path=\"url(#clip722)\" style=\"stroke:#008000; stroke-width:8; stroke-opacity:1; fill:none\" points=\"\n  601.899,1430.71 583.146,1430.71 \n  \"/>\n<polyline clip-path=\"url(#clip722)\" style=\"stroke:#008000; stroke-width:8; stroke-opacity:1; fill:none\" points=\"\n  864.446,1445.72 883.199,1445.72 \n  \"/>\n<polyline clip-path=\"url(#clip722)\" style=\"stroke:#008000; stroke-width:8; stroke-opacity:1; fill:none\" points=\"\n  725.671,1306.94 725.671,1288.19 \n  \"/>\n<polyline clip-path=\"url(#clip722)\" style=\"stroke:#008000; stroke-width:8; stroke-opacity:1; fill:none\" points=\"\n  751.926,1430.71 733.172,1430.71 \n  \"/>\n<polyline clip-path=\"url(#clip722)\" style=\"stroke:#008000; stroke-width:8; stroke-opacity:1; fill:none\" points=\"\n  1014.47,1445.72 1033.23,1445.72 \n  \"/>\n<polyline clip-path=\"url(#clip722)\" style=\"stroke:#008000; stroke-width:8; stroke-opacity:1; fill:none\" points=\"\n  901.952,1430.71 883.199,1430.71 \n  \"/>\n<polyline clip-path=\"url(#clip722)\" style=\"stroke:#008000; stroke-width:8; stroke-opacity:1; fill:none\" points=\"\n  1164.5,1445.72 1183.25,1445.72 \n  \"/>\n<polyline clip-path=\"url(#clip722)\" style=\"stroke:#008000; stroke-width:8; stroke-opacity:1; fill:none\" points=\"\n  1025.72,1306.94 1025.72,1288.19 \n  \"/>\n<polyline clip-path=\"url(#clip722)\" style=\"stroke:#008000; stroke-width:8; stroke-opacity:1; fill:none\" points=\"\n  1051.98,1430.71 1033.23,1430.71 \n  \"/>\n<polyline clip-path=\"url(#clip722)\" style=\"stroke:#ff0000; stroke-width:8; stroke-opacity:1; fill:none\" points=\"\n  1314.52,1445.72 1333.28,1445.72 \n  \"/>\n<polyline clip-path=\"url(#clip722)\" style=\"stroke:#008000; stroke-width:8; stroke-opacity:1; fill:none\" points=\"\n  1202.01,1430.71 1183.25,1430.71 \n  \"/>\n<polyline clip-path=\"url(#clip722)\" style=\"stroke:#ff0000; stroke-width:8; stroke-opacity:1; fill:none\" points=\"\n  1464.55,1445.72 1483.3,1445.72 \n  \"/>\n<polyline clip-path=\"url(#clip722)\" style=\"stroke:#ff0000; stroke-width:8; stroke-opacity:1; fill:none\" points=\"\n  1325.78,1306.94 1325.78,1288.19 \n  \"/>\n<polyline clip-path=\"url(#clip722)\" style=\"stroke:#ff0000; stroke-width:8; stroke-opacity:1; fill:none\" points=\"\n  1352.03,1430.71 1333.28,1430.71 \n  \"/>\n<polyline clip-path=\"url(#clip722)\" style=\"stroke:#ff0000; stroke-width:8; stroke-opacity:1; fill:none\" points=\"\n  1614.58,1445.72 1633.33,1445.72 \n  \"/>\n<polyline clip-path=\"url(#clip722)\" style=\"stroke:#ff0000; stroke-width:8; stroke-opacity:1; fill:none\" points=\"\n  1502.06,1430.71 1483.3,1430.71 \n  \"/>\n<polyline clip-path=\"url(#clip722)\" style=\"stroke:#ff0000; stroke-width:8; stroke-opacity:1; fill:none\" points=\"\n  1764.6,1445.72 1783.36,1445.72 \n  \"/>\n<polyline clip-path=\"url(#clip722)\" style=\"stroke:#ff0000; stroke-width:8; stroke-opacity:1; fill:none\" points=\"\n  1625.83,1306.94 1625.83,1288.19 \n  \"/>\n<polyline clip-path=\"url(#clip722)\" style=\"stroke:#ff0000; stroke-width:8; stroke-opacity:1; fill:none\" points=\"\n  1652.08,1430.71 1633.33,1430.71 \n  \"/>\n<polyline clip-path=\"url(#clip722)\" style=\"stroke:#ff0000; stroke-width:8; stroke-opacity:1; fill:none\" points=\"\n  1914.63,1445.72 1933.38,1445.72 \n  \"/>\n<polyline clip-path=\"url(#clip722)\" style=\"stroke:#ff0000; stroke-width:8; stroke-opacity:1; fill:none\" points=\"\n  1802.11,1430.71 1783.36,1430.71 \n  \"/>\n<polyline clip-path=\"url(#clip722)\" style=\"stroke:#ff0000; stroke-width:8; stroke-opacity:1; fill:none\" points=\"\n  1925.88,1306.94 1925.88,1288.19 \n  \"/>\n<polyline clip-path=\"url(#clip722)\" style=\"stroke:#008000; stroke-width:8; stroke-opacity:1; fill:none\" points=\"\n  590.647,1419.46 590.647,1438.21 \n  \"/>\n<polyline clip-path=\"url(#clip722)\" style=\"stroke:#008000; stroke-width:8; stroke-opacity:1; fill:none\" points=\"\n  714.419,1295.69 733.172,1295.69 \n  \"/>\n<polyline clip-path=\"url(#clip722)\" style=\"stroke:#008000; stroke-width:8; stroke-opacity:1; fill:none\" points=\"\n  575.645,1156.91 575.645,1138.16 \n  \"/>\n<polyline clip-path=\"url(#clip722)\" style=\"stroke:#008000; stroke-width:8; stroke-opacity:1; fill:none\" points=\"\n  864.446,1295.69 883.199,1295.69 \n  \"/>\n<polyline clip-path=\"url(#clip722)\" style=\"stroke:#008000; stroke-width:8; stroke-opacity:1; fill:none\" points=\"\n  725.671,1156.91 725.671,1138.16 \n  \"/>\n<polyline clip-path=\"url(#clip722)\" style=\"stroke:#008000; stroke-width:8; stroke-opacity:1; fill:none\" points=\"\n  890.7,1419.46 890.7,1438.21 \n  \"/>\n<polyline clip-path=\"url(#clip722)\" style=\"stroke:#008000; stroke-width:8; stroke-opacity:1; fill:none\" points=\"\n  1014.47,1295.69 1033.23,1295.69 \n  \"/>\n<polyline clip-path=\"url(#clip722)\" style=\"stroke:#008000; stroke-width:8; stroke-opacity:1; fill:none\" points=\"\n  1164.5,1295.69 1183.25,1295.69 \n  \"/>\n<polyline clip-path=\"url(#clip722)\" style=\"stroke:#008000; stroke-width:8; stroke-opacity:1; fill:none\" points=\"\n  1025.72,1156.91 1025.72,1138.16 \n  \"/>\n<polyline clip-path=\"url(#clip722)\" style=\"stroke:#008000; stroke-width:8; stroke-opacity:1; fill:none\" points=\"\n  1190.75,1419.46 1190.75,1438.21 \n  \"/>\n<polyline clip-path=\"url(#clip722)\" style=\"stroke:#ff0000; stroke-width:8; stroke-opacity:1; fill:none\" points=\"\n  1314.52,1295.69 1333.28,1295.69 \n  \"/>\n<polyline clip-path=\"url(#clip722)\" style=\"stroke:#ff0000; stroke-width:8; stroke-opacity:1; fill:none\" points=\"\n  1464.55,1295.69 1483.3,1295.69 \n  \"/>\n<polyline clip-path=\"url(#clip722)\" style=\"stroke:#ff0000; stroke-width:8; stroke-opacity:1; fill:none\" points=\"\n  1325.78,1156.91 1325.78,1138.16 \n  \"/>\n<polyline clip-path=\"url(#clip722)\" style=\"stroke:#ff0000; stroke-width:8; stroke-opacity:1; fill:none\" points=\"\n  1490.81,1419.46 1490.81,1438.21 \n  \"/>\n<polyline clip-path=\"url(#clip722)\" style=\"stroke:#ff0000; stroke-width:8; stroke-opacity:1; fill:none\" points=\"\n  1614.58,1295.69 1633.33,1295.69 \n  \"/>\n<polyline clip-path=\"url(#clip722)\" style=\"stroke:#ff0000; stroke-width:8; stroke-opacity:1; fill:none\" points=\"\n  1764.6,1295.69 1783.36,1295.69 \n  \"/>\n<polyline clip-path=\"url(#clip722)\" style=\"stroke:#ff0000; stroke-width:8; stroke-opacity:1; fill:none\" points=\"\n  1625.83,1156.91 1625.83,1138.16 \n  \"/>\n<polyline clip-path=\"url(#clip722)\" style=\"stroke:#ff0000; stroke-width:8; stroke-opacity:1; fill:none\" points=\"\n  1790.86,1419.46 1790.86,1438.21 \n  \"/>\n<polyline clip-path=\"url(#clip722)\" style=\"stroke:#ff0000; stroke-width:8; stroke-opacity:1; fill:none\" points=\"\n  1914.63,1295.69 1933.38,1295.69 \n  \"/>\n<polyline clip-path=\"url(#clip722)\" style=\"stroke:#ff0000; stroke-width:8; stroke-opacity:1; fill:none\" points=\"\n  1940.89,1419.46 1940.89,1438.21 \n  \"/>\n<polyline clip-path=\"url(#clip722)\" style=\"stroke:#ff0000; stroke-width:8; stroke-opacity:1; fill:none\" points=\"\n  1925.88,1156.91 1925.88,1138.16 \n  \"/>\n<polyline clip-path=\"url(#clip722)\" style=\"stroke:#008000; stroke-width:8; stroke-opacity:1; fill:none\" points=\"\n  590.647,1269.43 590.647,1288.19 \n  \"/>\n<polyline clip-path=\"url(#clip722)\" style=\"stroke:#008000; stroke-width:8; stroke-opacity:1; fill:none\" points=\"\n  575.645,1006.89 575.645,988.135 \n  \"/>\n<polyline clip-path=\"url(#clip722)\" style=\"stroke:#008000; stroke-width:8; stroke-opacity:1; fill:none\" points=\"\n  601.899,1130.66 583.146,1130.66 \n  \"/>\n<polyline clip-path=\"url(#clip722)\" style=\"stroke:#008000; stroke-width:8; stroke-opacity:1; fill:none\" points=\"\n  725.671,1006.89 725.671,988.135 \n  \"/>\n<polyline clip-path=\"url(#clip722)\" style=\"stroke:#008000; stroke-width:8; stroke-opacity:1; fill:none\" points=\"\n  890.7,1269.43 890.7,1288.19 \n  \"/>\n<polyline clip-path=\"url(#clip722)\" style=\"stroke:#008000; stroke-width:8; stroke-opacity:1; fill:none\" points=\"\n  751.926,1130.66 733.172,1130.66 \n  \"/>\n<polyline clip-path=\"url(#clip722)\" style=\"stroke:#008000; stroke-width:8; stroke-opacity:1; fill:none\" points=\"\n  901.952,1130.66 883.199,1130.66 \n  \"/>\n<polyline clip-path=\"url(#clip722)\" style=\"stroke:#008000; stroke-width:8; stroke-opacity:1; fill:none\" points=\"\n  1025.72,1006.89 1025.72,988.135 \n  \"/>\n<polyline clip-path=\"url(#clip722)\" style=\"stroke:#008000; stroke-width:8; stroke-opacity:1; fill:none\" points=\"\n  1190.75,1269.43 1190.75,1288.19 \n  \"/>\n<polyline clip-path=\"url(#clip722)\" style=\"stroke:#008000; stroke-width:8; stroke-opacity:1; fill:none\" points=\"\n  1051.98,1130.66 1033.23,1130.66 \n  \"/>\n<polyline clip-path=\"url(#clip722)\" style=\"stroke:#008000; stroke-width:8; stroke-opacity:1; fill:none\" points=\"\n  1202.01,1130.66 1183.25,1130.66 \n  \"/>\n<polyline clip-path=\"url(#clip722)\" style=\"stroke:#ff0000; stroke-width:8; stroke-opacity:1; fill:none\" points=\"\n  1325.78,1006.89 1325.78,988.135 \n  \"/>\n<polyline clip-path=\"url(#clip722)\" style=\"stroke:#ff0000; stroke-width:8; stroke-opacity:1; fill:none\" points=\"\n  1490.81,1269.43 1490.81,1288.19 \n  \"/>\n<polyline clip-path=\"url(#clip722)\" style=\"stroke:#ff0000; stroke-width:8; stroke-opacity:1; fill:none\" points=\"\n  1352.03,1130.66 1333.28,1130.66 \n  \"/>\n<polyline clip-path=\"url(#clip722)\" style=\"stroke:#ff0000; stroke-width:8; stroke-opacity:1; fill:none\" points=\"\n  1502.06,1130.66 1483.3,1130.66 \n  \"/>\n<polyline clip-path=\"url(#clip722)\" style=\"stroke:#ff0000; stroke-width:8; stroke-opacity:1; fill:none\" points=\"\n  1625.83,1006.89 1625.83,988.135 \n  \"/>\n<polyline clip-path=\"url(#clip722)\" style=\"stroke:#ff0000; stroke-width:8; stroke-opacity:1; fill:none\" points=\"\n  1790.86,1269.43 1790.86,1288.19 \n  \"/>\n<polyline clip-path=\"url(#clip722)\" style=\"stroke:#ff0000; stroke-width:8; stroke-opacity:1; fill:none\" points=\"\n  1652.08,1130.66 1633.33,1130.66 \n  \"/>\n<polyline clip-path=\"url(#clip722)\" style=\"stroke:#ff0000; stroke-width:8; stroke-opacity:1; fill:none\" points=\"\n  1940.89,1269.43 1940.89,1288.19 \n  \"/>\n<polyline clip-path=\"url(#clip722)\" style=\"stroke:#ff0000; stroke-width:8; stroke-opacity:1; fill:none\" points=\"\n  1802.11,1130.66 1783.36,1130.66 \n  \"/>\n<polyline clip-path=\"url(#clip722)\" style=\"stroke:#ff0000; stroke-width:8; stroke-opacity:1; fill:none\" points=\"\n  1925.88,1006.89 1925.88,988.135 \n  \"/>\n<polyline clip-path=\"url(#clip722)\" style=\"stroke:#008000; stroke-width:8; stroke-opacity:1; fill:none\" points=\"\n  590.647,1119.41 590.647,1138.16 \n  \"/>\n<polyline clip-path=\"url(#clip722)\" style=\"stroke:#008000; stroke-width:8; stroke-opacity:1; fill:none\" points=\"\n  714.419,995.636 733.172,995.636 \n  \"/>\n<polyline clip-path=\"url(#clip722)\" style=\"stroke:#008000; stroke-width:8; stroke-opacity:1; fill:none\" points=\"\n  575.645,856.862 575.645,838.109 \n  \"/>\n<polyline clip-path=\"url(#clip722)\" style=\"stroke:#008000; stroke-width:8; stroke-opacity:1; fill:none\" points=\"\n  864.446,995.636 883.199,995.636 \n  \"/>\n<polyline clip-path=\"url(#clip722)\" style=\"stroke:#008000; stroke-width:8; stroke-opacity:1; fill:none\" points=\"\n  725.671,856.862 725.671,838.109 \n  \"/>\n<polyline clip-path=\"url(#clip722)\" style=\"stroke:#008000; stroke-width:8; stroke-opacity:1; fill:none\" points=\"\n  890.7,1119.41 890.7,1138.16 \n  \"/>\n<polyline clip-path=\"url(#clip722)\" style=\"stroke:#008000; stroke-width:8; stroke-opacity:1; fill:none\" points=\"\n  1014.47,995.636 1033.23,995.636 \n  \"/>\n<polyline clip-path=\"url(#clip722)\" style=\"stroke:#008000; stroke-width:8; stroke-opacity:1; fill:none\" points=\"\n  1164.5,995.636 1183.25,995.636 \n  \"/>\n<polyline clip-path=\"url(#clip722)\" style=\"stroke:#008000; stroke-width:8; stroke-opacity:1; fill:none\" points=\"\n  1025.72,856.862 1025.72,838.109 \n  \"/>\n<polyline clip-path=\"url(#clip722)\" style=\"stroke:#008000; stroke-width:8; stroke-opacity:1; fill:none\" points=\"\n  1190.75,1119.41 1190.75,1138.16 \n  \"/>\n<polyline clip-path=\"url(#clip722)\" style=\"stroke:#ff0000; stroke-width:8; stroke-opacity:1; fill:none\" points=\"\n  1314.52,995.636 1333.28,995.636 \n  \"/>\n<polyline clip-path=\"url(#clip722)\" style=\"stroke:#ff0000; stroke-width:8; stroke-opacity:1; fill:none\" points=\"\n  1464.55,995.636 1483.3,995.636 \n  \"/>\n<polyline clip-path=\"url(#clip722)\" style=\"stroke:#ff0000; stroke-width:8; stroke-opacity:1; fill:none\" points=\"\n  1325.78,856.862 1325.78,838.109 \n  \"/>\n<polyline clip-path=\"url(#clip722)\" style=\"stroke:#ff0000; stroke-width:8; stroke-opacity:1; fill:none\" points=\"\n  1490.81,1119.41 1490.81,1138.16 \n  \"/>\n<polyline clip-path=\"url(#clip722)\" style=\"stroke:#ff0000; stroke-width:8; stroke-opacity:1; fill:none\" points=\"\n  1614.58,995.636 1633.33,995.636 \n  \"/>\n<polyline clip-path=\"url(#clip722)\" style=\"stroke:#ff0000; stroke-width:8; stroke-opacity:1; fill:none\" points=\"\n  1764.6,995.636 1783.36,995.636 \n  \"/>\n<polyline clip-path=\"url(#clip722)\" style=\"stroke:#ff0000; stroke-width:8; stroke-opacity:1; fill:none\" points=\"\n  1625.83,856.862 1625.83,838.109 \n  \"/>\n<polyline clip-path=\"url(#clip722)\" style=\"stroke:#ff0000; stroke-width:8; stroke-opacity:1; fill:none\" points=\"\n  1790.86,1119.41 1790.86,1138.16 \n  \"/>\n<polyline clip-path=\"url(#clip722)\" style=\"stroke:#ff0000; stroke-width:8; stroke-opacity:1; fill:none\" points=\"\n  1914.63,995.636 1933.38,995.636 \n  \"/>\n<polyline clip-path=\"url(#clip722)\" style=\"stroke:#ff0000; stroke-width:8; stroke-opacity:1; fill:none\" points=\"\n  1940.89,1119.41 1940.89,1138.16 \n  \"/>\n<polyline clip-path=\"url(#clip722)\" style=\"stroke:#ff0000; stroke-width:8; stroke-opacity:1; fill:none\" points=\"\n  1925.88,856.862 1925.88,838.109 \n  \"/>\n<polyline clip-path=\"url(#clip722)\" style=\"stroke:#008000; stroke-width:8; stroke-opacity:1; fill:none\" points=\"\n  590.647,969.382 590.647,988.135 \n  \"/>\n<polyline clip-path=\"url(#clip722)\" style=\"stroke:#008000; stroke-width:8; stroke-opacity:1; fill:none\" points=\"\n  575.645,706.835 575.645,688.082 \n  \"/>\n<polyline clip-path=\"url(#clip722)\" style=\"stroke:#008000; stroke-width:8; stroke-opacity:1; fill:none\" points=\"\n  601.899,830.607 583.146,830.607 \n  \"/>\n<polyline clip-path=\"url(#clip722)\" style=\"stroke:#008000; stroke-width:8; stroke-opacity:1; fill:none\" points=\"\n  725.671,706.835 725.671,688.082 \n  \"/>\n<polyline clip-path=\"url(#clip722)\" style=\"stroke:#008000; stroke-width:8; stroke-opacity:1; fill:none\" points=\"\n  890.7,969.382 890.7,988.135 \n  \"/>\n<polyline clip-path=\"url(#clip722)\" style=\"stroke:#008000; stroke-width:8; stroke-opacity:1; fill:none\" points=\"\n  751.926,830.607 733.172,830.607 \n  \"/>\n<polyline clip-path=\"url(#clip722)\" style=\"stroke:#008000; stroke-width:8; stroke-opacity:1; fill:none\" points=\"\n  901.952,830.607 883.199,830.607 \n  \"/>\n<polyline clip-path=\"url(#clip722)\" style=\"stroke:#008000; stroke-width:8; stroke-opacity:1; fill:none\" points=\"\n  1025.72,706.835 1025.72,688.082 \n  \"/>\n<polyline clip-path=\"url(#clip722)\" style=\"stroke:#008000; stroke-width:8; stroke-opacity:1; fill:none\" points=\"\n  1190.75,969.382 1190.75,988.135 \n  \"/>\n<polyline clip-path=\"url(#clip722)\" style=\"stroke:#008000; stroke-width:8; stroke-opacity:1; fill:none\" points=\"\n  1051.98,830.607 1033.23,830.607 \n  \"/>\n<polyline clip-path=\"url(#clip722)\" style=\"stroke:#008000; stroke-width:8; stroke-opacity:1; fill:none\" points=\"\n  1202.01,830.607 1183.25,830.607 \n  \"/>\n<polyline clip-path=\"url(#clip722)\" style=\"stroke:#ff0000; stroke-width:8; stroke-opacity:1; fill:none\" points=\"\n  1325.78,706.835 1325.78,688.082 \n  \"/>\n<polyline clip-path=\"url(#clip722)\" style=\"stroke:#ff0000; stroke-width:8; stroke-opacity:1; fill:none\" points=\"\n  1490.81,969.382 1490.81,988.135 \n  \"/>\n<polyline clip-path=\"url(#clip722)\" style=\"stroke:#ff0000; stroke-width:8; stroke-opacity:1; fill:none\" points=\"\n  1352.03,830.607 1333.28,830.607 \n  \"/>\n<polyline clip-path=\"url(#clip722)\" style=\"stroke:#ff0000; stroke-width:8; stroke-opacity:1; fill:none\" points=\"\n  1502.06,830.607 1483.3,830.607 \n  \"/>\n<polyline clip-path=\"url(#clip722)\" style=\"stroke:#ff0000; stroke-width:8; stroke-opacity:1; fill:none\" points=\"\n  1625.83,706.835 1625.83,688.082 \n  \"/>\n<polyline clip-path=\"url(#clip722)\" style=\"stroke:#ff0000; stroke-width:8; stroke-opacity:1; fill:none\" points=\"\n  1790.86,969.382 1790.86,988.135 \n  \"/>\n<polyline clip-path=\"url(#clip722)\" style=\"stroke:#ff0000; stroke-width:8; stroke-opacity:1; fill:none\" points=\"\n  1652.08,830.607 1633.33,830.607 \n  \"/>\n<polyline clip-path=\"url(#clip722)\" style=\"stroke:#ff0000; stroke-width:8; stroke-opacity:1; fill:none\" points=\"\n  1940.89,969.382 1940.89,988.135 \n  \"/>\n<polyline clip-path=\"url(#clip722)\" style=\"stroke:#ff0000; stroke-width:8; stroke-opacity:1; fill:none\" points=\"\n  1802.11,830.607 1783.36,830.607 \n  \"/>\n<polyline clip-path=\"url(#clip722)\" style=\"stroke:#ff0000; stroke-width:8; stroke-opacity:1; fill:none\" points=\"\n  1925.88,706.835 1925.88,688.082 \n  \"/>\n<polyline clip-path=\"url(#clip722)\" style=\"stroke:#008000; stroke-width:8; stroke-opacity:1; fill:none\" points=\"\n  590.647,819.355 590.647,838.109 \n  \"/>\n<polyline clip-path=\"url(#clip722)\" style=\"stroke:#008000; stroke-width:8; stroke-opacity:1; fill:none\" points=\"\n  714.419,695.583 733.172,695.583 \n  \"/>\n<polyline clip-path=\"url(#clip722)\" style=\"stroke:#008000; stroke-width:8; stroke-opacity:1; fill:none\" points=\"\n  575.645,556.809 575.645,538.056 \n  \"/>\n<polyline clip-path=\"url(#clip722)\" style=\"stroke:#008000; stroke-width:8; stroke-opacity:1; fill:none\" points=\"\n  864.446,695.583 883.199,695.583 \n  \"/>\n<polyline clip-path=\"url(#clip722)\" style=\"stroke:#008000; stroke-width:8; stroke-opacity:1; fill:none\" points=\"\n  725.671,556.809 725.671,538.056 \n  \"/>\n<polyline clip-path=\"url(#clip722)\" style=\"stroke:#008000; stroke-width:8; stroke-opacity:1; fill:none\" points=\"\n  890.7,819.355 890.7,838.109 \n  \"/>\n<polyline clip-path=\"url(#clip722)\" style=\"stroke:#008000; stroke-width:8; stroke-opacity:1; fill:none\" points=\"\n  1014.47,695.583 1033.23,695.583 \n  \"/>\n<polyline clip-path=\"url(#clip722)\" style=\"stroke:#008000; stroke-width:8; stroke-opacity:1; fill:none\" points=\"\n  1164.5,695.583 1183.25,695.583 \n  \"/>\n<polyline clip-path=\"url(#clip722)\" style=\"stroke:#008000; stroke-width:8; stroke-opacity:1; fill:none\" points=\"\n  1025.72,556.809 1025.72,538.056 \n  \"/>\n<polyline clip-path=\"url(#clip722)\" style=\"stroke:#008000; stroke-width:8; stroke-opacity:1; fill:none\" points=\"\n  1190.75,819.355 1190.75,838.109 \n  \"/>\n<polyline clip-path=\"url(#clip722)\" style=\"stroke:#ff0000; stroke-width:8; stroke-opacity:1; fill:none\" points=\"\n  1314.52,695.583 1333.28,695.583 \n  \"/>\n<polyline clip-path=\"url(#clip722)\" style=\"stroke:#ff0000; stroke-width:8; stroke-opacity:1; fill:none\" points=\"\n  1464.55,695.583 1483.3,695.583 \n  \"/>\n<polyline clip-path=\"url(#clip722)\" style=\"stroke:#ff0000; stroke-width:8; stroke-opacity:1; fill:none\" points=\"\n  1325.78,556.809 1325.78,538.056 \n  \"/>\n<polyline clip-path=\"url(#clip722)\" style=\"stroke:#ff0000; stroke-width:8; stroke-opacity:1; fill:none\" points=\"\n  1490.81,819.355 1490.81,838.109 \n  \"/>\n<polyline clip-path=\"url(#clip722)\" style=\"stroke:#ff0000; stroke-width:8; stroke-opacity:1; fill:none\" points=\"\n  1614.58,695.583 1633.33,695.583 \n  \"/>\n<polyline clip-path=\"url(#clip722)\" style=\"stroke:#ff0000; stroke-width:8; stroke-opacity:1; fill:none\" points=\"\n  1764.6,695.583 1783.36,695.583 \n  \"/>\n<polyline clip-path=\"url(#clip722)\" style=\"stroke:#ff0000; stroke-width:8; stroke-opacity:1; fill:none\" points=\"\n  1625.83,556.809 1625.83,538.056 \n  \"/>\n<polyline clip-path=\"url(#clip722)\" style=\"stroke:#ff0000; stroke-width:8; stroke-opacity:1; fill:none\" points=\"\n  1790.86,819.355 1790.86,838.109 \n  \"/>\n<polyline clip-path=\"url(#clip722)\" style=\"stroke:#ff0000; stroke-width:8; stroke-opacity:1; fill:none\" points=\"\n  1914.63,695.583 1933.38,695.583 \n  \"/>\n<polyline clip-path=\"url(#clip722)\" style=\"stroke:#ff0000; stroke-width:8; stroke-opacity:1; fill:none\" points=\"\n  1940.89,819.355 1940.89,838.109 \n  \"/>\n<polyline clip-path=\"url(#clip722)\" style=\"stroke:#ff0000; stroke-width:8; stroke-opacity:1; fill:none\" points=\"\n  1925.88,556.809 1925.88,538.056 \n  \"/>\n<polyline clip-path=\"url(#clip722)\" style=\"stroke:#008000; stroke-width:8; stroke-opacity:1; fill:none\" points=\"\n  590.647,669.329 590.647,688.082 \n  \"/>\n<polyline clip-path=\"url(#clip722)\" style=\"stroke:#008000; stroke-width:8; stroke-opacity:1; fill:none\" points=\"\n  575.645,406.782 575.645,388.029 \n  \"/>\n<polyline clip-path=\"url(#clip722)\" style=\"stroke:#008000; stroke-width:8; stroke-opacity:1; fill:none\" points=\"\n  601.899,530.554 583.146,530.554 \n  \"/>\n<polyline clip-path=\"url(#clip722)\" style=\"stroke:#008000; stroke-width:8; stroke-opacity:1; fill:none\" points=\"\n  725.671,406.782 725.671,388.029 \n  \"/>\n<polyline clip-path=\"url(#clip722)\" style=\"stroke:#008000; stroke-width:8; stroke-opacity:1; fill:none\" points=\"\n  890.7,669.329 890.7,688.082 \n  \"/>\n<polyline clip-path=\"url(#clip722)\" style=\"stroke:#008000; stroke-width:8; stroke-opacity:1; fill:none\" points=\"\n  751.926,530.554 733.172,530.554 \n  \"/>\n<polyline clip-path=\"url(#clip722)\" style=\"stroke:#008000; stroke-width:8; stroke-opacity:1; fill:none\" points=\"\n  901.952,530.554 883.199,530.554 \n  \"/>\n<polyline clip-path=\"url(#clip722)\" style=\"stroke:#008000; stroke-width:8; stroke-opacity:1; fill:none\" points=\"\n  1025.72,406.782 1025.72,388.029 \n  \"/>\n<polyline clip-path=\"url(#clip722)\" style=\"stroke:#008000; stroke-width:8; stroke-opacity:1; fill:none\" points=\"\n  1190.75,669.329 1190.75,688.082 \n  \"/>\n<polyline clip-path=\"url(#clip722)\" style=\"stroke:#008000; stroke-width:8; stroke-opacity:1; fill:none\" points=\"\n  1051.98,530.554 1033.23,530.554 \n  \"/>\n<polyline clip-path=\"url(#clip722)\" style=\"stroke:#008000; stroke-width:8; stroke-opacity:1; fill:none\" points=\"\n  1202.01,530.554 1183.25,530.554 \n  \"/>\n<polyline clip-path=\"url(#clip722)\" style=\"stroke:#ff0000; stroke-width:8; stroke-opacity:1; fill:none\" points=\"\n  1325.78,406.782 1325.78,388.029 \n  \"/>\n<polyline clip-path=\"url(#clip722)\" style=\"stroke:#ff0000; stroke-width:8; stroke-opacity:1; fill:none\" points=\"\n  1490.81,669.329 1490.81,688.082 \n  \"/>\n<polyline clip-path=\"url(#clip722)\" style=\"stroke:#ff0000; stroke-width:8; stroke-opacity:1; fill:none\" points=\"\n  1352.03,530.554 1333.28,530.554 \n  \"/>\n<polyline clip-path=\"url(#clip722)\" style=\"stroke:#ff0000; stroke-width:8; stroke-opacity:1; fill:none\" points=\"\n  1502.06,530.554 1483.3,530.554 \n  \"/>\n<polyline clip-path=\"url(#clip722)\" style=\"stroke:#ff0000; stroke-width:8; stroke-opacity:1; fill:none\" points=\"\n  1625.83,406.782 1625.83,388.029 \n  \"/>\n<polyline clip-path=\"url(#clip722)\" style=\"stroke:#ff0000; stroke-width:8; stroke-opacity:1; fill:none\" points=\"\n  1790.86,669.329 1790.86,688.082 \n  \"/>\n<polyline clip-path=\"url(#clip722)\" style=\"stroke:#ff0000; stroke-width:8; stroke-opacity:1; fill:none\" points=\"\n  1652.08,530.554 1633.33,530.554 \n  \"/>\n<polyline clip-path=\"url(#clip722)\" style=\"stroke:#ff0000; stroke-width:8; stroke-opacity:1; fill:none\" points=\"\n  1940.89,669.329 1940.89,688.082 \n  \"/>\n<polyline clip-path=\"url(#clip722)\" style=\"stroke:#ff0000; stroke-width:8; stroke-opacity:1; fill:none\" points=\"\n  1802.11,530.554 1783.36,530.554 \n  \"/>\n<polyline clip-path=\"url(#clip722)\" style=\"stroke:#ff0000; stroke-width:8; stroke-opacity:1; fill:none\" points=\"\n  1925.88,406.782 1925.88,388.029 \n  \"/>\n<polyline clip-path=\"url(#clip722)\" style=\"stroke:#008000; stroke-width:8; stroke-opacity:1; fill:none\" points=\"\n  590.647,519.302 590.647,538.056 \n  \"/>\n<polyline clip-path=\"url(#clip722)\" style=\"stroke:#008000; stroke-width:8; stroke-opacity:1; fill:none\" points=\"\n  714.419,395.531 733.172,395.531 \n  \"/>\n<polyline clip-path=\"url(#clip722)\" style=\"stroke:#008000; stroke-width:8; stroke-opacity:1; fill:none\" points=\"\n  575.645,256.756 575.645,238.003 \n  \"/>\n<polyline clip-path=\"url(#clip722)\" style=\"stroke:#008000; stroke-width:8; stroke-opacity:1; fill:none\" points=\"\n  864.446,395.531 883.199,395.531 \n  \"/>\n<polyline clip-path=\"url(#clip722)\" style=\"stroke:#008000; stroke-width:8; stroke-opacity:1; fill:none\" points=\"\n  725.671,256.756 725.671,238.003 \n  \"/>\n<polyline clip-path=\"url(#clip722)\" style=\"stroke:#008000; stroke-width:8; stroke-opacity:1; fill:none\" points=\"\n  890.7,519.302 890.7,538.056 \n  \"/>\n<polyline clip-path=\"url(#clip722)\" style=\"stroke:#008000; stroke-width:8; stroke-opacity:1; fill:none\" points=\"\n  1014.47,395.531 1033.23,395.531 \n  \"/>\n<polyline clip-path=\"url(#clip722)\" style=\"stroke:#008000; stroke-width:8; stroke-opacity:1; fill:none\" points=\"\n  1164.5,395.531 1183.25,395.531 \n  \"/>\n<polyline clip-path=\"url(#clip722)\" style=\"stroke:#008000; stroke-width:8; stroke-opacity:1; fill:none\" points=\"\n  1025.72,256.756 1025.72,238.003 \n  \"/>\n<polyline clip-path=\"url(#clip722)\" style=\"stroke:#008000; stroke-width:8; stroke-opacity:1; fill:none\" points=\"\n  1190.75,519.302 1190.75,538.056 \n  \"/>\n<polyline clip-path=\"url(#clip722)\" style=\"stroke:#ff0000; stroke-width:8; stroke-opacity:1; fill:none\" points=\"\n  1314.52,395.531 1333.28,395.531 \n  \"/>\n<polyline clip-path=\"url(#clip722)\" style=\"stroke:#ff0000; stroke-width:8; stroke-opacity:1; fill:none\" points=\"\n  1464.55,395.531 1483.3,395.531 \n  \"/>\n<polyline clip-path=\"url(#clip722)\" style=\"stroke:#ff0000; stroke-width:8; stroke-opacity:1; fill:none\" points=\"\n  1325.78,256.756 1325.78,238.003 \n  \"/>\n<polyline clip-path=\"url(#clip722)\" style=\"stroke:#ff0000; stroke-width:8; stroke-opacity:1; fill:none\" points=\"\n  1490.81,519.302 1490.81,538.056 \n  \"/>\n<polyline clip-path=\"url(#clip722)\" style=\"stroke:#ff0000; stroke-width:8; stroke-opacity:1; fill:none\" points=\"\n  1614.58,395.531 1633.33,395.531 \n  \"/>\n<polyline clip-path=\"url(#clip722)\" style=\"stroke:#ff0000; stroke-width:8; stroke-opacity:1; fill:none\" points=\"\n  1764.6,395.531 1783.36,395.531 \n  \"/>\n<polyline clip-path=\"url(#clip722)\" style=\"stroke:#ff0000; stroke-width:8; stroke-opacity:1; fill:none\" points=\"\n  1625.83,256.756 1625.83,238.003 \n  \"/>\n<polyline clip-path=\"url(#clip722)\" style=\"stroke:#ff0000; stroke-width:8; stroke-opacity:1; fill:none\" points=\"\n  1790.86,519.302 1790.86,538.056 \n  \"/>\n<polyline clip-path=\"url(#clip722)\" style=\"stroke:#ff0000; stroke-width:8; stroke-opacity:1; fill:none\" points=\"\n  1914.63,395.531 1933.38,395.531 \n  \"/>\n<polyline clip-path=\"url(#clip722)\" style=\"stroke:#ff0000; stroke-width:8; stroke-opacity:1; fill:none\" points=\"\n  1940.89,519.302 1940.89,538.056 \n  \"/>\n<polyline clip-path=\"url(#clip722)\" style=\"stroke:#ff0000; stroke-width:8; stroke-opacity:1; fill:none\" points=\"\n  1925.88,256.756 1925.88,238.003 \n  \"/>\n<polyline clip-path=\"url(#clip722)\" style=\"stroke:#008000; stroke-width:8; stroke-opacity:1; fill:none\" points=\"\n  590.647,369.276 590.647,388.029 \n  \"/>\n<polyline clip-path=\"url(#clip722)\" style=\"stroke:#008000; stroke-width:8; stroke-opacity:1; fill:none\" points=\"\n  575.645,106.73 575.645,87.9763 \n  \"/>\n<polyline clip-path=\"url(#clip722)\" style=\"stroke:#008000; stroke-width:8; stroke-opacity:1; fill:none\" points=\"\n  601.899,230.501 583.146,230.501 \n  \"/>\n<polyline clip-path=\"url(#clip722)\" style=\"stroke:#008000; stroke-width:8; stroke-opacity:1; fill:none\" points=\"\n  725.671,106.73 725.671,87.9763 \n  \"/>\n<polyline clip-path=\"url(#clip722)\" style=\"stroke:#008000; stroke-width:8; stroke-opacity:1; fill:none\" points=\"\n  890.7,369.276 890.7,388.029 \n  \"/>\n<polyline clip-path=\"url(#clip722)\" style=\"stroke:#008000; stroke-width:8; stroke-opacity:1; fill:none\" points=\"\n  751.926,230.501 733.172,230.501 \n  \"/>\n<polyline clip-path=\"url(#clip722)\" style=\"stroke:#008000; stroke-width:8; stroke-opacity:1; fill:none\" points=\"\n  901.952,230.501 883.199,230.501 \n  \"/>\n<polyline clip-path=\"url(#clip722)\" style=\"stroke:#008000; stroke-width:8; stroke-opacity:1; fill:none\" points=\"\n  1025.72,106.73 1025.72,87.9763 \n  \"/>\n<polyline clip-path=\"url(#clip722)\" style=\"stroke:#008000; stroke-width:8; stroke-opacity:1; fill:none\" points=\"\n  1190.75,369.276 1190.75,388.029 \n  \"/>\n<polyline clip-path=\"url(#clip722)\" style=\"stroke:#008000; stroke-width:8; stroke-opacity:1; fill:none\" points=\"\n  1051.98,230.501 1033.23,230.501 \n  \"/>\n<polyline clip-path=\"url(#clip722)\" style=\"stroke:#008000; stroke-width:8; stroke-opacity:1; fill:none\" points=\"\n  1202.01,230.501 1183.25,230.501 \n  \"/>\n<polyline clip-path=\"url(#clip722)\" style=\"stroke:#ff0000; stroke-width:8; stroke-opacity:1; fill:none\" points=\"\n  1325.78,106.73 1325.78,87.9763 \n  \"/>\n<polyline clip-path=\"url(#clip722)\" style=\"stroke:#ff0000; stroke-width:8; stroke-opacity:1; fill:none\" points=\"\n  1490.81,369.276 1490.81,388.029 \n  \"/>\n<polyline clip-path=\"url(#clip722)\" style=\"stroke:#ff0000; stroke-width:8; stroke-opacity:1; fill:none\" points=\"\n  1352.03,230.501 1333.28,230.501 \n  \"/>\n<polyline clip-path=\"url(#clip722)\" style=\"stroke:#ff0000; stroke-width:8; stroke-opacity:1; fill:none\" points=\"\n  1502.06,230.501 1483.3,230.501 \n  \"/>\n<polyline clip-path=\"url(#clip722)\" style=\"stroke:#ff0000; stroke-width:8; stroke-opacity:1; fill:none\" points=\"\n  1625.83,106.73 1625.83,87.9763 \n  \"/>\n<polyline clip-path=\"url(#clip722)\" style=\"stroke:#ff0000; stroke-width:8; stroke-opacity:1; fill:none\" points=\"\n  1790.86,369.276 1790.86,388.029 \n  \"/>\n<polyline clip-path=\"url(#clip722)\" style=\"stroke:#ff0000; stroke-width:8; stroke-opacity:1; fill:none\" points=\"\n  1652.08,230.501 1633.33,230.501 \n  \"/>\n<polyline clip-path=\"url(#clip722)\" style=\"stroke:#ff0000; stroke-width:8; stroke-opacity:1; fill:none\" points=\"\n  1940.89,369.276 1940.89,388.029 \n  \"/>\n<polyline clip-path=\"url(#clip722)\" style=\"stroke:#ff0000; stroke-width:8; stroke-opacity:1; fill:none\" points=\"\n  1802.11,230.501 1783.36,230.501 \n  \"/>\n<polyline clip-path=\"url(#clip722)\" style=\"stroke:#ff0000; stroke-width:8; stroke-opacity:1; fill:none\" points=\"\n  1925.88,106.73 1925.88,87.9763 \n  \"/>\n<polyline clip-path=\"url(#clip722)\" style=\"stroke:#008000; stroke-width:8; stroke-opacity:1; fill:none\" points=\"\n  590.647,219.249 590.647,238.003 \n  \"/>\n<polyline clip-path=\"url(#clip722)\" style=\"stroke:#008000; stroke-width:8; stroke-opacity:1; fill:none\" points=\"\n  714.419,95.4776 733.172,95.4776 \n  \"/>\n<polyline clip-path=\"url(#clip722)\" style=\"stroke:#008000; stroke-width:8; stroke-opacity:1; fill:none\" points=\"\n  864.446,95.4776 883.199,95.4776 \n  \"/>\n<polyline clip-path=\"url(#clip722)\" style=\"stroke:#008000; stroke-width:8; stroke-opacity:1; fill:none\" points=\"\n  890.7,219.249 890.7,238.003 \n  \"/>\n<polyline clip-path=\"url(#clip722)\" style=\"stroke:#008000; stroke-width:8; stroke-opacity:1; fill:none\" points=\"\n  1014.47,95.4776 1033.23,95.4776 \n  \"/>\n<polyline clip-path=\"url(#clip722)\" style=\"stroke:#008000; stroke-width:8; stroke-opacity:1; fill:none\" points=\"\n  1164.5,95.4776 1183.25,95.4776 \n  \"/>\n<polyline clip-path=\"url(#clip722)\" style=\"stroke:#008000; stroke-width:8; stroke-opacity:1; fill:none\" points=\"\n  1190.75,219.249 1190.75,238.003 \n  \"/>\n<polyline clip-path=\"url(#clip722)\" style=\"stroke:#ff0000; stroke-width:8; stroke-opacity:1; fill:none\" points=\"\n  1314.52,95.4776 1333.28,95.4776 \n  \"/>\n<polyline clip-path=\"url(#clip722)\" style=\"stroke:#ff0000; stroke-width:8; stroke-opacity:1; fill:none\" points=\"\n  1464.55,95.4776 1483.3,95.4776 \n  \"/>\n<polyline clip-path=\"url(#clip722)\" style=\"stroke:#ff0000; stroke-width:8; stroke-opacity:1; fill:none\" points=\"\n  1490.81,219.249 1490.81,238.003 \n  \"/>\n<polyline clip-path=\"url(#clip722)\" style=\"stroke:#ff0000; stroke-width:8; stroke-opacity:1; fill:none\" points=\"\n  1614.58,95.4776 1633.33,95.4776 \n  \"/>\n<polyline clip-path=\"url(#clip722)\" style=\"stroke:#ff0000; stroke-width:8; stroke-opacity:1; fill:none\" points=\"\n  1764.6,95.4776 1783.36,95.4776 \n  \"/>\n<polyline clip-path=\"url(#clip722)\" style=\"stroke:#ff0000; stroke-width:8; stroke-opacity:1; fill:none\" points=\"\n  1790.86,219.249 1790.86,238.003 \n  \"/>\n<polyline clip-path=\"url(#clip722)\" style=\"stroke:#ff0000; stroke-width:8; stroke-opacity:1; fill:none\" points=\"\n  1914.63,95.4776 1933.38,95.4776 \n  \"/>\n<polyline clip-path=\"url(#clip722)\" style=\"stroke:#ff0000; stroke-width:8; stroke-opacity:1; fill:none\" points=\"\n  1940.89,219.249 1940.89,238.003 \n  \"/>\n</svg>\n"
     },
     "execution_count": 3,
     "metadata": {},
     "output_type": "execute_result"
    }
   ],
   "source": [
    "plot_digraph(SquareNet, position_array, attribute_matrix=vels, separated_edges=true)"
   ]
  },
  {
   "cell_type": "markdown",
   "metadata": {},
   "source": [
    "Maximum number of cars that can be in the network at the same time"
   ]
  },
  {
   "cell_type": "code",
   "execution_count": 4,
   "metadata": {},
   "outputs": [
    {
     "name": "stdout",
     "output_type": "stream",
     "text": [
      "This is the max number that can be at the same time in the 10x10 network: 1656.0"
     ]
    }
   ],
   "source": [
    "total = 0\n",
    "for edge in edges(SquareNet)\n",
    "    total += dist_matrix[src(edge),dst(edge)]\n",
    "end\n",
    "\n",
    "print(\"This is the max number that can be at the same time in the 10x10 network: \", total./5)"
   ]
  },
  {
   "cell_type": "markdown",
   "metadata": {},
   "source": [
    "Average edge length"
   ]
  },
  {
   "cell_type": "code",
   "execution_count": 5,
   "metadata": {},
   "outputs": [
    {
     "name": "stdout",
     "output_type": "stream",
     "text": [
      "This is the average edge length: 20.0"
     ]
    }
   ],
   "source": [
    "distance = 0\n",
    "count = 0\n",
    "for edge in edges(SquareNet)\n",
    "    distance += dist_matrix[src(edge),dst(edge)]\n",
    "    count +=1\n",
    "end\n",
    "\n",
    "print(\"This is the average edge length: \", distance/count)"
   ]
  },
  {
   "cell_type": "markdown",
   "metadata": {},
   "source": [
    "average distance to traverse"
   ]
  },
  {
   "cell_type": "code",
   "execution_count": 6,
   "metadata": {},
   "outputs": [
    {
     "name": "stdout",
     "output_type": "stream",
     "text": [
      "This is the average distance for cars in the 10x10 network: 332.8471847504102"
     ]
    }
   ],
   "source": [
    "distance = 0\n",
    "count = 0\n",
    "for i in vertices(SquareNet)\n",
    "    for j in vertices(SquareNet)\n",
    "        ij_dist = LightGraphs.dijkstra_shortest_paths(SquareNet,i).dists[j]\n",
    "        if ij_dist >= 5\n",
    "            distance +=ij_dist\n",
    "            count +=1\n",
    "        end\n",
    "    end\n",
    "end\n",
    "\n",
    "print(\"This is the average distance for cars in the 10x10 network: \", 20.0*distance./count)"
   ]
  },
  {
   "cell_type": "markdown",
   "metadata": {},
   "source": [
    "Average speed"
   ]
  },
  {
   "cell_type": "code",
   "execution_count": 7,
   "metadata": {},
   "outputs": [
    {
     "name": "stdout",
     "output_type": "stream",
     "text": [
      "This is the average maximum speed in the network: 11.497886473429952"
     ]
    }
   ],
   "source": [
    "total = 0\n",
    "total_distance = 0\n",
    "for edge in edges(SquareNet)\n",
    "    total += vels[src(edge),dst(edge)]*dist_matrix[src(edge),dst(edge)]\n",
    "    total_distance += dist_matrix[src(edge),dst(edge)]\n",
    "end\n",
    "\n",
    "print(\"This is the average maximum speed in the network: \", total./total_distance)"
   ]
  },
  {
   "cell_type": "markdown",
   "metadata": {},
   "source": [
    "Average time"
   ]
  },
  {
   "cell_type": "code",
   "execution_count": 8,
   "metadata": {},
   "outputs": [
    {
     "data": {
      "text/plain": [
       "28.94855376417002"
      ]
     },
     "execution_count": 8,
     "metadata": {},
     "output_type": "execute_result"
    }
   ],
   "source": [
    "332.8471847504102/11.497886473429952"
   ]
  },
  {
   "cell_type": "code",
   "execution_count": 9,
   "metadata": {},
   "outputs": [
    {
     "data": {
      "text/plain": [
       "8595.155709342562"
      ]
     },
     "execution_count": 9,
     "metadata": {},
     "output_type": "execute_result"
    }
   ],
   "source": [
    "1656*150/28.9"
   ]
  },
  {
   "cell_type": "markdown",
   "metadata": {},
   "source": [
    "# Plots for analysis"
   ]
  },
  {
   "cell_type": "code",
   "execution_count": null,
   "metadata": {},
   "outputs": [],
   "source": [
    "simulations_path = \"../../simulaciones-cluster/un-sentido/sin-diagonal/redsize10/\"\n"
   ]
  },
  {
   "cell_type": "markdown",
   "metadata": {},
   "source": [
    "## Read a single file"
   ]
  },
  {
   "cell_type": "code",
   "execution_count": null,
   "metadata": {},
   "outputs": [],
   "source": [
    "reads=CSV.read(simulations_path*\"nautos1000/1/Datos-RS5-N1000-R1.csv\",DataFrame);"
   ]
  },
  {
   "cell_type": "code",
   "execution_count": null,
   "metadata": {},
   "outputs": [],
   "source": [
    "# Get daily times and daily means\n",
    "daily_times = [parse.(Float64, split(chop(reads.times[i]; head=1, tail=1), \", \")) for i in 1:50];\n",
    "daily_mean_times = [mean(daily_times[i]) for i in 1:50];\n",
    "\n",
    "# Get daily speeds and daily means\n",
    "daily_speeds = [parse.(Float64, split(chop(reads.speeds[i]; head=1, tail=1), \", \")) for i in 1:50];\n",
    "daily_mean_speeds = [mean(daily_speeds[i]) for i in 1:50];\n",
    "\n",
    "# Get daily indexes and daily means\n",
    "daily_indexes = [parse.(Float64, split(chop(reads.indexes[i]; head=4, tail=1), \", \")) for i in 1:50];\n",
    "daily_mean_indexes = [mean(daily_indexes[i]) for i in 1:50];\n",
    "daily_count_indexes = [length(daily_indexes[i]) for i in 1:50];\n"
   ]
  },
  {
   "cell_type": "code",
   "execution_count": null,
   "metadata": {},
   "outputs": [],
   "source": [
    "df = DataFrame(a = 1:length(daily_times), times = daily_times, speeds = daily_speeds, ind = daily_indexes, ind_count = daily_count_indexes);"
   ]
  },
  {
   "cell_type": "code",
   "execution_count": null,
   "metadata": {},
   "outputs": [],
   "source": [
    "@df df StatsPlots.density(:times, title=\"Daily times\", legend=false)"
   ]
  },
  {
   "cell_type": "code",
   "execution_count": null,
   "metadata": {},
   "outputs": [],
   "source": [
    "round(mean(daily_mean_times),digits=2)"
   ]
  },
  {
   "cell_type": "code",
   "execution_count": null,
   "metadata": {},
   "outputs": [],
   "source": [
    "round(mean(daily_mean_times),digits=2)/17.873061392122978"
   ]
  },
  {
   "cell_type": "code",
   "execution_count": null,
   "metadata": {},
   "outputs": [],
   "source": [
    "@df df StatsPlots.density(:speeds, title=\"Daily speed\", legend=false)"
   ]
  },
  {
   "cell_type": "code",
   "execution_count": null,
   "metadata": {},
   "outputs": [],
   "source": [
    "round(mean(daily_mean_speeds),digits=2)"
   ]
  },
  {
   "cell_type": "code",
   "execution_count": null,
   "metadata": {},
   "outputs": [],
   "source": [
    "10.3/11.028"
   ]
  },
  {
   "cell_type": "code",
   "execution_count": null,
   "metadata": {},
   "outputs": [],
   "source": [
    "@df df StatsPlots.density(:ind, title=\"Daily indexes\", legend=false)"
   ]
  },
  {
   "cell_type": "code",
   "execution_count": null,
   "metadata": {},
   "outputs": [],
   "source": [
    "@df df StatsPlots.density(:ind_count, title=\"Daily number of cars changing\", legend=false)"
   ]
  },
  {
   "cell_type": "code",
   "execution_count": null,
   "metadata": {},
   "outputs": [],
   "source": [
    "round(mean(daily_mean_indexes),digits=2)"
   ]
  },
  {
   "cell_type": "code",
   "execution_count": null,
   "metadata": {},
   "outputs": [],
   "source": [
    "# Get daily indexes and daily means\n",
    "# daily_indexes = [parse.(Float64, split(chop(reads.indexes[i]; head=4, tail=1), \", \")) for i in 1:50];\n",
    "# daily_mean_indexes = [mean(daily_indexes[i]) for i in 1:50];\n",
    "\n",
    "# anim = @animate for i in 1:50\n",
    "#     histogram(daily_indexes[i],nbins=20,title = \"Indexes \\n day: \"*string(i), label=\"\")\n",
    "#     xlims!(-5.0, 1005.0)\n",
    "#     ylims!(0.0, 25.0)\n",
    "#     vline!([daily_mean_indexes[i]], label = \"mean that day: \"*string(round(daily_mean_indexes[i],digits=2)))\n",
    "#     vline!([mean(daily_mean_indexes)], label = \"overall mean: \"*string(round(mean(daily_mean_indexes),digits=2)))\n",
    "# end\n",
    "\n",
    "# gif(anim, \"../../gifs/indexes_repetition1.gif\", fps = 2)"
   ]
  },
  {
   "cell_type": "markdown",
   "metadata": {},
   "source": [
    "## Read a the results of a number of cars"
   ]
  },
  {
   "cell_type": "code",
   "execution_count": null,
   "metadata": {},
   "outputs": [],
   "source": [
    "reads_1000 = [CSV.read(simulations_path*\"nautos1000/\"*string(i)*\"/Datos-RS5-N1000-R\"*string(i)*\".csv\",DataFrame) for i in 1:10];"
   ]
  },
  {
   "cell_type": "code",
   "execution_count": null,
   "metadata": {},
   "outputs": [],
   "source": [
    "# Distribution of average times over repetitions\n",
    "daily_times = [[parse.(Float64, split(chop(reads_1000[j].times[i]; head=1, tail=1), \", \")) for i in 1:50] for j in 1:10];\n",
    "daily_mean_times = [[mean(daily_times[j][i]) for i in 1:50] for j in 1:10];\n",
    "repetition_mean_times = [mean(daily_mean_times[i]) for i in 1:10];\n",
    "\n",
    "# Distribution of average speeds over repetitions\n",
    "daily_speeds = [[parse.(Float64, split(chop(reads_1000[j].speeds[i]; head=1, tail=1), \", \")) for i in 1:50] for j in 1:10];\n",
    "daily_mean_speeds = [[mean(daily_speeds[j][i]) for i in 1:50] for j in 1:10];\n",
    "repetition_mean_speeds = [mean(daily_mean_speeds[i]) for i in 1:10];\n",
    "\n",
    "# Distribution of average indexes over repetitions\n",
    "to_parse = [[split(chop(reads_1000[j].indexes[i]; head=4, tail=1), \", \") for i in 1:50] for j in 1:10];\n",
    "daily_indexes = [[(to_parse[j][i]==[\"\"] ? [] : parse.(Float64, to_parse[j][i]) ) for i in 1:50] for j in 1:10];\n",
    "daily_mean_indexes = [[(daily_indexes[j][i]!=[] ? mean(daily_indexes[j][i]) : NaN) for i in 1:50] for j in 1:10];\n",
    "repetition_mean_indexes = [mean(filter(!isnan, daily_mean_indexes[i])) for i in 1:10];\n",
    "\n",
    "# Distribution of number of cars changing each repetition\n",
    "to_parse = [[split(chop(reads_1000[j].indexes[i]; head=4, tail=1), \", \") for i in 1:50] for j in 1:10];\n",
    "daily_indexes = [[(to_parse[j][i]==[\"\"] ? [] : parse.(Float64, to_parse[j][i]) ) for i in 1:50] for j in 1:10];\n",
    "daily_number_indexes = [[length(daily_indexes[j][i]) for i in 1:50] for j in 1:10];\n",
    "repetition_mean_number_indexes = [mean(filter(!isnan, daily_number_indexes[i])) for i in 1:10];"
   ]
  },
  {
   "cell_type": "code",
   "execution_count": null,
   "metadata": {},
   "outputs": [],
   "source": [
    "StatsPlots.density(daily_times, title=\"Daily times at 1000 cars\", label=false)"
   ]
  },
  {
   "cell_type": "code",
   "execution_count": null,
   "metadata": {},
   "outputs": [],
   "source": [
    "mean(mean(mean(daily_times)))"
   ]
  },
  {
   "cell_type": "code",
   "execution_count": null,
   "metadata": {},
   "outputs": [],
   "source": [
    "df2 = DataFrame(a = 1:length(daily_mean_times), times = daily_mean_times, speeds = daily_mean_speeds, ind = daily_mean_indexes, num_changing_cars = daily_number_indexes);"
   ]
  },
  {
   "cell_type": "code",
   "execution_count": null,
   "metadata": {},
   "outputs": [],
   "source": [
    "@df df2 StatsPlots.density(:times, title=\"Average daily time in each repetition\")"
   ]
  },
  {
   "cell_type": "code",
   "execution_count": null,
   "metadata": {},
   "outputs": [],
   "source": [
    "StatsPlots.density(daily_speeds, title=\"Daily speed at 1000 cars\", label=false)"
   ]
  },
  {
   "cell_type": "code",
   "execution_count": null,
   "metadata": {},
   "outputs": [],
   "source": [
    "mean(mean(mean(daily_speeds)))"
   ]
  },
  {
   "cell_type": "code",
   "execution_count": null,
   "metadata": {},
   "outputs": [],
   "source": [
    "@df df2 StatsPlots.density(:speeds, title=\"Average daily speed in each repetition\")"
   ]
  },
  {
   "cell_type": "code",
   "execution_count": null,
   "metadata": {},
   "outputs": [],
   "source": [
    "@df df2 StatsPlots.density(:num_changing_cars, title=\"Daily number of cars changing in each repetition\")"
   ]
  },
  {
   "cell_type": "code",
   "execution_count": null,
   "metadata": {},
   "outputs": [],
   "source": [
    "mean(repetition_mean_number_indexes)"
   ]
  },
  {
   "cell_type": "code",
   "execution_count": null,
   "metadata": {},
   "outputs": [],
   "source": [
    "# Distribution of average indexes over repetitions\n",
    "# to_parse = [[split(chop(reads_1000[j].indexes[i]; head=4, tail=1), \", \") for i in 1:50] for j in 1:10];\n",
    "# daily_indexes = [[(to_parse[j][i]==[\"\"] ? [] : parse.(Float64, to_parse[j][i]) ) for i in 1:50] for j in 1:10];\n",
    "# daily_mean_indexes = [[(daily_indexes[j][i]!=[] ? mean(daily_indexes[j][i]) : NaN) for i in 1:50] for j in 1:10];\n",
    "# repetition_mean_indexes = [mean(filter(!isnan, daily_mean_indexes[i])) for i in 1:10];\n",
    "\n",
    "# anim = @animate for i in 1:10\n",
    "#     histogram(daily_mean_indexes[i],nbins=15,title = \"Indexes \\n repetition: \"*string(i), label=\"\")\n",
    "#     xlims!(200.0, 900.0)\n",
    "#     ylims!(0.0, 30.0)\n",
    "#     vline!([repetition_mean_indexes[i]], label = \"mean that repetition: \"*string(round(repetition_mean_indexes[i],digits=2)))\n",
    "#     vline!([mean(repetition_mean_indexes)], label = \"overall mean: \"*string(round(mean(repetition_mean_indexes),digits=2)))\n",
    "# end\n",
    "\n",
    "# gif(anim, \"../../gifs/indexes_1000cars.gif\", fps = 2)"
   ]
  },
  {
   "cell_type": "code",
   "execution_count": null,
   "metadata": {},
   "outputs": [],
   "source": [
    "# Distribution of number of cars changing each repetition\n",
    "# to_parse = [[split(chop(reads_1000[j].indexes[i]; head=4, tail=1), \", \") for i in 1:50] for j in 1:10];\n",
    "# daily_indexes = [[(to_parse[j][i]==[\"\"] ? [] : parse.(Float64, to_parse[j][i]) ) for i in 1:50] for j in 1:10];\n",
    "# daily_number_indexes = [[length(daily_indexes[j][i]) for i in 1:50] for j in 1:10];\n",
    "# repetition_mean_number_indexes = [mean(filter(!isnan, daily_number_indexes[i])) for i in 1:10];\n",
    "\n",
    "# anim = @animate for i in 1:10\n",
    "#     histogram(daily_number_indexes[i],nbins=10,title = \"Number of cars changing \\n repetition: \"*string(i), label=\"\")\n",
    "#     xlims!(0.0, 350.0)\n",
    "#     ylims!(0.0, 35.0)\n",
    "#     vline!([repetition_mean_number_indexes[i]], label = \"average number that repetition: \"*string(round(repetition_mean_number_indexes[i],digits=2)))\n",
    "#     vline!([mean(repetition_mean_number_indexes)], label = \"overall mean: \"*string(round(mean(repetition_mean_number_indexes),digits=2)))\n",
    "# end\n",
    "\n",
    "# gif(anim, \"../../gifs/indexes_1000cars.gif\", fps = 2)"
   ]
  },
  {
   "cell_type": "markdown",
   "metadata": {},
   "source": [
    "## Results of all number of cars 1000-3000"
   ]
  },
  {
   "cell_type": "code",
   "execution_count": null,
   "metadata": {},
   "outputs": [],
   "source": [
    "J = [(800 + 100*j) for j in 0:7];"
   ]
  },
  {
   "cell_type": "code",
   "execution_count": null,
   "metadata": {},
   "outputs": [],
   "source": [
    "reads_general = [[CSV.read(simulations_path*\"nautos\"*string(j)*\"/\"*string(i)*\"/Datos-RS5-N\"*string(j)*\"-R\"*string(i)*\".csv\",DataFrame) for i in 1:10] for j in J];"
   ]
  },
  {
   "cell_type": "code",
   "execution_count": null,
   "metadata": {},
   "outputs": [],
   "source": [
    "# Distribution of average times over repetitions\n",
    "# k es el número de repetición, número de autos J[k]\n",
    "daily_times = [[[parse.(Float64, split(chop(reads_general[k][j].times[i]; head=1, tail=1), \", \")) for i in 1:50] for j in 1:10] for k in 1:7];\n",
    "daily_mean_times = [[[mean(daily_times[k][j][i]) for i in 1:50] for j in 1:10] for k in 1:7];\n",
    "repetition_mean_times = [[mean(daily_mean_times[k][i]) for i in 1:10] for k in 1:7];"
   ]
  },
  {
   "cell_type": "code",
   "execution_count": null,
   "metadata": {},
   "outputs": [],
   "source": [
    "df3 = DataFrame(a = J[1:4], times = repetition_mean_times[1:4]);"
   ]
  },
  {
   "cell_type": "code",
   "execution_count": null,
   "metadata": {},
   "outputs": [],
   "source": [
    "@df df3 StatsPlots.density(:times, title=\"Average time for repetitions at number of cars\")"
   ]
  }
 ],
 "metadata": {
  "kernelspec": {
   "display_name": "Julia 1.5.4",
   "language": "julia",
   "name": "julia-1.5"
  },
  "language_info": {
   "file_extension": ".jl",
   "mimetype": "application/julia",
   "name": "julia",
   "version": "1.5.4"
  },
  "orig_nbformat": 4
 },
 "nbformat": 4,
 "nbformat_minor": 2
}
