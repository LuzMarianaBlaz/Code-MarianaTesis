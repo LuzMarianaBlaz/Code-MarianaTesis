{
 "cells": [
  {
   "cell_type": "markdown",
   "metadata": {},
   "source": [
    "- Mediciones en redes de 5x5 - 10x10\n",
    "    - En una red con calles mas pequeñas de 1 carril\n",
    "    - velocidad promedio en relación al número de autos(combinaciones diferentes de OD y dejar correr la simulación varios días: termalización)\n",
    "    - Cuando se alcanza saturación ver el efecto de los tipos de diagonales.\n",
    "    - Los autos vuelven a los caminos que ya habían recorrido? Se forman ciclos?\n",
    "    \n",
    "- En una red de 50x50\n",
    "    - Buscar las velocidades promedio\n",
    "    - Efecto de la diagonal\n",
    "    - Los autos vuelven a los caminos que ya habían recorrido? Se forman ciclos?\n",
    "    - Efecto de la distribución de h, qué conviene para el tráfico?"
   ]
  }
 ],
 "metadata": {
  "kernelspec": {
   "display_name": "Julia 1.5.4",
   "language": "julia",
   "name": "julia-1.5"
  },
  "language_info": {
   "file_extension": ".jl",
   "mimetype": "application/julia",
   "name": "julia",
   "version": "1.5.4"
  }
 },
 "nbformat": 4,
 "nbformat_minor": 2
}
